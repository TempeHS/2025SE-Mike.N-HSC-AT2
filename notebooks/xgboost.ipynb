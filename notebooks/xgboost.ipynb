{
 "cells": [
  {
   "cell_type": "code",
   "execution_count": 52,
   "metadata": {},
   "outputs": [],
   "source": [
    "#Dependencies\n",
    "from functools import partial\n",
    "from sklearn.feature_selection import SelectFromModel\n",
    "from sklearn.model_selection import train_test_split, cross_val_score\n",
    "from sklearn.metrics import mean_squared_error, root_mean_squared_error, mean_absolute_percentage_error, mean_absolute_error, r2_score\n",
    "from sklearn.pipeline import Pipeline\n",
    "from sklearn.inspection import permutation_importance\n",
    "from xgboost import XGBRegressor\n",
    "import xgboost as xgb\n",
    "from xgboost import cv\n",
    "from optuna import create_study\n",
    "from optuna.visualization import plot_optimization_history, plot_param_importances\n",
    "from optuna.integration import XGBoostPruningCallback\n",
    "from optuna.samplers import TPESampler\n",
    "import optuna\n",
    "import pandas as pd\n",
    "import matplotlib.pyplot as plt\n",
    "import seaborn as sns\n",
    "import numpy as np"
   ]
  },
  {
   "cell_type": "code",
   "execution_count": 53,
   "metadata": {},
   "outputs": [],
   "source": [
    "X_full = pd.read_csv('/workspaces/2025SE-Mike.N-HSC-AT2/data/concrete_preprocessed.csv')\n",
    "y = X_full['strength']\n",
    "X = X_full.drop(['strength'], axis=1)"
   ]
  },
  {
   "cell_type": "code",
   "execution_count": 54,
   "metadata": {},
   "outputs": [
    {
     "name": "stdout",
     "output_type": "stream",
     "text": [
      "<class 'pandas.core.frame.DataFrame'>\n",
      "RangeIndex: 904 entries, 0 to 903\n",
      "Data columns (total 11 columns):\n",
      " #   Column                           Non-Null Count  Dtype  \n",
      "---  ------                           --------------  -----  \n",
      " 0   cement                           904 non-null    float64\n",
      " 1   blast_furnace_slag               904 non-null    float64\n",
      " 2   fly_ash                          904 non-null    float64\n",
      " 3   water                            904 non-null    float64\n",
      " 4   superplasticizer                 904 non-null    float64\n",
      " 5   coarse_aggregate                 904 non-null    float64\n",
      " 6   fine_aggregate                   904 non-null    float64\n",
      " 7   age                              904 non-null    float64\n",
      " 8   cement_to_water_ratio            904 non-null    float64\n",
      " 9   fine_aggregate_to_water_ratio    904 non-null    float64\n",
      " 10  coarse_aggregate_to_water_ratio  904 non-null    float64\n",
      "dtypes: float64(11)\n",
      "memory usage: 77.8 KB\n"
     ]
    }
   ],
   "source": [
    "X.info()"
   ]
  },
  {
   "cell_type": "code",
   "execution_count": 55,
   "metadata": {},
   "outputs": [
    {
     "name": "stdout",
     "output_type": "stream",
     "text": [
      "<class 'pandas.core.series.Series'>\n",
      "RangeIndex: 904 entries, 0 to 903\n",
      "Series name: strength\n",
      "Non-Null Count  Dtype  \n",
      "--------------  -----  \n",
      "904 non-null    float64\n",
      "dtypes: float64(1)\n",
      "memory usage: 7.2 KB\n"
     ]
    }
   ],
   "source": [
    "y.info()"
   ]
  },
  {
   "cell_type": "markdown",
   "metadata": {},
   "source": [
    "**Model Training** \\\n",
    "We divide the training phase into 2 phases:\n",
    "* In the 1st phase, we use Optuna to find the best tree parameters with a medium learning rate to improve trial speeds.\n",
    "* In the 2nd phase, we use a small learning rate to find the best number of boosting rounds."
   ]
  },
  {
   "cell_type": "code",
   "execution_count": 71,
   "metadata": {},
   "outputs": [
    {
     "name": "stderr",
     "output_type": "stream",
     "text": [
      "[I 2025-04-06 10:02:33,740] A new study created in memory with name: no-name-0e608823-4ed3-4d4d-b72f-3c5fcff897d8\n"
     ]
    },
    {
     "name": "stderr",
     "output_type": "stream",
     "text": [
      "[I 2025-04-06 10:02:34,758] Trial 0 finished with value: 4.287804198386965 and parameters: {'tree_method': 'hist', 'learning_rate': 0.4195981825434215, 'reg_lambda': 0.6502468545951017, 'max_depth': 4, 'min_child_weight': 32, 'gamma': 0.0018747059221802516, 'subsample': 0.9330880728874675, 'colsample_bynode': 0.8005575058716043, 'colsample_bytree': 0.8540362888980227, 'colsample_bylevel': 0.5102922471479012}. Best is trial 0 with value: 4.287804198386965.\n",
      "[I 2025-04-06 10:02:37,100] Trial 1 finished with value: 4.58183642648733 and parameters: {'tree_method': 'approx', 'learning_rate': 0.26370173320348284, 'reg_lambda': 0.007151383480402496, 'max_depth': 4, 'min_child_weight': 61, 'gamma': 0.2922905212920093, 'subsample': 0.7159725093210578, 'colsample_bynode': 0.645614570099021, 'colsample_bytree': 0.8059264473611898, 'colsample_bylevel': 0.569746930326021}. Best is trial 0 with value: 4.287804198386965.\n",
      "[I 2025-04-06 10:02:38,192] Trial 2 finished with value: 7.372522432400242 and parameters: {'tree_method': 'hist', 'learning_rate': 0.3368209952651108, 'reg_lambda': 4.89235869319053, 'max_depth': 4, 'min_child_weight': 103, 'gamma': 0.6077686426194465, 'subsample': 0.5232252063599989, 'colsample_bynode': 0.8037724259507192, 'colsample_bytree': 0.5852620618436457, 'colsample_bylevel': 0.5325257964926398}. Best is trial 0 with value: 4.287804198386965.\n",
      "[I 2025-04-06 10:02:38,500] Trial 3 finished with value: 12.014669279505839 and parameters: {'tree_method': 'hist', 'learning_rate': 0.4425192044349383, 'reg_lambda': 0.027000447632122594, 'max_depth': 3, 'min_child_weight': 137, 'gamma': 0.11702088154220885, 'subsample': 0.5610191174223894, 'colsample_bynode': 0.7475884550556351, 'colsample_bytree': 0.5171942605576092, 'colsample_bylevel': 0.954660201039391}. Best is trial 0 with value: 4.287804198386965.\n",
      "[I 2025-04-06 10:02:39,232] Trial 4 finished with value: 4.132874730454392 and parameters: {'tree_method': 'hist', 'learning_rate': 0.2935133228268233, 'reg_lambda': 0.2778331300797557, 'max_depth': 8, 'min_child_weight': 37, 'gamma': 35.97899951374987, 'subsample': 0.8875664116805573, 'colsample_bynode': 0.9697494707820946, 'colsample_bytree': 0.9474136752138245, 'colsample_bylevel': 0.7989499894055425}. Best is trial 4 with value: 4.132874730454392.\n",
      "[I 2025-04-06 10:02:39,261] Trial 5 pruned. Trial was pruned at iteration 1.\n",
      "[I 2025-04-06 10:02:39,291] Trial 6 pruned. Trial was pruned at iteration 1.\n",
      "[I 2025-04-06 10:02:39,311] Trial 7 pruned. Trial was pruned at iteration 0.\n",
      "[I 2025-04-06 10:02:39,326] Trial 8 pruned. Trial was pruned at iteration 0.\n",
      "[I 2025-04-06 10:02:39,335] Trial 9 pruned. Trial was pruned at iteration 0.\n",
      "[I 2025-04-06 10:02:41,147] Trial 10 finished with value: 4.507156593113521 and parameters: {'tree_method': 'hist', 'learning_rate': 0.3118378702570091, 'reg_lambda': 0.21730759266478364, 'max_depth': 12, 'min_child_weight': 4, 'gamma': 18.41152012664477, 'subsample': 0.8271882613853765, 'colsample_bynode': 0.9884159971363301, 'colsample_bytree': 0.9849480047501926, 'colsample_bylevel': 0.6898021217101117}. Best is trial 4 with value: 4.132874730454392.\n",
      "[I 2025-04-06 10:02:42,078] Trial 11 pruned. Trial was pruned at iteration 50.\n",
      "[I 2025-04-06 10:02:43,155] Trial 12 finished with value: 4.246275237595786 and parameters: {'tree_method': 'hist', 'learning_rate': 0.40686098033619267, 'reg_lambda': 0.545224030525146, 'max_depth': 6, 'min_child_weight': 34, 'gamma': 3.462412715907589, 'subsample': 0.8516068653629361, 'colsample_bynode': 0.9980082658737177, 'colsample_bytree': 0.9234980616943327, 'colsample_bylevel': 0.6538703450921687}. Best is trial 4 with value: 4.132874730454392.\n",
      "[I 2025-04-06 10:02:44,607] Trial 13 finished with value: 4.142046443053735 and parameters: {'tree_method': 'hist', 'learning_rate': 0.3709071273091479, 'reg_lambda': 0.10304051814063227, 'max_depth': 6, 'min_child_weight': 37, 'gamma': 4.425394286471529, 'subsample': 0.8301158581566944, 'colsample_bynode': 0.9826689730327276, 'colsample_bytree': 0.9270627421637063, 'colsample_bylevel': 0.6403241395746345}. Best is trial 4 with value: 4.132874730454392.\n",
      "[I 2025-04-06 10:02:44,811] Trial 14 pruned. Trial was pruned at iteration 0.\n",
      "[I 2025-04-06 10:02:44,939] Trial 15 pruned. Trial was pruned at iteration 0.\n",
      "[I 2025-04-06 10:02:45,062] Trial 16 pruned. Trial was pruned at iteration 0.\n",
      "[I 2025-04-06 10:02:45,961] Trial 17 finished with value: 3.9433054396889213 and parameters: {'tree_method': 'hist', 'learning_rate': 0.2935569631574562, 'reg_lambda': 1.899392477956506, 'max_depth': 12, 'min_child_weight': 16, 'gamma': 12.147563354710504, 'subsample': 0.8682194745478569, 'colsample_bynode': 0.9575212786509526, 'colsample_bytree': 0.9271711684435539, 'colsample_bylevel': 0.9483531454672248}. Best is trial 17 with value: 3.9433054396889213.\n",
      "[I 2025-04-06 10:02:45,995] Trial 18 pruned. Trial was pruned at iteration 1.\n",
      "[I 2025-04-06 10:02:46,098] Trial 19 pruned. Trial was pruned at iteration 0.\n",
      "[I 2025-04-06 10:02:46,469] Trial 20 pruned. Trial was pruned at iteration 0.\n",
      "[I 2025-04-06 10:02:46,910] Trial 21 pruned. Trial was pruned at iteration 6.\n",
      "[I 2025-04-06 10:02:47,144] Trial 22 pruned. Trial was pruned at iteration 0.\n",
      "[I 2025-04-06 10:02:47,272] Trial 23 pruned. Trial was pruned at iteration 6.\n",
      "[I 2025-04-06 10:02:47,664] Trial 24 pruned. Trial was pruned at iteration 16.\n",
      "[I 2025-04-06 10:02:47,790] Trial 25 pruned. Trial was pruned at iteration 0.\n",
      "[I 2025-04-06 10:02:48,134] Trial 26 pruned. Trial was pruned at iteration 0.\n",
      "[I 2025-04-06 10:02:48,232] Trial 27 pruned. Trial was pruned at iteration 0.\n",
      "[I 2025-04-06 10:02:51,177] Trial 28 finished with value: 3.727841972349521 and parameters: {'tree_method': 'hist', 'learning_rate': 0.32223721590848636, 'reg_lambda': 1.0503639554450175, 'max_depth': 5, 'min_child_weight': 22, 'gamma': 0.5919256433249147, 'subsample': 0.8813182584314236, 'colsample_bynode': 0.9322720171024577, 'colsample_bytree': 0.8876725947429143, 'colsample_bylevel': 0.6106549634248977}. Best is trial 28 with value: 3.727841972349521.\n",
      "[I 2025-04-06 10:02:51,473] Trial 29 pruned. Trial was pruned at iteration 0.\n",
      "[I 2025-04-06 10:02:51,666] Trial 30 pruned. Trial was pruned at iteration 0.\n",
      "[I 2025-04-06 10:02:51,709] Trial 31 pruned. Trial was pruned at iteration 0.\n",
      "[I 2025-04-06 10:02:52,156] Trial 32 pruned. Trial was pruned at iteration 1.\n",
      "[I 2025-04-06 10:02:52,434] Trial 33 pruned. Trial was pruned at iteration 0.\n",
      "[I 2025-04-06 10:02:52,590] Trial 34 pruned. Trial was pruned at iteration 0.\n",
      "[I 2025-04-06 10:02:52,630] Trial 35 pruned. Trial was pruned at iteration 0.\n",
      "[I 2025-04-06 10:02:52,926] Trial 36 pruned. Trial was pruned at iteration 0.\n",
      "[I 2025-04-06 10:02:53,119] Trial 37 pruned. Trial was pruned at iteration 0.\n",
      "[I 2025-04-06 10:02:53,732] Trial 38 finished with value: 4.503995238165252 and parameters: {'tree_method': 'approx', 'learning_rate': 0.37790746609761183, 'reg_lambda': 0.5261285447769886, 'max_depth': 6, 'min_child_weight': 14, 'gamma': 27.09642800368478, 'subsample': 0.8017218419228331, 'colsample_bynode': 0.7005604466351145, 'colsample_bytree': 0.9972167239608046, 'colsample_bylevel': 0.6436053671179955}. Best is trial 28 with value: 3.727841972349521.\n",
      "[I 2025-04-06 10:02:53,848] Trial 39 pruned. Trial was pruned at iteration 0.\n",
      "[I 2025-04-06 10:02:53,888] Trial 40 pruned. Trial was pruned at iteration 0.\n",
      "[I 2025-04-06 10:02:54,056] Trial 41 pruned. Trial was pruned at iteration 5.\n",
      "[I 2025-04-06 10:02:54,178] Trial 42 pruned. Trial was pruned at iteration 3.\n",
      "[I 2025-04-06 10:02:54,237] Trial 43 pruned. Trial was pruned at iteration 0.\n",
      "[I 2025-04-06 10:02:54,288] Trial 44 pruned. Trial was pruned at iteration 0.\n",
      "[I 2025-04-06 10:02:54,538] Trial 45 finished with value: 4.418190075212189 and parameters: {'tree_method': 'hist', 'learning_rate': 0.3560480931414805, 'reg_lambda': 0.9577439322094001, 'max_depth': 8, 'min_child_weight': 11, 'gamma': 7.242896604451492, 'subsample': 0.7709917278645344, 'colsample_bynode': 0.9741953290789004, 'colsample_bytree': 0.9707576166214541, 'colsample_bylevel': 0.7463400409201214}. Best is trial 28 with value: 3.727841972349521.\n",
      "[I 2025-04-06 10:02:54,639] Trial 46 pruned. Trial was pruned at iteration 0.\n",
      "[I 2025-04-06 10:02:54,894] Trial 47 pruned. Trial was pruned at iteration 2.\n",
      "[I 2025-04-06 10:02:55,091] Trial 48 pruned. Trial was pruned at iteration 5.\n",
      "[I 2025-04-06 10:02:55,234] Trial 49 pruned. Trial was pruned at iteration 0.\n",
      "[I 2025-04-06 10:02:55,525] Trial 50 pruned. Trial was pruned at iteration 0.\n",
      "[I 2025-04-06 10:02:55,742] Trial 51 pruned. Trial was pruned at iteration 0.\n",
      "[I 2025-04-06 10:02:56,009] Trial 52 pruned. Trial was pruned at iteration 0.\n",
      "[I 2025-04-06 10:02:56,311] Trial 53 pruned. Trial was pruned at iteration 0.\n",
      "[I 2025-04-06 10:02:56,865] Trial 54 pruned. Trial was pruned at iteration 3.\n",
      "[I 2025-04-06 10:02:57,116] Trial 55 pruned. Trial was pruned at iteration 6.\n",
      "[I 2025-04-06 10:02:57,495] Trial 56 pruned. Trial was pruned at iteration 0.\n",
      "[I 2025-04-06 10:02:57,734] Trial 57 pruned. Trial was pruned at iteration 0.\n",
      "[I 2025-04-06 10:02:57,957] Trial 58 pruned. Trial was pruned at iteration 0.\n",
      "[I 2025-04-06 10:02:58,187] Trial 59 pruned. Trial was pruned at iteration 0.\n",
      "[I 2025-04-06 10:02:58,313] Trial 60 pruned. Trial was pruned at iteration 4.\n",
      "[I 2025-04-06 10:02:59,246] Trial 61 finished with value: 4.2111553318252275 and parameters: {'tree_method': 'hist', 'learning_rate': 0.36038358151723576, 'reg_lambda': 0.9346123824163433, 'max_depth': 9, 'min_child_weight': 11, 'gamma': 7.652841537483829, 'subsample': 0.7846656087494139, 'colsample_bynode': 0.9670481077635927, 'colsample_bytree': 0.9668669357245935, 'colsample_bylevel': 0.7491665348893227}. Best is trial 28 with value: 3.727841972349521.\n",
      "[I 2025-04-06 10:02:59,915] Trial 62 pruned. Trial was pruned at iteration 1.\n",
      "[I 2025-04-06 10:03:00,874] Trial 63 pruned. Trial was pruned at iteration 126.\n",
      "[I 2025-04-06 10:03:00,974] Trial 64 pruned. Trial was pruned at iteration 25.\n",
      "[I 2025-04-06 10:03:01,071] Trial 65 pruned. Trial was pruned at iteration 18.\n",
      "[I 2025-04-06 10:03:03,058] Trial 66 finished with value: 4.024309648824501 and parameters: {'tree_method': 'hist', 'learning_rate': 0.43652868593364835, 'reg_lambda': 5.9715102148497845, 'max_depth': 8, 'min_child_weight': 18, 'gamma': 5.1725119924564575, 'subsample': 0.8213701722785779, 'colsample_bynode': 0.9651886151054064, 'colsample_bytree': 0.8494036076912038, 'colsample_bylevel': 0.7591483790764165}. Best is trial 28 with value: 3.727841972349521.\n",
      "[I 2025-04-06 10:03:03,330] Trial 67 pruned. Trial was pruned at iteration 1.\n",
      "[I 2025-04-06 10:03:03,520] Trial 68 pruned. Trial was pruned at iteration 1.\n",
      "[I 2025-04-06 10:03:03,674] Trial 69 pruned. Trial was pruned at iteration 0.\n",
      "[I 2025-04-06 10:03:04,028] Trial 70 pruned. Trial was pruned at iteration 0.\n",
      "[I 2025-04-06 10:03:04,206] Trial 71 pruned. Trial was pruned at iteration 20.\n",
      "[I 2025-04-06 10:03:04,363] Trial 72 pruned. Trial was pruned at iteration 0.\n",
      "[I 2025-04-06 10:03:05,039] Trial 73 pruned. Trial was pruned at iteration 5.\n",
      "[I 2025-04-06 10:03:05,255] Trial 74 pruned. Trial was pruned at iteration 25.\n",
      "[I 2025-04-06 10:03:05,309] Trial 75 pruned. Trial was pruned at iteration 0.\n",
      "[I 2025-04-06 10:03:05,754] Trial 76 pruned. Trial was pruned at iteration 3.\n",
      "[I 2025-04-06 10:03:06,343] Trial 77 pruned. Trial was pruned at iteration 1.\n",
      "[I 2025-04-06 10:03:06,579] Trial 78 pruned. Trial was pruned at iteration 0.\n",
      "[I 2025-04-06 10:03:06,641] Trial 79 pruned. Trial was pruned at iteration 0.\n",
      "[I 2025-04-06 10:03:06,791] Trial 80 pruned. Trial was pruned at iteration 3.\n",
      "[I 2025-04-06 10:03:07,365] Trial 81 pruned. Trial was pruned at iteration 19.\n",
      "[I 2025-04-06 10:03:07,606] Trial 82 pruned. Trial was pruned at iteration 37.\n",
      "[I 2025-04-06 10:03:07,767] Trial 83 pruned. Trial was pruned at iteration 3.\n",
      "[I 2025-04-06 10:03:08,125] Trial 84 finished with value: 3.9459897349660387 and parameters: {'tree_method': 'hist', 'learning_rate': 0.41920448352704526, 'reg_lambda': 0.4259553769730974, 'max_depth': 7, 'min_child_weight': 19, 'gamma': 18.517291956111166, 'subsample': 0.843970261952553, 'colsample_bynode': 0.9978062817017045, 'colsample_bytree': 0.8812898266673538, 'colsample_bylevel': 0.8310976514870677}. Best is trial 28 with value: 3.727841972349521.\n",
      "[I 2025-04-06 10:03:08,255] Trial 85 pruned. Trial was pruned at iteration 4.\n",
      "[I 2025-04-06 10:03:08,552] Trial 86 pruned. Trial was pruned at iteration 8.\n",
      "[I 2025-04-06 10:03:08,608] Trial 87 pruned. Trial was pruned at iteration 5.\n",
      "[I 2025-04-06 10:03:08,843] Trial 88 pruned. Trial was pruned at iteration 1.\n",
      "[I 2025-04-06 10:03:08,884] Trial 89 pruned. Trial was pruned at iteration 0.\n",
      "[I 2025-04-06 10:03:09,337] Trial 90 finished with value: 4.032905266270929 and parameters: {'tree_method': 'approx', 'learning_rate': 0.363157495840051, 'reg_lambda': 0.17800056524624674, 'max_depth': 7, 'min_child_weight': 17, 'gamma': 4.763030003031112, 'subsample': 0.9102210217072276, 'colsample_bynode': 0.9679893475363903, 'colsample_bytree': 0.7956175886848518, 'colsample_bylevel': 0.6112534602344402}. Best is trial 28 with value: 3.727841972349521.\n",
      "[I 2025-04-06 10:03:09,732] Trial 91 finished with value: 3.892332876309715 and parameters: {'tree_method': 'approx', 'learning_rate': 0.368612892311473, 'reg_lambda': 0.1725506023413648, 'max_depth': 7, 'min_child_weight': 18, 'gamma': 5.163358863069173, 'subsample': 0.9623160026955838, 'colsample_bynode': 0.9722186407972805, 'colsample_bytree': 0.8307751187526112, 'colsample_bylevel': 0.6004656977339545}. Best is trial 28 with value: 3.727841972349521.\n",
      "[I 2025-04-06 10:03:10,110] Trial 92 finished with value: 4.010004000042406 and parameters: {'tree_method': 'approx', 'learning_rate': 0.36306202717740405, 'reg_lambda': 0.25084838341238125, 'max_depth': 7, 'min_child_weight': 4, 'gamma': 4.725475725699921, 'subsample': 0.9076425305054308, 'colsample_bynode': 0.9665140508738979, 'colsample_bytree': 0.7937748313922416, 'colsample_bylevel': 0.596374488278853}. Best is trial 28 with value: 3.727841972349521.\n",
      "[I 2025-04-06 10:03:10,376] Trial 93 pruned. Trial was pruned at iteration 3.\n",
      "[I 2025-04-06 10:03:10,442] Trial 94 pruned. Trial was pruned at iteration 1.\n",
      "[I 2025-04-06 10:03:10,670] Trial 95 pruned. Trial was pruned at iteration 12.\n",
      "[I 2025-04-06 10:03:11,002] Trial 96 pruned. Trial was pruned at iteration 12.\n",
      "[I 2025-04-06 10:03:11,630] Trial 97 pruned. Trial was pruned at iteration 2.\n",
      "[I 2025-04-06 10:03:11,851] Trial 98 pruned. Trial was pruned at iteration 1.\n",
      "[I 2025-04-06 10:03:12,163] Trial 99 pruned. Trial was pruned at iteration 1.\n",
      "[I 2025-04-06 10:03:12,319] Trial 100 pruned. Trial was pruned at iteration 1.\n",
      "[I 2025-04-06 10:03:12,629] Trial 101 pruned. Trial was pruned at iteration 1.\n",
      "[I 2025-04-06 10:03:12,684] Trial 102 pruned. Trial was pruned at iteration 2.\n",
      "[I 2025-04-06 10:03:12,849] Trial 103 pruned. Trial was pruned at iteration 1.\n",
      "[I 2025-04-06 10:03:12,927] Trial 104 pruned. Trial was pruned at iteration 11.\n",
      "[I 2025-04-06 10:03:13,265] Trial 105 pruned. Trial was pruned at iteration 0.\n",
      "[I 2025-04-06 10:03:13,635] Trial 106 pruned. Trial was pruned at iteration 0.\n",
      "[I 2025-04-06 10:03:13,688] Trial 107 pruned. Trial was pruned at iteration 1.\n",
      "[I 2025-04-06 10:03:14,336] Trial 108 pruned. Trial was pruned at iteration 2.\n",
      "[I 2025-04-06 10:03:14,492] Trial 109 pruned. Trial was pruned at iteration 0.\n",
      "[I 2025-04-06 10:03:15,064] Trial 110 pruned. Trial was pruned at iteration 1.\n",
      "[I 2025-04-06 10:03:15,106] Trial 111 pruned. Trial was pruned at iteration 0.\n",
      "[I 2025-04-06 10:03:15,553] Trial 112 pruned. Trial was pruned at iteration 2.\n",
      "[I 2025-04-06 10:03:15,667] Trial 113 pruned. Trial was pruned at iteration 0.\n",
      "[I 2025-04-06 10:03:15,730] Trial 114 pruned. Trial was pruned at iteration 0.\n",
      "[I 2025-04-06 10:03:15,889] Trial 115 pruned. Trial was pruned at iteration 3.\n",
      "[I 2025-04-06 10:03:17,351] Trial 116 finished with value: 3.7329065143955993 and parameters: {'tree_method': 'hist', 'learning_rate': 0.4058478491397914, 'reg_lambda': 0.4722236310902779, 'max_depth': 12, 'min_child_weight': 10, 'gamma': 0.08857841682199231, 'subsample': 0.816338028292536, 'colsample_bynode': 0.7413307969616422, 'colsample_bytree': 0.9884405345747656, 'colsample_bylevel': 0.6692286189933682}. Best is trial 28 with value: 3.727841972349521.\n",
      "[I 2025-04-06 10:03:17,857] Trial 117 pruned. Trial was pruned at iteration 0.\n",
      "[I 2025-04-06 10:03:20,347] Trial 118 finished with value: 3.5036244332154065 and parameters: {'tree_method': 'hist', 'learning_rate': 0.4049197695101031, 'reg_lambda': 0.12143936763295837, 'max_depth': 12, 'min_child_weight': 13, 'gamma': 0.04982894201988848, 'subsample': 0.8188750407479978, 'colsample_bynode': 0.772963131662625, 'colsample_bytree': 0.985256651326639, 'colsample_bylevel': 0.6765971530780813}. Best is trial 118 with value: 3.5036244332154065.\n",
      "[I 2025-04-06 10:03:20,980] Trial 119 pruned. Trial was pruned at iteration 12.\n",
      "[I 2025-04-06 10:03:21,512] Trial 120 pruned. Trial was pruned at iteration 0.\n",
      "[I 2025-04-06 10:03:21,585] Trial 121 pruned. Trial was pruned at iteration 1.\n",
      "[I 2025-04-06 10:03:22,243] Trial 122 pruned. Trial was pruned at iteration 20.\n",
      "[I 2025-04-06 10:03:22,601] Trial 123 pruned. Trial was pruned at iteration 1.\n",
      "[I 2025-04-06 10:03:23,024] Trial 124 pruned. Trial was pruned at iteration 0.\n",
      "[I 2025-04-06 10:03:23,106] Trial 125 pruned. Trial was pruned at iteration 12.\n",
      "[I 2025-04-06 10:03:23,544] Trial 126 pruned. Trial was pruned at iteration 0.\n",
      "[I 2025-04-06 10:03:24,383] Trial 127 pruned. Trial was pruned at iteration 15.\n",
      "[I 2025-04-06 10:03:24,549] Trial 128 pruned. Trial was pruned at iteration 2.\n",
      "[I 2025-04-06 10:03:24,758] Trial 129 pruned. Trial was pruned at iteration 0.\n",
      "[I 2025-04-06 10:03:25,110] Trial 130 pruned. Trial was pruned at iteration 0.\n",
      "[I 2025-04-06 10:03:25,224] Trial 131 pruned. Trial was pruned at iteration 0.\n",
      "[I 2025-04-06 10:03:25,501] Trial 132 pruned. Trial was pruned at iteration 0.\n",
      "[I 2025-04-06 10:03:25,627] Trial 133 pruned. Trial was pruned at iteration 0.\n",
      "[I 2025-04-06 10:03:25,851] Trial 134 pruned. Trial was pruned at iteration 0.\n",
      "[I 2025-04-06 10:03:26,050] Trial 135 pruned. Trial was pruned at iteration 0.\n",
      "[I 2025-04-06 10:03:26,100] Trial 136 pruned. Trial was pruned at iteration 0.\n",
      "[I 2025-04-06 10:03:26,394] Trial 137 pruned. Trial was pruned at iteration 2.\n",
      "[I 2025-04-06 10:03:27,256] Trial 138 pruned. Trial was pruned at iteration 11.\n",
      "[I 2025-04-06 10:03:27,352] Trial 139 pruned. Trial was pruned at iteration 0.\n",
      "[I 2025-04-06 10:03:27,403] Trial 140 pruned. Trial was pruned at iteration 0.\n",
      "[I 2025-04-06 10:03:27,573] Trial 141 pruned. Trial was pruned at iteration 1.\n",
      "[I 2025-04-06 10:03:27,751] Trial 142 pruned. Trial was pruned at iteration 0.\n",
      "[I 2025-04-06 10:03:28,746] Trial 143 finished with value: 4.128430735996444 and parameters: {'tree_method': 'hist', 'learning_rate': 0.3665286046323984, 'reg_lambda': 1.295076249523693, 'max_depth': 8, 'min_child_weight': 7, 'gamma': 7.725909068624771, 'subsample': 0.8401661468649452, 'colsample_bynode': 0.9743497016445948, 'colsample_bytree': 0.9800742295314634, 'colsample_bylevel': 0.7493264292939471}. Best is trial 118 with value: 3.5036244332154065.\n",
      "[I 2025-04-06 10:03:28,850] Trial 144 pruned. Trial was pruned at iteration 18.\n",
      "[I 2025-04-06 10:03:29,086] Trial 145 pruned. Trial was pruned at iteration 0.\n",
      "[I 2025-04-06 10:03:29,639] Trial 146 pruned. Trial was pruned at iteration 1.\n",
      "[I 2025-04-06 10:03:29,718] Trial 147 pruned. Trial was pruned at iteration 8.\n",
      "[I 2025-04-06 10:03:29,983] Trial 148 pruned. Trial was pruned at iteration 0.\n",
      "[I 2025-04-06 10:03:30,102] Trial 149 pruned. Trial was pruned at iteration 0.\n",
      "[I 2025-04-06 10:03:30,177] Trial 150 pruned. Trial was pruned at iteration 9.\n",
      "[I 2025-04-06 10:03:30,353] Trial 151 pruned. Trial was pruned at iteration 1.\n",
      "[I 2025-04-06 10:03:30,823] Trial 152 finished with value: 3.891364980003137 and parameters: {'tree_method': 'hist', 'learning_rate': 0.3562907636511811, 'reg_lambda': 1.5703939103110915, 'max_depth': 8, 'min_child_weight': 11, 'gamma': 11.155202900942845, 'subsample': 0.7716899931447451, 'colsample_bynode': 0.9506719844724654, 'colsample_bytree': 0.9652311672012578, 'colsample_bylevel': 0.8309551743330026}. Best is trial 118 with value: 3.5036244332154065.\n",
      "[I 2025-04-06 10:03:31,262] Trial 153 pruned. Trial was pruned at iteration 0.\n",
      "[I 2025-04-06 10:03:31,490] Trial 154 pruned. Trial was pruned at iteration 0.\n",
      "[I 2025-04-06 10:03:31,540] Trial 155 pruned. Trial was pruned at iteration 0.\n",
      "[I 2025-04-06 10:03:31,777] Trial 156 pruned. Trial was pruned at iteration 0.\n",
      "[I 2025-04-06 10:03:31,978] Trial 157 pruned. Trial was pruned at iteration 28.\n",
      "[I 2025-04-06 10:03:32,850] Trial 158 pruned. Trial was pruned at iteration 18.\n",
      "[I 2025-04-06 10:03:33,003] Trial 159 pruned. Trial was pruned at iteration 9.\n",
      "[I 2025-04-06 10:03:33,188] Trial 160 pruned. Trial was pruned at iteration 0.\n",
      "[I 2025-04-06 10:03:33,822] Trial 161 finished with value: 3.839181184321256 and parameters: {'tree_method': 'hist', 'learning_rate': 0.3573849696280731, 'reg_lambda': 0.9398352981812376, 'max_depth': 8, 'min_child_weight': 10, 'gamma': 6.175210419892068, 'subsample': 0.7716525528429412, 'colsample_bynode': 0.9701441861290722, 'colsample_bytree': 0.9998917724054602, 'colsample_bylevel': 0.7788949215725465}. Best is trial 118 with value: 3.5036244332154065.\n",
      "[I 2025-04-06 10:03:34,323] Trial 162 finished with value: 3.9753893050037807 and parameters: {'tree_method': 'hist', 'learning_rate': 0.36014479197796956, 'reg_lambda': 0.8043240374041527, 'max_depth': 8, 'min_child_weight': 9, 'gamma': 6.079691030963079, 'subsample': 0.7738589739479256, 'colsample_bynode': 0.971497374060578, 'colsample_bytree': 0.99816725163281, 'colsample_bylevel': 0.7857230333011825}. Best is trial 118 with value: 3.5036244332154065.\n",
      "[I 2025-04-06 10:03:34,420] Trial 163 pruned. Trial was pruned at iteration 18.\n",
      "[I 2025-04-06 10:03:34,575] Trial 164 pruned. Trial was pruned at iteration 0.\n",
      "[I 2025-04-06 10:03:34,640] Trial 165 pruned. Trial was pruned at iteration 6.\n",
      "[I 2025-04-06 10:03:35,393] Trial 166 pruned. Trial was pruned at iteration 1.\n",
      "[I 2025-04-06 10:03:35,693] Trial 167 pruned. Trial was pruned at iteration 1.\n",
      "[I 2025-04-06 10:03:35,891] Trial 168 pruned. Trial was pruned at iteration 3.\n",
      "[I 2025-04-06 10:03:36,038] Trial 169 pruned. Trial was pruned at iteration 16.\n",
      "[I 2025-04-06 10:03:36,259] Trial 170 pruned. Trial was pruned at iteration 0.\n",
      "[I 2025-04-06 10:03:36,333] Trial 171 pruned. Trial was pruned at iteration 0.\n",
      "[I 2025-04-06 10:03:36,536] Trial 172 pruned. Trial was pruned at iteration 0.\n",
      "[I 2025-04-06 10:03:36,688] Trial 173 pruned. Trial was pruned at iteration 0.\n",
      "[I 2025-04-06 10:03:37,118] Trial 174 pruned. Trial was pruned at iteration 0.\n",
      "[I 2025-04-06 10:03:39,503] Trial 175 finished with value: 3.451614986446496 and parameters: {'tree_method': 'hist', 'learning_rate': 0.36725508975924054, 'reg_lambda': 0.32254658418287513, 'max_depth': 10, 'min_child_weight': 22, 'gamma': 0.024776407080566634, 'subsample': 0.7717851809636164, 'colsample_bynode': 0.9487971307487205, 'colsample_bytree': 0.9766256641680159, 'colsample_bylevel': 0.969728517112634}. Best is trial 175 with value: 3.451614986446496.\n",
      "[I 2025-04-06 10:03:39,646] Trial 176 pruned. Trial was pruned at iteration 3.\n",
      "[I 2025-04-06 10:03:39,803] Trial 177 pruned. Trial was pruned at iteration 22.\n",
      "[I 2025-04-06 10:03:40,098] Trial 178 pruned. Trial was pruned at iteration 7.\n",
      "[I 2025-04-06 10:03:40,329] Trial 179 pruned. Trial was pruned at iteration 2.\n",
      "[I 2025-04-06 10:03:40,604] Trial 180 pruned. Trial was pruned at iteration 0.\n",
      "[I 2025-04-06 10:03:40,652] Trial 181 pruned. Trial was pruned at iteration 0.\n",
      "[I 2025-04-06 10:03:40,699] Trial 182 pruned. Trial was pruned at iteration 0.\n",
      "[I 2025-04-06 10:03:40,898] Trial 183 pruned. Trial was pruned at iteration 0.\n",
      "[I 2025-04-06 10:03:41,053] Trial 184 pruned. Trial was pruned at iteration 0.\n",
      "[I 2025-04-06 10:03:41,100] Trial 185 pruned. Trial was pruned at iteration 0.\n",
      "[I 2025-04-06 10:03:41,472] Trial 186 pruned. Trial was pruned at iteration 17.\n",
      "[I 2025-04-06 10:03:41,662] Trial 187 pruned. Trial was pruned at iteration 0.\n",
      "[I 2025-04-06 10:03:41,708] Trial 188 pruned. Trial was pruned at iteration 0.\n",
      "[I 2025-04-06 10:03:41,875] Trial 189 pruned. Trial was pruned at iteration 5.\n",
      "[I 2025-04-06 10:03:42,024] Trial 190 pruned. Trial was pruned at iteration 2.\n",
      "[I 2025-04-06 10:03:42,220] Trial 191 pruned. Trial was pruned at iteration 1.\n",
      "[I 2025-04-06 10:03:42,357] Trial 192 pruned. Trial was pruned at iteration 0.\n",
      "[I 2025-04-06 10:03:42,408] Trial 193 pruned. Trial was pruned at iteration 3.\n",
      "[I 2025-04-06 10:03:42,557] Trial 194 pruned. Trial was pruned at iteration 0.\n",
      "[I 2025-04-06 10:03:42,749] Trial 195 pruned. Trial was pruned at iteration 1.\n",
      "[I 2025-04-06 10:03:43,132] Trial 196 pruned. Trial was pruned at iteration 1.\n",
      "[I 2025-04-06 10:03:43,268] Trial 197 pruned. Trial was pruned at iteration 0.\n",
      "[I 2025-04-06 10:03:43,817] Trial 198 pruned. Trial was pruned at iteration 1.\n",
      "[I 2025-04-06 10:03:44,476] Trial 199 finished with value: 3.864163416904436 and parameters: {'tree_method': 'hist', 'learning_rate': 0.364472885177743, 'reg_lambda': 0.2897069230722446, 'max_depth': 12, 'min_child_weight': 13, 'gamma': 0.039730172306996034, 'subsample': 0.8719404989318255, 'colsample_bynode': 0.9803049231369985, 'colsample_bytree': 0.962261325395908, 'colsample_bylevel': 0.7257584549554433}. Best is trial 175 with value: 3.451614986446496.\n",
      "[I 2025-04-06 10:03:44,529] Trial 200 pruned. Trial was pruned at iteration 0.\n",
      "[I 2025-04-06 10:03:44,877] Trial 201 pruned. Trial was pruned at iteration 82.\n",
      "[I 2025-04-06 10:03:44,944] Trial 202 pruned. Trial was pruned at iteration 8.\n",
      "[I 2025-04-06 10:03:45,302] Trial 203 pruned. Trial was pruned at iteration 1.\n",
      "[I 2025-04-06 10:03:45,427] Trial 204 pruned. Trial was pruned at iteration 0.\n",
      "[I 2025-04-06 10:03:45,614] Trial 205 pruned. Trial was pruned at iteration 8.\n",
      "[I 2025-04-06 10:03:45,886] Trial 206 pruned. Trial was pruned at iteration 7.\n",
      "[I 2025-04-06 10:03:46,017] Trial 207 pruned. Trial was pruned at iteration 10.\n",
      "[I 2025-04-06 10:03:46,250] Trial 208 pruned. Trial was pruned at iteration 0.\n",
      "[I 2025-04-06 10:03:46,651] Trial 209 pruned. Trial was pruned at iteration 1.\n",
      "[I 2025-04-06 10:03:46,835] Trial 210 pruned. Trial was pruned at iteration 16.\n",
      "[I 2025-04-06 10:03:47,132] Trial 211 pruned. Trial was pruned at iteration 0.\n",
      "[I 2025-04-06 10:03:47,305] Trial 212 pruned. Trial was pruned at iteration 0.\n",
      "[I 2025-04-06 10:03:48,406] Trial 213 finished with value: 3.821448827795508 and parameters: {'tree_method': 'approx', 'learning_rate': 0.37977589138756324, 'reg_lambda': 0.8132826789201636, 'max_depth': 8, 'min_child_weight': 15, 'gamma': 31.366033917219944, 'subsample': 0.7740051405747247, 'colsample_bynode': 0.9699063219000933, 'colsample_bytree': 0.9919704936738215, 'colsample_bylevel': 0.6195513925683693}. Best is trial 175 with value: 3.451614986446496.\n",
      "[I 2025-04-06 10:03:48,712] Trial 214 pruned. Trial was pruned at iteration 3.\n",
      "[I 2025-04-06 10:03:49,018] Trial 215 pruned. Trial was pruned at iteration 0.\n",
      "[I 2025-04-06 10:03:49,108] Trial 216 pruned. Trial was pruned at iteration 12.\n",
      "[I 2025-04-06 10:03:49,337] Trial 217 pruned. Trial was pruned at iteration 0.\n",
      "[I 2025-04-06 10:03:49,504] Trial 218 pruned. Trial was pruned at iteration 0.\n",
      "[I 2025-04-06 10:03:49,664] Trial 219 pruned. Trial was pruned at iteration 2.\n",
      "[I 2025-04-06 10:03:49,789] Trial 220 pruned. Trial was pruned at iteration 0.\n",
      "[I 2025-04-06 10:03:50,140] Trial 221 pruned. Trial was pruned at iteration 0.\n",
      "[I 2025-04-06 10:03:50,196] Trial 222 pruned. Trial was pruned at iteration 1.\n",
      "[I 2025-04-06 10:03:50,400] Trial 223 pruned. Trial was pruned at iteration 0.\n",
      "[I 2025-04-06 10:03:50,562] Trial 224 pruned. Trial was pruned at iteration 3.\n",
      "[I 2025-04-06 10:03:50,681] Trial 225 pruned. Trial was pruned at iteration 0.\n",
      "[I 2025-04-06 10:03:50,749] Trial 226 pruned. Trial was pruned at iteration 10.\n",
      "[I 2025-04-06 10:03:50,904] Trial 227 pruned. Trial was pruned at iteration 0.\n",
      "[I 2025-04-06 10:03:51,119] Trial 228 pruned. Trial was pruned at iteration 0.\n",
      "[I 2025-04-06 10:03:51,256] Trial 229 pruned. Trial was pruned at iteration 0.\n",
      "[I 2025-04-06 10:03:51,430] Trial 230 pruned. Trial was pruned at iteration 0.\n",
      "[I 2025-04-06 10:03:51,579] Trial 231 pruned. Trial was pruned at iteration 6.\n",
      "[I 2025-04-06 10:03:51,723] Trial 232 pruned. Trial was pruned at iteration 0.\n",
      "[I 2025-04-06 10:03:52,007] Trial 233 pruned. Trial was pruned at iteration 0.\n",
      "[I 2025-04-06 10:03:52,166] Trial 234 pruned. Trial was pruned at iteration 1.\n",
      "[I 2025-04-06 10:03:52,315] Trial 235 pruned. Trial was pruned at iteration 0.\n",
      "[I 2025-04-06 10:03:52,364] Trial 236 pruned. Trial was pruned at iteration 0.\n",
      "[I 2025-04-06 10:03:52,705] Trial 237 pruned. Trial was pruned at iteration 0.\n",
      "[I 2025-04-06 10:03:53,247] Trial 238 finished with value: 3.9682305487724117 and parameters: {'tree_method': 'hist', 'learning_rate': 0.36976655339712833, 'reg_lambda': 0.29302164173133777, 'max_depth': 6, 'min_child_weight': 9, 'gamma': 5.57194707528396, 'subsample': 0.9686036395886068, 'colsample_bynode': 0.9848641586845667, 'colsample_bytree': 0.9513977745052978, 'colsample_bylevel': 0.681145002357957}. Best is trial 175 with value: 3.451614986446496.\n",
      "[I 2025-04-06 10:03:53,407] Trial 239 pruned. Trial was pruned at iteration 11.\n",
      "[I 2025-04-06 10:03:53,591] Trial 240 pruned. Trial was pruned at iteration 0.\n",
      "[I 2025-04-06 10:03:53,998] Trial 241 pruned. Trial was pruned at iteration 33.\n",
      "[I 2025-04-06 10:03:54,477] Trial 242 pruned. Trial was pruned at iteration 5.\n",
      "[I 2025-04-06 10:03:54,852] Trial 243 pruned. Trial was pruned at iteration 0.\n",
      "[I 2025-04-06 10:03:55,179] Trial 244 pruned. Trial was pruned at iteration 0.\n",
      "[I 2025-04-06 10:03:55,330] Trial 245 pruned. Trial was pruned at iteration 0.\n",
      "[I 2025-04-06 10:03:55,498] Trial 246 pruned. Trial was pruned at iteration 15.\n",
      "[I 2025-04-06 10:03:55,548] Trial 247 pruned. Trial was pruned at iteration 0.\n",
      "[I 2025-04-06 10:03:55,735] Trial 248 pruned. Trial was pruned at iteration 7.\n",
      "[I 2025-04-06 10:03:55,894] Trial 249 pruned. Trial was pruned at iteration 9.\n",
      "[I 2025-04-06 10:03:55,983] Trial 250 pruned. Trial was pruned at iteration 7.\n",
      "[I 2025-04-06 10:03:56,118] Trial 251 pruned. Trial was pruned at iteration 0.\n",
      "[I 2025-04-06 10:03:56,462] Trial 252 pruned. Trial was pruned at iteration 0.\n",
      "[I 2025-04-06 10:03:56,766] Trial 253 pruned. Trial was pruned at iteration 4.\n",
      "[I 2025-04-06 10:03:57,010] Trial 254 pruned. Trial was pruned at iteration 0.\n",
      "[I 2025-04-06 10:03:57,348] Trial 255 pruned. Trial was pruned at iteration 0.\n",
      "[I 2025-04-06 10:03:57,632] Trial 256 pruned. Trial was pruned at iteration 0.\n",
      "[I 2025-04-06 10:03:58,178] Trial 257 pruned. Trial was pruned at iteration 5.\n",
      "[I 2025-04-06 10:03:58,437] Trial 258 pruned. Trial was pruned at iteration 3.\n",
      "[I 2025-04-06 10:03:58,806] Trial 259 pruned. Trial was pruned at iteration 1.\n",
      "[I 2025-04-06 10:03:59,212] Trial 260 pruned. Trial was pruned at iteration 10.\n",
      "[I 2025-04-06 10:03:59,543] Trial 261 pruned. Trial was pruned at iteration 8.\n",
      "[I 2025-04-06 10:03:59,709] Trial 262 pruned. Trial was pruned at iteration 0.\n",
      "[I 2025-04-06 10:03:59,908] Trial 263 pruned. Trial was pruned at iteration 0.\n",
      "[I 2025-04-06 10:04:00,044] Trial 264 pruned. Trial was pruned at iteration 1.\n",
      "[I 2025-04-06 10:04:00,287] Trial 265 pruned. Trial was pruned at iteration 4.\n",
      "[I 2025-04-06 10:04:00,366] Trial 266 pruned. Trial was pruned at iteration 0.\n",
      "[I 2025-04-06 10:04:00,555] Trial 267 pruned. Trial was pruned at iteration 2.\n",
      "[I 2025-04-06 10:04:00,678] Trial 268 pruned. Trial was pruned at iteration 0.\n",
      "[I 2025-04-06 10:04:00,802] Trial 269 pruned. Trial was pruned at iteration 0.\n",
      "[I 2025-04-06 10:04:01,247] Trial 270 pruned. Trial was pruned at iteration 2.\n",
      "[I 2025-04-06 10:04:01,305] Trial 271 pruned. Trial was pruned at iteration 0.\n",
      "[I 2025-04-06 10:04:01,736] Trial 272 pruned. Trial was pruned at iteration 10.\n",
      "[I 2025-04-06 10:04:01,941] Trial 273 pruned. Trial was pruned at iteration 0.\n",
      "[I 2025-04-06 10:04:02,160] Trial 274 pruned. Trial was pruned at iteration 0.\n",
      "[I 2025-04-06 10:04:02,380] Trial 275 pruned. Trial was pruned at iteration 16.\n",
      "[I 2025-04-06 10:04:02,464] Trial 276 pruned. Trial was pruned at iteration 7.\n",
      "[I 2025-04-06 10:04:02,793] Trial 277 pruned. Trial was pruned at iteration 0.\n",
      "[I 2025-04-06 10:04:02,846] Trial 278 pruned. Trial was pruned at iteration 0.\n",
      "[I 2025-04-06 10:04:03,109] Trial 279 pruned. Trial was pruned at iteration 0.\n",
      "[I 2025-04-06 10:04:03,448] Trial 280 pruned. Trial was pruned at iteration 0.\n",
      "[I 2025-04-06 10:04:03,608] Trial 281 pruned. Trial was pruned at iteration 1.\n",
      "[I 2025-04-06 10:04:03,887] Trial 282 pruned. Trial was pruned at iteration 1.\n",
      "[I 2025-04-06 10:04:03,992] Trial 283 pruned. Trial was pruned at iteration 0.\n",
      "[I 2025-04-06 10:04:04,150] Trial 284 pruned. Trial was pruned at iteration 0.\n",
      "[I 2025-04-06 10:04:04,510] Trial 285 pruned. Trial was pruned at iteration 0.\n",
      "[I 2025-04-06 10:04:04,732] Trial 286 pruned. Trial was pruned at iteration 9.\n",
      "[I 2025-04-06 10:04:05,183] Trial 287 pruned. Trial was pruned at iteration 8.\n",
      "[I 2025-04-06 10:04:05,520] Trial 288 pruned. Trial was pruned at iteration 0.\n",
      "[I 2025-04-06 10:04:05,582] Trial 289 pruned. Trial was pruned at iteration 0.\n",
      "[I 2025-04-06 10:04:05,962] Trial 290 pruned. Trial was pruned at iteration 0.\n",
      "[I 2025-04-06 10:04:06,132] Trial 291 pruned. Trial was pruned at iteration 9.\n",
      "[I 2025-04-06 10:04:06,273] Trial 292 pruned. Trial was pruned at iteration 0.\n",
      "[I 2025-04-06 10:04:07,286] Trial 293 finished with value: 3.9770001863026905 and parameters: {'tree_method': 'approx', 'learning_rate': 0.3590422061368955, 'reg_lambda': 0.6485089989588185, 'max_depth': 7, 'min_child_weight': 5, 'gamma': 1.6225244079210746, 'subsample': 0.8805211061786926, 'colsample_bynode': 0.9852543122819919, 'colsample_bytree': 0.9385557437081481, 'colsample_bylevel': 0.6086968033518292}. Best is trial 175 with value: 3.451614986446496.\n",
      "[I 2025-04-06 10:04:07,422] Trial 294 pruned. Trial was pruned at iteration 0.\n",
      "[I 2025-04-06 10:04:07,653] Trial 295 pruned. Trial was pruned at iteration 0.\n",
      "[I 2025-04-06 10:04:07,965] Trial 296 pruned. Trial was pruned at iteration 10.\n",
      "[I 2025-04-06 10:04:08,348] Trial 297 pruned. Trial was pruned at iteration 0.\n",
      "[I 2025-04-06 10:04:08,498] Trial 298 pruned. Trial was pruned at iteration 0.\n",
      "[I 2025-04-06 10:04:08,565] Trial 299 pruned. Trial was pruned at iteration 3.\n",
      "[I 2025-04-06 10:04:08,907] Trial 300 pruned. Trial was pruned at iteration 0.\n",
      "[I 2025-04-06 10:04:09,134] Trial 301 pruned. Trial was pruned at iteration 2.\n",
      "[I 2025-04-06 10:04:09,297] Trial 302 pruned. Trial was pruned at iteration 3.\n",
      "[I 2025-04-06 10:04:09,433] Trial 303 pruned. Trial was pruned at iteration 0.\n",
      "[I 2025-04-06 10:04:09,753] Trial 304 pruned. Trial was pruned at iteration 0.\n",
      "[I 2025-04-06 10:04:09,893] Trial 305 pruned. Trial was pruned at iteration 1.\n",
      "[I 2025-04-06 10:04:10,057] Trial 306 pruned. Trial was pruned at iteration 0.\n",
      "[I 2025-04-06 10:04:11,310] Trial 307 finished with value: 3.8368361608150368 and parameters: {'tree_method': 'hist', 'learning_rate': 0.3730275932599488, 'reg_lambda': 0.8171590006346129, 'max_depth': 8, 'min_child_weight': 18, 'gamma': 0.46093076299513996, 'subsample': 0.9102923647594048, 'colsample_bynode': 0.9910509962282646, 'colsample_bytree': 0.9512025876536939, 'colsample_bylevel': 0.9680013466190727}. Best is trial 175 with value: 3.451614986446496.\n",
      "[I 2025-04-06 10:04:11,426] Trial 308 pruned. Trial was pruned at iteration 1.\n",
      "[I 2025-04-06 10:04:11,787] Trial 309 pruned. Trial was pruned at iteration 7.\n",
      "[I 2025-04-06 10:04:11,938] Trial 310 pruned. Trial was pruned at iteration 5.\n",
      "[I 2025-04-06 10:04:12,089] Trial 311 pruned. Trial was pruned at iteration 0.\n",
      "[I 2025-04-06 10:04:12,242] Trial 312 pruned. Trial was pruned at iteration 0.\n",
      "[I 2025-04-06 10:04:13,115] Trial 313 finished with value: 3.9478937827626153 and parameters: {'tree_method': 'hist', 'learning_rate': 0.3855418618813881, 'reg_lambda': 1.4549855203913125, 'max_depth': 8, 'min_child_weight': 10, 'gamma': 0.678436612541232, 'subsample': 0.9366876327730926, 'colsample_bynode': 0.9874168908174513, 'colsample_bytree': 0.9535682065450752, 'colsample_bylevel': 0.966390041763864}. Best is trial 175 with value: 3.451614986446496.\n",
      "[I 2025-04-06 10:04:13,304] Trial 314 pruned. Trial was pruned at iteration 1.\n",
      "[I 2025-04-06 10:04:13,461] Trial 315 pruned. Trial was pruned at iteration 5.\n",
      "[I 2025-04-06 10:04:13,609] Trial 316 pruned. Trial was pruned at iteration 0.\n",
      "[I 2025-04-06 10:04:13,744] Trial 317 pruned. Trial was pruned at iteration 0.\n",
      "[I 2025-04-06 10:04:13,881] Trial 318 pruned. Trial was pruned at iteration 1.\n",
      "[I 2025-04-06 10:04:15,101] Trial 319 finished with value: 3.984724983645488 and parameters: {'tree_method': 'hist', 'learning_rate': 0.38499842714480237, 'reg_lambda': 0.31472846925766185, 'max_depth': 9, 'min_child_weight': 11, 'gamma': 0.010557203064820404, 'subsample': 0.8568890487192387, 'colsample_bynode': 0.9656099254331594, 'colsample_bytree': 0.9520577931469886, 'colsample_bylevel': 0.9754244569457493}. Best is trial 175 with value: 3.451614986446496.\n",
      "[I 2025-04-06 10:04:16,361] Trial 320 finished with value: 4.024971202859318 and parameters: {'tree_method': 'hist', 'learning_rate': 0.38627127546574463, 'reg_lambda': 0.32491279630588177, 'max_depth': 10, 'min_child_weight': 11, 'gamma': 0.4493162583530448, 'subsample': 0.8562286232740466, 'colsample_bynode': 0.9638204213020648, 'colsample_bytree': 0.9513493911550333, 'colsample_bylevel': 0.9961307800306062}. Best is trial 175 with value: 3.451614986446496.\n",
      "[I 2025-04-06 10:04:17,285] Trial 321 pruned. Trial was pruned at iteration 8.\n",
      "[I 2025-04-06 10:04:17,689] Trial 322 pruned. Trial was pruned at iteration 10.\n",
      "[I 2025-04-06 10:04:18,234] Trial 323 pruned. Trial was pruned at iteration 6.\n",
      "[I 2025-04-06 10:04:18,444] Trial 324 pruned. Trial was pruned at iteration 22.\n",
      "[I 2025-04-06 10:04:18,762] Trial 325 pruned. Trial was pruned at iteration 0.\n",
      "[I 2025-04-06 10:04:19,088] Trial 326 pruned. Trial was pruned at iteration 5.\n",
      "[I 2025-04-06 10:04:19,262] Trial 327 pruned. Trial was pruned at iteration 3.\n",
      "[I 2025-04-06 10:04:20,106] Trial 328 finished with value: 3.8239155461658503 and parameters: {'tree_method': 'hist', 'learning_rate': 0.3690831483820634, 'reg_lambda': 0.1576968015206579, 'max_depth': 10, 'min_child_weight': 12, 'gamma': 0.9260173750264113, 'subsample': 0.9660106025669851, 'colsample_bynode': 0.9439906672843507, 'colsample_bytree': 0.9352044104932348, 'colsample_bylevel': 0.9669625736817004}. Best is trial 175 with value: 3.451614986446496.\n",
      "[I 2025-04-06 10:04:20,446] Trial 329 pruned. Trial was pruned at iteration 17.\n",
      "[I 2025-04-06 10:04:20,749] Trial 330 pruned. Trial was pruned at iteration 1.\n",
      "[I 2025-04-06 10:04:20,919] Trial 331 pruned. Trial was pruned at iteration 5.\n",
      "[I 2025-04-06 10:04:21,321] Trial 332 pruned. Trial was pruned at iteration 6.\n",
      "[I 2025-04-06 10:04:22,029] Trial 333 pruned. Trial was pruned at iteration 1.\n",
      "[I 2025-04-06 10:04:22,413] Trial 334 pruned. Trial was pruned at iteration 6.\n",
      "[I 2025-04-06 10:04:22,608] Trial 335 pruned. Trial was pruned at iteration 5.\n",
      "[I 2025-04-06 10:04:22,682] Trial 336 pruned. Trial was pruned at iteration 7.\n",
      "[I 2025-04-06 10:04:22,785] Trial 337 pruned. Trial was pruned at iteration 0.\n",
      "[I 2025-04-06 10:04:22,945] Trial 338 pruned. Trial was pruned at iteration 3.\n",
      "[I 2025-04-06 10:04:23,030] Trial 339 pruned. Trial was pruned at iteration 5.\n",
      "[I 2025-04-06 10:04:23,418] Trial 340 pruned. Trial was pruned at iteration 5.\n",
      "[I 2025-04-06 10:04:23,929] Trial 341 pruned. Trial was pruned at iteration 6.\n",
      "[I 2025-04-06 10:04:24,137] Trial 342 pruned. Trial was pruned at iteration 7.\n",
      "[I 2025-04-06 10:04:24,212] Trial 343 pruned. Trial was pruned at iteration 3.\n",
      "[I 2025-04-06 10:04:24,584] Trial 344 pruned. Trial was pruned at iteration 0.\n",
      "[I 2025-04-06 10:04:24,739] Trial 345 pruned. Trial was pruned at iteration 0.\n",
      "[I 2025-04-06 10:04:25,114] Trial 346 pruned. Trial was pruned at iteration 0.\n",
      "[I 2025-04-06 10:04:25,184] Trial 347 pruned. Trial was pruned at iteration 0.\n",
      "[I 2025-04-06 10:04:25,575] Trial 348 pruned. Trial was pruned at iteration 7.\n",
      "[I 2025-04-06 10:04:25,640] Trial 349 pruned. Trial was pruned at iteration 0.\n",
      "[I 2025-04-06 10:04:25,898] Trial 350 pruned. Trial was pruned at iteration 0.\n",
      "[I 2025-04-06 10:04:26,196] Trial 351 pruned. Trial was pruned at iteration 8.\n",
      "[I 2025-04-06 10:04:26,423] Trial 352 pruned. Trial was pruned at iteration 0.\n",
      "[I 2025-04-06 10:04:26,575] Trial 353 pruned. Trial was pruned at iteration 0.\n",
      "[I 2025-04-06 10:04:26,637] Trial 354 pruned. Trial was pruned at iteration 0.\n",
      "[I 2025-04-06 10:04:26,845] Trial 355 pruned. Trial was pruned at iteration 0.\n",
      "[I 2025-04-06 10:04:27,069] Trial 356 pruned. Trial was pruned at iteration 0.\n",
      "[I 2025-04-06 10:04:27,380] Trial 357 pruned. Trial was pruned at iteration 18.\n",
      "[I 2025-04-06 10:04:27,449] Trial 358 pruned. Trial was pruned at iteration 0.\n",
      "[I 2025-04-06 10:04:27,754] Trial 359 pruned. Trial was pruned at iteration 0.\n",
      "[I 2025-04-06 10:04:28,133] Trial 360 pruned. Trial was pruned at iteration 0.\n",
      "[I 2025-04-06 10:04:28,237] Trial 361 pruned. Trial was pruned at iteration 0.\n",
      "[I 2025-04-06 10:04:28,390] Trial 362 pruned. Trial was pruned at iteration 3.\n",
      "[I 2025-04-06 10:04:28,973] Trial 363 pruned. Trial was pruned at iteration 5.\n",
      "[I 2025-04-06 10:04:29,354] Trial 364 pruned. Trial was pruned at iteration 0.\n",
      "[I 2025-04-06 10:04:29,718] Trial 365 pruned. Trial was pruned at iteration 2.\n",
      "[I 2025-04-06 10:04:30,484] Trial 366 pruned. Trial was pruned at iteration 6.\n",
      "[I 2025-04-06 10:04:30,605] Trial 367 pruned. Trial was pruned at iteration 0.\n",
      "[I 2025-04-06 10:04:30,683] Trial 368 pruned. Trial was pruned at iteration 0.\n",
      "[I 2025-04-06 10:04:30,741] Trial 369 pruned. Trial was pruned at iteration 0.\n",
      "[I 2025-04-06 10:04:30,798] Trial 370 pruned. Trial was pruned at iteration 0.\n",
      "[I 2025-04-06 10:04:30,868] Trial 371 pruned. Trial was pruned at iteration 2.\n",
      "[I 2025-04-06 10:04:30,923] Trial 372 pruned. Trial was pruned at iteration 0.\n",
      "[I 2025-04-06 10:04:30,992] Trial 373 pruned. Trial was pruned at iteration 15.\n",
      "[I 2025-04-06 10:04:31,053] Trial 374 pruned. Trial was pruned at iteration 5.\n",
      "[I 2025-04-06 10:04:31,112] Trial 375 pruned. Trial was pruned at iteration 4.\n",
      "[I 2025-04-06 10:04:31,167] Trial 376 pruned. Trial was pruned at iteration 0.\n",
      "[I 2025-04-06 10:04:31,222] Trial 377 pruned. Trial was pruned at iteration 0.\n",
      "[I 2025-04-06 10:04:31,276] Trial 378 pruned. Trial was pruned at iteration 0.\n",
      "[I 2025-04-06 10:04:31,357] Trial 379 pruned. Trial was pruned at iteration 10.\n",
      "[I 2025-04-06 10:04:31,413] Trial 380 pruned. Trial was pruned at iteration 1.\n",
      "[I 2025-04-06 10:04:31,467] Trial 381 pruned. Trial was pruned at iteration 0.\n",
      "[I 2025-04-06 10:04:31,527] Trial 382 pruned. Trial was pruned at iteration 5.\n",
      "[I 2025-04-06 10:04:31,583] Trial 383 pruned. Trial was pruned at iteration 0.\n",
      "[I 2025-04-06 10:04:31,650] Trial 384 pruned. Trial was pruned at iteration 9.\n",
      "[I 2025-04-06 10:04:31,713] Trial 385 pruned. Trial was pruned at iteration 5.\n",
      "[I 2025-04-06 10:04:31,782] Trial 386 pruned. Trial was pruned at iteration 1.\n",
      "[I 2025-04-06 10:04:31,845] Trial 387 pruned. Trial was pruned at iteration 0.\n",
      "[I 2025-04-06 10:04:31,902] Trial 388 pruned. Trial was pruned at iteration 0.\n",
      "[I 2025-04-06 10:04:31,958] Trial 389 pruned. Trial was pruned at iteration 0.\n",
      "[I 2025-04-06 10:04:32,014] Trial 390 pruned. Trial was pruned at iteration 0.\n",
      "[I 2025-04-06 10:04:32,069] Trial 391 pruned. Trial was pruned at iteration 0.\n",
      "[I 2025-04-06 10:04:32,127] Trial 392 pruned. Trial was pruned at iteration 1.\n",
      "[I 2025-04-06 10:04:32,206] Trial 393 pruned. Trial was pruned at iteration 0.\n",
      "[I 2025-04-06 10:04:32,266] Trial 394 pruned. Trial was pruned at iteration 3.\n",
      "[I 2025-04-06 10:04:32,336] Trial 395 pruned. Trial was pruned at iteration 5.\n",
      "[I 2025-04-06 10:04:32,397] Trial 396 pruned. Trial was pruned at iteration 0.\n",
      "[I 2025-04-06 10:04:32,453] Trial 397 pruned. Trial was pruned at iteration 0.\n",
      "[I 2025-04-06 10:04:32,513] Trial 398 pruned. Trial was pruned at iteration 0.\n",
      "[I 2025-04-06 10:04:32,569] Trial 399 pruned. Trial was pruned at iteration 0.\n",
      "[I 2025-04-06 10:04:32,635] Trial 400 pruned. Trial was pruned at iteration 11.\n",
      "[I 2025-04-06 10:04:32,713] Trial 401 pruned. Trial was pruned at iteration 8.\n",
      "[I 2025-04-06 10:04:32,770] Trial 402 pruned. Trial was pruned at iteration 0.\n",
      "[I 2025-04-06 10:04:32,826] Trial 403 pruned. Trial was pruned at iteration 0.\n",
      "[I 2025-04-06 10:04:32,882] Trial 404 pruned. Trial was pruned at iteration 0.\n",
      "[I 2025-04-06 10:04:32,938] Trial 405 pruned. Trial was pruned at iteration 0.\n",
      "[I 2025-04-06 10:04:32,994] Trial 406 pruned. Trial was pruned at iteration 0.\n",
      "[I 2025-04-06 10:04:33,060] Trial 407 pruned. Trial was pruned at iteration 5.\n",
      "[I 2025-04-06 10:04:33,118] Trial 408 pruned. Trial was pruned at iteration 0.\n",
      "[I 2025-04-06 10:04:33,186] Trial 409 pruned. Trial was pruned at iteration 1.\n",
      "[I 2025-04-06 10:04:33,248] Trial 410 pruned. Trial was pruned at iteration 3.\n",
      "[I 2025-04-06 10:04:33,309] Trial 411 pruned. Trial was pruned at iteration 3.\n",
      "[I 2025-04-06 10:04:33,366] Trial 412 pruned. Trial was pruned at iteration 0.\n",
      "[I 2025-04-06 10:04:33,422] Trial 413 pruned. Trial was pruned at iteration 0.\n",
      "[I 2025-04-06 10:04:33,485] Trial 414 pruned. Trial was pruned at iteration 5.\n",
      "[I 2025-04-06 10:04:33,543] Trial 415 pruned. Trial was pruned at iteration 0.\n",
      "[I 2025-04-06 10:04:33,600] Trial 416 pruned. Trial was pruned at iteration 0.\n",
      "[I 2025-04-06 10:04:33,656] Trial 417 pruned. Trial was pruned at iteration 0.\n",
      "[I 2025-04-06 10:04:33,715] Trial 418 pruned. Trial was pruned at iteration 1.\n",
      "[I 2025-04-06 10:04:33,773] Trial 419 pruned. Trial was pruned at iteration 0.\n",
      "[I 2025-04-06 10:04:33,829] Trial 420 pruned. Trial was pruned at iteration 0.\n",
      "[I 2025-04-06 10:04:33,885] Trial 421 pruned. Trial was pruned at iteration 0.\n",
      "[I 2025-04-06 10:04:34,056] Trial 422 pruned. Trial was pruned at iteration 1.\n",
      "[I 2025-04-06 10:04:34,150] Trial 423 pruned. Trial was pruned at iteration 0.\n",
      "[I 2025-04-06 10:04:34,281] Trial 424 pruned. Trial was pruned at iteration 0.\n",
      "[I 2025-04-06 10:04:34,341] Trial 425 pruned. Trial was pruned at iteration 0.\n",
      "[I 2025-04-06 10:04:34,402] Trial 426 pruned. Trial was pruned at iteration 0.\n",
      "[I 2025-04-06 10:04:34,460] Trial 427 pruned. Trial was pruned at iteration 0.\n",
      "[I 2025-04-06 10:04:34,523] Trial 428 pruned. Trial was pruned at iteration 7.\n"
     ]
    },
    {
     "data": {
      "text/plain": [
       "{'tree_method': 'hist',\n",
       " 'learning_rate': 0.36725508975924054,\n",
       " 'reg_lambda': 0.32254658418287513,\n",
       " 'max_depth': 10,\n",
       " 'min_child_weight': 22,\n",
       " 'gamma': 0.024776407080566634,\n",
       " 'subsample': 0.7717851809636164,\n",
       " 'colsample_bynode': 0.9487971307487205,\n",
       " 'colsample_bytree': 0.9766256641680159,\n",
       " 'colsample_bylevel': 0.969728517112634}"
      ]
     },
     "execution_count": 71,
     "metadata": {},
     "output_type": "execute_result"
    }
   ],
   "source": [
    "model = XGBRegressor()\n",
    "train_time = 60*5 #15 minutes\n",
    "\n",
    "X_train_valid, X_test, y_train_valid, y_test = train_test_split(X, y, test_size=0.25, random_state=42)\n",
    "X_train, X_val, y_train, y_val = train_test_split(X_train_valid, y_train_valid, test_size=0.2, random_state=42)\n",
    "dtrain = xgb.DMatrix(data=X_train, label=y_train, \n",
    "                     enable_categorical=True)\n",
    "dvalid = xgb.DMatrix(data=X_val, label=y_val, \n",
    "                     enable_categorical=True)\n",
    "dtest = xgb.DMatrix(data=X_test, label=y_test, \n",
    "                    enable_categorical=True)\n",
    "dtrainvalid = xgb.DMatrix(data=X_train_valid, \n",
    "                          label=y_train_valid, \n",
    "                          enable_categorical=True)\n",
    "\n",
    "# Define the callback to stop the optimization when the trial keep being pruned. \n",
    "# The number of pruned trials is defined by the threshold.\n",
    "class StopWhenTrialKeepBeingPrunedCallback:\n",
    "    def __init__(self, threshold: int):\n",
    "        self.threshold = threshold\n",
    "        self._consequtive_pruned_count = 0\n",
    "\n",
    "    def __call__(self, study: optuna.study.Study, trial: optuna.trial.FrozenTrial) -> None:\n",
    "        if trial.state == optuna.trial.TrialState.PRUNED:\n",
    "            self._consequtive_pruned_count += 1\n",
    "        else:\n",
    "            self._consequtive_pruned_count = 0\n",
    "\n",
    "        if self._consequtive_pruned_count >= self.threshold:\n",
    "            study.stop()\n",
    "\n",
    "# Define the objective function to optimize the hyperparameters of the XGBoost model.\n",
    "def objective_GB(trial):\n",
    "    params = {\n",
    "        'objective': 'reg:squarederror',\n",
    "        'eval_metric': 'rmse', # root mean squared error\n",
    "        'tree_method': trial.suggest_categorical('tree_method', ['approx', 'hist']), \n",
    "        'learning_rate': trial.suggest_float('learning_rate', 0.2, 0.5), # Most important parameter.\n",
    "        'reg_lambda': trial.suggest_float('reg_lambda', 0.001, 50, log=True), # L2 regularization\n",
    "        'max_depth': trial.suggest_int('max_depth', 3, 12), # Tree depth\n",
    "        'min_child_weight': trial.suggest_int('min_child_weight', 1, 200), # Min weight of each child.\n",
    "        'gamma': trial.suggest_float('gamma', 0.001, 50, log=True), # Minimum loss reduction required to make a partition\n",
    "        'subsample': trial.suggest_float('subsample', 0.5, 1.0), \n",
    "        'colsample_bynode': trial.suggest_float('colsample_bynode', 0.5, 1.0),\n",
    "        'colsample_bytree': trial.suggest_float('colsample_bytree', 0.5, 1.0),\n",
    "        'colsample_bylevel': trial.suggest_float('colsample_bylevel', 0.5, 1.0),       \n",
    "    }\n",
    "    \n",
    "    # integrated pruning for stopping unpromising trials.\n",
    "    xgb_callback = XGBoostPruningCallback(trial, f'valid-rmse')\n",
    "\n",
    "    model = XGBRegressor(random_state= 1, **params)\n",
    "    \n",
    "    model = xgb.train(params=params, dtrain=dtrain, num_boost_round=1000,\n",
    "                      evals=[(dtrain, 'train'), (dvalid, 'valid')],\n",
    "                      early_stopping_rounds=50,\n",
    "                      verbose_eval=0,                      \n",
    "                      callbacks=[xgb_callback],\n",
    "                      )\n",
    "\n",
    "    return model.best_score\n",
    "\n",
    "# Create the study and optimize the objective function.\n",
    "# Threshold is 10.\n",
    "study_stop_cb = StopWhenTrialKeepBeingPrunedCallback(100)\n",
    "study_gb = create_study(direction=\"minimize\", sampler = TPESampler(seed = 42))\n",
    "study_gb.optimize(objective_GB, timeout = train_time, n_trials= 3000, callbacks = [study_stop_cb])\n",
    "study_gb.best_params"
   ]
  },
  {
   "cell_type": "code",
   "execution_count": 73,
   "metadata": {},
   "outputs": [
    {
     "name": "stdout",
     "output_type": "stream",
     "text": [
      "-3.3697877863079606\n",
      "0.8827297936592606\n"
     ]
    }
   ],
   "source": [
    "base_model = XGBRegressor(random_state=1)\n",
    "base_model.fit(X_train_valid, y_train_valid)\n",
    "print(cross_val_score(base_model, X_train_valid, y_train_valid, scoring='neg_mean_absolute_error', cv = 5).mean())\n",
    "print(r2_score(base_model.predict(X_test), y_test))"
   ]
  },
  {
   "cell_type": "code",
   "execution_count": 74,
   "metadata": {},
   "outputs": [
    {
     "data": {
      "application/vnd.plotly.v1+json": {
       "config": {
        "plotlyServerURL": "https://plot.ly"
       },
       "data": [
        {
         "cliponaxis": false,
         "hovertemplate": [
          "tree_method (CategoricalDistribution): 2.4928282890702992e-05<extra></extra>",
          "gamma (FloatDistribution): 0.0032799426476060583<extra></extra>",
          "colsample_bylevel (FloatDistribution): 0.0072357597196358505<extra></extra>",
          "colsample_bynode (FloatDistribution): 0.028647801707159512<extra></extra>",
          "reg_lambda (FloatDistribution): 0.03327746845399358<extra></extra>",
          "max_depth (IntDistribution): 0.046390653524836255<extra></extra>",
          "colsample_bytree (FloatDistribution): 0.10396472850500503<extra></extra>",
          "subsample (FloatDistribution): 0.11262138203202889<extra></extra>",
          "learning_rate (FloatDistribution): 0.17633688552399449<extra></extra>",
          "min_child_weight (IntDistribution): 0.48822044960284955<extra></extra>"
         ],
         "name": "Objective Value",
         "orientation": "h",
         "text": [
          "<0.01",
          "<0.01",
          "<0.01",
          "0.03",
          "0.03",
          "0.05",
          "0.10",
          "0.11",
          "0.18",
          "0.49"
         ],
         "textposition": "outside",
         "type": "bar",
         "x": [
          0.000024928282890702992,
          0.0032799426476060583,
          0.0072357597196358505,
          0.028647801707159512,
          0.03327746845399358,
          0.046390653524836255,
          0.10396472850500503,
          0.11262138203202889,
          0.17633688552399449,
          0.48822044960284955
         ],
         "y": [
          "tree_method",
          "gamma",
          "colsample_bylevel",
          "colsample_bynode",
          "reg_lambda",
          "max_depth",
          "colsample_bytree",
          "subsample",
          "learning_rate",
          "min_child_weight"
         ]
        }
       ],
       "layout": {
        "template": {
         "data": {
          "bar": [
           {
            "error_x": {
             "color": "#2a3f5f"
            },
            "error_y": {
             "color": "#2a3f5f"
            },
            "marker": {
             "line": {
              "color": "#E5ECF6",
              "width": 0.5
             },
             "pattern": {
              "fillmode": "overlay",
              "size": 10,
              "solidity": 0.2
             }
            },
            "type": "bar"
           }
          ],
          "barpolar": [
           {
            "marker": {
             "line": {
              "color": "#E5ECF6",
              "width": 0.5
             },
             "pattern": {
              "fillmode": "overlay",
              "size": 10,
              "solidity": 0.2
             }
            },
            "type": "barpolar"
           }
          ],
          "carpet": [
           {
            "aaxis": {
             "endlinecolor": "#2a3f5f",
             "gridcolor": "white",
             "linecolor": "white",
             "minorgridcolor": "white",
             "startlinecolor": "#2a3f5f"
            },
            "baxis": {
             "endlinecolor": "#2a3f5f",
             "gridcolor": "white",
             "linecolor": "white",
             "minorgridcolor": "white",
             "startlinecolor": "#2a3f5f"
            },
            "type": "carpet"
           }
          ],
          "choropleth": [
           {
            "colorbar": {
             "outlinewidth": 0,
             "ticks": ""
            },
            "type": "choropleth"
           }
          ],
          "contour": [
           {
            "colorbar": {
             "outlinewidth": 0,
             "ticks": ""
            },
            "colorscale": [
             [
              0,
              "#0d0887"
             ],
             [
              0.1111111111111111,
              "#46039f"
             ],
             [
              0.2222222222222222,
              "#7201a8"
             ],
             [
              0.3333333333333333,
              "#9c179e"
             ],
             [
              0.4444444444444444,
              "#bd3786"
             ],
             [
              0.5555555555555556,
              "#d8576b"
             ],
             [
              0.6666666666666666,
              "#ed7953"
             ],
             [
              0.7777777777777778,
              "#fb9f3a"
             ],
             [
              0.8888888888888888,
              "#fdca26"
             ],
             [
              1,
              "#f0f921"
             ]
            ],
            "type": "contour"
           }
          ],
          "contourcarpet": [
           {
            "colorbar": {
             "outlinewidth": 0,
             "ticks": ""
            },
            "type": "contourcarpet"
           }
          ],
          "heatmap": [
           {
            "colorbar": {
             "outlinewidth": 0,
             "ticks": ""
            },
            "colorscale": [
             [
              0,
              "#0d0887"
             ],
             [
              0.1111111111111111,
              "#46039f"
             ],
             [
              0.2222222222222222,
              "#7201a8"
             ],
             [
              0.3333333333333333,
              "#9c179e"
             ],
             [
              0.4444444444444444,
              "#bd3786"
             ],
             [
              0.5555555555555556,
              "#d8576b"
             ],
             [
              0.6666666666666666,
              "#ed7953"
             ],
             [
              0.7777777777777778,
              "#fb9f3a"
             ],
             [
              0.8888888888888888,
              "#fdca26"
             ],
             [
              1,
              "#f0f921"
             ]
            ],
            "type": "heatmap"
           }
          ],
          "heatmapgl": [
           {
            "colorbar": {
             "outlinewidth": 0,
             "ticks": ""
            },
            "colorscale": [
             [
              0,
              "#0d0887"
             ],
             [
              0.1111111111111111,
              "#46039f"
             ],
             [
              0.2222222222222222,
              "#7201a8"
             ],
             [
              0.3333333333333333,
              "#9c179e"
             ],
             [
              0.4444444444444444,
              "#bd3786"
             ],
             [
              0.5555555555555556,
              "#d8576b"
             ],
             [
              0.6666666666666666,
              "#ed7953"
             ],
             [
              0.7777777777777778,
              "#fb9f3a"
             ],
             [
              0.8888888888888888,
              "#fdca26"
             ],
             [
              1,
              "#f0f921"
             ]
            ],
            "type": "heatmapgl"
           }
          ],
          "histogram": [
           {
            "marker": {
             "pattern": {
              "fillmode": "overlay",
              "size": 10,
              "solidity": 0.2
             }
            },
            "type": "histogram"
           }
          ],
          "histogram2d": [
           {
            "colorbar": {
             "outlinewidth": 0,
             "ticks": ""
            },
            "colorscale": [
             [
              0,
              "#0d0887"
             ],
             [
              0.1111111111111111,
              "#46039f"
             ],
             [
              0.2222222222222222,
              "#7201a8"
             ],
             [
              0.3333333333333333,
              "#9c179e"
             ],
             [
              0.4444444444444444,
              "#bd3786"
             ],
             [
              0.5555555555555556,
              "#d8576b"
             ],
             [
              0.6666666666666666,
              "#ed7953"
             ],
             [
              0.7777777777777778,
              "#fb9f3a"
             ],
             [
              0.8888888888888888,
              "#fdca26"
             ],
             [
              1,
              "#f0f921"
             ]
            ],
            "type": "histogram2d"
           }
          ],
          "histogram2dcontour": [
           {
            "colorbar": {
             "outlinewidth": 0,
             "ticks": ""
            },
            "colorscale": [
             [
              0,
              "#0d0887"
             ],
             [
              0.1111111111111111,
              "#46039f"
             ],
             [
              0.2222222222222222,
              "#7201a8"
             ],
             [
              0.3333333333333333,
              "#9c179e"
             ],
             [
              0.4444444444444444,
              "#bd3786"
             ],
             [
              0.5555555555555556,
              "#d8576b"
             ],
             [
              0.6666666666666666,
              "#ed7953"
             ],
             [
              0.7777777777777778,
              "#fb9f3a"
             ],
             [
              0.8888888888888888,
              "#fdca26"
             ],
             [
              1,
              "#f0f921"
             ]
            ],
            "type": "histogram2dcontour"
           }
          ],
          "mesh3d": [
           {
            "colorbar": {
             "outlinewidth": 0,
             "ticks": ""
            },
            "type": "mesh3d"
           }
          ],
          "parcoords": [
           {
            "line": {
             "colorbar": {
              "outlinewidth": 0,
              "ticks": ""
             }
            },
            "type": "parcoords"
           }
          ],
          "pie": [
           {
            "automargin": true,
            "type": "pie"
           }
          ],
          "scatter": [
           {
            "fillpattern": {
             "fillmode": "overlay",
             "size": 10,
             "solidity": 0.2
            },
            "type": "scatter"
           }
          ],
          "scatter3d": [
           {
            "line": {
             "colorbar": {
              "outlinewidth": 0,
              "ticks": ""
             }
            },
            "marker": {
             "colorbar": {
              "outlinewidth": 0,
              "ticks": ""
             }
            },
            "type": "scatter3d"
           }
          ],
          "scattercarpet": [
           {
            "marker": {
             "colorbar": {
              "outlinewidth": 0,
              "ticks": ""
             }
            },
            "type": "scattercarpet"
           }
          ],
          "scattergeo": [
           {
            "marker": {
             "colorbar": {
              "outlinewidth": 0,
              "ticks": ""
             }
            },
            "type": "scattergeo"
           }
          ],
          "scattergl": [
           {
            "marker": {
             "colorbar": {
              "outlinewidth": 0,
              "ticks": ""
             }
            },
            "type": "scattergl"
           }
          ],
          "scattermapbox": [
           {
            "marker": {
             "colorbar": {
              "outlinewidth": 0,
              "ticks": ""
             }
            },
            "type": "scattermapbox"
           }
          ],
          "scatterpolar": [
           {
            "marker": {
             "colorbar": {
              "outlinewidth": 0,
              "ticks": ""
             }
            },
            "type": "scatterpolar"
           }
          ],
          "scatterpolargl": [
           {
            "marker": {
             "colorbar": {
              "outlinewidth": 0,
              "ticks": ""
             }
            },
            "type": "scatterpolargl"
           }
          ],
          "scatterternary": [
           {
            "marker": {
             "colorbar": {
              "outlinewidth": 0,
              "ticks": ""
             }
            },
            "type": "scatterternary"
           }
          ],
          "surface": [
           {
            "colorbar": {
             "outlinewidth": 0,
             "ticks": ""
            },
            "colorscale": [
             [
              0,
              "#0d0887"
             ],
             [
              0.1111111111111111,
              "#46039f"
             ],
             [
              0.2222222222222222,
              "#7201a8"
             ],
             [
              0.3333333333333333,
              "#9c179e"
             ],
             [
              0.4444444444444444,
              "#bd3786"
             ],
             [
              0.5555555555555556,
              "#d8576b"
             ],
             [
              0.6666666666666666,
              "#ed7953"
             ],
             [
              0.7777777777777778,
              "#fb9f3a"
             ],
             [
              0.8888888888888888,
              "#fdca26"
             ],
             [
              1,
              "#f0f921"
             ]
            ],
            "type": "surface"
           }
          ],
          "table": [
           {
            "cells": {
             "fill": {
              "color": "#EBF0F8"
             },
             "line": {
              "color": "white"
             }
            },
            "header": {
             "fill": {
              "color": "#C8D4E3"
             },
             "line": {
              "color": "white"
             }
            },
            "type": "table"
           }
          ]
         },
         "layout": {
          "annotationdefaults": {
           "arrowcolor": "#2a3f5f",
           "arrowhead": 0,
           "arrowwidth": 1
          },
          "autotypenumbers": "strict",
          "coloraxis": {
           "colorbar": {
            "outlinewidth": 0,
            "ticks": ""
           }
          },
          "colorscale": {
           "diverging": [
            [
             0,
             "#8e0152"
            ],
            [
             0.1,
             "#c51b7d"
            ],
            [
             0.2,
             "#de77ae"
            ],
            [
             0.3,
             "#f1b6da"
            ],
            [
             0.4,
             "#fde0ef"
            ],
            [
             0.5,
             "#f7f7f7"
            ],
            [
             0.6,
             "#e6f5d0"
            ],
            [
             0.7,
             "#b8e186"
            ],
            [
             0.8,
             "#7fbc41"
            ],
            [
             0.9,
             "#4d9221"
            ],
            [
             1,
             "#276419"
            ]
           ],
           "sequential": [
            [
             0,
             "#0d0887"
            ],
            [
             0.1111111111111111,
             "#46039f"
            ],
            [
             0.2222222222222222,
             "#7201a8"
            ],
            [
             0.3333333333333333,
             "#9c179e"
            ],
            [
             0.4444444444444444,
             "#bd3786"
            ],
            [
             0.5555555555555556,
             "#d8576b"
            ],
            [
             0.6666666666666666,
             "#ed7953"
            ],
            [
             0.7777777777777778,
             "#fb9f3a"
            ],
            [
             0.8888888888888888,
             "#fdca26"
            ],
            [
             1,
             "#f0f921"
            ]
           ],
           "sequentialminus": [
            [
             0,
             "#0d0887"
            ],
            [
             0.1111111111111111,
             "#46039f"
            ],
            [
             0.2222222222222222,
             "#7201a8"
            ],
            [
             0.3333333333333333,
             "#9c179e"
            ],
            [
             0.4444444444444444,
             "#bd3786"
            ],
            [
             0.5555555555555556,
             "#d8576b"
            ],
            [
             0.6666666666666666,
             "#ed7953"
            ],
            [
             0.7777777777777778,
             "#fb9f3a"
            ],
            [
             0.8888888888888888,
             "#fdca26"
            ],
            [
             1,
             "#f0f921"
            ]
           ]
          },
          "colorway": [
           "#636efa",
           "#EF553B",
           "#00cc96",
           "#ab63fa",
           "#FFA15A",
           "#19d3f3",
           "#FF6692",
           "#B6E880",
           "#FF97FF",
           "#FECB52"
          ],
          "font": {
           "color": "#2a3f5f"
          },
          "geo": {
           "bgcolor": "white",
           "lakecolor": "white",
           "landcolor": "#E5ECF6",
           "showlakes": true,
           "showland": true,
           "subunitcolor": "white"
          },
          "hoverlabel": {
           "align": "left"
          },
          "hovermode": "closest",
          "mapbox": {
           "style": "light"
          },
          "paper_bgcolor": "white",
          "plot_bgcolor": "#E5ECF6",
          "polar": {
           "angularaxis": {
            "gridcolor": "white",
            "linecolor": "white",
            "ticks": ""
           },
           "bgcolor": "#E5ECF6",
           "radialaxis": {
            "gridcolor": "white",
            "linecolor": "white",
            "ticks": ""
           }
          },
          "scene": {
           "xaxis": {
            "backgroundcolor": "#E5ECF6",
            "gridcolor": "white",
            "gridwidth": 2,
            "linecolor": "white",
            "showbackground": true,
            "ticks": "",
            "zerolinecolor": "white"
           },
           "yaxis": {
            "backgroundcolor": "#E5ECF6",
            "gridcolor": "white",
            "gridwidth": 2,
            "linecolor": "white",
            "showbackground": true,
            "ticks": "",
            "zerolinecolor": "white"
           },
           "zaxis": {
            "backgroundcolor": "#E5ECF6",
            "gridcolor": "white",
            "gridwidth": 2,
            "linecolor": "white",
            "showbackground": true,
            "ticks": "",
            "zerolinecolor": "white"
           }
          },
          "shapedefaults": {
           "line": {
            "color": "#2a3f5f"
           }
          },
          "ternary": {
           "aaxis": {
            "gridcolor": "white",
            "linecolor": "white",
            "ticks": ""
           },
           "baxis": {
            "gridcolor": "white",
            "linecolor": "white",
            "ticks": ""
           },
           "bgcolor": "#E5ECF6",
           "caxis": {
            "gridcolor": "white",
            "linecolor": "white",
            "ticks": ""
           }
          },
          "title": {
           "x": 0.05
          },
          "xaxis": {
           "automargin": true,
           "gridcolor": "white",
           "linecolor": "white",
           "ticks": "",
           "title": {
            "standoff": 15
           },
           "zerolinecolor": "white",
           "zerolinewidth": 2
          },
          "yaxis": {
           "automargin": true,
           "gridcolor": "white",
           "linecolor": "white",
           "ticks": "",
           "title": {
            "standoff": 15
           },
           "zerolinecolor": "white",
           "zerolinewidth": 2
          }
         }
        },
        "title": {
         "text": "Hyperparameter Importances"
        },
        "xaxis": {
         "title": {
          "text": "Hyperparameter Importance"
         }
        },
        "yaxis": {
         "title": {
          "text": "Hyperparameter"
         }
        }
       }
      },
      "text/html": [
       "<div>                            <div id=\"e024d0c8-4b96-45aa-a501-c613887835c6\" class=\"plotly-graph-div\" style=\"height:525px; width:100%;\"></div>            <script type=\"text/javascript\">                require([\"plotly\"], function(Plotly) {                    window.PLOTLYENV=window.PLOTLYENV || {};                                    if (document.getElementById(\"e024d0c8-4b96-45aa-a501-c613887835c6\")) {                    Plotly.newPlot(                        \"e024d0c8-4b96-45aa-a501-c613887835c6\",                        [{\"cliponaxis\":false,\"hovertemplate\":[\"tree_method (CategoricalDistribution): 2.4928282890702992e-05\\u003cextra\\u003e\\u003c\\u002fextra\\u003e\",\"gamma (FloatDistribution): 0.0032799426476060583\\u003cextra\\u003e\\u003c\\u002fextra\\u003e\",\"colsample_bylevel (FloatDistribution): 0.0072357597196358505\\u003cextra\\u003e\\u003c\\u002fextra\\u003e\",\"colsample_bynode (FloatDistribution): 0.028647801707159512\\u003cextra\\u003e\\u003c\\u002fextra\\u003e\",\"reg_lambda (FloatDistribution): 0.03327746845399358\\u003cextra\\u003e\\u003c\\u002fextra\\u003e\",\"max_depth (IntDistribution): 0.046390653524836255\\u003cextra\\u003e\\u003c\\u002fextra\\u003e\",\"colsample_bytree (FloatDistribution): 0.10396472850500503\\u003cextra\\u003e\\u003c\\u002fextra\\u003e\",\"subsample (FloatDistribution): 0.11262138203202889\\u003cextra\\u003e\\u003c\\u002fextra\\u003e\",\"learning_rate (FloatDistribution): 0.17633688552399449\\u003cextra\\u003e\\u003c\\u002fextra\\u003e\",\"min_child_weight (IntDistribution): 0.48822044960284955\\u003cextra\\u003e\\u003c\\u002fextra\\u003e\"],\"name\":\"Objective Value\",\"orientation\":\"h\",\"text\":[\"\\u003c0.01\",\"\\u003c0.01\",\"\\u003c0.01\",\"0.03\",\"0.03\",\"0.05\",\"0.10\",\"0.11\",\"0.18\",\"0.49\"],\"textposition\":\"outside\",\"x\":[2.4928282890702992e-05,0.0032799426476060583,0.0072357597196358505,0.028647801707159512,0.03327746845399358,0.046390653524836255,0.10396472850500503,0.11262138203202889,0.17633688552399449,0.48822044960284955],\"y\":[\"tree_method\",\"gamma\",\"colsample_bylevel\",\"colsample_bynode\",\"reg_lambda\",\"max_depth\",\"colsample_bytree\",\"subsample\",\"learning_rate\",\"min_child_weight\"],\"type\":\"bar\"}],                        {\"title\":{\"text\":\"Hyperparameter Importances\"},\"xaxis\":{\"title\":{\"text\":\"Hyperparameter Importance\"}},\"yaxis\":{\"title\":{\"text\":\"Hyperparameter\"}},\"template\":{\"data\":{\"histogram2dcontour\":[{\"type\":\"histogram2dcontour\",\"colorbar\":{\"outlinewidth\":0,\"ticks\":\"\"},\"colorscale\":[[0.0,\"#0d0887\"],[0.1111111111111111,\"#46039f\"],[0.2222222222222222,\"#7201a8\"],[0.3333333333333333,\"#9c179e\"],[0.4444444444444444,\"#bd3786\"],[0.5555555555555556,\"#d8576b\"],[0.6666666666666666,\"#ed7953\"],[0.7777777777777778,\"#fb9f3a\"],[0.8888888888888888,\"#fdca26\"],[1.0,\"#f0f921\"]]}],\"choropleth\":[{\"type\":\"choropleth\",\"colorbar\":{\"outlinewidth\":0,\"ticks\":\"\"}}],\"histogram2d\":[{\"type\":\"histogram2d\",\"colorbar\":{\"outlinewidth\":0,\"ticks\":\"\"},\"colorscale\":[[0.0,\"#0d0887\"],[0.1111111111111111,\"#46039f\"],[0.2222222222222222,\"#7201a8\"],[0.3333333333333333,\"#9c179e\"],[0.4444444444444444,\"#bd3786\"],[0.5555555555555556,\"#d8576b\"],[0.6666666666666666,\"#ed7953\"],[0.7777777777777778,\"#fb9f3a\"],[0.8888888888888888,\"#fdca26\"],[1.0,\"#f0f921\"]]}],\"heatmap\":[{\"type\":\"heatmap\",\"colorbar\":{\"outlinewidth\":0,\"ticks\":\"\"},\"colorscale\":[[0.0,\"#0d0887\"],[0.1111111111111111,\"#46039f\"],[0.2222222222222222,\"#7201a8\"],[0.3333333333333333,\"#9c179e\"],[0.4444444444444444,\"#bd3786\"],[0.5555555555555556,\"#d8576b\"],[0.6666666666666666,\"#ed7953\"],[0.7777777777777778,\"#fb9f3a\"],[0.8888888888888888,\"#fdca26\"],[1.0,\"#f0f921\"]]}],\"heatmapgl\":[{\"type\":\"heatmapgl\",\"colorbar\":{\"outlinewidth\":0,\"ticks\":\"\"},\"colorscale\":[[0.0,\"#0d0887\"],[0.1111111111111111,\"#46039f\"],[0.2222222222222222,\"#7201a8\"],[0.3333333333333333,\"#9c179e\"],[0.4444444444444444,\"#bd3786\"],[0.5555555555555556,\"#d8576b\"],[0.6666666666666666,\"#ed7953\"],[0.7777777777777778,\"#fb9f3a\"],[0.8888888888888888,\"#fdca26\"],[1.0,\"#f0f921\"]]}],\"contourcarpet\":[{\"type\":\"contourcarpet\",\"colorbar\":{\"outlinewidth\":0,\"ticks\":\"\"}}],\"contour\":[{\"type\":\"contour\",\"colorbar\":{\"outlinewidth\":0,\"ticks\":\"\"},\"colorscale\":[[0.0,\"#0d0887\"],[0.1111111111111111,\"#46039f\"],[0.2222222222222222,\"#7201a8\"],[0.3333333333333333,\"#9c179e\"],[0.4444444444444444,\"#bd3786\"],[0.5555555555555556,\"#d8576b\"],[0.6666666666666666,\"#ed7953\"],[0.7777777777777778,\"#fb9f3a\"],[0.8888888888888888,\"#fdca26\"],[1.0,\"#f0f921\"]]}],\"surface\":[{\"type\":\"surface\",\"colorbar\":{\"outlinewidth\":0,\"ticks\":\"\"},\"colorscale\":[[0.0,\"#0d0887\"],[0.1111111111111111,\"#46039f\"],[0.2222222222222222,\"#7201a8\"],[0.3333333333333333,\"#9c179e\"],[0.4444444444444444,\"#bd3786\"],[0.5555555555555556,\"#d8576b\"],[0.6666666666666666,\"#ed7953\"],[0.7777777777777778,\"#fb9f3a\"],[0.8888888888888888,\"#fdca26\"],[1.0,\"#f0f921\"]]}],\"mesh3d\":[{\"type\":\"mesh3d\",\"colorbar\":{\"outlinewidth\":0,\"ticks\":\"\"}}],\"scatter\":[{\"fillpattern\":{\"fillmode\":\"overlay\",\"size\":10,\"solidity\":0.2},\"type\":\"scatter\"}],\"parcoords\":[{\"type\":\"parcoords\",\"line\":{\"colorbar\":{\"outlinewidth\":0,\"ticks\":\"\"}}}],\"scatterpolargl\":[{\"type\":\"scatterpolargl\",\"marker\":{\"colorbar\":{\"outlinewidth\":0,\"ticks\":\"\"}}}],\"bar\":[{\"error_x\":{\"color\":\"#2a3f5f\"},\"error_y\":{\"color\":\"#2a3f5f\"},\"marker\":{\"line\":{\"color\":\"#E5ECF6\",\"width\":0.5},\"pattern\":{\"fillmode\":\"overlay\",\"size\":10,\"solidity\":0.2}},\"type\":\"bar\"}],\"scattergeo\":[{\"type\":\"scattergeo\",\"marker\":{\"colorbar\":{\"outlinewidth\":0,\"ticks\":\"\"}}}],\"scatterpolar\":[{\"type\":\"scatterpolar\",\"marker\":{\"colorbar\":{\"outlinewidth\":0,\"ticks\":\"\"}}}],\"histogram\":[{\"marker\":{\"pattern\":{\"fillmode\":\"overlay\",\"size\":10,\"solidity\":0.2}},\"type\":\"histogram\"}],\"scattergl\":[{\"type\":\"scattergl\",\"marker\":{\"colorbar\":{\"outlinewidth\":0,\"ticks\":\"\"}}}],\"scatter3d\":[{\"type\":\"scatter3d\",\"line\":{\"colorbar\":{\"outlinewidth\":0,\"ticks\":\"\"}},\"marker\":{\"colorbar\":{\"outlinewidth\":0,\"ticks\":\"\"}}}],\"scattermapbox\":[{\"type\":\"scattermapbox\",\"marker\":{\"colorbar\":{\"outlinewidth\":0,\"ticks\":\"\"}}}],\"scatterternary\":[{\"type\":\"scatterternary\",\"marker\":{\"colorbar\":{\"outlinewidth\":0,\"ticks\":\"\"}}}],\"scattercarpet\":[{\"type\":\"scattercarpet\",\"marker\":{\"colorbar\":{\"outlinewidth\":0,\"ticks\":\"\"}}}],\"carpet\":[{\"aaxis\":{\"endlinecolor\":\"#2a3f5f\",\"gridcolor\":\"white\",\"linecolor\":\"white\",\"minorgridcolor\":\"white\",\"startlinecolor\":\"#2a3f5f\"},\"baxis\":{\"endlinecolor\":\"#2a3f5f\",\"gridcolor\":\"white\",\"linecolor\":\"white\",\"minorgridcolor\":\"white\",\"startlinecolor\":\"#2a3f5f\"},\"type\":\"carpet\"}],\"table\":[{\"cells\":{\"fill\":{\"color\":\"#EBF0F8\"},\"line\":{\"color\":\"white\"}},\"header\":{\"fill\":{\"color\":\"#C8D4E3\"},\"line\":{\"color\":\"white\"}},\"type\":\"table\"}],\"barpolar\":[{\"marker\":{\"line\":{\"color\":\"#E5ECF6\",\"width\":0.5},\"pattern\":{\"fillmode\":\"overlay\",\"size\":10,\"solidity\":0.2}},\"type\":\"barpolar\"}],\"pie\":[{\"automargin\":true,\"type\":\"pie\"}]},\"layout\":{\"autotypenumbers\":\"strict\",\"colorway\":[\"#636efa\",\"#EF553B\",\"#00cc96\",\"#ab63fa\",\"#FFA15A\",\"#19d3f3\",\"#FF6692\",\"#B6E880\",\"#FF97FF\",\"#FECB52\"],\"font\":{\"color\":\"#2a3f5f\"},\"hovermode\":\"closest\",\"hoverlabel\":{\"align\":\"left\"},\"paper_bgcolor\":\"white\",\"plot_bgcolor\":\"#E5ECF6\",\"polar\":{\"bgcolor\":\"#E5ECF6\",\"angularaxis\":{\"gridcolor\":\"white\",\"linecolor\":\"white\",\"ticks\":\"\"},\"radialaxis\":{\"gridcolor\":\"white\",\"linecolor\":\"white\",\"ticks\":\"\"}},\"ternary\":{\"bgcolor\":\"#E5ECF6\",\"aaxis\":{\"gridcolor\":\"white\",\"linecolor\":\"white\",\"ticks\":\"\"},\"baxis\":{\"gridcolor\":\"white\",\"linecolor\":\"white\",\"ticks\":\"\"},\"caxis\":{\"gridcolor\":\"white\",\"linecolor\":\"white\",\"ticks\":\"\"}},\"coloraxis\":{\"colorbar\":{\"outlinewidth\":0,\"ticks\":\"\"}},\"colorscale\":{\"sequential\":[[0.0,\"#0d0887\"],[0.1111111111111111,\"#46039f\"],[0.2222222222222222,\"#7201a8\"],[0.3333333333333333,\"#9c179e\"],[0.4444444444444444,\"#bd3786\"],[0.5555555555555556,\"#d8576b\"],[0.6666666666666666,\"#ed7953\"],[0.7777777777777778,\"#fb9f3a\"],[0.8888888888888888,\"#fdca26\"],[1.0,\"#f0f921\"]],\"sequentialminus\":[[0.0,\"#0d0887\"],[0.1111111111111111,\"#46039f\"],[0.2222222222222222,\"#7201a8\"],[0.3333333333333333,\"#9c179e\"],[0.4444444444444444,\"#bd3786\"],[0.5555555555555556,\"#d8576b\"],[0.6666666666666666,\"#ed7953\"],[0.7777777777777778,\"#fb9f3a\"],[0.8888888888888888,\"#fdca26\"],[1.0,\"#f0f921\"]],\"diverging\":[[0,\"#8e0152\"],[0.1,\"#c51b7d\"],[0.2,\"#de77ae\"],[0.3,\"#f1b6da\"],[0.4,\"#fde0ef\"],[0.5,\"#f7f7f7\"],[0.6,\"#e6f5d0\"],[0.7,\"#b8e186\"],[0.8,\"#7fbc41\"],[0.9,\"#4d9221\"],[1,\"#276419\"]]},\"xaxis\":{\"gridcolor\":\"white\",\"linecolor\":\"white\",\"ticks\":\"\",\"title\":{\"standoff\":15},\"zerolinecolor\":\"white\",\"automargin\":true,\"zerolinewidth\":2},\"yaxis\":{\"gridcolor\":\"white\",\"linecolor\":\"white\",\"ticks\":\"\",\"title\":{\"standoff\":15},\"zerolinecolor\":\"white\",\"automargin\":true,\"zerolinewidth\":2},\"scene\":{\"xaxis\":{\"backgroundcolor\":\"#E5ECF6\",\"gridcolor\":\"white\",\"linecolor\":\"white\",\"showbackground\":true,\"ticks\":\"\",\"zerolinecolor\":\"white\",\"gridwidth\":2},\"yaxis\":{\"backgroundcolor\":\"#E5ECF6\",\"gridcolor\":\"white\",\"linecolor\":\"white\",\"showbackground\":true,\"ticks\":\"\",\"zerolinecolor\":\"white\",\"gridwidth\":2},\"zaxis\":{\"backgroundcolor\":\"#E5ECF6\",\"gridcolor\":\"white\",\"linecolor\":\"white\",\"showbackground\":true,\"ticks\":\"\",\"zerolinecolor\":\"white\",\"gridwidth\":2}},\"shapedefaults\":{\"line\":{\"color\":\"#2a3f5f\"}},\"annotationdefaults\":{\"arrowcolor\":\"#2a3f5f\",\"arrowhead\":0,\"arrowwidth\":1},\"geo\":{\"bgcolor\":\"white\",\"landcolor\":\"#E5ECF6\",\"subunitcolor\":\"white\",\"showland\":true,\"showlakes\":true,\"lakecolor\":\"white\"},\"title\":{\"x\":0.05},\"mapbox\":{\"style\":\"light\"}}}},                        {\"responsive\": true}                    ).then(function(){\n",
       "                            \n",
       "var gd = document.getElementById('e024d0c8-4b96-45aa-a501-c613887835c6');\n",
       "var x = new MutationObserver(function (mutations, observer) {{\n",
       "        var display = window.getComputedStyle(gd).display;\n",
       "        if (!display || display === 'none') {{\n",
       "            console.log([gd, 'removed!']);\n",
       "            Plotly.purge(gd);\n",
       "            observer.disconnect();\n",
       "        }}\n",
       "}});\n",
       "\n",
       "// Listen for the removal of the full notebook cells\n",
       "var notebookContainer = gd.closest('#notebook-container');\n",
       "if (notebookContainer) {{\n",
       "    x.observe(notebookContainer, {childList: true});\n",
       "}}\n",
       "\n",
       "// Listen for the clearing of the current output cell\n",
       "var outputEl = gd.closest('.output');\n",
       "if (outputEl) {{\n",
       "    x.observe(outputEl, {childList: true});\n",
       "}}\n",
       "\n",
       "                        })                };                });            </script>        </div>"
      ]
     },
     "metadata": {},
     "output_type": "display_data"
    }
   ],
   "source": [
    "plot_param_importances(study_gb)"
   ]
  },
  {
   "cell_type": "code",
   "execution_count": 75,
   "metadata": {},
   "outputs": [
    {
     "data": {
      "application/vnd.plotly.v1+json": {
       "config": {
        "plotlyServerURL": "https://plot.ly"
       },
       "data": [
        {
         "mode": "markers",
         "name": "Objective Value",
         "type": "scatter",
         "x": [
          0,
          1,
          2,
          3,
          4,
          10,
          12,
          13,
          17,
          28,
          38,
          45,
          61,
          66,
          84,
          90,
          91,
          92,
          116,
          118,
          143,
          152,
          161,
          162,
          175,
          199,
          213,
          238,
          293,
          307,
          313,
          319,
          320,
          328
         ],
         "y": [
          4.287804198386965,
          4.58183642648733,
          7.372522432400242,
          12.014669279505839,
          4.132874730454392,
          4.507156593113521,
          4.246275237595786,
          4.142046443053735,
          3.9433054396889213,
          3.727841972349521,
          4.503995238165252,
          4.418190075212189,
          4.2111553318252275,
          4.024309648824501,
          3.9459897349660387,
          4.032905266270929,
          3.892332876309715,
          4.010004000042406,
          3.7329065143955993,
          3.5036244332154065,
          4.128430735996444,
          3.891364980003137,
          3.839181184321256,
          3.9753893050037807,
          3.451614986446496,
          3.864163416904436,
          3.821448827795508,
          3.9682305487724117,
          3.9770001863026905,
          3.8368361608150368,
          3.9478937827626153,
          3.984724983645488,
          4.024971202859318,
          3.8239155461658503
         ]
        },
        {
         "mode": "lines",
         "name": "Best Value",
         "type": "scatter",
         "x": [
          0,
          1,
          2,
          3,
          4,
          5,
          6,
          7,
          8,
          9,
          10,
          11,
          12,
          13,
          14,
          15,
          16,
          17,
          18,
          19,
          20,
          21,
          22,
          23,
          24,
          25,
          26,
          27,
          28,
          29,
          30,
          31,
          32,
          33,
          34,
          35,
          36,
          37,
          38,
          39,
          40,
          41,
          42,
          43,
          44,
          45,
          46,
          47,
          48,
          49,
          50,
          51,
          52,
          53,
          54,
          55,
          56,
          57,
          58,
          59,
          60,
          61,
          62,
          63,
          64,
          65,
          66,
          67,
          68,
          69,
          70,
          71,
          72,
          73,
          74,
          75,
          76,
          77,
          78,
          79,
          80,
          81,
          82,
          83,
          84,
          85,
          86,
          87,
          88,
          89,
          90,
          91,
          92,
          93,
          94,
          95,
          96,
          97,
          98,
          99,
          100,
          101,
          102,
          103,
          104,
          105,
          106,
          107,
          108,
          109,
          110,
          111,
          112,
          113,
          114,
          115,
          116,
          117,
          118,
          119,
          120,
          121,
          122,
          123,
          124,
          125,
          126,
          127,
          128,
          129,
          130,
          131,
          132,
          133,
          134,
          135,
          136,
          137,
          138,
          139,
          140,
          141,
          142,
          143,
          144,
          145,
          146,
          147,
          148,
          149,
          150,
          151,
          152,
          153,
          154,
          155,
          156,
          157,
          158,
          159,
          160,
          161,
          162,
          163,
          164,
          165,
          166,
          167,
          168,
          169,
          170,
          171,
          172,
          173,
          174,
          175,
          176,
          177,
          178,
          179,
          180,
          181,
          182,
          183,
          184,
          185,
          186,
          187,
          188,
          189,
          190,
          191,
          192,
          193,
          194,
          195,
          196,
          197,
          198,
          199,
          200,
          201,
          202,
          203,
          204,
          205,
          206,
          207,
          208,
          209,
          210,
          211,
          212,
          213,
          214,
          215,
          216,
          217,
          218,
          219,
          220,
          221,
          222,
          223,
          224,
          225,
          226,
          227,
          228,
          229,
          230,
          231,
          232,
          233,
          234,
          235,
          236,
          237,
          238,
          239,
          240,
          241,
          242,
          243,
          244,
          245,
          246,
          247,
          248,
          249,
          250,
          251,
          252,
          253,
          254,
          255,
          256,
          257,
          258,
          259,
          260,
          261,
          262,
          263,
          264,
          265,
          266,
          267,
          268,
          269,
          270,
          271,
          272,
          273,
          274,
          275,
          276,
          277,
          278,
          279,
          280,
          281,
          282,
          283,
          284,
          285,
          286,
          287,
          288,
          289,
          290,
          291,
          292,
          293,
          294,
          295,
          296,
          297,
          298,
          299,
          300,
          301,
          302,
          303,
          304,
          305,
          306,
          307,
          308,
          309,
          310,
          311,
          312,
          313,
          314,
          315,
          316,
          317,
          318,
          319,
          320,
          321,
          322,
          323,
          324,
          325,
          326,
          327,
          328,
          329,
          330,
          331,
          332,
          333,
          334,
          335,
          336,
          337,
          338,
          339,
          340,
          341,
          342,
          343,
          344,
          345,
          346,
          347,
          348,
          349,
          350,
          351,
          352,
          353,
          354,
          355,
          356,
          357,
          358,
          359,
          360,
          361,
          362,
          363,
          364,
          365,
          366,
          367,
          368,
          369,
          370,
          371,
          372,
          373,
          374,
          375,
          376,
          377,
          378,
          379,
          380,
          381,
          382,
          383,
          384,
          385,
          386,
          387,
          388,
          389,
          390,
          391,
          392,
          393,
          394,
          395,
          396,
          397,
          398,
          399,
          400,
          401,
          402,
          403,
          404,
          405,
          406,
          407,
          408,
          409,
          410,
          411,
          412,
          413,
          414,
          415,
          416,
          417,
          418,
          419,
          420,
          421,
          422,
          423,
          424,
          425,
          426,
          427,
          428
         ],
         "y": [
          4.287804198386965,
          4.287804198386965,
          4.287804198386965,
          4.287804198386965,
          4.132874730454392,
          4.132874730454392,
          4.132874730454392,
          4.132874730454392,
          4.132874730454392,
          4.132874730454392,
          4.132874730454392,
          4.132874730454392,
          4.132874730454392,
          4.132874730454392,
          4.132874730454392,
          4.132874730454392,
          4.132874730454392,
          3.9433054396889213,
          3.9433054396889213,
          3.9433054396889213,
          3.9433054396889213,
          3.9433054396889213,
          3.9433054396889213,
          3.9433054396889213,
          3.9433054396889213,
          3.9433054396889213,
          3.9433054396889213,
          3.9433054396889213,
          3.727841972349521,
          3.727841972349521,
          3.727841972349521,
          3.727841972349521,
          3.727841972349521,
          3.727841972349521,
          3.727841972349521,
          3.727841972349521,
          3.727841972349521,
          3.727841972349521,
          3.727841972349521,
          3.727841972349521,
          3.727841972349521,
          3.727841972349521,
          3.727841972349521,
          3.727841972349521,
          3.727841972349521,
          3.727841972349521,
          3.727841972349521,
          3.727841972349521,
          3.727841972349521,
          3.727841972349521,
          3.727841972349521,
          3.727841972349521,
          3.727841972349521,
          3.727841972349521,
          3.727841972349521,
          3.727841972349521,
          3.727841972349521,
          3.727841972349521,
          3.727841972349521,
          3.727841972349521,
          3.727841972349521,
          3.727841972349521,
          3.727841972349521,
          3.727841972349521,
          3.727841972349521,
          3.727841972349521,
          3.727841972349521,
          3.727841972349521,
          3.727841972349521,
          3.727841972349521,
          3.727841972349521,
          3.727841972349521,
          3.727841972349521,
          3.727841972349521,
          3.727841972349521,
          3.727841972349521,
          3.727841972349521,
          3.727841972349521,
          3.727841972349521,
          3.727841972349521,
          3.727841972349521,
          3.727841972349521,
          3.727841972349521,
          3.727841972349521,
          3.727841972349521,
          3.727841972349521,
          3.727841972349521,
          3.727841972349521,
          3.727841972349521,
          3.727841972349521,
          3.727841972349521,
          3.727841972349521,
          3.727841972349521,
          3.727841972349521,
          3.727841972349521,
          3.727841972349521,
          3.727841972349521,
          3.727841972349521,
          3.727841972349521,
          3.727841972349521,
          3.727841972349521,
          3.727841972349521,
          3.727841972349521,
          3.727841972349521,
          3.727841972349521,
          3.727841972349521,
          3.727841972349521,
          3.727841972349521,
          3.727841972349521,
          3.727841972349521,
          3.727841972349521,
          3.727841972349521,
          3.727841972349521,
          3.727841972349521,
          3.727841972349521,
          3.727841972349521,
          3.727841972349521,
          3.727841972349521,
          3.5036244332154065,
          3.5036244332154065,
          3.5036244332154065,
          3.5036244332154065,
          3.5036244332154065,
          3.5036244332154065,
          3.5036244332154065,
          3.5036244332154065,
          3.5036244332154065,
          3.5036244332154065,
          3.5036244332154065,
          3.5036244332154065,
          3.5036244332154065,
          3.5036244332154065,
          3.5036244332154065,
          3.5036244332154065,
          3.5036244332154065,
          3.5036244332154065,
          3.5036244332154065,
          3.5036244332154065,
          3.5036244332154065,
          3.5036244332154065,
          3.5036244332154065,
          3.5036244332154065,
          3.5036244332154065,
          3.5036244332154065,
          3.5036244332154065,
          3.5036244332154065,
          3.5036244332154065,
          3.5036244332154065,
          3.5036244332154065,
          3.5036244332154065,
          3.5036244332154065,
          3.5036244332154065,
          3.5036244332154065,
          3.5036244332154065,
          3.5036244332154065,
          3.5036244332154065,
          3.5036244332154065,
          3.5036244332154065,
          3.5036244332154065,
          3.5036244332154065,
          3.5036244332154065,
          3.5036244332154065,
          3.5036244332154065,
          3.5036244332154065,
          3.5036244332154065,
          3.5036244332154065,
          3.5036244332154065,
          3.5036244332154065,
          3.5036244332154065,
          3.5036244332154065,
          3.5036244332154065,
          3.5036244332154065,
          3.5036244332154065,
          3.5036244332154065,
          3.5036244332154065,
          3.451614986446496,
          3.451614986446496,
          3.451614986446496,
          3.451614986446496,
          3.451614986446496,
          3.451614986446496,
          3.451614986446496,
          3.451614986446496,
          3.451614986446496,
          3.451614986446496,
          3.451614986446496,
          3.451614986446496,
          3.451614986446496,
          3.451614986446496,
          3.451614986446496,
          3.451614986446496,
          3.451614986446496,
          3.451614986446496,
          3.451614986446496,
          3.451614986446496,
          3.451614986446496,
          3.451614986446496,
          3.451614986446496,
          3.451614986446496,
          3.451614986446496,
          3.451614986446496,
          3.451614986446496,
          3.451614986446496,
          3.451614986446496,
          3.451614986446496,
          3.451614986446496,
          3.451614986446496,
          3.451614986446496,
          3.451614986446496,
          3.451614986446496,
          3.451614986446496,
          3.451614986446496,
          3.451614986446496,
          3.451614986446496,
          3.451614986446496,
          3.451614986446496,
          3.451614986446496,
          3.451614986446496,
          3.451614986446496,
          3.451614986446496,
          3.451614986446496,
          3.451614986446496,
          3.451614986446496,
          3.451614986446496,
          3.451614986446496,
          3.451614986446496,
          3.451614986446496,
          3.451614986446496,
          3.451614986446496,
          3.451614986446496,
          3.451614986446496,
          3.451614986446496,
          3.451614986446496,
          3.451614986446496,
          3.451614986446496,
          3.451614986446496,
          3.451614986446496,
          3.451614986446496,
          3.451614986446496,
          3.451614986446496,
          3.451614986446496,
          3.451614986446496,
          3.451614986446496,
          3.451614986446496,
          3.451614986446496,
          3.451614986446496,
          3.451614986446496,
          3.451614986446496,
          3.451614986446496,
          3.451614986446496,
          3.451614986446496,
          3.451614986446496,
          3.451614986446496,
          3.451614986446496,
          3.451614986446496,
          3.451614986446496,
          3.451614986446496,
          3.451614986446496,
          3.451614986446496,
          3.451614986446496,
          3.451614986446496,
          3.451614986446496,
          3.451614986446496,
          3.451614986446496,
          3.451614986446496,
          3.451614986446496,
          3.451614986446496,
          3.451614986446496,
          3.451614986446496,
          3.451614986446496,
          3.451614986446496,
          3.451614986446496,
          3.451614986446496,
          3.451614986446496,
          3.451614986446496,
          3.451614986446496,
          3.451614986446496,
          3.451614986446496,
          3.451614986446496,
          3.451614986446496,
          3.451614986446496,
          3.451614986446496,
          3.451614986446496,
          3.451614986446496,
          3.451614986446496,
          3.451614986446496,
          3.451614986446496,
          3.451614986446496,
          3.451614986446496,
          3.451614986446496,
          3.451614986446496,
          3.451614986446496,
          3.451614986446496,
          3.451614986446496,
          3.451614986446496,
          3.451614986446496,
          3.451614986446496,
          3.451614986446496,
          3.451614986446496,
          3.451614986446496,
          3.451614986446496,
          3.451614986446496,
          3.451614986446496,
          3.451614986446496,
          3.451614986446496,
          3.451614986446496,
          3.451614986446496,
          3.451614986446496,
          3.451614986446496,
          3.451614986446496,
          3.451614986446496,
          3.451614986446496,
          3.451614986446496,
          3.451614986446496,
          3.451614986446496,
          3.451614986446496,
          3.451614986446496,
          3.451614986446496,
          3.451614986446496,
          3.451614986446496,
          3.451614986446496,
          3.451614986446496,
          3.451614986446496,
          3.451614986446496,
          3.451614986446496,
          3.451614986446496,
          3.451614986446496,
          3.451614986446496,
          3.451614986446496,
          3.451614986446496,
          3.451614986446496,
          3.451614986446496,
          3.451614986446496,
          3.451614986446496,
          3.451614986446496,
          3.451614986446496,
          3.451614986446496,
          3.451614986446496,
          3.451614986446496,
          3.451614986446496,
          3.451614986446496,
          3.451614986446496,
          3.451614986446496,
          3.451614986446496,
          3.451614986446496,
          3.451614986446496,
          3.451614986446496,
          3.451614986446496,
          3.451614986446496,
          3.451614986446496,
          3.451614986446496,
          3.451614986446496,
          3.451614986446496,
          3.451614986446496,
          3.451614986446496,
          3.451614986446496,
          3.451614986446496,
          3.451614986446496,
          3.451614986446496,
          3.451614986446496,
          3.451614986446496,
          3.451614986446496,
          3.451614986446496,
          3.451614986446496,
          3.451614986446496,
          3.451614986446496,
          3.451614986446496,
          3.451614986446496,
          3.451614986446496,
          3.451614986446496,
          3.451614986446496,
          3.451614986446496,
          3.451614986446496,
          3.451614986446496,
          3.451614986446496,
          3.451614986446496,
          3.451614986446496,
          3.451614986446496,
          3.451614986446496,
          3.451614986446496,
          3.451614986446496,
          3.451614986446496,
          3.451614986446496,
          3.451614986446496,
          3.451614986446496,
          3.451614986446496,
          3.451614986446496,
          3.451614986446496,
          3.451614986446496,
          3.451614986446496,
          3.451614986446496,
          3.451614986446496,
          3.451614986446496,
          3.451614986446496,
          3.451614986446496,
          3.451614986446496,
          3.451614986446496,
          3.451614986446496,
          3.451614986446496,
          3.451614986446496,
          3.451614986446496,
          3.451614986446496,
          3.451614986446496,
          3.451614986446496,
          3.451614986446496,
          3.451614986446496,
          3.451614986446496,
          3.451614986446496,
          3.451614986446496,
          3.451614986446496,
          3.451614986446496,
          3.451614986446496,
          3.451614986446496,
          3.451614986446496,
          3.451614986446496,
          3.451614986446496,
          3.451614986446496,
          3.451614986446496,
          3.451614986446496,
          3.451614986446496,
          3.451614986446496,
          3.451614986446496,
          3.451614986446496,
          3.451614986446496,
          3.451614986446496,
          3.451614986446496,
          3.451614986446496,
          3.451614986446496,
          3.451614986446496
         ]
        },
        {
         "marker": {
          "color": "#cccccc"
         },
         "mode": "markers",
         "name": "Infeasible Trial",
         "showlegend": false,
         "type": "scatter",
         "x": [],
         "y": []
        }
       ],
       "layout": {
        "template": {
         "data": {
          "bar": [
           {
            "error_x": {
             "color": "#2a3f5f"
            },
            "error_y": {
             "color": "#2a3f5f"
            },
            "marker": {
             "line": {
              "color": "#E5ECF6",
              "width": 0.5
             },
             "pattern": {
              "fillmode": "overlay",
              "size": 10,
              "solidity": 0.2
             }
            },
            "type": "bar"
           }
          ],
          "barpolar": [
           {
            "marker": {
             "line": {
              "color": "#E5ECF6",
              "width": 0.5
             },
             "pattern": {
              "fillmode": "overlay",
              "size": 10,
              "solidity": 0.2
             }
            },
            "type": "barpolar"
           }
          ],
          "carpet": [
           {
            "aaxis": {
             "endlinecolor": "#2a3f5f",
             "gridcolor": "white",
             "linecolor": "white",
             "minorgridcolor": "white",
             "startlinecolor": "#2a3f5f"
            },
            "baxis": {
             "endlinecolor": "#2a3f5f",
             "gridcolor": "white",
             "linecolor": "white",
             "minorgridcolor": "white",
             "startlinecolor": "#2a3f5f"
            },
            "type": "carpet"
           }
          ],
          "choropleth": [
           {
            "colorbar": {
             "outlinewidth": 0,
             "ticks": ""
            },
            "type": "choropleth"
           }
          ],
          "contour": [
           {
            "colorbar": {
             "outlinewidth": 0,
             "ticks": ""
            },
            "colorscale": [
             [
              0,
              "#0d0887"
             ],
             [
              0.1111111111111111,
              "#46039f"
             ],
             [
              0.2222222222222222,
              "#7201a8"
             ],
             [
              0.3333333333333333,
              "#9c179e"
             ],
             [
              0.4444444444444444,
              "#bd3786"
             ],
             [
              0.5555555555555556,
              "#d8576b"
             ],
             [
              0.6666666666666666,
              "#ed7953"
             ],
             [
              0.7777777777777778,
              "#fb9f3a"
             ],
             [
              0.8888888888888888,
              "#fdca26"
             ],
             [
              1,
              "#f0f921"
             ]
            ],
            "type": "contour"
           }
          ],
          "contourcarpet": [
           {
            "colorbar": {
             "outlinewidth": 0,
             "ticks": ""
            },
            "type": "contourcarpet"
           }
          ],
          "heatmap": [
           {
            "colorbar": {
             "outlinewidth": 0,
             "ticks": ""
            },
            "colorscale": [
             [
              0,
              "#0d0887"
             ],
             [
              0.1111111111111111,
              "#46039f"
             ],
             [
              0.2222222222222222,
              "#7201a8"
             ],
             [
              0.3333333333333333,
              "#9c179e"
             ],
             [
              0.4444444444444444,
              "#bd3786"
             ],
             [
              0.5555555555555556,
              "#d8576b"
             ],
             [
              0.6666666666666666,
              "#ed7953"
             ],
             [
              0.7777777777777778,
              "#fb9f3a"
             ],
             [
              0.8888888888888888,
              "#fdca26"
             ],
             [
              1,
              "#f0f921"
             ]
            ],
            "type": "heatmap"
           }
          ],
          "heatmapgl": [
           {
            "colorbar": {
             "outlinewidth": 0,
             "ticks": ""
            },
            "colorscale": [
             [
              0,
              "#0d0887"
             ],
             [
              0.1111111111111111,
              "#46039f"
             ],
             [
              0.2222222222222222,
              "#7201a8"
             ],
             [
              0.3333333333333333,
              "#9c179e"
             ],
             [
              0.4444444444444444,
              "#bd3786"
             ],
             [
              0.5555555555555556,
              "#d8576b"
             ],
             [
              0.6666666666666666,
              "#ed7953"
             ],
             [
              0.7777777777777778,
              "#fb9f3a"
             ],
             [
              0.8888888888888888,
              "#fdca26"
             ],
             [
              1,
              "#f0f921"
             ]
            ],
            "type": "heatmapgl"
           }
          ],
          "histogram": [
           {
            "marker": {
             "pattern": {
              "fillmode": "overlay",
              "size": 10,
              "solidity": 0.2
             }
            },
            "type": "histogram"
           }
          ],
          "histogram2d": [
           {
            "colorbar": {
             "outlinewidth": 0,
             "ticks": ""
            },
            "colorscale": [
             [
              0,
              "#0d0887"
             ],
             [
              0.1111111111111111,
              "#46039f"
             ],
             [
              0.2222222222222222,
              "#7201a8"
             ],
             [
              0.3333333333333333,
              "#9c179e"
             ],
             [
              0.4444444444444444,
              "#bd3786"
             ],
             [
              0.5555555555555556,
              "#d8576b"
             ],
             [
              0.6666666666666666,
              "#ed7953"
             ],
             [
              0.7777777777777778,
              "#fb9f3a"
             ],
             [
              0.8888888888888888,
              "#fdca26"
             ],
             [
              1,
              "#f0f921"
             ]
            ],
            "type": "histogram2d"
           }
          ],
          "histogram2dcontour": [
           {
            "colorbar": {
             "outlinewidth": 0,
             "ticks": ""
            },
            "colorscale": [
             [
              0,
              "#0d0887"
             ],
             [
              0.1111111111111111,
              "#46039f"
             ],
             [
              0.2222222222222222,
              "#7201a8"
             ],
             [
              0.3333333333333333,
              "#9c179e"
             ],
             [
              0.4444444444444444,
              "#bd3786"
             ],
             [
              0.5555555555555556,
              "#d8576b"
             ],
             [
              0.6666666666666666,
              "#ed7953"
             ],
             [
              0.7777777777777778,
              "#fb9f3a"
             ],
             [
              0.8888888888888888,
              "#fdca26"
             ],
             [
              1,
              "#f0f921"
             ]
            ],
            "type": "histogram2dcontour"
           }
          ],
          "mesh3d": [
           {
            "colorbar": {
             "outlinewidth": 0,
             "ticks": ""
            },
            "type": "mesh3d"
           }
          ],
          "parcoords": [
           {
            "line": {
             "colorbar": {
              "outlinewidth": 0,
              "ticks": ""
             }
            },
            "type": "parcoords"
           }
          ],
          "pie": [
           {
            "automargin": true,
            "type": "pie"
           }
          ],
          "scatter": [
           {
            "fillpattern": {
             "fillmode": "overlay",
             "size": 10,
             "solidity": 0.2
            },
            "type": "scatter"
           }
          ],
          "scatter3d": [
           {
            "line": {
             "colorbar": {
              "outlinewidth": 0,
              "ticks": ""
             }
            },
            "marker": {
             "colorbar": {
              "outlinewidth": 0,
              "ticks": ""
             }
            },
            "type": "scatter3d"
           }
          ],
          "scattercarpet": [
           {
            "marker": {
             "colorbar": {
              "outlinewidth": 0,
              "ticks": ""
             }
            },
            "type": "scattercarpet"
           }
          ],
          "scattergeo": [
           {
            "marker": {
             "colorbar": {
              "outlinewidth": 0,
              "ticks": ""
             }
            },
            "type": "scattergeo"
           }
          ],
          "scattergl": [
           {
            "marker": {
             "colorbar": {
              "outlinewidth": 0,
              "ticks": ""
             }
            },
            "type": "scattergl"
           }
          ],
          "scattermapbox": [
           {
            "marker": {
             "colorbar": {
              "outlinewidth": 0,
              "ticks": ""
             }
            },
            "type": "scattermapbox"
           }
          ],
          "scatterpolar": [
           {
            "marker": {
             "colorbar": {
              "outlinewidth": 0,
              "ticks": ""
             }
            },
            "type": "scatterpolar"
           }
          ],
          "scatterpolargl": [
           {
            "marker": {
             "colorbar": {
              "outlinewidth": 0,
              "ticks": ""
             }
            },
            "type": "scatterpolargl"
           }
          ],
          "scatterternary": [
           {
            "marker": {
             "colorbar": {
              "outlinewidth": 0,
              "ticks": ""
             }
            },
            "type": "scatterternary"
           }
          ],
          "surface": [
           {
            "colorbar": {
             "outlinewidth": 0,
             "ticks": ""
            },
            "colorscale": [
             [
              0,
              "#0d0887"
             ],
             [
              0.1111111111111111,
              "#46039f"
             ],
             [
              0.2222222222222222,
              "#7201a8"
             ],
             [
              0.3333333333333333,
              "#9c179e"
             ],
             [
              0.4444444444444444,
              "#bd3786"
             ],
             [
              0.5555555555555556,
              "#d8576b"
             ],
             [
              0.6666666666666666,
              "#ed7953"
             ],
             [
              0.7777777777777778,
              "#fb9f3a"
             ],
             [
              0.8888888888888888,
              "#fdca26"
             ],
             [
              1,
              "#f0f921"
             ]
            ],
            "type": "surface"
           }
          ],
          "table": [
           {
            "cells": {
             "fill": {
              "color": "#EBF0F8"
             },
             "line": {
              "color": "white"
             }
            },
            "header": {
             "fill": {
              "color": "#C8D4E3"
             },
             "line": {
              "color": "white"
             }
            },
            "type": "table"
           }
          ]
         },
         "layout": {
          "annotationdefaults": {
           "arrowcolor": "#2a3f5f",
           "arrowhead": 0,
           "arrowwidth": 1
          },
          "autotypenumbers": "strict",
          "coloraxis": {
           "colorbar": {
            "outlinewidth": 0,
            "ticks": ""
           }
          },
          "colorscale": {
           "diverging": [
            [
             0,
             "#8e0152"
            ],
            [
             0.1,
             "#c51b7d"
            ],
            [
             0.2,
             "#de77ae"
            ],
            [
             0.3,
             "#f1b6da"
            ],
            [
             0.4,
             "#fde0ef"
            ],
            [
             0.5,
             "#f7f7f7"
            ],
            [
             0.6,
             "#e6f5d0"
            ],
            [
             0.7,
             "#b8e186"
            ],
            [
             0.8,
             "#7fbc41"
            ],
            [
             0.9,
             "#4d9221"
            ],
            [
             1,
             "#276419"
            ]
           ],
           "sequential": [
            [
             0,
             "#0d0887"
            ],
            [
             0.1111111111111111,
             "#46039f"
            ],
            [
             0.2222222222222222,
             "#7201a8"
            ],
            [
             0.3333333333333333,
             "#9c179e"
            ],
            [
             0.4444444444444444,
             "#bd3786"
            ],
            [
             0.5555555555555556,
             "#d8576b"
            ],
            [
             0.6666666666666666,
             "#ed7953"
            ],
            [
             0.7777777777777778,
             "#fb9f3a"
            ],
            [
             0.8888888888888888,
             "#fdca26"
            ],
            [
             1,
             "#f0f921"
            ]
           ],
           "sequentialminus": [
            [
             0,
             "#0d0887"
            ],
            [
             0.1111111111111111,
             "#46039f"
            ],
            [
             0.2222222222222222,
             "#7201a8"
            ],
            [
             0.3333333333333333,
             "#9c179e"
            ],
            [
             0.4444444444444444,
             "#bd3786"
            ],
            [
             0.5555555555555556,
             "#d8576b"
            ],
            [
             0.6666666666666666,
             "#ed7953"
            ],
            [
             0.7777777777777778,
             "#fb9f3a"
            ],
            [
             0.8888888888888888,
             "#fdca26"
            ],
            [
             1,
             "#f0f921"
            ]
           ]
          },
          "colorway": [
           "#636efa",
           "#EF553B",
           "#00cc96",
           "#ab63fa",
           "#FFA15A",
           "#19d3f3",
           "#FF6692",
           "#B6E880",
           "#FF97FF",
           "#FECB52"
          ],
          "font": {
           "color": "#2a3f5f"
          },
          "geo": {
           "bgcolor": "white",
           "lakecolor": "white",
           "landcolor": "#E5ECF6",
           "showlakes": true,
           "showland": true,
           "subunitcolor": "white"
          },
          "hoverlabel": {
           "align": "left"
          },
          "hovermode": "closest",
          "mapbox": {
           "style": "light"
          },
          "paper_bgcolor": "white",
          "plot_bgcolor": "#E5ECF6",
          "polar": {
           "angularaxis": {
            "gridcolor": "white",
            "linecolor": "white",
            "ticks": ""
           },
           "bgcolor": "#E5ECF6",
           "radialaxis": {
            "gridcolor": "white",
            "linecolor": "white",
            "ticks": ""
           }
          },
          "scene": {
           "xaxis": {
            "backgroundcolor": "#E5ECF6",
            "gridcolor": "white",
            "gridwidth": 2,
            "linecolor": "white",
            "showbackground": true,
            "ticks": "",
            "zerolinecolor": "white"
           },
           "yaxis": {
            "backgroundcolor": "#E5ECF6",
            "gridcolor": "white",
            "gridwidth": 2,
            "linecolor": "white",
            "showbackground": true,
            "ticks": "",
            "zerolinecolor": "white"
           },
           "zaxis": {
            "backgroundcolor": "#E5ECF6",
            "gridcolor": "white",
            "gridwidth": 2,
            "linecolor": "white",
            "showbackground": true,
            "ticks": "",
            "zerolinecolor": "white"
           }
          },
          "shapedefaults": {
           "line": {
            "color": "#2a3f5f"
           }
          },
          "ternary": {
           "aaxis": {
            "gridcolor": "white",
            "linecolor": "white",
            "ticks": ""
           },
           "baxis": {
            "gridcolor": "white",
            "linecolor": "white",
            "ticks": ""
           },
           "bgcolor": "#E5ECF6",
           "caxis": {
            "gridcolor": "white",
            "linecolor": "white",
            "ticks": ""
           }
          },
          "title": {
           "x": 0.05
          },
          "xaxis": {
           "automargin": true,
           "gridcolor": "white",
           "linecolor": "white",
           "ticks": "",
           "title": {
            "standoff": 15
           },
           "zerolinecolor": "white",
           "zerolinewidth": 2
          },
          "yaxis": {
           "automargin": true,
           "gridcolor": "white",
           "linecolor": "white",
           "ticks": "",
           "title": {
            "standoff": 15
           },
           "zerolinecolor": "white",
           "zerolinewidth": 2
          }
         }
        },
        "title": {
         "text": "Optimization History Plot"
        },
        "xaxis": {
         "title": {
          "text": "Trial"
         }
        },
        "yaxis": {
         "title": {
          "text": "Objective Value"
         }
        }
       }
      },
      "text/html": [
       "<div>                            <div id=\"39b2fe77-01b7-4617-82de-a168076f00fc\" class=\"plotly-graph-div\" style=\"height:525px; width:100%;\"></div>            <script type=\"text/javascript\">                require([\"plotly\"], function(Plotly) {                    window.PLOTLYENV=window.PLOTLYENV || {};                                    if (document.getElementById(\"39b2fe77-01b7-4617-82de-a168076f00fc\")) {                    Plotly.newPlot(                        \"39b2fe77-01b7-4617-82de-a168076f00fc\",                        [{\"mode\":\"markers\",\"name\":\"Objective Value\",\"x\":[0,1,2,3,4,10,12,13,17,28,38,45,61,66,84,90,91,92,116,118,143,152,161,162,175,199,213,238,293,307,313,319,320,328],\"y\":[4.287804198386965,4.58183642648733,7.372522432400242,12.014669279505839,4.132874730454392,4.507156593113521,4.246275237595786,4.142046443053735,3.9433054396889213,3.727841972349521,4.503995238165252,4.418190075212189,4.2111553318252275,4.024309648824501,3.9459897349660387,4.032905266270929,3.892332876309715,4.010004000042406,3.7329065143955993,3.5036244332154065,4.128430735996444,3.891364980003137,3.839181184321256,3.9753893050037807,3.451614986446496,3.864163416904436,3.821448827795508,3.9682305487724117,3.9770001863026905,3.8368361608150368,3.9478937827626153,3.984724983645488,4.024971202859318,3.8239155461658503],\"type\":\"scatter\"},{\"mode\":\"lines\",\"name\":\"Best Value\",\"x\":[0,1,2,3,4,5,6,7,8,9,10,11,12,13,14,15,16,17,18,19,20,21,22,23,24,25,26,27,28,29,30,31,32,33,34,35,36,37,38,39,40,41,42,43,44,45,46,47,48,49,50,51,52,53,54,55,56,57,58,59,60,61,62,63,64,65,66,67,68,69,70,71,72,73,74,75,76,77,78,79,80,81,82,83,84,85,86,87,88,89,90,91,92,93,94,95,96,97,98,99,100,101,102,103,104,105,106,107,108,109,110,111,112,113,114,115,116,117,118,119,120,121,122,123,124,125,126,127,128,129,130,131,132,133,134,135,136,137,138,139,140,141,142,143,144,145,146,147,148,149,150,151,152,153,154,155,156,157,158,159,160,161,162,163,164,165,166,167,168,169,170,171,172,173,174,175,176,177,178,179,180,181,182,183,184,185,186,187,188,189,190,191,192,193,194,195,196,197,198,199,200,201,202,203,204,205,206,207,208,209,210,211,212,213,214,215,216,217,218,219,220,221,222,223,224,225,226,227,228,229,230,231,232,233,234,235,236,237,238,239,240,241,242,243,244,245,246,247,248,249,250,251,252,253,254,255,256,257,258,259,260,261,262,263,264,265,266,267,268,269,270,271,272,273,274,275,276,277,278,279,280,281,282,283,284,285,286,287,288,289,290,291,292,293,294,295,296,297,298,299,300,301,302,303,304,305,306,307,308,309,310,311,312,313,314,315,316,317,318,319,320,321,322,323,324,325,326,327,328,329,330,331,332,333,334,335,336,337,338,339,340,341,342,343,344,345,346,347,348,349,350,351,352,353,354,355,356,357,358,359,360,361,362,363,364,365,366,367,368,369,370,371,372,373,374,375,376,377,378,379,380,381,382,383,384,385,386,387,388,389,390,391,392,393,394,395,396,397,398,399,400,401,402,403,404,405,406,407,408,409,410,411,412,413,414,415,416,417,418,419,420,421,422,423,424,425,426,427,428],\"y\":[4.287804198386965,4.287804198386965,4.287804198386965,4.287804198386965,4.132874730454392,4.132874730454392,4.132874730454392,4.132874730454392,4.132874730454392,4.132874730454392,4.132874730454392,4.132874730454392,4.132874730454392,4.132874730454392,4.132874730454392,4.132874730454392,4.132874730454392,3.9433054396889213,3.9433054396889213,3.9433054396889213,3.9433054396889213,3.9433054396889213,3.9433054396889213,3.9433054396889213,3.9433054396889213,3.9433054396889213,3.9433054396889213,3.9433054396889213,3.727841972349521,3.727841972349521,3.727841972349521,3.727841972349521,3.727841972349521,3.727841972349521,3.727841972349521,3.727841972349521,3.727841972349521,3.727841972349521,3.727841972349521,3.727841972349521,3.727841972349521,3.727841972349521,3.727841972349521,3.727841972349521,3.727841972349521,3.727841972349521,3.727841972349521,3.727841972349521,3.727841972349521,3.727841972349521,3.727841972349521,3.727841972349521,3.727841972349521,3.727841972349521,3.727841972349521,3.727841972349521,3.727841972349521,3.727841972349521,3.727841972349521,3.727841972349521,3.727841972349521,3.727841972349521,3.727841972349521,3.727841972349521,3.727841972349521,3.727841972349521,3.727841972349521,3.727841972349521,3.727841972349521,3.727841972349521,3.727841972349521,3.727841972349521,3.727841972349521,3.727841972349521,3.727841972349521,3.727841972349521,3.727841972349521,3.727841972349521,3.727841972349521,3.727841972349521,3.727841972349521,3.727841972349521,3.727841972349521,3.727841972349521,3.727841972349521,3.727841972349521,3.727841972349521,3.727841972349521,3.727841972349521,3.727841972349521,3.727841972349521,3.727841972349521,3.727841972349521,3.727841972349521,3.727841972349521,3.727841972349521,3.727841972349521,3.727841972349521,3.727841972349521,3.727841972349521,3.727841972349521,3.727841972349521,3.727841972349521,3.727841972349521,3.727841972349521,3.727841972349521,3.727841972349521,3.727841972349521,3.727841972349521,3.727841972349521,3.727841972349521,3.727841972349521,3.727841972349521,3.727841972349521,3.727841972349521,3.727841972349521,3.727841972349521,3.727841972349521,3.5036244332154065,3.5036244332154065,3.5036244332154065,3.5036244332154065,3.5036244332154065,3.5036244332154065,3.5036244332154065,3.5036244332154065,3.5036244332154065,3.5036244332154065,3.5036244332154065,3.5036244332154065,3.5036244332154065,3.5036244332154065,3.5036244332154065,3.5036244332154065,3.5036244332154065,3.5036244332154065,3.5036244332154065,3.5036244332154065,3.5036244332154065,3.5036244332154065,3.5036244332154065,3.5036244332154065,3.5036244332154065,3.5036244332154065,3.5036244332154065,3.5036244332154065,3.5036244332154065,3.5036244332154065,3.5036244332154065,3.5036244332154065,3.5036244332154065,3.5036244332154065,3.5036244332154065,3.5036244332154065,3.5036244332154065,3.5036244332154065,3.5036244332154065,3.5036244332154065,3.5036244332154065,3.5036244332154065,3.5036244332154065,3.5036244332154065,3.5036244332154065,3.5036244332154065,3.5036244332154065,3.5036244332154065,3.5036244332154065,3.5036244332154065,3.5036244332154065,3.5036244332154065,3.5036244332154065,3.5036244332154065,3.5036244332154065,3.5036244332154065,3.5036244332154065,3.451614986446496,3.451614986446496,3.451614986446496,3.451614986446496,3.451614986446496,3.451614986446496,3.451614986446496,3.451614986446496,3.451614986446496,3.451614986446496,3.451614986446496,3.451614986446496,3.451614986446496,3.451614986446496,3.451614986446496,3.451614986446496,3.451614986446496,3.451614986446496,3.451614986446496,3.451614986446496,3.451614986446496,3.451614986446496,3.451614986446496,3.451614986446496,3.451614986446496,3.451614986446496,3.451614986446496,3.451614986446496,3.451614986446496,3.451614986446496,3.451614986446496,3.451614986446496,3.451614986446496,3.451614986446496,3.451614986446496,3.451614986446496,3.451614986446496,3.451614986446496,3.451614986446496,3.451614986446496,3.451614986446496,3.451614986446496,3.451614986446496,3.451614986446496,3.451614986446496,3.451614986446496,3.451614986446496,3.451614986446496,3.451614986446496,3.451614986446496,3.451614986446496,3.451614986446496,3.451614986446496,3.451614986446496,3.451614986446496,3.451614986446496,3.451614986446496,3.451614986446496,3.451614986446496,3.451614986446496,3.451614986446496,3.451614986446496,3.451614986446496,3.451614986446496,3.451614986446496,3.451614986446496,3.451614986446496,3.451614986446496,3.451614986446496,3.451614986446496,3.451614986446496,3.451614986446496,3.451614986446496,3.451614986446496,3.451614986446496,3.451614986446496,3.451614986446496,3.451614986446496,3.451614986446496,3.451614986446496,3.451614986446496,3.451614986446496,3.451614986446496,3.451614986446496,3.451614986446496,3.451614986446496,3.451614986446496,3.451614986446496,3.451614986446496,3.451614986446496,3.451614986446496,3.451614986446496,3.451614986446496,3.451614986446496,3.451614986446496,3.451614986446496,3.451614986446496,3.451614986446496,3.451614986446496,3.451614986446496,3.451614986446496,3.451614986446496,3.451614986446496,3.451614986446496,3.451614986446496,3.451614986446496,3.451614986446496,3.451614986446496,3.451614986446496,3.451614986446496,3.451614986446496,3.451614986446496,3.451614986446496,3.451614986446496,3.451614986446496,3.451614986446496,3.451614986446496,3.451614986446496,3.451614986446496,3.451614986446496,3.451614986446496,3.451614986446496,3.451614986446496,3.451614986446496,3.451614986446496,3.451614986446496,3.451614986446496,3.451614986446496,3.451614986446496,3.451614986446496,3.451614986446496,3.451614986446496,3.451614986446496,3.451614986446496,3.451614986446496,3.451614986446496,3.451614986446496,3.451614986446496,3.451614986446496,3.451614986446496,3.451614986446496,3.451614986446496,3.451614986446496,3.451614986446496,3.451614986446496,3.451614986446496,3.451614986446496,3.451614986446496,3.451614986446496,3.451614986446496,3.451614986446496,3.451614986446496,3.451614986446496,3.451614986446496,3.451614986446496,3.451614986446496,3.451614986446496,3.451614986446496,3.451614986446496,3.451614986446496,3.451614986446496,3.451614986446496,3.451614986446496,3.451614986446496,3.451614986446496,3.451614986446496,3.451614986446496,3.451614986446496,3.451614986446496,3.451614986446496,3.451614986446496,3.451614986446496,3.451614986446496,3.451614986446496,3.451614986446496,3.451614986446496,3.451614986446496,3.451614986446496,3.451614986446496,3.451614986446496,3.451614986446496,3.451614986446496,3.451614986446496,3.451614986446496,3.451614986446496,3.451614986446496,3.451614986446496,3.451614986446496,3.451614986446496,3.451614986446496,3.451614986446496,3.451614986446496,3.451614986446496,3.451614986446496,3.451614986446496,3.451614986446496,3.451614986446496,3.451614986446496,3.451614986446496,3.451614986446496,3.451614986446496,3.451614986446496,3.451614986446496,3.451614986446496,3.451614986446496,3.451614986446496,3.451614986446496,3.451614986446496,3.451614986446496,3.451614986446496,3.451614986446496,3.451614986446496,3.451614986446496,3.451614986446496,3.451614986446496,3.451614986446496,3.451614986446496,3.451614986446496,3.451614986446496,3.451614986446496,3.451614986446496,3.451614986446496,3.451614986446496,3.451614986446496,3.451614986446496,3.451614986446496,3.451614986446496,3.451614986446496,3.451614986446496,3.451614986446496,3.451614986446496,3.451614986446496,3.451614986446496,3.451614986446496,3.451614986446496,3.451614986446496,3.451614986446496,3.451614986446496,3.451614986446496,3.451614986446496,3.451614986446496,3.451614986446496,3.451614986446496,3.451614986446496,3.451614986446496,3.451614986446496,3.451614986446496,3.451614986446496,3.451614986446496,3.451614986446496,3.451614986446496,3.451614986446496,3.451614986446496,3.451614986446496],\"type\":\"scatter\"},{\"marker\":{\"color\":\"#cccccc\"},\"mode\":\"markers\",\"name\":\"Infeasible Trial\",\"showlegend\":false,\"x\":[],\"y\":[],\"type\":\"scatter\"}],                        {\"title\":{\"text\":\"Optimization History Plot\"},\"xaxis\":{\"title\":{\"text\":\"Trial\"}},\"yaxis\":{\"title\":{\"text\":\"Objective Value\"}},\"template\":{\"data\":{\"histogram2dcontour\":[{\"type\":\"histogram2dcontour\",\"colorbar\":{\"outlinewidth\":0,\"ticks\":\"\"},\"colorscale\":[[0.0,\"#0d0887\"],[0.1111111111111111,\"#46039f\"],[0.2222222222222222,\"#7201a8\"],[0.3333333333333333,\"#9c179e\"],[0.4444444444444444,\"#bd3786\"],[0.5555555555555556,\"#d8576b\"],[0.6666666666666666,\"#ed7953\"],[0.7777777777777778,\"#fb9f3a\"],[0.8888888888888888,\"#fdca26\"],[1.0,\"#f0f921\"]]}],\"choropleth\":[{\"type\":\"choropleth\",\"colorbar\":{\"outlinewidth\":0,\"ticks\":\"\"}}],\"histogram2d\":[{\"type\":\"histogram2d\",\"colorbar\":{\"outlinewidth\":0,\"ticks\":\"\"},\"colorscale\":[[0.0,\"#0d0887\"],[0.1111111111111111,\"#46039f\"],[0.2222222222222222,\"#7201a8\"],[0.3333333333333333,\"#9c179e\"],[0.4444444444444444,\"#bd3786\"],[0.5555555555555556,\"#d8576b\"],[0.6666666666666666,\"#ed7953\"],[0.7777777777777778,\"#fb9f3a\"],[0.8888888888888888,\"#fdca26\"],[1.0,\"#f0f921\"]]}],\"heatmap\":[{\"type\":\"heatmap\",\"colorbar\":{\"outlinewidth\":0,\"ticks\":\"\"},\"colorscale\":[[0.0,\"#0d0887\"],[0.1111111111111111,\"#46039f\"],[0.2222222222222222,\"#7201a8\"],[0.3333333333333333,\"#9c179e\"],[0.4444444444444444,\"#bd3786\"],[0.5555555555555556,\"#d8576b\"],[0.6666666666666666,\"#ed7953\"],[0.7777777777777778,\"#fb9f3a\"],[0.8888888888888888,\"#fdca26\"],[1.0,\"#f0f921\"]]}],\"heatmapgl\":[{\"type\":\"heatmapgl\",\"colorbar\":{\"outlinewidth\":0,\"ticks\":\"\"},\"colorscale\":[[0.0,\"#0d0887\"],[0.1111111111111111,\"#46039f\"],[0.2222222222222222,\"#7201a8\"],[0.3333333333333333,\"#9c179e\"],[0.4444444444444444,\"#bd3786\"],[0.5555555555555556,\"#d8576b\"],[0.6666666666666666,\"#ed7953\"],[0.7777777777777778,\"#fb9f3a\"],[0.8888888888888888,\"#fdca26\"],[1.0,\"#f0f921\"]]}],\"contourcarpet\":[{\"type\":\"contourcarpet\",\"colorbar\":{\"outlinewidth\":0,\"ticks\":\"\"}}],\"contour\":[{\"type\":\"contour\",\"colorbar\":{\"outlinewidth\":0,\"ticks\":\"\"},\"colorscale\":[[0.0,\"#0d0887\"],[0.1111111111111111,\"#46039f\"],[0.2222222222222222,\"#7201a8\"],[0.3333333333333333,\"#9c179e\"],[0.4444444444444444,\"#bd3786\"],[0.5555555555555556,\"#d8576b\"],[0.6666666666666666,\"#ed7953\"],[0.7777777777777778,\"#fb9f3a\"],[0.8888888888888888,\"#fdca26\"],[1.0,\"#f0f921\"]]}],\"surface\":[{\"type\":\"surface\",\"colorbar\":{\"outlinewidth\":0,\"ticks\":\"\"},\"colorscale\":[[0.0,\"#0d0887\"],[0.1111111111111111,\"#46039f\"],[0.2222222222222222,\"#7201a8\"],[0.3333333333333333,\"#9c179e\"],[0.4444444444444444,\"#bd3786\"],[0.5555555555555556,\"#d8576b\"],[0.6666666666666666,\"#ed7953\"],[0.7777777777777778,\"#fb9f3a\"],[0.8888888888888888,\"#fdca26\"],[1.0,\"#f0f921\"]]}],\"mesh3d\":[{\"type\":\"mesh3d\",\"colorbar\":{\"outlinewidth\":0,\"ticks\":\"\"}}],\"scatter\":[{\"fillpattern\":{\"fillmode\":\"overlay\",\"size\":10,\"solidity\":0.2},\"type\":\"scatter\"}],\"parcoords\":[{\"type\":\"parcoords\",\"line\":{\"colorbar\":{\"outlinewidth\":0,\"ticks\":\"\"}}}],\"scatterpolargl\":[{\"type\":\"scatterpolargl\",\"marker\":{\"colorbar\":{\"outlinewidth\":0,\"ticks\":\"\"}}}],\"bar\":[{\"error_x\":{\"color\":\"#2a3f5f\"},\"error_y\":{\"color\":\"#2a3f5f\"},\"marker\":{\"line\":{\"color\":\"#E5ECF6\",\"width\":0.5},\"pattern\":{\"fillmode\":\"overlay\",\"size\":10,\"solidity\":0.2}},\"type\":\"bar\"}],\"scattergeo\":[{\"type\":\"scattergeo\",\"marker\":{\"colorbar\":{\"outlinewidth\":0,\"ticks\":\"\"}}}],\"scatterpolar\":[{\"type\":\"scatterpolar\",\"marker\":{\"colorbar\":{\"outlinewidth\":0,\"ticks\":\"\"}}}],\"histogram\":[{\"marker\":{\"pattern\":{\"fillmode\":\"overlay\",\"size\":10,\"solidity\":0.2}},\"type\":\"histogram\"}],\"scattergl\":[{\"type\":\"scattergl\",\"marker\":{\"colorbar\":{\"outlinewidth\":0,\"ticks\":\"\"}}}],\"scatter3d\":[{\"type\":\"scatter3d\",\"line\":{\"colorbar\":{\"outlinewidth\":0,\"ticks\":\"\"}},\"marker\":{\"colorbar\":{\"outlinewidth\":0,\"ticks\":\"\"}}}],\"scattermapbox\":[{\"type\":\"scattermapbox\",\"marker\":{\"colorbar\":{\"outlinewidth\":0,\"ticks\":\"\"}}}],\"scatterternary\":[{\"type\":\"scatterternary\",\"marker\":{\"colorbar\":{\"outlinewidth\":0,\"ticks\":\"\"}}}],\"scattercarpet\":[{\"type\":\"scattercarpet\",\"marker\":{\"colorbar\":{\"outlinewidth\":0,\"ticks\":\"\"}}}],\"carpet\":[{\"aaxis\":{\"endlinecolor\":\"#2a3f5f\",\"gridcolor\":\"white\",\"linecolor\":\"white\",\"minorgridcolor\":\"white\",\"startlinecolor\":\"#2a3f5f\"},\"baxis\":{\"endlinecolor\":\"#2a3f5f\",\"gridcolor\":\"white\",\"linecolor\":\"white\",\"minorgridcolor\":\"white\",\"startlinecolor\":\"#2a3f5f\"},\"type\":\"carpet\"}],\"table\":[{\"cells\":{\"fill\":{\"color\":\"#EBF0F8\"},\"line\":{\"color\":\"white\"}},\"header\":{\"fill\":{\"color\":\"#C8D4E3\"},\"line\":{\"color\":\"white\"}},\"type\":\"table\"}],\"barpolar\":[{\"marker\":{\"line\":{\"color\":\"#E5ECF6\",\"width\":0.5},\"pattern\":{\"fillmode\":\"overlay\",\"size\":10,\"solidity\":0.2}},\"type\":\"barpolar\"}],\"pie\":[{\"automargin\":true,\"type\":\"pie\"}]},\"layout\":{\"autotypenumbers\":\"strict\",\"colorway\":[\"#636efa\",\"#EF553B\",\"#00cc96\",\"#ab63fa\",\"#FFA15A\",\"#19d3f3\",\"#FF6692\",\"#B6E880\",\"#FF97FF\",\"#FECB52\"],\"font\":{\"color\":\"#2a3f5f\"},\"hovermode\":\"closest\",\"hoverlabel\":{\"align\":\"left\"},\"paper_bgcolor\":\"white\",\"plot_bgcolor\":\"#E5ECF6\",\"polar\":{\"bgcolor\":\"#E5ECF6\",\"angularaxis\":{\"gridcolor\":\"white\",\"linecolor\":\"white\",\"ticks\":\"\"},\"radialaxis\":{\"gridcolor\":\"white\",\"linecolor\":\"white\",\"ticks\":\"\"}},\"ternary\":{\"bgcolor\":\"#E5ECF6\",\"aaxis\":{\"gridcolor\":\"white\",\"linecolor\":\"white\",\"ticks\":\"\"},\"baxis\":{\"gridcolor\":\"white\",\"linecolor\":\"white\",\"ticks\":\"\"},\"caxis\":{\"gridcolor\":\"white\",\"linecolor\":\"white\",\"ticks\":\"\"}},\"coloraxis\":{\"colorbar\":{\"outlinewidth\":0,\"ticks\":\"\"}},\"colorscale\":{\"sequential\":[[0.0,\"#0d0887\"],[0.1111111111111111,\"#46039f\"],[0.2222222222222222,\"#7201a8\"],[0.3333333333333333,\"#9c179e\"],[0.4444444444444444,\"#bd3786\"],[0.5555555555555556,\"#d8576b\"],[0.6666666666666666,\"#ed7953\"],[0.7777777777777778,\"#fb9f3a\"],[0.8888888888888888,\"#fdca26\"],[1.0,\"#f0f921\"]],\"sequentialminus\":[[0.0,\"#0d0887\"],[0.1111111111111111,\"#46039f\"],[0.2222222222222222,\"#7201a8\"],[0.3333333333333333,\"#9c179e\"],[0.4444444444444444,\"#bd3786\"],[0.5555555555555556,\"#d8576b\"],[0.6666666666666666,\"#ed7953\"],[0.7777777777777778,\"#fb9f3a\"],[0.8888888888888888,\"#fdca26\"],[1.0,\"#f0f921\"]],\"diverging\":[[0,\"#8e0152\"],[0.1,\"#c51b7d\"],[0.2,\"#de77ae\"],[0.3,\"#f1b6da\"],[0.4,\"#fde0ef\"],[0.5,\"#f7f7f7\"],[0.6,\"#e6f5d0\"],[0.7,\"#b8e186\"],[0.8,\"#7fbc41\"],[0.9,\"#4d9221\"],[1,\"#276419\"]]},\"xaxis\":{\"gridcolor\":\"white\",\"linecolor\":\"white\",\"ticks\":\"\",\"title\":{\"standoff\":15},\"zerolinecolor\":\"white\",\"automargin\":true,\"zerolinewidth\":2},\"yaxis\":{\"gridcolor\":\"white\",\"linecolor\":\"white\",\"ticks\":\"\",\"title\":{\"standoff\":15},\"zerolinecolor\":\"white\",\"automargin\":true,\"zerolinewidth\":2},\"scene\":{\"xaxis\":{\"backgroundcolor\":\"#E5ECF6\",\"gridcolor\":\"white\",\"linecolor\":\"white\",\"showbackground\":true,\"ticks\":\"\",\"zerolinecolor\":\"white\",\"gridwidth\":2},\"yaxis\":{\"backgroundcolor\":\"#E5ECF6\",\"gridcolor\":\"white\",\"linecolor\":\"white\",\"showbackground\":true,\"ticks\":\"\",\"zerolinecolor\":\"white\",\"gridwidth\":2},\"zaxis\":{\"backgroundcolor\":\"#E5ECF6\",\"gridcolor\":\"white\",\"linecolor\":\"white\",\"showbackground\":true,\"ticks\":\"\",\"zerolinecolor\":\"white\",\"gridwidth\":2}},\"shapedefaults\":{\"line\":{\"color\":\"#2a3f5f\"}},\"annotationdefaults\":{\"arrowcolor\":\"#2a3f5f\",\"arrowhead\":0,\"arrowwidth\":1},\"geo\":{\"bgcolor\":\"white\",\"landcolor\":\"#E5ECF6\",\"subunitcolor\":\"white\",\"showland\":true,\"showlakes\":true,\"lakecolor\":\"white\"},\"title\":{\"x\":0.05},\"mapbox\":{\"style\":\"light\"}}}},                        {\"responsive\": true}                    ).then(function(){\n",
       "                            \n",
       "var gd = document.getElementById('39b2fe77-01b7-4617-82de-a168076f00fc');\n",
       "var x = new MutationObserver(function (mutations, observer) {{\n",
       "        var display = window.getComputedStyle(gd).display;\n",
       "        if (!display || display === 'none') {{\n",
       "            console.log([gd, 'removed!']);\n",
       "            Plotly.purge(gd);\n",
       "            observer.disconnect();\n",
       "        }}\n",
       "}});\n",
       "\n",
       "// Listen for the removal of the full notebook cells\n",
       "var notebookContainer = gd.closest('#notebook-container');\n",
       "if (notebookContainer) {{\n",
       "    x.observe(notebookContainer, {childList: true});\n",
       "}}\n",
       "\n",
       "// Listen for the clearing of the current output cell\n",
       "var outputEl = gd.closest('.output');\n",
       "if (outputEl) {{\n",
       "    x.observe(outputEl, {childList: true});\n",
       "}}\n",
       "\n",
       "                        })                };                });            </script>        </div>"
      ]
     },
     "metadata": {},
     "output_type": "display_data"
    }
   ],
   "source": [
    "plot_optimization_history(study_gb)"
   ]
  },
  {
   "cell_type": "code",
   "execution_count": 76,
   "metadata": {},
   "outputs": [],
   "source": [
    "low_learning_rate = 0.001\n",
    "params = study_gb.best_params\n",
    "params['learning_rate'] = low_learning_rate\n",
    "model_stage2 = xgb.train(params=params, dtrain=dtrain, \n",
    "                         num_boost_round=5000,\n",
    "                         evals=[(dtrain, 'train'), (dvalid, 'valid')],\n",
    "                         early_stopping_rounds=50,\n",
    "                         verbose_eval=0)"
   ]
  },
  {
   "cell_type": "markdown",
   "metadata": {},
   "source": [
    "Find the best number of boosting rounds."
   ]
  },
  {
   "cell_type": "code",
   "execution_count": 77,
   "metadata": {},
   "outputs": [
    {
     "name": "stdout",
     "output_type": "stream",
     "text": [
      "Stage 2\n",
      "best score = 3.6370296478271484\n",
      "best boosting round: 4999\n"
     ]
    }
   ],
   "source": [
    "def score_model(model: xgb.core.Booster, dmat: xgb.core.DMatrix) -> float:\n",
    "    y_true = dmat.get_label() \n",
    "    y_pred = model.predict(dmat) \n",
    "    return mean_absolute_error(y_true, y_pred)\n",
    "\n",
    "print('Stage 2')\n",
    "print(f'best score = {score_model(model_stage2, dvalid)}')\n",
    "print(f'best boosting round: {model_stage2.best_iteration}')"
   ]
  },
  {
   "cell_type": "code",
   "execution_count": 78,
   "metadata": {},
   "outputs": [],
   "source": [
    "model_final = xgb.train(params=study_gb.best_params, dtrain=dtrainvalid, \n",
    "                        num_boost_round=model_stage2.best_iteration,\n",
    "                        verbose_eval=0)"
   ]
  },
  {
   "cell_type": "markdown",
   "metadata": {},
   "source": [
    "Evaluation of final model."
   ]
  },
  {
   "cell_type": "code",
   "execution_count": 79,
   "metadata": {},
   "outputs": [
    {
     "name": "stdout",
     "output_type": "stream",
     "text": [
      "Final Model\n",
      "test score = 3.1898348331451416\n",
      "Parameters\n",
      "tree_method : hist\n",
      "learning_rate : 0.001\n",
      "reg_lambda : 0.32254658418287513\n",
      "max_depth : 10\n",
      "min_child_weight : 22\n",
      "gamma : 0.024776407080566634\n",
      "subsample : 0.7717851809636164\n",
      "colsample_bynode : 0.9487971307487205\n",
      "colsample_bytree : 0.9766256641680159\n",
      "colsample_bylevel : 0.969728517112634\n",
      "num_boost_round: 4999\n"
     ]
    }
   ],
   "source": [
    "print('Final Model')\n",
    "print(f'test score = {score_model(model_final, dtest)}')\n",
    "print('Parameters')\n",
    "for i, j in params.items():\n",
    "    print(i, ':', j)\n",
    "print(f'num_boost_round: {model_stage2.best_iteration}')"
   ]
  },
  {
   "cell_type": "markdown",
   "metadata": {},
   "source": [
    "Feature importance: By weight"
   ]
  },
  {
   "cell_type": "code",
   "execution_count": 80,
   "metadata": {},
   "outputs": [
    {
     "data": {
      "text/plain": [
       "{'cement': 6247.0,\n",
       " 'blast_furnace_slag': 2450.0,\n",
       " 'fly_ash': 1785.0,\n",
       " 'water': 5678.0,\n",
       " 'superplasticizer': 4486.0,\n",
       " 'coarse_aggregate': 3086.0,\n",
       " 'fine_aggregate': 3663.0,\n",
       " 'age': 5160.0,\n",
       " 'cement_to_water_ratio': 5357.0,\n",
       " 'fine_aggregate_to_water_ratio': 4972.0,\n",
       " 'coarse_aggregate_to_water_ratio': 3776.0}"
      ]
     },
     "execution_count": 80,
     "metadata": {},
     "output_type": "execute_result"
    }
   ],
   "source": [
    "model_final.get_score(importance_type='weight')"
   ]
  },
  {
   "cell_type": "code",
   "execution_count": 81,
   "metadata": {},
   "outputs": [
    {
     "data": {
      "image/png": "[encoded data removed]",
      "text/plain": [
       "<Figure size 1000x600 with 1 Axes>"
      ]
     },
     "metadata": {},
     "output_type": "display_data"
    }
   ],
   "source": [
    "# Fit the model with the best parameters from the study\n",
    "model = XGBRegressor(**study_gb.best_params, enable_categorical=True)\n",
    "model = xgb.train(params=study_gb.best_params, dtrain=dtrainvalid, \n",
    "                        num_boost_round=model_stage2.best_iteration,\n",
    "                        verbose_eval=0)\n",
    "\n",
    "# Make predictions on the test set\n",
    "y_pred = model.predict(dtest)\n",
    "\n",
    "# Plot the predictions vs actual values\n",
    "plt.figure(figsize=(10, 6))\n",
    "plt.scatter(y_test, y_pred, alpha=0.5)\n",
    "plt.plot([y_test.min(), y_test.max()], [y_test.min(), y_test.max()], 'k--', lw=2)\n",
    "plt.xlabel('Actual')\n",
    "plt.ylabel('Predicted')\n",
    "plt.title('Predictions vs Actual Values')\n",
    "plt.show()"
   ]
  },
  {
   "cell_type": "code",
   "execution_count": 82,
   "metadata": {},
   "outputs": [
    {
     "data": {
      "text/plain": [
       "0.9090446659190944"
      ]
     },
     "execution_count": 82,
     "metadata": {},
     "output_type": "execute_result"
    }
   ],
   "source": [
    "r2_score(y_test, y_pred)"
   ]
  },
  {
   "cell_type": "markdown",
   "metadata": {},
   "source": [
    "It can be seen that the model is fitting nicely. From the coefficient of determination, 91% of variance can be explained using the model. \\\n",
    "This is an improvement of 3% from using a base model without hyperparameter optimization. \\\n",
    "Extreme overestimation/underestimation is limted."
   ]
  },
  {
   "cell_type": "code",
   "execution_count": 66,
   "metadata": {},
   "outputs": [
    {
     "data": {
      "image/png": "[encoded data removed]",
      "text/plain": [
       "<Figure size 640x480 with 1 Axes>"
      ]
     },
     "metadata": {},
     "output_type": "display_data"
    }
   ],
   "source": [
    "xgb.plot_importance(model, importance_type='weight', max_num_features=10)\n",
    "plt.show()"
   ]
  },
  {
   "cell_type": "code",
   "execution_count": 67,
   "metadata": {},
   "outputs": [],
   "source": [
    "cv_results = xgb.cv(params = study_gb.best_params,\n",
    "        dtrain = dtest,\n",
    "        num_boost_round=model_stage2.best_iteration,\n",
    "        metrics = 'mape',\n",
    "        seed = 42)"
   ]
  },
  {
   "cell_type": "code",
   "execution_count": 68,
   "metadata": {},
   "outputs": [
    {
     "data": {
      "application/vnd.microsoft.datawrangler.viewer.v0+json": {
       "columns": [
        {
         "name": "index",
         "rawType": "int64",
         "type": "integer"
        },
        {
         "name": "train-mape-mean",
         "rawType": "float64",
         "type": "float"
        },
        {
         "name": "train-mape-std",
         "rawType": "float64",
         "type": "float"
        },
        {
         "name": "test-mape-mean",
         "rawType": "float64",
         "type": "float"
        },
        {
         "name": "test-mape-std",
         "rawType": "float64",
         "type": "float"
        }
       ],
       "conversionMethod": "pd.DataFrame",
       "ref": "9aca83dd-6553-4e9f-ba9f-2a242fdfe941",
       "rows": [
        [
         "0",
         "0.48904693388136317",
         "0.017228343567493254",
         "0.5032757300799385",
         "0.04104190678377163"
        ],
        [
         "1",
         "0.4023786168511012",
         "0.01990682081679225",
         "0.4251640093696783",
         "0.041452708837740555"
        ],
        [
         "2",
         "0.3536708058279201",
         "0.019206357501406948",
         "0.3842394953880361",
         "0.043437540861422784"
        ],
        [
         "3",
         "0.31084804434703617",
         "0.01616647076575054",
         "0.3465208591577292",
         "0.03701514414121308"
        ],
        [
         "4",
         "0.27380549461789944",
         "0.01612742862745649",
         "0.3146648192240336",
         "0.03434712619052074"
        ],
        [
         "5",
         "0.24801190080465008",
         "0.012147177076378872",
         "0.2914823958475404",
         "0.02835568114285938"
        ],
        [
         "6",
         "0.22733978295198665",
         "0.01112672476508063",
         "0.27884258628372866",
         "0.02702244589225202"
        ],
        [
         "7",
         "0.20700529327749728",
         "0.010221045448994458",
         "0.26329274373225425",
         "0.028271171472800446"
        ],
        [
         "8",
         "0.1921263930862511",
         "0.009061347155085355",
         "0.25237404284132553",
         "0.023051286662339725"
        ],
        [
         "9",
         "0.18064644604965444",
         "0.008600450007441331",
         "0.24747301195159946",
         "0.025835155070531097"
        ],
        [
         "10",
         "0.1741414549562366",
         "0.004191109879989049",
         "0.24273759484440852",
         "0.020552089108196565"
        ],
        [
         "11",
         "0.16412752812911877",
         "0.005310121424745893",
         "0.23118672478676508",
         "0.020898904710921203"
        ],
        [
         "12",
         "0.15660217427950884",
         "0.005609010416489201",
         "0.22652024254339",
         "0.0208731004952636"
        ],
        [
         "13",
         "0.14907026802709708",
         "0.004261228474537088",
         "0.21875901435542722",
         "0.016642685076857743"
        ],
        [
         "14",
         "0.14331680347803308",
         "0.0052576807753402285",
         "0.21359949997860098",
         "0.015660600690299446"
        ],
        [
         "15",
         "0.13804040150097732",
         "0.0055228913171074595",
         "0.20978620514989835",
         "0.014474927487159008"
        ],
        [
         "16",
         "0.13307849030839636",
         "0.005604434162376154",
         "0.2057188021795748",
         "0.015430561948891586"
        ],
        [
         "17",
         "0.12908874623365585",
         "0.00433414389424185",
         "0.20408712205474508",
         "0.01887167216052265"
        ],
        [
         "18",
         "0.12826950206966492",
         "0.0036132687191598296",
         "0.20407986346666962",
         "0.021758092393210117"
        ],
        [
         "19",
         "0.122820464233056",
         "0.005337669995937587",
         "0.20038188371484641",
         "0.021154471081800432"
        ],
        [
         "20",
         "0.12063300511765918",
         "0.004465783180051675",
         "0.19934157117116755",
         "0.02092891588834272"
        ],
        [
         "21",
         "0.11739354008053232",
         "0.003777248392688274",
         "0.19584036693070903",
         "0.02197113725518588"
        ],
        [
         "22",
         "0.11554544395681234",
         "0.0030545324374233905",
         "0.1971256681071317",
         "0.020518079007437507"
        ],
        [
         "23",
         "0.1122972159899764",
         "0.0030517729903326686",
         "0.19543762784192545",
         "0.02122882498068437"
        ],
        [
         "24",
         "0.1082036372583402",
         "0.0032112148653547752",
         "0.1940466437262908",
         "0.021693143705395133"
        ],
        [
         "25",
         "0.10602235786539792",
         "0.004577432389813012",
         "0.19303656504113",
         "0.022494521776725614"
        ],
        [
         "26",
         "0.1033078082159219",
         "0.00512710563655178",
         "0.19105885426816124",
         "0.02511677522776218"
        ],
        [
         "27",
         "0.10084706910206385",
         "0.005613056638365785",
         "0.1895988456493554",
         "0.025209400841159513"
        ],
        [
         "28",
         "0.09856977881638163",
         "0.004361746141780606",
         "0.1870657682158693",
         "0.027632613480785523"
        ],
        [
         "29",
         "0.09682310971630342",
         "0.003988476161921993",
         "0.18742151625390432",
         "0.027616915182871744"
        ],
        [
         "30",
         "0.09498845029412378",
         "0.0029340313356815625",
         "0.18686530398077442",
         "0.025680553634189363"
        ],
        [
         "31",
         "0.09419069180944545",
         "0.0031848942686277474",
         "0.18653594356659275",
         "0.025693053828188088"
        ],
        [
         "32",
         "0.09137500591429475",
         "0.0033946258634460057",
         "0.18578767513179587",
         "0.02571884738622201"
        ],
        [
         "33",
         "0.0907968127396937",
         "0.0039789266250227235",
         "0.1853298972533711",
         "0.025381995024065816"
        ],
        [
         "34",
         "0.08933383104753706",
         "0.0029750825234081714",
         "0.1855330852850847",
         "0.024124244878808095"
        ],
        [
         "35",
         "0.08771973073958776",
         "0.002795487513381073",
         "0.18379688390161655",
         "0.025312130705870173"
        ],
        [
         "36",
         "0.08637471005780407",
         "0.002914027536714798",
         "0.18300121291673657",
         "0.026765901007590156"
        ],
        [
         "37",
         "0.0855117905071305",
         "0.002613460072268448",
         "0.182894716939878",
         "0.026458328220555584"
        ],
        [
         "38",
         "0.08510185426607375",
         "0.0018473845140702346",
         "0.18243195056552763",
         "0.025808521056964503"
        ],
        [
         "39",
         "0.08392635334675769",
         "0.0018758163493114498",
         "0.1825984981173802",
         "0.025303034428265633"
        ],
        [
         "40",
         "0.08294945794868168",
         "0.0019183117778384376",
         "0.1827813530356551",
         "0.024305951692348834"
        ],
        [
         "41",
         "0.08164776212621942",
         "0.0014568732848438098",
         "0.1801409162958806",
         "0.023990425028419974"
        ],
        [
         "42",
         "0.08023509413679242",
         "0.0017627067037580884",
         "0.18043229338750433",
         "0.023089857557338885"
        ],
        [
         "43",
         "0.07899867499594211",
         "0.0024960437265085923",
         "0.1795372368717326",
         "0.024996724128679735"
        ],
        [
         "44",
         "0.07770351654781844",
         "0.00249191498240514",
         "0.18010808416712368",
         "0.02360349435941436"
        ],
        [
         "45",
         "0.076105629333063",
         "0.003285870139911716",
         "0.1800560254130951",
         "0.024073517803933714"
        ],
        [
         "46",
         "0.07492085726466008",
         "0.004125311739030314",
         "0.1787535967634125",
         "0.024752407899062072"
        ],
        [
         "47",
         "0.0730135623281037",
         "0.004282724181094192",
         "0.17780415712666323",
         "0.024177761857695743"
        ],
        [
         "48",
         "0.07250084194345034",
         "0.0038671618405738965",
         "0.1787192737072235",
         "0.025661382257583385"
        ],
        [
         "49",
         "0.07143483574135107",
         "0.0040956729322940534",
         "0.17912133882553738",
         "0.02394011219735422"
        ]
       ],
       "shape": {
        "columns": 4,
        "rows": 4999
       }
      },
      "text/html": [
       "<div>\n",
       "<style scoped>\n",
       "    .dataframe tbody tr th:only-of-type {\n",
       "        vertical-align: middle;\n",
       "    }\n",
       "\n",
       "    .dataframe tbody tr th {\n",
       "        vertical-align: top;\n",
       "    }\n",
       "\n",
       "    .dataframe thead th {\n",
       "        text-align: right;\n",
       "    }\n",
       "</style>\n",
       "<table border=\"1\" class=\"dataframe\">\n",
       "  <thead>\n",
       "    <tr style=\"text-align: right;\">\n",
       "      <th></th>\n",
       "      <th>train-mape-mean</th>\n",
       "      <th>train-mape-std</th>\n",
       "      <th>test-mape-mean</th>\n",
       "      <th>test-mape-std</th>\n",
       "    </tr>\n",
       "  </thead>\n",
       "  <tbody>\n",
       "    <tr>\n",
       "      <th>0</th>\n",
       "      <td>0.489047</td>\n",
       "      <td>0.017228</td>\n",
       "      <td>0.503276</td>\n",
       "      <td>0.041042</td>\n",
       "    </tr>\n",
       "    <tr>\n",
       "      <th>1</th>\n",
       "      <td>0.402379</td>\n",
       "      <td>0.019907</td>\n",
       "      <td>0.425164</td>\n",
       "      <td>0.041453</td>\n",
       "    </tr>\n",
       "    <tr>\n",
       "      <th>2</th>\n",
       "      <td>0.353671</td>\n",
       "      <td>0.019206</td>\n",
       "      <td>0.384239</td>\n",
       "      <td>0.043438</td>\n",
       "    </tr>\n",
       "    <tr>\n",
       "      <th>3</th>\n",
       "      <td>0.310848</td>\n",
       "      <td>0.016166</td>\n",
       "      <td>0.346521</td>\n",
       "      <td>0.037015</td>\n",
       "    </tr>\n",
       "    <tr>\n",
       "      <th>4</th>\n",
       "      <td>0.273805</td>\n",
       "      <td>0.016127</td>\n",
       "      <td>0.314665</td>\n",
       "      <td>0.034347</td>\n",
       "    </tr>\n",
       "    <tr>\n",
       "      <th>...</th>\n",
       "      <td>...</td>\n",
       "      <td>...</td>\n",
       "      <td>...</td>\n",
       "      <td>...</td>\n",
       "    </tr>\n",
       "    <tr>\n",
       "      <th>4994</th>\n",
       "      <td>0.001549</td>\n",
       "      <td>0.001224</td>\n",
       "      <td>0.193762</td>\n",
       "      <td>0.015601</td>\n",
       "    </tr>\n",
       "    <tr>\n",
       "      <th>4995</th>\n",
       "      <td>0.001555</td>\n",
       "      <td>0.001242</td>\n",
       "      <td>0.193785</td>\n",
       "      <td>0.015636</td>\n",
       "    </tr>\n",
       "    <tr>\n",
       "      <th>4996</th>\n",
       "      <td>0.001545</td>\n",
       "      <td>0.001230</td>\n",
       "      <td>0.193783</td>\n",
       "      <td>0.015633</td>\n",
       "    </tr>\n",
       "    <tr>\n",
       "      <th>4997</th>\n",
       "      <td>0.001537</td>\n",
       "      <td>0.001213</td>\n",
       "      <td>0.193785</td>\n",
       "      <td>0.015639</td>\n",
       "    </tr>\n",
       "    <tr>\n",
       "      <th>4998</th>\n",
       "      <td>0.001529</td>\n",
       "      <td>0.001208</td>\n",
       "      <td>0.193783</td>\n",
       "      <td>0.015635</td>\n",
       "    </tr>\n",
       "  </tbody>\n",
       "</table>\n",
       "<p>4999 rows × 4 columns</p>\n",
       "</div>"
      ],
      "text/plain": [
       "      train-mape-mean  train-mape-std  test-mape-mean  test-mape-std\n",
       "0            0.489047        0.017228        0.503276       0.041042\n",
       "1            0.402379        0.019907        0.425164       0.041453\n",
       "2            0.353671        0.019206        0.384239       0.043438\n",
       "3            0.310848        0.016166        0.346521       0.037015\n",
       "4            0.273805        0.016127        0.314665       0.034347\n",
       "...               ...             ...             ...            ...\n",
       "4994         0.001549        0.001224        0.193762       0.015601\n",
       "4995         0.001555        0.001242        0.193785       0.015636\n",
       "4996         0.001545        0.001230        0.193783       0.015633\n",
       "4997         0.001537        0.001213        0.193785       0.015639\n",
       "4998         0.001529        0.001208        0.193783       0.015635\n",
       "\n",
       "[4999 rows x 4 columns]"
      ]
     },
     "execution_count": 68,
     "metadata": {},
     "output_type": "execute_result"
    }
   ],
   "source": [
    "cv_results"
   ]
  }
 ],
 "metadata": {
  "kernelspec": {
   "display_name": "Python 3",
   "language": "python",
   "name": "python3"
  },
  "language_info": {
   "codemirror_mode": {
    "name": "ipython",
    "version": 3
   },
   "file_extension": ".py",
   "mimetype": "text/x-python",
   "name": "python",
   "nbconvert_exporter": "python",
   "pygments_lexer": "ipython3",
   "version": "3.12.1"
  }
 },
 "nbformat": 4,
 "nbformat_minor": 2
}
