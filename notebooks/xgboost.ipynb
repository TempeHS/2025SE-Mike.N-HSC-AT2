{
 "cells": [
  {
   "cell_type": "markdown",
   "metadata": {},
   "source": [
    "## Model Training and Evaluation with XGBoostRegressor ##"
   ]
  },
  {
   "cell_type": "code",
   "execution_count": 1,
   "metadata": {},
   "outputs": [],
   "source": [
    "#Dependencies\n",
    "from sklearn.preprocessing import MinMaxScaler\n",
    "from sklearn.model_selection import train_test_split, cross_val_score\n",
    "from sklearn.metrics import mean_squared_error, root_mean_squared_error, mean_absolute_percentage_error, mean_absolute_error, r2_score\n",
    "from sklearn.pipeline import Pipeline\n",
    "from sklearn.inspection import permutation_importance\n",
    "from xgboost import XGBRegressor\n",
    "import xgboost as xgb\n",
    "from xgboost import cv\n",
    "from optuna import create_study\n",
    "from optuna.visualization import plot_optimization_history, plot_param_importances\n",
    "from optuna.integration import XGBoostPruningCallback\n",
    "from optuna.samplers import TPESampler\n",
    "import optuna\n",
    "import pandas as pd\n",
    "import matplotlib.pyplot as plt\n",
    "import seaborn as sns\n",
    "import numpy as np\n",
    "import pickle"
   ]
  },
  {
   "cell_type": "code",
   "execution_count": 2,
   "metadata": {},
   "outputs": [],
   "source": [
    "X_full = pd.read_csv('../data/concrete_preprocessed.csv')\n",
    "y = X_full['strength']\n",
    "X = X_full.drop(['strength'], axis=1)"
   ]
  },
  {
   "cell_type": "code",
   "execution_count": 3,
   "metadata": {},
   "outputs": [
    {
     "name": "stdout",
     "output_type": "stream",
     "text": [
      "<class 'pandas.core.frame.DataFrame'>\n",
      "RangeIndex: 904 entries, 0 to 903\n",
      "Data columns (total 11 columns):\n",
      " #   Column                           Non-Null Count  Dtype  \n",
      "---  ------                           --------------  -----  \n",
      " 0   cement                           904 non-null    float64\n",
      " 1   blast_furnace_slag               904 non-null    float64\n",
      " 2   fly_ash                          904 non-null    float64\n",
      " 3   water                            904 non-null    float64\n",
      " 4   superplasticizer                 904 non-null    float64\n",
      " 5   coarse_aggregate                 904 non-null    float64\n",
      " 6   fine_aggregate                   904 non-null    float64\n",
      " 7   age                              904 non-null    float64\n",
      " 8   cement_to_water_ratio            904 non-null    float64\n",
      " 9   fine_aggregate_to_water_ratio    904 non-null    float64\n",
      " 10  coarse_aggregate_to_water_ratio  904 non-null    float64\n",
      "dtypes: float64(11)\n",
      "memory usage: 77.8 KB\n"
     ]
    }
   ],
   "source": [
    "X.info()"
   ]
  },
  {
   "cell_type": "code",
   "execution_count": 4,
   "metadata": {},
   "outputs": [
    {
     "name": "stdout",
     "output_type": "stream",
     "text": [
      "<class 'pandas.core.series.Series'>\n",
      "RangeIndex: 904 entries, 0 to 903\n",
      "Series name: strength\n",
      "Non-Null Count  Dtype  \n",
      "--------------  -----  \n",
      "904 non-null    float64\n",
      "dtypes: float64(1)\n",
      "memory usage: 7.2 KB\n"
     ]
    }
   ],
   "source": [
    "y.info()"
   ]
  },
  {
   "cell_type": "markdown",
   "metadata": {},
   "source": [
    "**Model Training** \\\n",
    "We divide the training phase into 2 phases:\n",
    "* In the 1st phase, we use Optuna to find the best tree parameters with a medium learning rate to improve trial speeds.\n",
    "* In the 2nd phase, we use a small learning rate to find the best number of boosting rounds."
   ]
  },
  {
   "cell_type": "code",
   "execution_count": 5,
   "metadata": {},
   "outputs": [
    {
     "name": "stderr",
     "output_type": "stream",
     "text": [
      "[I 2025-04-08 10:44:25,833] A new study created in memory with name: no-name-e573a409-fb5b-4a10-922b-460fe080779b\n"
     ]
    },
    {
     "name": "stderr",
     "output_type": "stream",
     "text": [
      "[I 2025-04-08 10:44:26,930] Trial 0 finished with value: 3.830176762739118 and parameters: {'tree_method': 'hist', 'learning_rate': 0.4195981825434215, 'reg_lambda': 0.6502468545951017, 'max_depth': 4, 'min_child_weight': 32, 'gamma': 0.0018747059221802516, 'subsample': 0.9330880728874675, 'colsample_bynode': 0.8005575058716043, 'colsample_bytree': 0.8540362888980227, 'colsample_bylevel': 0.5102922471479012}. Best is trial 0 with value: 3.830176762739118.\n",
      "[I 2025-04-08 10:44:28,574] Trial 1 finished with value: 4.239130352034312 and parameters: {'tree_method': 'approx', 'learning_rate': 0.26370173320348284, 'reg_lambda': 0.007151383480402496, 'max_depth': 4, 'min_child_weight': 61, 'gamma': 0.2922905212920093, 'subsample': 0.7159725093210578, 'colsample_bynode': 0.645614570099021, 'colsample_bytree': 0.8059264473611898, 'colsample_bylevel': 0.569746930326021}. Best is trial 0 with value: 3.830176762739118.\n",
      "[I 2025-04-08 10:44:29,113] Trial 2 finished with value: 7.47193669481577 and parameters: {'tree_method': 'hist', 'learning_rate': 0.3368209952651108, 'reg_lambda': 4.89235869319053, 'max_depth': 4, 'min_child_weight': 103, 'gamma': 0.6077686426194465, 'subsample': 0.5232252063599989, 'colsample_bynode': 0.8037724259507192, 'colsample_bytree': 0.5852620618436457, 'colsample_bylevel': 0.5325257964926398}. Best is trial 0 with value: 3.830176762739118.\n",
      "[I 2025-04-08 10:44:29,600] Trial 3 finished with value: 11.767139992861836 and parameters: {'tree_method': 'hist', 'learning_rate': 0.4425192044349383, 'reg_lambda': 0.027000447632122594, 'max_depth': 3, 'min_child_weight': 137, 'gamma': 0.11702088154220885, 'subsample': 0.5610191174223894, 'colsample_bynode': 0.7475884550556351, 'colsample_bytree': 0.5171942605576092, 'colsample_bylevel': 0.954660201039391}. Best is trial 0 with value: 3.830176762739118.\n",
      "[I 2025-04-08 10:44:30,154] Trial 4 finished with value: 4.417540222660502 and parameters: {'tree_method': 'hist', 'learning_rate': 0.2935133228268233, 'reg_lambda': 0.2778331300797557, 'max_depth': 8, 'min_child_weight': 37, 'gamma': 35.97899951374987, 'subsample': 0.8875664116805573, 'colsample_bynode': 0.9697494707820946, 'colsample_bytree': 0.9474136752138245, 'colsample_bylevel': 0.7989499894055425}. Best is trial 0 with value: 3.830176762739118.\n",
      "[I 2025-04-08 10:44:30,173] Trial 5 pruned. Trial was pruned at iteration 0.\n",
      "[I 2025-04-08 10:44:33,063] Trial 6 finished with value: 3.6286425344407642 and parameters: {'tree_method': 'hist', 'learning_rate': 0.22236519310393127, 'reg_lambda': 43.38624983446471, 'max_depth': 10, 'min_child_weight': 40, 'gamma': 0.001061569085492564, 'subsample': 0.9077307142274171, 'colsample_bynode': 0.8534286719238086, 'colsample_bytree': 0.8645035840204937, 'colsample_bylevel': 0.8856351733429728}. Best is trial 6 with value: 3.6286425344407642.\n",
      "[I 2025-04-08 10:44:33,093] Trial 7 pruned. Trial was pruned at iteration 8.\n",
      "[I 2025-04-08 10:44:33,105] Trial 8 pruned. Trial was pruned at iteration 0.\n",
      "[I 2025-04-08 10:44:33,120] Trial 9 pruned. Trial was pruned at iteration 0.\n",
      "[I 2025-04-08 10:44:34,751] Trial 10 finished with value: 3.6295402795196985 and parameters: {'tree_method': 'hist', 'learning_rate': 0.2017991548867452, 'reg_lambda': 35.96050663131082, 'max_depth': 12, 'min_child_weight': 4, 'gamma': 0.024038953481305168, 'subsample': 0.8271882613853767, 'colsample_bynode': 0.5370600891325922, 'colsample_bytree': 0.9785272620058365, 'colsample_bylevel': 0.9961813327301687}. Best is trial 6 with value: 3.6286425344407642.\n",
      "[I 2025-04-08 10:44:36,433] Trial 11 finished with value: 3.725558406981417 and parameters: {'tree_method': 'hist', 'learning_rate': 0.20261681125172842, 'reg_lambda': 31.971006124285843, 'max_depth': 12, 'min_child_weight': 4, 'gamma': 0.013429680269363501, 'subsample': 0.833432772918148, 'colsample_bynode': 0.503926729438912, 'colsample_bytree': 0.9814416919899579, 'colsample_bylevel': 0.9862363636332606}. Best is trial 6 with value: 3.6286425344407642.\n",
      "[I 2025-04-08 10:44:37,055] Trial 12 finished with value: 3.9105288303930394 and parameters: {'tree_method': 'hist', 'learning_rate': 0.49621810672254846, 'reg_lambda': 47.22729708605275, 'max_depth': 12, 'min_child_weight': 4, 'gamma': 0.001438199276284204, 'subsample': 0.9958296654497623, 'colsample_bynode': 0.5091746009267536, 'colsample_bytree': 0.9234980616943328, 'colsample_bylevel': 0.9044949665689589}. Best is trial 6 with value: 3.6286425344407642.\n",
      "[I 2025-04-08 10:44:37,227] Trial 13 pruned. Trial was pruned at iteration 32.\n",
      "[I 2025-04-08 10:44:37,555] Trial 14 pruned. Trial was pruned at iteration 95.\n",
      "[I 2025-04-08 10:44:37,704] Trial 15 pruned. Trial was pruned at iteration 20.\n",
      "[I 2025-04-08 10:44:38,020] Trial 16 pruned. Trial was pruned at iteration 58.\n",
      "[I 2025-04-08 10:44:38,133] Trial 17 pruned. Trial was pruned at iteration 2.\n",
      "[I 2025-04-08 10:44:38,242] Trial 18 pruned. Trial was pruned at iteration 0.\n",
      "[I 2025-04-08 10:44:38,354] Trial 19 pruned. Trial was pruned at iteration 5.\n",
      "[I 2025-04-08 10:44:38,466] Trial 20 pruned. Trial was pruned at iteration 0.\n",
      "[I 2025-04-08 10:44:38,655] Trial 21 pruned. Trial was pruned at iteration 29.\n",
      "[I 2025-04-08 10:44:40,027] Trial 22 finished with value: 3.3676804585358298 and parameters: {'tree_method': 'hist', 'learning_rate': 0.22982525108950022, 'reg_lambda': 16.724994885595123, 'max_depth': 12, 'min_child_weight': 16, 'gamma': 0.008435309574629861, 'subsample': 0.8489781062882539, 'colsample_bynode': 0.541320542076461, 'colsample_bytree': 0.9674493793328488, 'colsample_bylevel': 0.9980175742658973}. Best is trial 22 with value: 3.3676804585358298.\n",
      "[I 2025-04-08 10:44:41,456] Trial 23 finished with value: 3.5759648017660846 and parameters: {'tree_method': 'hist', 'learning_rate': 0.2380182770206071, 'reg_lambda': 14.155955356878254, 'max_depth': 11, 'min_child_weight': 24, 'gamma': 0.006780867001938679, 'subsample': 0.7733054407077795, 'colsample_bynode': 0.5506905692013367, 'colsample_bytree': 0.9444351619617183, 'colsample_bylevel': 0.8288739521872185}. Best is trial 22 with value: 3.3676804585358298.\n",
      "[I 2025-04-08 10:44:41,617] Trial 24 pruned. Trial was pruned at iteration 22.\n",
      "[I 2025-04-08 10:44:42,601] Trial 25 finished with value: 3.5671331326076667 and parameters: {'tree_method': 'hist', 'learning_rate': 0.3117267321700148, 'reg_lambda': 11.73193055489703, 'max_depth': 11, 'min_child_weight': 22, 'gamma': 0.0035959659515518196, 'subsample': 0.7527880068719618, 'colsample_bynode': 0.6178693600840564, 'colsample_bytree': 0.8446452583922469, 'colsample_bylevel': 0.8316538322481923}. Best is trial 22 with value: 3.3676804585358298.\n",
      "[I 2025-04-08 10:44:43,380] Trial 26 pruned. Trial was pruned at iteration 268.\n",
      "[I 2025-04-08 10:44:43,497] Trial 27 pruned. Trial was pruned at iteration 0.\n",
      "[I 2025-04-08 10:44:43,873] Trial 28 pruned. Trial was pruned at iteration 66.\n",
      "[I 2025-04-08 10:44:44,034] Trial 29 pruned. Trial was pruned at iteration 16.\n",
      "[I 2025-04-08 10:44:44,568] Trial 30 finished with value: 3.795329687135722 and parameters: {'tree_method': 'hist', 'learning_rate': 0.31850004856430475, 'reg_lambda': 0.1329464871897275, 'max_depth': 9, 'min_child_weight': 27, 'gamma': 0.002616165486865779, 'subsample': 0.7692825911522868, 'colsample_bynode': 0.697182715985305, 'colsample_bytree': 0.9502511820788466, 'colsample_bylevel': 0.6053029763402756}. Best is trial 22 with value: 3.3676804585358298.\n",
      "[I 2025-04-08 10:44:44,706] Trial 31 pruned. Trial was pruned at iteration 9.\n",
      "[I 2025-04-08 10:44:44,974] Trial 32 pruned. Trial was pruned at iteration 76.\n",
      "[I 2025-04-08 10:44:45,089] Trial 33 pruned. Trial was pruned at iteration 1.\n",
      "[I 2025-04-08 10:44:45,278] Trial 34 pruned. Trial was pruned at iteration 27.\n",
      "[I 2025-04-08 10:44:46,002] Trial 35 finished with value: 3.805264451604492 and parameters: {'tree_method': 'hist', 'learning_rate': 0.22380117462747354, 'reg_lambda': 8.640918860284845, 'max_depth': 10, 'min_child_weight': 13, 'gamma': 0.004238635828293487, 'subsample': 0.719069479713442, 'colsample_bynode': 0.7877623984517278, 'colsample_bytree': 0.8882897858844162, 'colsample_bylevel': 0.8375588687302149}. Best is trial 22 with value: 3.3676804585358298.\n",
      "[I 2025-04-08 10:44:46,123] Trial 36 pruned. Trial was pruned at iteration 1.\n",
      "[I 2025-04-08 10:44:46,241] Trial 37 pruned. Trial was pruned at iteration 0.\n",
      "[I 2025-04-08 10:44:46,383] Trial 38 pruned. Trial was pruned at iteration 4.\n",
      "[I 2025-04-08 10:44:46,504] Trial 39 pruned. Trial was pruned at iteration 0.\n",
      "[I 2025-04-08 10:44:46,619] Trial 40 pruned. Trial was pruned at iteration 0.\n",
      "[I 2025-04-08 10:44:46,733] Trial 41 pruned. Trial was pruned at iteration 0.\n",
      "[I 2025-04-08 10:44:46,851] Trial 42 pruned. Trial was pruned at iteration 0.\n",
      "[I 2025-04-08 10:44:47,390] Trial 43 pruned. Trial was pruned at iteration 68.\n",
      "[I 2025-04-08 10:44:47,523] Trial 44 pruned. Trial was pruned at iteration 0.\n",
      "[I 2025-04-08 10:44:47,638] Trial 45 pruned. Trial was pruned at iteration 0.\n",
      "[I 2025-04-08 10:44:47,757] Trial 46 pruned. Trial was pruned at iteration 0.\n",
      "[I 2025-04-08 10:44:47,890] Trial 47 pruned. Trial was pruned at iteration 0.\n",
      "[I 2025-04-08 10:44:48,335] Trial 48 pruned. Trial was pruned at iteration 77.\n",
      "[I 2025-04-08 10:44:48,501] Trial 49 pruned. Trial was pruned at iteration 8.\n",
      "[I 2025-04-08 10:44:48,679] Trial 50 pruned. Trial was pruned at iteration 23.\n",
      "[I 2025-04-08 10:44:48,808] Trial 51 pruned. Trial was pruned at iteration 0.\n",
      "[I 2025-04-08 10:44:48,939] Trial 52 pruned. Trial was pruned at iteration 0.\n",
      "[I 2025-04-08 10:44:49,075] Trial 53 pruned. Trial was pruned at iteration 0.\n",
      "[I 2025-04-08 10:44:49,200] Trial 54 pruned. Trial was pruned at iteration 0.\n",
      "[I 2025-04-08 10:44:49,338] Trial 55 pruned. Trial was pruned at iteration 0.\n",
      "[I 2025-04-08 10:44:49,486] Trial 56 pruned. Trial was pruned at iteration 0.\n",
      "[I 2025-04-08 10:44:49,640] Trial 57 pruned. Trial was pruned at iteration 0.\n",
      "[I 2025-04-08 10:44:50,115] Trial 58 pruned. Trial was pruned at iteration 25.\n",
      "[I 2025-04-08 10:44:50,247] Trial 59 pruned. Trial was pruned at iteration 0.\n",
      "[I 2025-04-08 10:44:50,424] Trial 60 pruned. Trial was pruned at iteration 0.\n",
      "[I 2025-04-08 10:44:50,746] Trial 61 pruned. Trial was pruned at iteration 42.\n",
      "[I 2025-04-08 10:44:51,198] Trial 62 pruned. Trial was pruned at iteration 71.\n",
      "[I 2025-04-08 10:44:51,489] Trial 63 pruned. Trial was pruned at iteration 38.\n",
      "[I 2025-04-08 10:44:51,639] Trial 64 pruned. Trial was pruned at iteration 0.\n",
      "[I 2025-04-08 10:44:52,054] Trial 65 pruned. Trial was pruned at iteration 45.\n",
      "[I 2025-04-08 10:44:52,252] Trial 66 pruned. Trial was pruned at iteration 18.\n",
      "[I 2025-04-08 10:44:52,394] Trial 67 pruned. Trial was pruned at iteration 0.\n",
      "[I 2025-04-08 10:44:52,571] Trial 68 pruned. Trial was pruned at iteration 1.\n",
      "[I 2025-04-08 10:44:53,654] Trial 69 finished with value: 3.6883544617997837 and parameters: {'tree_method': 'hist', 'learning_rate': 0.33222388926053237, 'reg_lambda': 0.0383839039104171, 'max_depth': 5, 'min_child_weight': 16, 'gamma': 1.3435200712044473, 'subsample': 0.9061162939034697, 'colsample_bynode': 0.537160150410761, 'colsample_bytree': 0.8080183779840268, 'colsample_bylevel': 0.8198357170644975}. Best is trial 22 with value: 3.3676804585358298.\n",
      "[I 2025-04-08 10:44:54,032] Trial 70 pruned. Trial was pruned at iteration 70.\n",
      "[I 2025-04-08 10:44:54,536] Trial 71 pruned. Trial was pruned at iteration 62.\n",
      "[I 2025-04-08 10:44:54,784] Trial 72 pruned. Trial was pruned at iteration 21.\n",
      "[I 2025-04-08 10:44:55,042] Trial 73 pruned. Trial was pruned at iteration 23.\n",
      "[I 2025-04-08 10:44:55,358] Trial 74 pruned. Trial was pruned at iteration 58.\n",
      "[I 2025-04-08 10:44:55,614] Trial 75 pruned. Trial was pruned at iteration 0.\n",
      "[I 2025-04-08 10:44:55,937] Trial 76 pruned. Trial was pruned at iteration 21.\n",
      "[I 2025-04-08 10:44:56,098] Trial 77 pruned. Trial was pruned at iteration 0.\n",
      "[I 2025-04-08 10:44:56,253] Trial 78 pruned. Trial was pruned at iteration 0.\n",
      "[I 2025-04-08 10:44:56,437] Trial 79 pruned. Trial was pruned at iteration 0.\n",
      "[I 2025-04-08 10:44:57,520] Trial 80 finished with value: 3.7521650955702026 and parameters: {'tree_method': 'hist', 'learning_rate': 0.4292703755021477, 'reg_lambda': 0.005850832266544118, 'max_depth': 11, 'min_child_weight': 15, 'gamma': 0.019424277430015294, 'subsample': 0.7376894415447822, 'colsample_bynode': 0.8094862389039563, 'colsample_bytree': 0.7451546248750323, 'colsample_bylevel': 0.8287953471880954}. Best is trial 22 with value: 3.3676804585358298.\n",
      "[I 2025-04-08 10:44:58,023] Trial 81 pruned. Trial was pruned at iteration 73.\n",
      "[I 2025-04-08 10:44:58,367] Trial 82 pruned. Trial was pruned at iteration 46.\n",
      "[I 2025-04-08 10:44:58,524] Trial 83 pruned. Trial was pruned at iteration 0.\n",
      "[I 2025-04-08 10:44:58,962] Trial 84 pruned. Trial was pruned at iteration 27.\n",
      "[I 2025-04-08 10:44:59,332] Trial 85 pruned. Trial was pruned at iteration 56.\n",
      "[I 2025-04-08 10:44:59,654] Trial 86 pruned. Trial was pruned at iteration 37.\n",
      "[I 2025-04-08 10:44:59,880] Trial 87 pruned. Trial was pruned at iteration 27.\n",
      "[I 2025-04-08 10:45:00,276] Trial 88 pruned. Trial was pruned at iteration 81.\n",
      "[I 2025-04-08 10:45:00,413] Trial 89 pruned. Trial was pruned at iteration 0.\n",
      "[I 2025-04-08 10:45:00,587] Trial 90 pruned. Trial was pruned at iteration 11.\n",
      "[I 2025-04-08 10:45:00,759] Trial 91 pruned. Trial was pruned at iteration 0.\n",
      "[I 2025-04-08 10:45:01,412] Trial 92 pruned. Trial was pruned at iteration 126.\n",
      "[I 2025-04-08 10:45:03,203] Trial 93 finished with value: 3.457746981563154 and parameters: {'tree_method': 'hist', 'learning_rate': 0.3228219986779431, 'reg_lambda': 8.600484082465826, 'max_depth': 11, 'min_child_weight': 18, 'gamma': 0.006605324901741132, 'subsample': 0.7676469974039258, 'colsample_bynode': 0.7671800201517471, 'colsample_bytree': 0.9722975471664252, 'colsample_bylevel': 0.8302346398186502}. Best is trial 22 with value: 3.3676804585358298.\n",
      "[I 2025-04-08 10:45:03,541] Trial 94 pruned. Trial was pruned at iteration 55.\n",
      "[I 2025-04-08 10:45:03,678] Trial 95 pruned. Trial was pruned at iteration 0.\n",
      "[I 2025-04-08 10:45:03,813] Trial 96 pruned. Trial was pruned at iteration 0.\n",
      "[I 2025-04-08 10:45:03,945] Trial 97 pruned. Trial was pruned at iteration 0.\n",
      "[I 2025-04-08 10:45:04,118] Trial 98 pruned. Trial was pruned at iteration 0.\n",
      "[I 2025-04-08 10:45:04,288] Trial 99 pruned. Trial was pruned at iteration 0.\n",
      "[I 2025-04-08 10:45:04,858] Trial 100 pruned. Trial was pruned at iteration 88.\n",
      "[I 2025-04-08 10:45:05,009] Trial 101 pruned. Trial was pruned at iteration 0.\n",
      "[I 2025-04-08 10:45:05,182] Trial 102 pruned. Trial was pruned at iteration 0.\n",
      "[I 2025-04-08 10:45:05,557] Trial 103 pruned. Trial was pruned at iteration 66.\n",
      "[I 2025-04-08 10:45:05,705] Trial 104 pruned. Trial was pruned at iteration 2.\n",
      "[I 2025-04-08 10:45:05,853] Trial 105 pruned. Trial was pruned at iteration 0.\n",
      "[I 2025-04-08 10:45:06,151] Trial 106 pruned. Trial was pruned at iteration 48.\n",
      "[I 2025-04-08 10:45:07,318] Trial 107 finished with value: 3.5690718237600465 and parameters: {'tree_method': 'hist', 'learning_rate': 0.23652855547280952, 'reg_lambda': 6.713236085316005, 'max_depth': 11, 'min_child_weight': 12, 'gamma': 0.00502447338582302, 'subsample': 0.7433948432961665, 'colsample_bynode': 0.5433205324257185, 'colsample_bytree': 0.9489414660117804, 'colsample_bylevel': 0.8093852880563228}. Best is trial 22 with value: 3.3676804585358298.\n",
      "[I 2025-04-08 10:45:07,449] Trial 108 pruned. Trial was pruned at iteration 0.\n",
      "[I 2025-04-08 10:45:08,371] Trial 109 finished with value: 3.6838920341155577 and parameters: {'tree_method': 'hist', 'learning_rate': 0.28735432674886413, 'reg_lambda': 3.843719708026441, 'max_depth': 12, 'min_child_weight': 18, 'gamma': 0.0024553131658114464, 'subsample': 0.7433976747284599, 'colsample_bynode': 0.5284652994842257, 'colsample_bytree': 0.9737599649282521, 'colsample_bylevel': 0.8107733348177717}. Best is trial 22 with value: 3.3676804585358298.\n",
      "[I 2025-04-08 10:45:08,509] Trial 110 pruned. Trial was pruned at iteration 0.\n",
      "[I 2025-04-08 10:45:08,655] Trial 111 pruned. Trial was pruned at iteration 2.\n",
      "[I 2025-04-08 10:45:09,685] Trial 112 finished with value: 3.5737579720104296 and parameters: {'tree_method': 'hist', 'learning_rate': 0.3352990713844233, 'reg_lambda': 6.234837267713086, 'max_depth': 12, 'min_child_weight': 23, 'gamma': 0.003795509965699856, 'subsample': 0.7346363811081628, 'colsample_bynode': 0.5534386505858865, 'colsample_bytree': 0.9998971207466539, 'colsample_bylevel': 0.8300574235358319}. Best is trial 22 with value: 3.3676804585358298.\n",
      "[I 2025-04-08 10:45:09,879] Trial 113 pruned. Trial was pruned at iteration 23.\n",
      "[I 2025-04-08 10:45:10,904] Trial 114 finished with value: 3.7894490788930506 and parameters: {'tree_method': 'hist', 'learning_rate': 0.3225017707515917, 'reg_lambda': 7.3006402288708365, 'max_depth': 12, 'min_child_weight': 9, 'gamma': 0.003826506195846193, 'subsample': 0.7317881737991618, 'colsample_bynode': 0.5518026057897356, 'colsample_bytree': 0.9916254646106651, 'colsample_bylevel': 0.7779626321161374}. Best is trial 22 with value: 3.3676804585358298.\n",
      "[I 2025-04-08 10:45:11,068] Trial 115 pruned. Trial was pruned at iteration 0.\n",
      "[I 2025-04-08 10:45:11,233] Trial 116 pruned. Trial was pruned at iteration 0.\n",
      "[I 2025-04-08 10:45:11,383] Trial 117 pruned. Trial was pruned at iteration 0.\n",
      "[I 2025-04-08 10:45:12,014] Trial 118 finished with value: 3.680548403544853 and parameters: {'tree_method': 'hist', 'learning_rate': 0.28500296759126037, 'reg_lambda': 6.541300991341698, 'max_depth': 12, 'min_child_weight': 11, 'gamma': 1.608226252632105, 'subsample': 0.7235699767792707, 'colsample_bynode': 0.5787323790576364, 'colsample_bytree': 0.9881688947091417, 'colsample_bylevel': 0.8644062024468472}. Best is trial 22 with value: 3.3676804585358298.\n",
      "[I 2025-04-08 10:45:12,271] Trial 119 pruned. Trial was pruned at iteration 42.\n",
      "[I 2025-04-08 10:45:12,402] Trial 120 pruned. Trial was pruned at iteration 0.\n",
      "[I 2025-04-08 10:45:12,581] Trial 121 pruned. Trial was pruned at iteration 0.\n",
      "[I 2025-04-08 10:45:12,734] Trial 122 pruned. Trial was pruned at iteration 0.\n",
      "[I 2025-04-08 10:45:12,887] Trial 123 pruned. Trial was pruned at iteration 0.\n",
      "[I 2025-04-08 10:45:13,202] Trial 124 pruned. Trial was pruned at iteration 35.\n",
      "[I 2025-04-08 10:45:13,361] Trial 125 pruned. Trial was pruned at iteration 0.\n",
      "[I 2025-04-08 10:45:13,494] Trial 126 pruned. Trial was pruned at iteration 0.\n",
      "[I 2025-04-08 10:45:13,641] Trial 127 pruned. Trial was pruned at iteration 0.\n",
      "[I 2025-04-08 10:45:13,778] Trial 128 pruned. Trial was pruned at iteration 0.\n",
      "[I 2025-04-08 10:45:13,912] Trial 129 pruned. Trial was pruned at iteration 0.\n",
      "[I 2025-04-08 10:45:14,045] Trial 130 pruned. Trial was pruned at iteration 0.\n",
      "[I 2025-04-08 10:45:14,183] Trial 131 pruned. Trial was pruned at iteration 1.\n",
      "[I 2025-04-08 10:45:14,343] Trial 132 pruned. Trial was pruned at iteration 0.\n",
      "[I 2025-04-08 10:45:14,479] Trial 133 pruned. Trial was pruned at iteration 0.\n",
      "[I 2025-04-08 10:45:14,624] Trial 134 pruned. Trial was pruned at iteration 3.\n",
      "[I 2025-04-08 10:45:14,763] Trial 135 pruned. Trial was pruned at iteration 1.\n",
      "[I 2025-04-08 10:45:15,017] Trial 136 pruned. Trial was pruned at iteration 43.\n",
      "[I 2025-04-08 10:45:15,157] Trial 137 pruned. Trial was pruned at iteration 0.\n",
      "[I 2025-04-08 10:45:15,296] Trial 138 pruned. Trial was pruned at iteration 0.\n",
      "[I 2025-04-08 10:45:15,533] Trial 139 pruned. Trial was pruned at iteration 27.\n",
      "[I 2025-04-08 10:45:15,836] Trial 140 pruned. Trial was pruned at iteration 41.\n",
      "[I 2025-04-08 10:45:15,971] Trial 141 pruned. Trial was pruned at iteration 1.\n",
      "[I 2025-04-08 10:45:16,109] Trial 142 pruned. Trial was pruned at iteration 1.\n",
      "[I 2025-04-08 10:45:16,249] Trial 143 pruned. Trial was pruned at iteration 0.\n",
      "[I 2025-04-08 10:45:16,389] Trial 144 pruned. Trial was pruned at iteration 0.\n",
      "[I 2025-04-08 10:45:16,570] Trial 145 pruned. Trial was pruned at iteration 5.\n",
      "[I 2025-04-08 10:45:16,734] Trial 146 pruned. Trial was pruned at iteration 1.\n",
      "[I 2025-04-08 10:45:17,027] Trial 147 pruned. Trial was pruned at iteration 39.\n",
      "[I 2025-04-08 10:45:17,166] Trial 148 pruned. Trial was pruned at iteration 0.\n",
      "[I 2025-04-08 10:45:17,437] Trial 149 pruned. Trial was pruned at iteration 24.\n",
      "[I 2025-04-08 10:45:17,574] Trial 150 pruned. Trial was pruned at iteration 0.\n",
      "[I 2025-04-08 10:45:17,734] Trial 151 pruned. Trial was pruned at iteration 0.\n",
      "[I 2025-04-08 10:45:17,877] Trial 152 pruned. Trial was pruned at iteration 0.\n",
      "[I 2025-04-08 10:45:18,200] Trial 153 pruned. Trial was pruned at iteration 71.\n",
      "[I 2025-04-08 10:45:18,343] Trial 154 pruned. Trial was pruned at iteration 0.\n",
      "[I 2025-04-08 10:45:18,483] Trial 155 pruned. Trial was pruned at iteration 1.\n",
      "[I 2025-04-08 10:45:18,628] Trial 156 pruned. Trial was pruned at iteration 0.\n",
      "[I 2025-04-08 10:45:18,794] Trial 157 pruned. Trial was pruned at iteration 16.\n",
      "[I 2025-04-08 10:45:18,933] Trial 158 pruned. Trial was pruned at iteration 0.\n",
      "[I 2025-04-08 10:45:19,077] Trial 159 pruned. Trial was pruned at iteration 0.\n",
      "[I 2025-04-08 10:45:19,220] Trial 160 pruned. Trial was pruned at iteration 0.\n",
      "[I 2025-04-08 10:45:19,361] Trial 161 pruned. Trial was pruned at iteration 0.\n",
      "[I 2025-04-08 10:45:19,506] Trial 162 pruned. Trial was pruned at iteration 1.\n",
      "[I 2025-04-08 10:45:19,666] Trial 163 pruned. Trial was pruned at iteration 0.\n",
      "[I 2025-04-08 10:45:19,890] Trial 164 pruned. Trial was pruned at iteration 19.\n",
      "[I 2025-04-08 10:45:20,144] Trial 165 pruned. Trial was pruned at iteration 39.\n",
      "[I 2025-04-08 10:45:20,462] Trial 166 pruned. Trial was pruned at iteration 24.\n",
      "[I 2025-04-08 10:45:20,886] Trial 167 pruned. Trial was pruned at iteration 0.\n",
      "[I 2025-04-08 10:45:21,132] Trial 168 pruned. Trial was pruned at iteration 30.\n"
     ]
    },
    {
     "data": {
      "text/plain": [
       "{'tree_method': 'hist',\n",
       " 'learning_rate': 0.22982525108950022,\n",
       " 'reg_lambda': 16.724994885595123,\n",
       " 'max_depth': 12,\n",
       " 'min_child_weight': 16,\n",
       " 'gamma': 0.008435309574629861,\n",
       " 'subsample': 0.8489781062882539,\n",
       " 'colsample_bynode': 0.541320542076461,\n",
       " 'colsample_bytree': 0.9674493793328488,\n",
       " 'colsample_bylevel': 0.9980175742658973}"
      ]
     },
     "execution_count": 5,
     "metadata": {},
     "output_type": "execute_result"
    }
   ],
   "source": [
    "model = XGBRegressor()\n",
    "train_time = 60*5 #15 minutes\n",
    "\n",
    "X_train_valid, X_test, y_train_valid, y_test = train_test_split(X, y, test_size=0.25, random_state=42)\n",
    "X_train, X_val, y_train, y_val = train_test_split(X_train_valid, y_train_valid, test_size=0.2, random_state=42)\n",
    "dtrain = xgb.DMatrix(data=X_train, label=y_train, \n",
    "                     enable_categorical=True)\n",
    "dvalid = xgb.DMatrix(data=X_val, label=y_val, \n",
    "                     enable_categorical=True)\n",
    "dtest = xgb.DMatrix(data=X_test, label=y_test, \n",
    "                    enable_categorical=True)\n",
    "dtrainvalid = xgb.DMatrix(data=X_train_valid, \n",
    "                          label=y_train_valid, \n",
    "                          enable_categorical=True)\n",
    "\n",
    "# Define the callback to stop the optimization when the trial keep being pruned. \n",
    "# The number of pruned trials is defined by the threshold.\n",
    "class StopWhenTrialKeepBeingPrunedCallback:\n",
    "    def __init__(self, threshold: int):\n",
    "        self.threshold = threshold\n",
    "        self._consequtive_pruned_count = 0\n",
    "\n",
    "    def __call__(self, study: optuna.study.Study, trial: optuna.trial.FrozenTrial) -> None:\n",
    "        if trial.state == optuna.trial.TrialState.PRUNED:\n",
    "            self._consequtive_pruned_count += 1\n",
    "        else:\n",
    "            self._consequtive_pruned_count = 0\n",
    "\n",
    "        if self._consequtive_pruned_count >= self.threshold:\n",
    "            study.stop()\n",
    "\n",
    "# Define the objective function to optimize the hyperparameters of the XGBoost model.\n",
    "def objective_GB(trial):\n",
    "    params = {\n",
    "        'objective': 'reg:squarederror',\n",
    "        'eval_metric': 'rmse', # root mean squared error\n",
    "        'tree_method': trial.suggest_categorical('tree_method', ['approx', 'hist']), \n",
    "        'learning_rate': trial.suggest_float('learning_rate', 0.2, 0.5), # Most important parameter.\n",
    "        'reg_lambda': trial.suggest_float('reg_lambda', 0.001, 50, log=True), # L2 regularization\n",
    "        'max_depth': trial.suggest_int('max_depth', 3, 12), # Tree depth\n",
    "        'min_child_weight': trial.suggest_int('min_child_weight', 1, 200), # Min weight of each child.\n",
    "        'gamma': trial.suggest_float('gamma', 0.001, 50, log=True), # Minimum loss reduction required to make a partition\n",
    "        'subsample': trial.suggest_float('subsample', 0.5, 1.0), \n",
    "        'colsample_bynode': trial.suggest_float('colsample_bynode', 0.5, 1.0),\n",
    "        'colsample_bytree': trial.suggest_float('colsample_bytree', 0.5, 1.0),\n",
    "        'colsample_bylevel': trial.suggest_float('colsample_bylevel', 0.5, 1.0),       \n",
    "    }\n",
    "    \n",
    "    # integrated pruning for stopping unpromising trials.\n",
    "    xgb_callback = XGBoostPruningCallback(trial, f'valid-rmse')\n",
    "\n",
    "    model = XGBRegressor(random_state= 1, **params)\n",
    "    \n",
    "    model = xgb.train(params=params, dtrain=dtrain, num_boost_round=1000,\n",
    "                      evals=[(dtrain, 'train'), (dvalid, 'valid')],\n",
    "                      early_stopping_rounds=50,\n",
    "                      verbose_eval=0,                      \n",
    "                      callbacks=[xgb_callback],\n",
    "                      )\n",
    "\n",
    "    return model.best_score\n",
    "\n",
    "# Create the study and optimize the objective function.\n",
    "# Threshold is 10.\n",
    "study_stop_cb = StopWhenTrialKeepBeingPrunedCallback(50)\n",
    "study_gb = create_study(direction=\"minimize\", sampler = TPESampler(seed = 42))\n",
    "study_gb.optimize(objective_GB, timeout = train_time, n_trials= 3000, callbacks = [study_stop_cb])\n",
    "study_gb.best_params"
   ]
  },
  {
   "cell_type": "code",
   "execution_count": 6,
   "metadata": {},
   "outputs": [
    {
     "name": "stdout",
     "output_type": "stream",
     "text": [
      "-3.3697877863079606\n",
      "0.8827297936592606\n"
     ]
    }
   ],
   "source": [
    "base_model = XGBRegressor(random_state=1)\n",
    "base_model.fit(X_train_valid, y_train_valid)\n",
    "print(cross_val_score(base_model, X_train_valid, y_train_valid, scoring='neg_mean_absolute_error', cv = 5).mean())\n",
    "print(r2_score(base_model.predict(X_test), y_test))"
   ]
  },
  {
   "cell_type": "code",
   "execution_count": 7,
   "metadata": {},
   "outputs": [
    {
     "data": {
      "application/vnd.plotly.v1+json": {
       "config": {
        "plotlyServerURL": "https://plot.ly"
       },
       "data": [
        {
         "cliponaxis": false,
         "hovertemplate": [
          "gamma (FloatDistribution): 0.0013743726856280524<extra></extra>",
          "reg_lambda (FloatDistribution): 0.0039994697905510876<extra></extra>",
          "learning_rate (FloatDistribution): 0.014069816105943296<extra></extra>",
          "colsample_bynode (FloatDistribution): 0.02014410635255035<extra></extra>",
          "colsample_bylevel (FloatDistribution): 0.021526548852383656<extra></extra>",
          "max_depth (IntDistribution): 0.02993491526055711<extra></extra>",
          "tree_method (CategoricalDistribution): 0.030418978355117452<extra></extra>",
          "subsample (FloatDistribution): 0.14282407583465506<extra></extra>",
          "colsample_bytree (FloatDistribution): 0.1888050153745241<extra></extra>",
          "min_child_weight (IntDistribution): 0.5469027013880899<extra></extra>"
         ],
         "name": "Objective Value",
         "orientation": "h",
         "text": [
          "<0.01",
          "<0.01",
          "0.01",
          "0.02",
          "0.02",
          "0.03",
          "0.03",
          "0.14",
          "0.19",
          "0.55"
         ],
         "textposition": "outside",
         "type": "bar",
         "x": [
          0.0013743726856280524,
          0.0039994697905510876,
          0.014069816105943296,
          0.02014410635255035,
          0.021526548852383656,
          0.02993491526055711,
          0.030418978355117452,
          0.14282407583465506,
          0.1888050153745241,
          0.5469027013880899
         ],
         "y": [
          "gamma",
          "reg_lambda",
          "learning_rate",
          "colsample_bynode",
          "colsample_bylevel",
          "max_depth",
          "tree_method",
          "subsample",
          "colsample_bytree",
          "min_child_weight"
         ]
        }
       ],
       "layout": {
        "template": {
         "data": {
          "bar": [
           {
            "error_x": {
             "color": "#2a3f5f"
            },
            "error_y": {
             "color": "#2a3f5f"
            },
            "marker": {
             "line": {
              "color": "#E5ECF6",
              "width": 0.5
             },
             "pattern": {
              "fillmode": "overlay",
              "size": 10,
              "solidity": 0.2
             }
            },
            "type": "bar"
           }
          ],
          "barpolar": [
           {
            "marker": {
             "line": {
              "color": "#E5ECF6",
              "width": 0.5
             },
             "pattern": {
              "fillmode": "overlay",
              "size": 10,
              "solidity": 0.2
             }
            },
            "type": "barpolar"
           }
          ],
          "carpet": [
           {
            "aaxis": {
             "endlinecolor": "#2a3f5f",
             "gridcolor": "white",
             "linecolor": "white",
             "minorgridcolor": "white",
             "startlinecolor": "#2a3f5f"
            },
            "baxis": {
             "endlinecolor": "#2a3f5f",
             "gridcolor": "white",
             "linecolor": "white",
             "minorgridcolor": "white",
             "startlinecolor": "#2a3f5f"
            },
            "type": "carpet"
           }
          ],
          "choropleth": [
           {
            "colorbar": {
             "outlinewidth": 0,
             "ticks": ""
            },
            "type": "choropleth"
           }
          ],
          "contour": [
           {
            "colorbar": {
             "outlinewidth": 0,
             "ticks": ""
            },
            "colorscale": [
             [
              0,
              "#0d0887"
             ],
             [
              0.1111111111111111,
              "#46039f"
             ],
             [
              0.2222222222222222,
              "#7201a8"
             ],
             [
              0.3333333333333333,
              "#9c179e"
             ],
             [
              0.4444444444444444,
              "#bd3786"
             ],
             [
              0.5555555555555556,
              "#d8576b"
             ],
             [
              0.6666666666666666,
              "#ed7953"
             ],
             [
              0.7777777777777778,
              "#fb9f3a"
             ],
             [
              0.8888888888888888,
              "#fdca26"
             ],
             [
              1,
              "#f0f921"
             ]
            ],
            "type": "contour"
           }
          ],
          "contourcarpet": [
           {
            "colorbar": {
             "outlinewidth": 0,
             "ticks": ""
            },
            "type": "contourcarpet"
           }
          ],
          "heatmap": [
           {
            "colorbar": {
             "outlinewidth": 0,
             "ticks": ""
            },
            "colorscale": [
             [
              0,
              "#0d0887"
             ],
             [
              0.1111111111111111,
              "#46039f"
             ],
             [
              0.2222222222222222,
              "#7201a8"
             ],
             [
              0.3333333333333333,
              "#9c179e"
             ],
             [
              0.4444444444444444,
              "#bd3786"
             ],
             [
              0.5555555555555556,
              "#d8576b"
             ],
             [
              0.6666666666666666,
              "#ed7953"
             ],
             [
              0.7777777777777778,
              "#fb9f3a"
             ],
             [
              0.8888888888888888,
              "#fdca26"
             ],
             [
              1,
              "#f0f921"
             ]
            ],
            "type": "heatmap"
           }
          ],
          "heatmapgl": [
           {
            "colorbar": {
             "outlinewidth": 0,
             "ticks": ""
            },
            "colorscale": [
             [
              0,
              "#0d0887"
             ],
             [
              0.1111111111111111,
              "#46039f"
             ],
             [
              0.2222222222222222,
              "#7201a8"
             ],
             [
              0.3333333333333333,
              "#9c179e"
             ],
             [
              0.4444444444444444,
              "#bd3786"
             ],
             [
              0.5555555555555556,
              "#d8576b"
             ],
             [
              0.6666666666666666,
              "#ed7953"
             ],
             [
              0.7777777777777778,
              "#fb9f3a"
             ],
             [
              0.8888888888888888,
              "#fdca26"
             ],
             [
              1,
              "#f0f921"
             ]
            ],
            "type": "heatmapgl"
           }
          ],
          "histogram": [
           {
            "marker": {
             "pattern": {
              "fillmode": "overlay",
              "size": 10,
              "solidity": 0.2
             }
            },
            "type": "histogram"
           }
          ],
          "histogram2d": [
           {
            "colorbar": {
             "outlinewidth": 0,
             "ticks": ""
            },
            "colorscale": [
             [
              0,
              "#0d0887"
             ],
             [
              0.1111111111111111,
              "#46039f"
             ],
             [
              0.2222222222222222,
              "#7201a8"
             ],
             [
              0.3333333333333333,
              "#9c179e"
             ],
             [
              0.4444444444444444,
              "#bd3786"
             ],
             [
              0.5555555555555556,
              "#d8576b"
             ],
             [
              0.6666666666666666,
              "#ed7953"
             ],
             [
              0.7777777777777778,
              "#fb9f3a"
             ],
             [
              0.8888888888888888,
              "#fdca26"
             ],
             [
              1,
              "#f0f921"
             ]
            ],
            "type": "histogram2d"
           }
          ],
          "histogram2dcontour": [
           {
            "colorbar": {
             "outlinewidth": 0,
             "ticks": ""
            },
            "colorscale": [
             [
              0,
              "#0d0887"
             ],
             [
              0.1111111111111111,
              "#46039f"
             ],
             [
              0.2222222222222222,
              "#7201a8"
             ],
             [
              0.3333333333333333,
              "#9c179e"
             ],
             [
              0.4444444444444444,
              "#bd3786"
             ],
             [
              0.5555555555555556,
              "#d8576b"
             ],
             [
              0.6666666666666666,
              "#ed7953"
             ],
             [
              0.7777777777777778,
              "#fb9f3a"
             ],
             [
              0.8888888888888888,
              "#fdca26"
             ],
             [
              1,
              "#f0f921"
             ]
            ],
            "type": "histogram2dcontour"
           }
          ],
          "mesh3d": [
           {
            "colorbar": {
             "outlinewidth": 0,
             "ticks": ""
            },
            "type": "mesh3d"
           }
          ],
          "parcoords": [
           {
            "line": {
             "colorbar": {
              "outlinewidth": 0,
              "ticks": ""
             }
            },
            "type": "parcoords"
           }
          ],
          "pie": [
           {
            "automargin": true,
            "type": "pie"
           }
          ],
          "scatter": [
           {
            "fillpattern": {
             "fillmode": "overlay",
             "size": 10,
             "solidity": 0.2
            },
            "type": "scatter"
           }
          ],
          "scatter3d": [
           {
            "line": {
             "colorbar": {
              "outlinewidth": 0,
              "ticks": ""
             }
            },
            "marker": {
             "colorbar": {
              "outlinewidth": 0,
              "ticks": ""
             }
            },
            "type": "scatter3d"
           }
          ],
          "scattercarpet": [
           {
            "marker": {
             "colorbar": {
              "outlinewidth": 0,
              "ticks": ""
             }
            },
            "type": "scattercarpet"
           }
          ],
          "scattergeo": [
           {
            "marker": {
             "colorbar": {
              "outlinewidth": 0,
              "ticks": ""
             }
            },
            "type": "scattergeo"
           }
          ],
          "scattergl": [
           {
            "marker": {
             "colorbar": {
              "outlinewidth": 0,
              "ticks": ""
             }
            },
            "type": "scattergl"
           }
          ],
          "scattermapbox": [
           {
            "marker": {
             "colorbar": {
              "outlinewidth": 0,
              "ticks": ""
             }
            },
            "type": "scattermapbox"
           }
          ],
          "scatterpolar": [
           {
            "marker": {
             "colorbar": {
              "outlinewidth": 0,
              "ticks": ""
             }
            },
            "type": "scatterpolar"
           }
          ],
          "scatterpolargl": [
           {
            "marker": {
             "colorbar": {
              "outlinewidth": 0,
              "ticks": ""
             }
            },
            "type": "scatterpolargl"
           }
          ],
          "scatterternary": [
           {
            "marker": {
             "colorbar": {
              "outlinewidth": 0,
              "ticks": ""
             }
            },
            "type": "scatterternary"
           }
          ],
          "surface": [
           {
            "colorbar": {
             "outlinewidth": 0,
             "ticks": ""
            },
            "colorscale": [
             [
              0,
              "#0d0887"
             ],
             [
              0.1111111111111111,
              "#46039f"
             ],
             [
              0.2222222222222222,
              "#7201a8"
             ],
             [
              0.3333333333333333,
              "#9c179e"
             ],
             [
              0.4444444444444444,
              "#bd3786"
             ],
             [
              0.5555555555555556,
              "#d8576b"
             ],
             [
              0.6666666666666666,
              "#ed7953"
             ],
             [
              0.7777777777777778,
              "#fb9f3a"
             ],
             [
              0.8888888888888888,
              "#fdca26"
             ],
             [
              1,
              "#f0f921"
             ]
            ],
            "type": "surface"
           }
          ],
          "table": [
           {
            "cells": {
             "fill": {
              "color": "#EBF0F8"
             },
             "line": {
              "color": "white"
             }
            },
            "header": {
             "fill": {
              "color": "#C8D4E3"
             },
             "line": {
              "color": "white"
             }
            },
            "type": "table"
           }
          ]
         },
         "layout": {
          "annotationdefaults": {
           "arrowcolor": "#2a3f5f",
           "arrowhead": 0,
           "arrowwidth": 1
          },
          "autotypenumbers": "strict",
          "coloraxis": {
           "colorbar": {
            "outlinewidth": 0,
            "ticks": ""
           }
          },
          "colorscale": {
           "diverging": [
            [
             0,
             "#8e0152"
            ],
            [
             0.1,
             "#c51b7d"
            ],
            [
             0.2,
             "#de77ae"
            ],
            [
             0.3,
             "#f1b6da"
            ],
            [
             0.4,
             "#fde0ef"
            ],
            [
             0.5,
             "#f7f7f7"
            ],
            [
             0.6,
             "#e6f5d0"
            ],
            [
             0.7,
             "#b8e186"
            ],
            [
             0.8,
             "#7fbc41"
            ],
            [
             0.9,
             "#4d9221"
            ],
            [
             1,
             "#276419"
            ]
           ],
           "sequential": [
            [
             0,
             "#0d0887"
            ],
            [
             0.1111111111111111,
             "#46039f"
            ],
            [
             0.2222222222222222,
             "#7201a8"
            ],
            [
             0.3333333333333333,
             "#9c179e"
            ],
            [
             0.4444444444444444,
             "#bd3786"
            ],
            [
             0.5555555555555556,
             "#d8576b"
            ],
            [
             0.6666666666666666,
             "#ed7953"
            ],
            [
             0.7777777777777778,
             "#fb9f3a"
            ],
            [
             0.8888888888888888,
             "#fdca26"
            ],
            [
             1,
             "#f0f921"
            ]
           ],
           "sequentialminus": [
            [
             0,
             "#0d0887"
            ],
            [
             0.1111111111111111,
             "#46039f"
            ],
            [
             0.2222222222222222,
             "#7201a8"
            ],
            [
             0.3333333333333333,
             "#9c179e"
            ],
            [
             0.4444444444444444,
             "#bd3786"
            ],
            [
             0.5555555555555556,
             "#d8576b"
            ],
            [
             0.6666666666666666,
             "#ed7953"
            ],
            [
             0.7777777777777778,
             "#fb9f3a"
            ],
            [
             0.8888888888888888,
             "#fdca26"
            ],
            [
             1,
             "#f0f921"
            ]
           ]
          },
          "colorway": [
           "#636efa",
           "#EF553B",
           "#00cc96",
           "#ab63fa",
           "#FFA15A",
           "#19d3f3",
           "#FF6692",
           "#B6E880",
           "#FF97FF",
           "#FECB52"
          ],
          "font": {
           "color": "#2a3f5f"
          },
          "geo": {
           "bgcolor": "white",
           "lakecolor": "white",
           "landcolor": "#E5ECF6",
           "showlakes": true,
           "showland": true,
           "subunitcolor": "white"
          },
          "hoverlabel": {
           "align": "left"
          },
          "hovermode": "closest",
          "mapbox": {
           "style": "light"
          },
          "paper_bgcolor": "white",
          "plot_bgcolor": "#E5ECF6",
          "polar": {
           "angularaxis": {
            "gridcolor": "white",
            "linecolor": "white",
            "ticks": ""
           },
           "bgcolor": "#E5ECF6",
           "radialaxis": {
            "gridcolor": "white",
            "linecolor": "white",
            "ticks": ""
           }
          },
          "scene": {
           "xaxis": {
            "backgroundcolor": "#E5ECF6",
            "gridcolor": "white",
            "gridwidth": 2,
            "linecolor": "white",
            "showbackground": true,
            "ticks": "",
            "zerolinecolor": "white"
           },
           "yaxis": {
            "backgroundcolor": "#E5ECF6",
            "gridcolor": "white",
            "gridwidth": 2,
            "linecolor": "white",
            "showbackground": true,
            "ticks": "",
            "zerolinecolor": "white"
           },
           "zaxis": {
            "backgroundcolor": "#E5ECF6",
            "gridcolor": "white",
            "gridwidth": 2,
            "linecolor": "white",
            "showbackground": true,
            "ticks": "",
            "zerolinecolor": "white"
           }
          },
          "shapedefaults": {
           "line": {
            "color": "#2a3f5f"
           }
          },
          "ternary": {
           "aaxis": {
            "gridcolor": "white",
            "linecolor": "white",
            "ticks": ""
           },
           "baxis": {
            "gridcolor": "white",
            "linecolor": "white",
            "ticks": ""
           },
           "bgcolor": "#E5ECF6",
           "caxis": {
            "gridcolor": "white",
            "linecolor": "white",
            "ticks": ""
           }
          },
          "title": {
           "x": 0.05
          },
          "xaxis": {
           "automargin": true,
           "gridcolor": "white",
           "linecolor": "white",
           "ticks": "",
           "title": {
            "standoff": 15
           },
           "zerolinecolor": "white",
           "zerolinewidth": 2
          },
          "yaxis": {
           "automargin": true,
           "gridcolor": "white",
           "linecolor": "white",
           "ticks": "",
           "title": {
            "standoff": 15
           },
           "zerolinecolor": "white",
           "zerolinewidth": 2
          }
         }
        },
        "title": {
         "text": "Hyperparameter Importances"
        },
        "xaxis": {
         "title": {
          "text": "Hyperparameter Importance"
         }
        },
        "yaxis": {
         "title": {
          "text": "Hyperparameter"
         }
        }
       }
      }
     },
     "metadata": {},
     "output_type": "display_data"
    }
   ],
   "source": [
    "plot_param_importances(study_gb)"
   ]
  },
  {
   "cell_type": "code",
   "execution_count": 8,
   "metadata": {},
   "outputs": [
    {
     "data": {
      "application/vnd.plotly.v1+json": {
       "config": {
        "plotlyServerURL": "https://plot.ly"
       },
       "data": [
        {
         "mode": "markers",
         "name": "Objective Value",
         "type": "scatter",
         "x": [
          0,
          1,
          2,
          3,
          4,
          6,
          10,
          11,
          12,
          22,
          23,
          25,
          30,
          35,
          69,
          80,
          93,
          107,
          109,
          112,
          114,
          118
         ],
         "y": [
          3.830176762739118,
          4.239130352034312,
          7.47193669481577,
          11.767139992861836,
          4.417540222660502,
          3.6286425344407642,
          3.6295402795196985,
          3.725558406981417,
          3.9105288303930394,
          3.3676804585358298,
          3.5759648017660846,
          3.5671331326076667,
          3.795329687135722,
          3.805264451604492,
          3.6883544617997837,
          3.7521650955702026,
          3.457746981563154,
          3.5690718237600465,
          3.6838920341155577,
          3.5737579720104296,
          3.7894490788930506,
          3.680548403544853
         ]
        },
        {
         "mode": "lines",
         "name": "Best Value",
         "type": "scatter",
         "x": [
          0,
          1,
          2,
          3,
          4,
          5,
          6,
          7,
          8,
          9,
          10,
          11,
          12,
          13,
          14,
          15,
          16,
          17,
          18,
          19,
          20,
          21,
          22,
          23,
          24,
          25,
          26,
          27,
          28,
          29,
          30,
          31,
          32,
          33,
          34,
          35,
          36,
          37,
          38,
          39,
          40,
          41,
          42,
          43,
          44,
          45,
          46,
          47,
          48,
          49,
          50,
          51,
          52,
          53,
          54,
          55,
          56,
          57,
          58,
          59,
          60,
          61,
          62,
          63,
          64,
          65,
          66,
          67,
          68,
          69,
          70,
          71,
          72,
          73,
          74,
          75,
          76,
          77,
          78,
          79,
          80,
          81,
          82,
          83,
          84,
          85,
          86,
          87,
          88,
          89,
          90,
          91,
          92,
          93,
          94,
          95,
          96,
          97,
          98,
          99,
          100,
          101,
          102,
          103,
          104,
          105,
          106,
          107,
          108,
          109,
          110,
          111,
          112,
          113,
          114,
          115,
          116,
          117,
          118,
          119,
          120,
          121,
          122,
          123,
          124,
          125,
          126,
          127,
          128,
          129,
          130,
          131,
          132,
          133,
          134,
          135,
          136,
          137,
          138,
          139,
          140,
          141,
          142,
          143,
          144,
          145,
          146,
          147,
          148,
          149,
          150,
          151,
          152,
          153,
          154,
          155,
          156,
          157,
          158,
          159,
          160,
          161,
          162,
          163,
          164,
          165,
          166,
          167,
          168
         ],
         "y": [
          3.830176762739118,
          3.830176762739118,
          3.830176762739118,
          3.830176762739118,
          3.830176762739118,
          3.830176762739118,
          3.6286425344407642,
          3.6286425344407642,
          3.6286425344407642,
          3.6286425344407642,
          3.6286425344407642,
          3.6286425344407642,
          3.6286425344407642,
          3.6286425344407642,
          3.6286425344407642,
          3.6286425344407642,
          3.6286425344407642,
          3.6286425344407642,
          3.6286425344407642,
          3.6286425344407642,
          3.6286425344407642,
          3.6286425344407642,
          3.3676804585358298,
          3.3676804585358298,
          3.3676804585358298,
          3.3676804585358298,
          3.3676804585358298,
          3.3676804585358298,
          3.3676804585358298,
          3.3676804585358298,
          3.3676804585358298,
          3.3676804585358298,
          3.3676804585358298,
          3.3676804585358298,
          3.3676804585358298,
          3.3676804585358298,
          3.3676804585358298,
          3.3676804585358298,
          3.3676804585358298,
          3.3676804585358298,
          3.3676804585358298,
          3.3676804585358298,
          3.3676804585358298,
          3.3676804585358298,
          3.3676804585358298,
          3.3676804585358298,
          3.3676804585358298,
          3.3676804585358298,
          3.3676804585358298,
          3.3676804585358298,
          3.3676804585358298,
          3.3676804585358298,
          3.3676804585358298,
          3.3676804585358298,
          3.3676804585358298,
          3.3676804585358298,
          3.3676804585358298,
          3.3676804585358298,
          3.3676804585358298,
          3.3676804585358298,
          3.3676804585358298,
          3.3676804585358298,
          3.3676804585358298,
          3.3676804585358298,
          3.3676804585358298,
          3.3676804585358298,
          3.3676804585358298,
          3.3676804585358298,
          3.3676804585358298,
          3.3676804585358298,
          3.3676804585358298,
          3.3676804585358298,
          3.3676804585358298,
          3.3676804585358298,
          3.3676804585358298,
          3.3676804585358298,
          3.3676804585358298,
          3.3676804585358298,
          3.3676804585358298,
          3.3676804585358298,
          3.3676804585358298,
          3.3676804585358298,
          3.3676804585358298,
          3.3676804585358298,
          3.3676804585358298,
          3.3676804585358298,
          3.3676804585358298,
          3.3676804585358298,
          3.3676804585358298,
          3.3676804585358298,
          3.3676804585358298,
          3.3676804585358298,
          3.3676804585358298,
          3.3676804585358298,
          3.3676804585358298,
          3.3676804585358298,
          3.3676804585358298,
          3.3676804585358298,
          3.3676804585358298,
          3.3676804585358298,
          3.3676804585358298,
          3.3676804585358298,
          3.3676804585358298,
          3.3676804585358298,
          3.3676804585358298,
          3.3676804585358298,
          3.3676804585358298,
          3.3676804585358298,
          3.3676804585358298,
          3.3676804585358298,
          3.3676804585358298,
          3.3676804585358298,
          3.3676804585358298,
          3.3676804585358298,
          3.3676804585358298,
          3.3676804585358298,
          3.3676804585358298,
          3.3676804585358298,
          3.3676804585358298,
          3.3676804585358298,
          3.3676804585358298,
          3.3676804585358298,
          3.3676804585358298,
          3.3676804585358298,
          3.3676804585358298,
          3.3676804585358298,
          3.3676804585358298,
          3.3676804585358298,
          3.3676804585358298,
          3.3676804585358298,
          3.3676804585358298,
          3.3676804585358298,
          3.3676804585358298,
          3.3676804585358298,
          3.3676804585358298,
          3.3676804585358298,
          3.3676804585358298,
          3.3676804585358298,
          3.3676804585358298,
          3.3676804585358298,
          3.3676804585358298,
          3.3676804585358298,
          3.3676804585358298,
          3.3676804585358298,
          3.3676804585358298,
          3.3676804585358298,
          3.3676804585358298,
          3.3676804585358298,
          3.3676804585358298,
          3.3676804585358298,
          3.3676804585358298,
          3.3676804585358298,
          3.3676804585358298,
          3.3676804585358298,
          3.3676804585358298,
          3.3676804585358298,
          3.3676804585358298,
          3.3676804585358298,
          3.3676804585358298,
          3.3676804585358298,
          3.3676804585358298,
          3.3676804585358298,
          3.3676804585358298,
          3.3676804585358298,
          3.3676804585358298,
          3.3676804585358298,
          3.3676804585358298,
          3.3676804585358298,
          3.3676804585358298
         ]
        },
        {
         "marker": {
          "color": "#cccccc"
         },
         "mode": "markers",
         "name": "Infeasible Trial",
         "showlegend": false,
         "type": "scatter",
         "x": [],
         "y": []
        }
       ],
       "layout": {
        "template": {
         "data": {
          "bar": [
           {
            "error_x": {
             "color": "#2a3f5f"
            },
            "error_y": {
             "color": "#2a3f5f"
            },
            "marker": {
             "line": {
              "color": "#E5ECF6",
              "width": 0.5
             },
             "pattern": {
              "fillmode": "overlay",
              "size": 10,
              "solidity": 0.2
             }
            },
            "type": "bar"
           }
          ],
          "barpolar": [
           {
            "marker": {
             "line": {
              "color": "#E5ECF6",
              "width": 0.5
             },
             "pattern": {
              "fillmode": "overlay",
              "size": 10,
              "solidity": 0.2
             }
            },
            "type": "barpolar"
           }
          ],
          "carpet": [
           {
            "aaxis": {
             "endlinecolor": "#2a3f5f",
             "gridcolor": "white",
             "linecolor": "white",
             "minorgridcolor": "white",
             "startlinecolor": "#2a3f5f"
            },
            "baxis": {
             "endlinecolor": "#2a3f5f",
             "gridcolor": "white",
             "linecolor": "white",
             "minorgridcolor": "white",
             "startlinecolor": "#2a3f5f"
            },
            "type": "carpet"
           }
          ],
          "choropleth": [
           {
            "colorbar": {
             "outlinewidth": 0,
             "ticks": ""
            },
            "type": "choropleth"
           }
          ],
          "contour": [
           {
            "colorbar": {
             "outlinewidth": 0,
             "ticks": ""
            },
            "colorscale": [
             [
              0,
              "#0d0887"
             ],
             [
              0.1111111111111111,
              "#46039f"
             ],
             [
              0.2222222222222222,
              "#7201a8"
             ],
             [
              0.3333333333333333,
              "#9c179e"
             ],
             [
              0.4444444444444444,
              "#bd3786"
             ],
             [
              0.5555555555555556,
              "#d8576b"
             ],
             [
              0.6666666666666666,
              "#ed7953"
             ],
             [
              0.7777777777777778,
              "#fb9f3a"
             ],
             [
              0.8888888888888888,
              "#fdca26"
             ],
             [
              1,
              "#f0f921"
             ]
            ],
            "type": "contour"
           }
          ],
          "contourcarpet": [
           {
            "colorbar": {
             "outlinewidth": 0,
             "ticks": ""
            },
            "type": "contourcarpet"
           }
          ],
          "heatmap": [
           {
            "colorbar": {
             "outlinewidth": 0,
             "ticks": ""
            },
            "colorscale": [
             [
              0,
              "#0d0887"
             ],
             [
              0.1111111111111111,
              "#46039f"
             ],
             [
              0.2222222222222222,
              "#7201a8"
             ],
             [
              0.3333333333333333,
              "#9c179e"
             ],
             [
              0.4444444444444444,
              "#bd3786"
             ],
             [
              0.5555555555555556,
              "#d8576b"
             ],
             [
              0.6666666666666666,
              "#ed7953"
             ],
             [
              0.7777777777777778,
              "#fb9f3a"
             ],
             [
              0.8888888888888888,
              "#fdca26"
             ],
             [
              1,
              "#f0f921"
             ]
            ],
            "type": "heatmap"
           }
          ],
          "heatmapgl": [
           {
            "colorbar": {
             "outlinewidth": 0,
             "ticks": ""
            },
            "colorscale": [
             [
              0,
              "#0d0887"
             ],
             [
              0.1111111111111111,
              "#46039f"
             ],
             [
              0.2222222222222222,
              "#7201a8"
             ],
             [
              0.3333333333333333,
              "#9c179e"
             ],
             [
              0.4444444444444444,
              "#bd3786"
             ],
             [
              0.5555555555555556,
              "#d8576b"
             ],
             [
              0.6666666666666666,
              "#ed7953"
             ],
             [
              0.7777777777777778,
              "#fb9f3a"
             ],
             [
              0.8888888888888888,
              "#fdca26"
             ],
             [
              1,
              "#f0f921"
             ]
            ],
            "type": "heatmapgl"
           }
          ],
          "histogram": [
           {
            "marker": {
             "pattern": {
              "fillmode": "overlay",
              "size": 10,
              "solidity": 0.2
             }
            },
            "type": "histogram"
           }
          ],
          "histogram2d": [
           {
            "colorbar": {
             "outlinewidth": 0,
             "ticks": ""
            },
            "colorscale": [
             [
              0,
              "#0d0887"
             ],
             [
              0.1111111111111111,
              "#46039f"
             ],
             [
              0.2222222222222222,
              "#7201a8"
             ],
             [
              0.3333333333333333,
              "#9c179e"
             ],
             [
              0.4444444444444444,
              "#bd3786"
             ],
             [
              0.5555555555555556,
              "#d8576b"
             ],
             [
              0.6666666666666666,
              "#ed7953"
             ],
             [
              0.7777777777777778,
              "#fb9f3a"
             ],
             [
              0.8888888888888888,
              "#fdca26"
             ],
             [
              1,
              "#f0f921"
             ]
            ],
            "type": "histogram2d"
           }
          ],
          "histogram2dcontour": [
           {
            "colorbar": {
             "outlinewidth": 0,
             "ticks": ""
            },
            "colorscale": [
             [
              0,
              "#0d0887"
             ],
             [
              0.1111111111111111,
              "#46039f"
             ],
             [
              0.2222222222222222,
              "#7201a8"
             ],
             [
              0.3333333333333333,
              "#9c179e"
             ],
             [
              0.4444444444444444,
              "#bd3786"
             ],
             [
              0.5555555555555556,
              "#d8576b"
             ],
             [
              0.6666666666666666,
              "#ed7953"
             ],
             [
              0.7777777777777778,
              "#fb9f3a"
             ],
             [
              0.8888888888888888,
              "#fdca26"
             ],
             [
              1,
              "#f0f921"
             ]
            ],
            "type": "histogram2dcontour"
           }
          ],
          "mesh3d": [
           {
            "colorbar": {
             "outlinewidth": 0,
             "ticks": ""
            },
            "type": "mesh3d"
           }
          ],
          "parcoords": [
           {
            "line": {
             "colorbar": {
              "outlinewidth": 0,
              "ticks": ""
             }
            },
            "type": "parcoords"
           }
          ],
          "pie": [
           {
            "automargin": true,
            "type": "pie"
           }
          ],
          "scatter": [
           {
            "fillpattern": {
             "fillmode": "overlay",
             "size": 10,
             "solidity": 0.2
            },
            "type": "scatter"
           }
          ],
          "scatter3d": [
           {
            "line": {
             "colorbar": {
              "outlinewidth": 0,
              "ticks": ""
             }
            },
            "marker": {
             "colorbar": {
              "outlinewidth": 0,
              "ticks": ""
             }
            },
            "type": "scatter3d"
           }
          ],
          "scattercarpet": [
           {
            "marker": {
             "colorbar": {
              "outlinewidth": 0,
              "ticks": ""
             }
            },
            "type": "scattercarpet"
           }
          ],
          "scattergeo": [
           {
            "marker": {
             "colorbar": {
              "outlinewidth": 0,
              "ticks": ""
             }
            },
            "type": "scattergeo"
           }
          ],
          "scattergl": [
           {
            "marker": {
             "colorbar": {
              "outlinewidth": 0,
              "ticks": ""
             }
            },
            "type": "scattergl"
           }
          ],
          "scattermapbox": [
           {
            "marker": {
             "colorbar": {
              "outlinewidth": 0,
              "ticks": ""
             }
            },
            "type": "scattermapbox"
           }
          ],
          "scatterpolar": [
           {
            "marker": {
             "colorbar": {
              "outlinewidth": 0,
              "ticks": ""
             }
            },
            "type": "scatterpolar"
           }
          ],
          "scatterpolargl": [
           {
            "marker": {
             "colorbar": {
              "outlinewidth": 0,
              "ticks": ""
             }
            },
            "type": "scatterpolargl"
           }
          ],
          "scatterternary": [
           {
            "marker": {
             "colorbar": {
              "outlinewidth": 0,
              "ticks": ""
             }
            },
            "type": "scatterternary"
           }
          ],
          "surface": [
           {
            "colorbar": {
             "outlinewidth": 0,
             "ticks": ""
            },
            "colorscale": [
             [
              0,
              "#0d0887"
             ],
             [
              0.1111111111111111,
              "#46039f"
             ],
             [
              0.2222222222222222,
              "#7201a8"
             ],
             [
              0.3333333333333333,
              "#9c179e"
             ],
             [
              0.4444444444444444,
              "#bd3786"
             ],
             [
              0.5555555555555556,
              "#d8576b"
             ],
             [
              0.6666666666666666,
              "#ed7953"
             ],
             [
              0.7777777777777778,
              "#fb9f3a"
             ],
             [
              0.8888888888888888,
              "#fdca26"
             ],
             [
              1,
              "#f0f921"
             ]
            ],
            "type": "surface"
           }
          ],
          "table": [
           {
            "cells": {
             "fill": {
              "color": "#EBF0F8"
             },
             "line": {
              "color": "white"
             }
            },
            "header": {
             "fill": {
              "color": "#C8D4E3"
             },
             "line": {
              "color": "white"
             }
            },
            "type": "table"
           }
          ]
         },
         "layout": {
          "annotationdefaults": {
           "arrowcolor": "#2a3f5f",
           "arrowhead": 0,
           "arrowwidth": 1
          },
          "autotypenumbers": "strict",
          "coloraxis": {
           "colorbar": {
            "outlinewidth": 0,
            "ticks": ""
           }
          },
          "colorscale": {
           "diverging": [
            [
             0,
             "#8e0152"
            ],
            [
             0.1,
             "#c51b7d"
            ],
            [
             0.2,
             "#de77ae"
            ],
            [
             0.3,
             "#f1b6da"
            ],
            [
             0.4,
             "#fde0ef"
            ],
            [
             0.5,
             "#f7f7f7"
            ],
            [
             0.6,
             "#e6f5d0"
            ],
            [
             0.7,
             "#b8e186"
            ],
            [
             0.8,
             "#7fbc41"
            ],
            [
             0.9,
             "#4d9221"
            ],
            [
             1,
             "#276419"
            ]
           ],
           "sequential": [
            [
             0,
             "#0d0887"
            ],
            [
             0.1111111111111111,
             "#46039f"
            ],
            [
             0.2222222222222222,
             "#7201a8"
            ],
            [
             0.3333333333333333,
             "#9c179e"
            ],
            [
             0.4444444444444444,
             "#bd3786"
            ],
            [
             0.5555555555555556,
             "#d8576b"
            ],
            [
             0.6666666666666666,
             "#ed7953"
            ],
            [
             0.7777777777777778,
             "#fb9f3a"
            ],
            [
             0.8888888888888888,
             "#fdca26"
            ],
            [
             1,
             "#f0f921"
            ]
           ],
           "sequentialminus": [
            [
             0,
             "#0d0887"
            ],
            [
             0.1111111111111111,
             "#46039f"
            ],
            [
             0.2222222222222222,
             "#7201a8"
            ],
            [
             0.3333333333333333,
             "#9c179e"
            ],
            [
             0.4444444444444444,
             "#bd3786"
            ],
            [
             0.5555555555555556,
             "#d8576b"
            ],
            [
             0.6666666666666666,
             "#ed7953"
            ],
            [
             0.7777777777777778,
             "#fb9f3a"
            ],
            [
             0.8888888888888888,
             "#fdca26"
            ],
            [
             1,
             "#f0f921"
            ]
           ]
          },
          "colorway": [
           "#636efa",
           "#EF553B",
           "#00cc96",
           "#ab63fa",
           "#FFA15A",
           "#19d3f3",
           "#FF6692",
           "#B6E880",
           "#FF97FF",
           "#FECB52"
          ],
          "font": {
           "color": "#2a3f5f"
          },
          "geo": {
           "bgcolor": "white",
           "lakecolor": "white",
           "landcolor": "#E5ECF6",
           "showlakes": true,
           "showland": true,
           "subunitcolor": "white"
          },
          "hoverlabel": {
           "align": "left"
          },
          "hovermode": "closest",
          "mapbox": {
           "style": "light"
          },
          "paper_bgcolor": "white",
          "plot_bgcolor": "#E5ECF6",
          "polar": {
           "angularaxis": {
            "gridcolor": "white",
            "linecolor": "white",
            "ticks": ""
           },
           "bgcolor": "#E5ECF6",
           "radialaxis": {
            "gridcolor": "white",
            "linecolor": "white",
            "ticks": ""
           }
          },
          "scene": {
           "xaxis": {
            "backgroundcolor": "#E5ECF6",
            "gridcolor": "white",
            "gridwidth": 2,
            "linecolor": "white",
            "showbackground": true,
            "ticks": "",
            "zerolinecolor": "white"
           },
           "yaxis": {
            "backgroundcolor": "#E5ECF6",
            "gridcolor": "white",
            "gridwidth": 2,
            "linecolor": "white",
            "showbackground": true,
            "ticks": "",
            "zerolinecolor": "white"
           },
           "zaxis": {
            "backgroundcolor": "#E5ECF6",
            "gridcolor": "white",
            "gridwidth": 2,
            "linecolor": "white",
            "showbackground": true,
            "ticks": "",
            "zerolinecolor": "white"
           }
          },
          "shapedefaults": {
           "line": {
            "color": "#2a3f5f"
           }
          },
          "ternary": {
           "aaxis": {
            "gridcolor": "white",
            "linecolor": "white",
            "ticks": ""
           },
           "baxis": {
            "gridcolor": "white",
            "linecolor": "white",
            "ticks": ""
           },
           "bgcolor": "#E5ECF6",
           "caxis": {
            "gridcolor": "white",
            "linecolor": "white",
            "ticks": ""
           }
          },
          "title": {
           "x": 0.05
          },
          "xaxis": {
           "automargin": true,
           "gridcolor": "white",
           "linecolor": "white",
           "ticks": "",
           "title": {
            "standoff": 15
           },
           "zerolinecolor": "white",
           "zerolinewidth": 2
          },
          "yaxis": {
           "automargin": true,
           "gridcolor": "white",
           "linecolor": "white",
           "ticks": "",
           "title": {
            "standoff": 15
           },
           "zerolinecolor": "white",
           "zerolinewidth": 2
          }
         }
        },
        "title": {
         "text": "Optimization History Plot"
        },
        "xaxis": {
         "title": {
          "text": "Trial"
         }
        },
        "yaxis": {
         "title": {
          "text": "Objective Value"
         }
        }
       }
      }
     },
     "metadata": {},
     "output_type": "display_data"
    }
   ],
   "source": [
    "plot_optimization_history(study_gb)"
   ]
  },
  {
   "cell_type": "code",
   "execution_count": 9,
   "metadata": {},
   "outputs": [],
   "source": [
    "low_learning_rate = 0.01\n",
    "params = study_gb.best_params\n",
    "params['learning_rate'] = low_learning_rate\n",
    "model_stage2 = xgb.train(params=params, dtrain=dtrain, \n",
    "                         num_boost_round=5000,\n",
    "                         evals=[(dtrain, 'train'), (dvalid, 'valid')],\n",
    "                         early_stopping_rounds=50,\n",
    "                         verbose_eval=0)"
   ]
  },
  {
   "cell_type": "markdown",
   "metadata": {},
   "source": [
    "Find the best number of boosting rounds."
   ]
  },
  {
   "cell_type": "code",
   "execution_count": 10,
   "metadata": {},
   "outputs": [
    {
     "name": "stdout",
     "output_type": "stream",
     "text": [
      "Stage 2\n",
      "best score = 2.7245101928710938\n",
      "best boosting round: 3754\n"
     ]
    }
   ],
   "source": [
    "def score_model(model: xgb.core.Booster, dmat: xgb.core.DMatrix) -> float:\n",
    "    y_true = dmat.get_label() \n",
    "    y_pred = model.predict(dmat) \n",
    "    return mean_absolute_error(y_true, y_pred)\n",
    "\n",
    "print('Stage 2')\n",
    "print(f'best score = {score_model(model_stage2, dvalid)}')\n",
    "print(f'best boosting round: {model_stage2.best_iteration}')"
   ]
  },
  {
   "cell_type": "code",
   "execution_count": 11,
   "metadata": {},
   "outputs": [],
   "source": [
    "model_final = xgb.train(params=study_gb.best_params, dtrain=dtrainvalid, \n",
    "                        num_boost_round=model_stage2.best_iteration,\n",
    "                        verbose_eval=0)"
   ]
  },
  {
   "cell_type": "markdown",
   "metadata": {},
   "source": [
    "Evaluation of final model."
   ]
  },
  {
   "cell_type": "code",
   "execution_count": 12,
   "metadata": {},
   "outputs": [
    {
     "name": "stdout",
     "output_type": "stream",
     "text": [
      "Final Model\n",
      "test score = 2.8216147422790527\n",
      "Parameters\n",
      "tree_method : hist\n",
      "learning_rate : 0.01\n",
      "reg_lambda : 16.724994885595123\n",
      "max_depth : 12\n",
      "min_child_weight : 16\n",
      "gamma : 0.008435309574629861\n",
      "subsample : 0.8489781062882539\n",
      "colsample_bynode : 0.541320542076461\n",
      "colsample_bytree : 0.9674493793328488\n",
      "colsample_bylevel : 0.9980175742658973\n",
      "num_boost_round: 3754\n"
     ]
    }
   ],
   "source": [
    "print('Final Model')\n",
    "print(f'test score = {score_model(model_final, dtest)}')\n",
    "print('Parameters')\n",
    "for i, j in params.items():\n",
    "    print(i, ':', j)\n",
    "print(f'num_boost_round: {model_stage2.best_iteration}')"
   ]
  },
  {
   "cell_type": "markdown",
   "metadata": {},
   "source": [
    "Feature importance: By weight"
   ]
  },
  {
   "cell_type": "code",
   "execution_count": 13,
   "metadata": {},
   "outputs": [
    {
     "data": {
      "text/plain": [
       "{'cement': 6193.0,\n",
       " 'blast_furnace_slag': 3474.0,\n",
       " 'fly_ash': 2682.0,\n",
       " 'water': 5271.0,\n",
       " 'superplasticizer': 4878.0,\n",
       " 'coarse_aggregate': 4663.0,\n",
       " 'fine_aggregate': 4793.0,\n",
       " 'age': 6550.0,\n",
       " 'cement_to_water_ratio': 5791.0,\n",
       " 'fine_aggregate_to_water_ratio': 5613.0,\n",
       " 'coarse_aggregate_to_water_ratio': 5028.0}"
      ]
     },
     "execution_count": 13,
     "metadata": {},
     "output_type": "execute_result"
    }
   ],
   "source": [
    "model_final.get_score(importance_type='weight')"
   ]
  },
  {
   "cell_type": "code",
   "execution_count": 14,
   "metadata": {},
   "outputs": [
    {
     "data": {
      "image/png": "[encoded data removed]",
      "text/plain": [
       "<Figure size 1000x600 with 1 Axes>"
      ]
     },
     "metadata": {},
     "output_type": "display_data"
    }
   ],
   "source": [
    "# Fit the model with the best parameters from the study\n",
    "model = XGBRegressor(**study_gb.best_params, enable_categorical=True)\n",
    "model = xgb.train(params=study_gb.best_params, dtrain=dtrainvalid, \n",
    "                        num_boost_round=model_stage2.best_iteration,\n",
    "                        verbose_eval=0)\n",
    "\n",
    "# Make predictions on the test set\n",
    "y_pred = model.predict(dtest)\n",
    "\n",
    "# Plot the predictions vs actual values\n",
    "plt.figure(figsize=(10, 6))\n",
    "plt.scatter(y_test, y_pred, alpha=0.5)\n",
    "plt.plot([y_test.min(), y_test.max()], [y_test.min(), y_test.max()], 'k--', lw=2)\n",
    "plt.xlabel('Actual')\n",
    "plt.ylabel('Predicted')\n",
    "plt.title('Predictions vs Actual Values')\n",
    "plt.show()"
   ]
  },
  {
   "cell_type": "code",
   "execution_count": 15,
   "metadata": {},
   "outputs": [
    {
     "data": {
      "text/plain": [
       "0.9181403828499508"
      ]
     },
     "execution_count": 15,
     "metadata": {},
     "output_type": "execute_result"
    }
   ],
   "source": [
    "r2_score(y_test, y_pred)"
   ]
  },
  {
   "cell_type": "markdown",
   "metadata": {},
   "source": [
    "It can be seen that the model is fitting nicely. From the coefficient of determination, 92% of variance can be explained using the model. \\\n",
    "This is an improvement of 3% from using a base model without hyperparameter optimization. \\\n",
    "Extreme overestimation/underestimation is limted."
   ]
  },
  {
   "cell_type": "code",
   "execution_count": 16,
   "metadata": {},
   "outputs": [
    {
     "data": {
      "image/png": "[encoded data removed]",
      "text/plain": [
       "<Figure size 640x480 with 1 Axes>"
      ]
     },
     "metadata": {},
     "output_type": "display_data"
    }
   ],
   "source": [
    "xgb.plot_importance(model, importance_type='weight', max_num_features=10)\n",
    "plt.show()"
   ]
  },
  {
   "cell_type": "code",
   "execution_count": 17,
   "metadata": {},
   "outputs": [],
   "source": [
    "cv_results = xgb.cv(params = study_gb.best_params,\n",
    "        dtrain = dtest,\n",
    "        num_boost_round=model_stage2.best_iteration,\n",
    "        metrics = 'mape',\n",
    "        seed = 42)"
   ]
  },
  {
   "cell_type": "code",
   "execution_count": 18,
   "metadata": {},
   "outputs": [
    {
     "data": {
      "application/vnd.microsoft.datawrangler.viewer.v0+json": {
       "columns": [
        {
         "name": "index",
         "rawType": "int64",
         "type": "integer"
        },
        {
         "name": "train-mape-mean",
         "rawType": "float64",
         "type": "float"
        },
        {
         "name": "train-mape-std",
         "rawType": "float64",
         "type": "float"
        },
        {
         "name": "test-mape-mean",
         "rawType": "float64",
         "type": "float"
        },
        {
         "name": "test-mape-std",
         "rawType": "float64",
         "type": "float"
        }
       ],
       "conversionMethod": "pd.DataFrame",
       "ref": "211ba646-9fca-4c8f-9ce8-cffba168c21a",
       "rows": [
        [
         "0",
         "0.5630016689592087",
         "0.026165091606394988",
         "0.5764360652261752",
         "0.03986485442493692"
        ],
        [
         "1",
         "0.5180377487681916",
         "0.023439175023340277",
         "0.5343655396663388",
         "0.03779367793872951"
        ],
        [
         "2",
         "0.4830768172911264",
         "0.024813671243786847",
         "0.4990220432919695",
         "0.03521945127357439"
        ],
        [
         "3",
         "0.4528765994050479",
         "0.028565495184459902",
         "0.47315622575404065",
         "0.028409833899490377"
        ],
        [
         "4",
         "0.42576652109328617",
         "0.027923291267274726",
         "0.450165154243144",
         "0.03127701135502933"
        ],
        [
         "5",
         "0.40086094709675013",
         "0.028552091040165872",
         "0.4300126878538153",
         "0.026095161958394553"
        ],
        [
         "6",
         "0.37521669493480525",
         "0.02138250952944411",
         "0.4135524055543111",
         "0.02414987947275516"
        ],
        [
         "7",
         "0.356249970514341",
         "0.01664862506668737",
         "0.3978862275304109",
         "0.02048880884983119"
        ],
        [
         "8",
         "0.33574411407975174",
         "0.015309721462091332",
         "0.37950626702222845",
         "0.016319373989155794"
        ],
        [
         "9",
         "0.3228106408943117",
         "0.011813020513419571",
         "0.37030891569004515",
         "0.015196031995501798"
        ],
        [
         "10",
         "0.30570566133330623",
         "0.01288345895278089",
         "0.3562636372332096",
         "0.01717897442232053"
        ],
        [
         "11",
         "0.2896697041990473",
         "0.011927770088959575",
         "0.34161143015498263",
         "0.010835273528521488"
        ],
        [
         "12",
         "0.27677134788982677",
         "0.009665173856527341",
         "0.3311427571358464",
         "0.010982313799082493"
        ],
        [
         "13",
         "0.26511224280464507",
         "0.01188766866991771",
         "0.32143749938104255",
         "0.012413267821183113"
        ],
        [
         "14",
         "0.2562251881129849",
         "0.01447225624993771",
         "0.3134002743802191",
         "0.015335236126898561"
        ],
        [
         "15",
         "0.24663870308897887",
         "0.013726871442914533",
         "0.3066192029130084",
         "0.018124979963870778"
        ],
        [
         "16",
         "0.23900034197143738",
         "0.013327220385059726",
         "0.2995792768203602",
         "0.016919168690418075"
        ],
        [
         "17",
         "0.23176045904452744",
         "0.011332926106702104",
         "0.2926268275626404",
         "0.01409883068855273"
        ],
        [
         "18",
         "0.2271126982496967",
         "0.010838508661259",
         "0.2899336039720441",
         "0.0139188713412153"
        ],
        [
         "19",
         "0.21909741723359852",
         "0.008517461577033791",
         "0.2832336128468772",
         "0.017136906856457093"
        ],
        [
         "20",
         "0.2119592461699066",
         "0.009292276577912355",
         "0.2799115928935423",
         "0.017040717284379923"
        ],
        [
         "21",
         "0.20534003890164296",
         "0.0111603365676884",
         "0.2761124255244037",
         "0.01644865269807878"
        ],
        [
         "22",
         "0.20016670373470077",
         "0.009558733238570632",
         "0.2721641661757903",
         "0.01606934324811919"
        ],
        [
         "23",
         "0.194206239437668",
         "0.008432975373656995",
         "0.2674212387069442",
         "0.01561511262640479"
        ],
        [
         "24",
         "0.1894249326130204",
         "0.007943274424729559",
         "0.26466973617182754",
         "0.01418955064405438"
        ],
        [
         "25",
         "0.18602197632577058",
         "0.00810466369942073",
         "0.2619312094011152",
         "0.013757458306182909"
        ],
        [
         "26",
         "0.18215729923962187",
         "0.0075115167300271206",
         "0.2594850463411575",
         "0.013341064289123964"
        ],
        [
         "27",
         "0.17876559927950356",
         "0.00756871620522738",
         "0.2583901913925863",
         "0.012037607823511633"
        ],
        [
         "28",
         "0.17326236621370747",
         "0.007933581920621383",
         "0.254273003780539",
         "0.011460790702913348"
        ],
        [
         "29",
         "0.16879217581884245",
         "0.007765589777695427",
         "0.2510461834131206",
         "0.011415810647744145"
        ],
        [
         "30",
         "0.16651333944341257",
         "0.006599836947625319",
         "0.24877454703276136",
         "0.011624299432147387"
        ],
        [
         "31",
         "0.16469117658201485",
         "0.007453089111540578",
         "0.2474750955626525",
         "0.012788406904696075"
        ],
        [
         "32",
         "0.1600160441158142",
         "0.007657485166619592",
         "0.24465523810832548",
         "0.011806320105504494"
        ],
        [
         "33",
         "0.15831849647966775",
         "0.007975877875141018",
         "0.2430247403848481",
         "0.011259921264916359"
        ],
        [
         "34",
         "0.15455194476581438",
         "0.007947491523968883",
         "0.24022011610134697",
         "0.011050656901514968"
        ],
        [
         "35",
         "0.15132414856888235",
         "0.00580081552466919",
         "0.23683490538000018",
         "0.011343895061853381"
        ],
        [
         "36",
         "0.14921877759483904",
         "0.0044931201131540475",
         "0.23517627707427935",
         "0.00989538996752275"
        ],
        [
         "37",
         "0.14771308589782742",
         "0.004238067452086655",
         "0.23497996328828163",
         "0.009811112672167218"
        ],
        [
         "38",
         "0.14544496536377446",
         "0.0032481000353500773",
         "0.23288230749042685",
         "0.009503728233473828"
        ],
        [
         "39",
         "0.1429334536833429",
         "0.003226559473594655",
         "0.23172872502411232",
         "0.010263348832909814"
        ],
        [
         "40",
         "0.14166535983835735",
         "0.0031119086911227897",
         "0.2307297409747214",
         "0.008885512789041965"
        ],
        [
         "41",
         "0.1401292161581117",
         "0.002895658808802035",
         "0.23031535037940273",
         "0.009440848191050347"
        ],
        [
         "42",
         "0.13819309117639236",
         "0.0027511571879026676",
         "0.22973902875248464",
         "0.008487973334138489"
        ],
        [
         "43",
         "0.1361231065945893",
         "0.003555896932188745",
         "0.22845175759869218",
         "0.00885675961375357"
        ],
        [
         "44",
         "0.13402224501725793",
         "0.003526799519312669",
         "0.22557148568838703",
         "0.010051862524869747"
        ],
        [
         "45",
         "0.13248233542070068",
         "0.0034307903015874273",
         "0.22465011601573215",
         "0.010105691558069386"
        ],
        [
         "46",
         "0.1310195873898654",
         "0.0035035783911880627",
         "0.22245325257741624",
         "0.01084410552025458"
        ],
        [
         "47",
         "0.12926198722646284",
         "0.003591751258869159",
         "0.22042156924519776",
         "0.010574263374823688"
        ],
        [
         "48",
         "0.12725769091555303",
         "0.0037214081905605515",
         "0.21809341577175387",
         "0.010412036742841283"
        ],
        [
         "49",
         "0.12560075933845039",
         "0.00391544830024745",
         "0.21653232854933954",
         "0.011361437841294952"
        ]
       ],
       "shape": {
        "columns": 4,
        "rows": 3754
       }
      },
      "text/html": [
       "<div>\n",
       "<style scoped>\n",
       "    .dataframe tbody tr th:only-of-type {\n",
       "        vertical-align: middle;\n",
       "    }\n",
       "\n",
       "    .dataframe tbody tr th {\n",
       "        vertical-align: top;\n",
       "    }\n",
       "\n",
       "    .dataframe thead th {\n",
       "        text-align: right;\n",
       "    }\n",
       "</style>\n",
       "<table border=\"1\" class=\"dataframe\">\n",
       "  <thead>\n",
       "    <tr style=\"text-align: right;\">\n",
       "      <th></th>\n",
       "      <th>train-mape-mean</th>\n",
       "      <th>train-mape-std</th>\n",
       "      <th>test-mape-mean</th>\n",
       "      <th>test-mape-std</th>\n",
       "    </tr>\n",
       "  </thead>\n",
       "  <tbody>\n",
       "    <tr>\n",
       "      <th>0</th>\n",
       "      <td>0.563002</td>\n",
       "      <td>0.026165</td>\n",
       "      <td>0.576436</td>\n",
       "      <td>0.039865</td>\n",
       "    </tr>\n",
       "    <tr>\n",
       "      <th>1</th>\n",
       "      <td>0.518038</td>\n",
       "      <td>0.023439</td>\n",
       "      <td>0.534366</td>\n",
       "      <td>0.037794</td>\n",
       "    </tr>\n",
       "    <tr>\n",
       "      <th>2</th>\n",
       "      <td>0.483077</td>\n",
       "      <td>0.024814</td>\n",
       "      <td>0.499022</td>\n",
       "      <td>0.035219</td>\n",
       "    </tr>\n",
       "    <tr>\n",
       "      <th>3</th>\n",
       "      <td>0.452877</td>\n",
       "      <td>0.028565</td>\n",
       "      <td>0.473156</td>\n",
       "      <td>0.028410</td>\n",
       "    </tr>\n",
       "    <tr>\n",
       "      <th>4</th>\n",
       "      <td>0.425767</td>\n",
       "      <td>0.027923</td>\n",
       "      <td>0.450165</td>\n",
       "      <td>0.031277</td>\n",
       "    </tr>\n",
       "    <tr>\n",
       "      <th>...</th>\n",
       "      <td>...</td>\n",
       "      <td>...</td>\n",
       "      <td>...</td>\n",
       "      <td>...</td>\n",
       "    </tr>\n",
       "    <tr>\n",
       "      <th>3749</th>\n",
       "      <td>0.004666</td>\n",
       "      <td>0.001231</td>\n",
       "      <td>0.196478</td>\n",
       "      <td>0.015606</td>\n",
       "    </tr>\n",
       "    <tr>\n",
       "      <th>3750</th>\n",
       "      <td>0.004664</td>\n",
       "      <td>0.001236</td>\n",
       "      <td>0.196469</td>\n",
       "      <td>0.015593</td>\n",
       "    </tr>\n",
       "    <tr>\n",
       "      <th>3751</th>\n",
       "      <td>0.004684</td>\n",
       "      <td>0.001231</td>\n",
       "      <td>0.196427</td>\n",
       "      <td>0.015564</td>\n",
       "    </tr>\n",
       "    <tr>\n",
       "      <th>3752</th>\n",
       "      <td>0.004699</td>\n",
       "      <td>0.001243</td>\n",
       "      <td>0.196476</td>\n",
       "      <td>0.015587</td>\n",
       "    </tr>\n",
       "    <tr>\n",
       "      <th>3753</th>\n",
       "      <td>0.004693</td>\n",
       "      <td>0.001242</td>\n",
       "      <td>0.196458</td>\n",
       "      <td>0.015599</td>\n",
       "    </tr>\n",
       "  </tbody>\n",
       "</table>\n",
       "<p>3754 rows × 4 columns</p>\n",
       "</div>"
      ],
      "text/plain": [
       "      train-mape-mean  train-mape-std  test-mape-mean  test-mape-std\n",
       "0            0.563002        0.026165        0.576436       0.039865\n",
       "1            0.518038        0.023439        0.534366       0.037794\n",
       "2            0.483077        0.024814        0.499022       0.035219\n",
       "3            0.452877        0.028565        0.473156       0.028410\n",
       "4            0.425767        0.027923        0.450165       0.031277\n",
       "...               ...             ...             ...            ...\n",
       "3749         0.004666        0.001231        0.196478       0.015606\n",
       "3750         0.004664        0.001236        0.196469       0.015593\n",
       "3751         0.004684        0.001231        0.196427       0.015564\n",
       "3752         0.004699        0.001243        0.196476       0.015587\n",
       "3753         0.004693        0.001242        0.196458       0.015599\n",
       "\n",
       "[3754 rows x 4 columns]"
      ]
     },
     "execution_count": 18,
     "metadata": {},
     "output_type": "execute_result"
    }
   ],
   "source": [
    "cv_results"
   ]
  },
  {
   "cell_type": "markdown",
   "metadata": {},
   "source": [
    "Export the model to be used in production."
   ]
  },
  {
   "cell_type": "code",
   "execution_count": 19,
   "metadata": {},
   "outputs": [],
   "source": [
    "filepath = '../model/xgboost.pkl'\n",
    "pickle.dump(model_final, open(filepath, 'wb'))"
   ]
  }
 ],
 "metadata": {
  "kernelspec": {
   "display_name": "base",
   "language": "python",
   "name": "python3"
  },
  "language_info": {
   "codemirror_mode": {
    "name": "ipython",
    "version": 3
   },
   "file_extension": ".py",
   "mimetype": "text/x-python",
   "name": "python",
   "nbconvert_exporter": "python",
   "pygments_lexer": "ipython3",
   "version": "3.12.7"
  }
 },
 "nbformat": 4,
 "nbformat_minor": 2
}
