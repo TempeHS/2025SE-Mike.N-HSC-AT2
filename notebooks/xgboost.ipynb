{
 "cells": [
  {
   "cell_type": "code",
   "execution_count": 45,
   "metadata": {},
   "outputs": [],
   "source": [
    "#Dependencies\n",
    "from functools import partial\n",
    "from sklearn.feature_selection import SelectFromModel\n",
    "from sklearn.ensemble import VotingRegressor\n",
    "from sklearn.linear_model import LinearRegression\n",
    "from sklearn.model_selection import train_test_split, cross_val_score\n",
    "from sklearn.metrics import mean_squared_error, root_mean_squared_error, mean_absolute_percentage_error, mean_absolute_error, r2_score\n",
    "from sklearn.pipeline import Pipeline\n",
    "from sklearn.inspection import permutation_importance\n",
    "from xgboost import XGBRegressor\n",
    "import xgboost as xgb\n",
    "from xgboost import cv\n",
    "from optuna import create_study\n",
    "from optuna.visualization import plot_optimization_history, plot_param_importances\n",
    "from optuna.integration import XGBoostPruningCallback\n",
    "from optuna.samplers import TPESampler\n",
    "import optuna\n",
    "import pandas as pd\n",
    "import matplotlib.pyplot as plt\n",
    "import seaborn as sns\n",
    "import numpy as np\n",
    "import pickle"
   ]
  },
  {
   "cell_type": "code",
   "execution_count": 46,
   "metadata": {},
   "outputs": [],
   "source": [
    "X_full = pd.read_csv('/workspaces/2025SE-Mike.N-HSC-AT2/data/concrete_preprocessed.csv')\n",
    "y = X_full['strength']\n",
    "X = X_full.drop(['strength'], axis=1)"
   ]
  },
  {
   "cell_type": "code",
   "execution_count": 47,
   "metadata": {},
   "outputs": [
    {
     "name": "stdout",
     "output_type": "stream",
     "text": [
      "<class 'pandas.core.frame.DataFrame'>\n",
      "RangeIndex: 904 entries, 0 to 903\n",
      "Data columns (total 11 columns):\n",
      " #   Column                           Non-Null Count  Dtype  \n",
      "---  ------                           --------------  -----  \n",
      " 0   cement                           904 non-null    float64\n",
      " 1   blast_furnace_slag               904 non-null    float64\n",
      " 2   fly_ash                          904 non-null    float64\n",
      " 3   water                            904 non-null    float64\n",
      " 4   superplasticizer                 904 non-null    float64\n",
      " 5   coarse_aggregate                 904 non-null    float64\n",
      " 6   fine_aggregate                   904 non-null    float64\n",
      " 7   age                              904 non-null    float64\n",
      " 8   cement_to_water_ratio            904 non-null    float64\n",
      " 9   fine_aggregate_to_water_ratio    904 non-null    float64\n",
      " 10  coarse_aggregate_to_water_ratio  904 non-null    float64\n",
      "dtypes: float64(11)\n",
      "memory usage: 77.8 KB\n"
     ]
    }
   ],
   "source": [
    "X.info()"
   ]
  },
  {
   "cell_type": "code",
   "execution_count": 48,
   "metadata": {},
   "outputs": [
    {
     "name": "stdout",
     "output_type": "stream",
     "text": [
      "<class 'pandas.core.series.Series'>\n",
      "RangeIndex: 904 entries, 0 to 903\n",
      "Series name: strength\n",
      "Non-Null Count  Dtype  \n",
      "--------------  -----  \n",
      "904 non-null    float64\n",
      "dtypes: float64(1)\n",
      "memory usage: 7.2 KB\n"
     ]
    }
   ],
   "source": [
    "y.info()"
   ]
  },
  {
   "cell_type": "markdown",
   "metadata": {},
   "source": [
    "**Model Training** \\\n",
    "We divide the training phase into 2 phases:\n",
    "* In the 1st phase, we use Optuna to find the best tree parameters with a medium learning rate to improve trial speeds.\n",
    "* In the 2nd phase, we use a small learning rate to find the best number of boosting rounds."
   ]
  },
  {
   "cell_type": "code",
   "execution_count": 49,
   "metadata": {},
   "outputs": [
    {
     "name": "stderr",
     "output_type": "stream",
     "text": [
      "[I 2025-04-06 23:47:39,955] A new study created in memory with name: no-name-f486e066-0f20-46a3-9205-47cbaac7d736\n"
     ]
    },
    {
     "name": "stderr",
     "output_type": "stream",
     "text": [
      "[I 2025-04-06 23:47:40,957] Trial 0 finished with value: 4.287804198386965 and parameters: {'tree_method': 'hist', 'learning_rate': 0.4195981825434215, 'reg_lambda': 0.6502468545951017, 'max_depth': 4, 'min_child_weight': 32, 'gamma': 0.0018747059221802516, 'subsample': 0.9330880728874675, 'colsample_bynode': 0.8005575058716043, 'colsample_bytree': 0.8540362888980227, 'colsample_bylevel': 0.5102922471479012}. Best is trial 0 with value: 4.287804198386965.\n",
      "[I 2025-04-06 23:47:41,404] Trial 1 finished with value: 4.58183642648733 and parameters: {'tree_method': 'approx', 'learning_rate': 0.26370173320348284, 'reg_lambda': 0.007151383480402496, 'max_depth': 4, 'min_child_weight': 61, 'gamma': 0.2922905212920093, 'subsample': 0.7159725093210578, 'colsample_bynode': 0.645614570099021, 'colsample_bytree': 0.8059264473611898, 'colsample_bylevel': 0.569746930326021}. Best is trial 0 with value: 4.287804198386965.\n",
      "[I 2025-04-06 23:47:41,689] Trial 2 finished with value: 7.372522432400242 and parameters: {'tree_method': 'hist', 'learning_rate': 0.3368209952651108, 'reg_lambda': 4.89235869319053, 'max_depth': 4, 'min_child_weight': 103, 'gamma': 0.6077686426194465, 'subsample': 0.5232252063599989, 'colsample_bynode': 0.8037724259507192, 'colsample_bytree': 0.5852620618436457, 'colsample_bylevel': 0.5325257964926398}. Best is trial 0 with value: 4.287804198386965.\n",
      "[I 2025-04-06 23:47:41,829] Trial 3 finished with value: 12.014669279505839 and parameters: {'tree_method': 'hist', 'learning_rate': 0.4425192044349383, 'reg_lambda': 0.027000447632122594, 'max_depth': 3, 'min_child_weight': 137, 'gamma': 0.11702088154220885, 'subsample': 0.5610191174223894, 'colsample_bynode': 0.7475884550556351, 'colsample_bytree': 0.5171942605576092, 'colsample_bylevel': 0.954660201039391}. Best is trial 0 with value: 4.287804198386965.\n",
      "[I 2025-04-06 23:47:42,133] Trial 4 finished with value: 4.132874730454392 and parameters: {'tree_method': 'hist', 'learning_rate': 0.2935133228268233, 'reg_lambda': 0.2778331300797557, 'max_depth': 8, 'min_child_weight': 37, 'gamma': 35.97899951374987, 'subsample': 0.8875664116805573, 'colsample_bynode': 0.9697494707820946, 'colsample_bytree': 0.9474136752138245, 'colsample_bylevel': 0.7989499894055425}. Best is trial 4 with value: 4.132874730454392.\n",
      "[I 2025-04-06 23:47:42,140] Trial 5 pruned. Trial was pruned at iteration 1.\n",
      "[I 2025-04-06 23:47:42,147] Trial 6 pruned. Trial was pruned at iteration 1.\n",
      "[I 2025-04-06 23:47:42,152] Trial 7 pruned. Trial was pruned at iteration 0.\n",
      "[I 2025-04-06 23:47:42,157] Trial 8 pruned. Trial was pruned at iteration 0.\n",
      "[I 2025-04-06 23:47:42,161] Trial 9 pruned. Trial was pruned at iteration 0.\n",
      "[I 2025-04-06 23:47:42,332] Trial 10 finished with value: 4.507156593113521 and parameters: {'tree_method': 'hist', 'learning_rate': 0.3118378702570091, 'reg_lambda': 0.21730759266478364, 'max_depth': 12, 'min_child_weight': 4, 'gamma': 18.41152012664477, 'subsample': 0.8271882613853765, 'colsample_bynode': 0.9884159971363301, 'colsample_bytree': 0.9849480047501926, 'colsample_bylevel': 0.6898021217101117}. Best is trial 4 with value: 4.132874730454392.\n",
      "[I 2025-04-06 23:47:42,434] Trial 11 pruned. Trial was pruned at iteration 50.\n",
      "[I 2025-04-06 23:47:42,803] Trial 12 finished with value: 4.246275237595786 and parameters: {'tree_method': 'hist', 'learning_rate': 0.40686098033619267, 'reg_lambda': 0.545224030525146, 'max_depth': 6, 'min_child_weight': 34, 'gamma': 3.462412715907589, 'subsample': 0.8516068653629361, 'colsample_bynode': 0.9980082658737177, 'colsample_bytree': 0.9234980616943327, 'colsample_bylevel': 0.6538703450921687}. Best is trial 4 with value: 4.132874730454392.\n",
      "[I 2025-04-06 23:47:43,152] Trial 13 finished with value: 4.142046443053735 and parameters: {'tree_method': 'hist', 'learning_rate': 0.3709071273091479, 'reg_lambda': 0.10304051814063227, 'max_depth': 6, 'min_child_weight': 37, 'gamma': 4.425394286471529, 'subsample': 0.8301158581566944, 'colsample_bynode': 0.9826689730327276, 'colsample_bytree': 0.9270627421637063, 'colsample_bylevel': 0.6403241395746345}. Best is trial 4 with value: 4.132874730454392.\n",
      "[I 2025-04-06 23:47:43,183] Trial 14 pruned. Trial was pruned at iteration 0.\n",
      "[I 2025-04-06 23:47:43,214] Trial 15 pruned. Trial was pruned at iteration 0.\n",
      "[I 2025-04-06 23:47:43,244] Trial 16 pruned. Trial was pruned at iteration 0.\n",
      "[I 2025-04-06 23:47:43,418] Trial 17 finished with value: 3.9433054396889213 and parameters: {'tree_method': 'hist', 'learning_rate': 0.2935569631574562, 'reg_lambda': 1.899392477956506, 'max_depth': 12, 'min_child_weight': 16, 'gamma': 12.147563354710504, 'subsample': 0.8682194745478569, 'colsample_bynode': 0.9575212786509526, 'colsample_bytree': 0.9271711684435539, 'colsample_bylevel': 0.9483531454672248}. Best is trial 17 with value: 3.9433054396889213.\n",
      "[I 2025-04-06 23:47:43,461] Trial 18 pruned. Trial was pruned at iteration 1.\n",
      "[I 2025-04-06 23:47:43,502] Trial 19 pruned. Trial was pruned at iteration 0.\n",
      "[I 2025-04-06 23:47:43,543] Trial 20 pruned. Trial was pruned at iteration 0.\n",
      "[I 2025-04-06 23:47:43,592] Trial 21 pruned. Trial was pruned at iteration 6.\n",
      "[I 2025-04-06 23:47:43,624] Trial 22 pruned. Trial was pruned at iteration 0.\n",
      "[I 2025-04-06 23:47:43,667] Trial 23 pruned. Trial was pruned at iteration 6.\n",
      "[I 2025-04-06 23:47:43,747] Trial 24 pruned. Trial was pruned at iteration 16.\n",
      "[I 2025-04-06 23:47:43,779] Trial 25 pruned. Trial was pruned at iteration 0.\n",
      "[I 2025-04-06 23:47:43,816] Trial 26 pruned. Trial was pruned at iteration 0.\n",
      "[I 2025-04-06 23:47:43,854] Trial 27 pruned. Trial was pruned at iteration 0.\n",
      "[I 2025-04-06 23:47:44,498] Trial 28 finished with value: 3.727841972349521 and parameters: {'tree_method': 'hist', 'learning_rate': 0.32223721590848636, 'reg_lambda': 1.0503639554450175, 'max_depth': 5, 'min_child_weight': 22, 'gamma': 0.5919256433249147, 'subsample': 0.8813182584314236, 'colsample_bynode': 0.9322720171024577, 'colsample_bytree': 0.8876725947429143, 'colsample_bylevel': 0.6106549634248977}. Best is trial 28 with value: 3.727841972349521.\n",
      "[I 2025-04-06 23:47:44,531] Trial 29 pruned. Trial was pruned at iteration 0.\n",
      "[I 2025-04-06 23:47:44,563] Trial 30 pruned. Trial was pruned at iteration 0.\n",
      "[I 2025-04-06 23:47:44,597] Trial 31 pruned. Trial was pruned at iteration 0.\n",
      "[I 2025-04-06 23:47:44,632] Trial 32 pruned. Trial was pruned at iteration 1.\n",
      "[I 2025-04-06 23:47:44,670] Trial 33 pruned. Trial was pruned at iteration 0.\n",
      "[I 2025-04-06 23:47:44,704] Trial 34 pruned. Trial was pruned at iteration 0.\n",
      "[I 2025-04-06 23:47:44,739] Trial 35 pruned. Trial was pruned at iteration 0.\n",
      "[I 2025-04-06 23:47:44,773] Trial 36 pruned. Trial was pruned at iteration 0.\n",
      "[I 2025-04-06 23:47:44,806] Trial 37 pruned. Trial was pruned at iteration 0.\n",
      "[I 2025-04-06 23:47:44,945] Trial 38 finished with value: 4.503995238165252 and parameters: {'tree_method': 'approx', 'learning_rate': 0.37790746609761183, 'reg_lambda': 0.5261285447769886, 'max_depth': 6, 'min_child_weight': 14, 'gamma': 27.09642800368478, 'subsample': 0.8017218419228331, 'colsample_bynode': 0.7005604466351145, 'colsample_bytree': 0.9972167239608046, 'colsample_bylevel': 0.6436053671179955}. Best is trial 28 with value: 3.727841972349521.\n",
      "[I 2025-04-06 23:47:44,979] Trial 39 pruned. Trial was pruned at iteration 0.\n",
      "[I 2025-04-06 23:47:45,013] Trial 40 pruned. Trial was pruned at iteration 0.\n",
      "[I 2025-04-06 23:47:45,057] Trial 41 pruned. Trial was pruned at iteration 5.\n",
      "[I 2025-04-06 23:47:45,097] Trial 42 pruned. Trial was pruned at iteration 3.\n",
      "[I 2025-04-06 23:47:45,130] Trial 43 pruned. Trial was pruned at iteration 0.\n",
      "[I 2025-04-06 23:47:45,165] Trial 44 pruned. Trial was pruned at iteration 0.\n",
      "[I 2025-04-06 23:47:45,359] Trial 45 finished with value: 4.418190075212189 and parameters: {'tree_method': 'hist', 'learning_rate': 0.3560480931414805, 'reg_lambda': 0.9577439322094001, 'max_depth': 8, 'min_child_weight': 11, 'gamma': 7.242896604451492, 'subsample': 0.7709917278645344, 'colsample_bynode': 0.9741953290789004, 'colsample_bytree': 0.9707576166214541, 'colsample_bylevel': 0.7463400409201214}. Best is trial 28 with value: 3.727841972349521.\n",
      "[I 2025-04-06 23:47:45,394] Trial 46 pruned. Trial was pruned at iteration 0.\n",
      "[I 2025-04-06 23:47:45,433] Trial 47 pruned. Trial was pruned at iteration 2.\n",
      "[I 2025-04-06 23:47:45,484] Trial 48 pruned. Trial was pruned at iteration 5.\n",
      "[I 2025-04-06 23:47:45,520] Trial 49 pruned. Trial was pruned at iteration 0.\n",
      "[I 2025-04-06 23:47:45,555] Trial 50 pruned. Trial was pruned at iteration 0.\n",
      "[I 2025-04-06 23:47:45,589] Trial 51 pruned. Trial was pruned at iteration 0.\n",
      "[I 2025-04-06 23:47:45,624] Trial 52 pruned. Trial was pruned at iteration 0.\n",
      "[I 2025-04-06 23:47:45,659] Trial 53 pruned. Trial was pruned at iteration 0.\n",
      "[I 2025-04-06 23:47:45,699] Trial 54 pruned. Trial was pruned at iteration 3.\n",
      "[I 2025-04-06 23:47:45,750] Trial 55 pruned. Trial was pruned at iteration 6.\n",
      "[I 2025-04-06 23:47:45,786] Trial 56 pruned. Trial was pruned at iteration 0.\n",
      "[I 2025-04-06 23:47:45,822] Trial 57 pruned. Trial was pruned at iteration 0.\n",
      "[I 2025-04-06 23:47:45,858] Trial 58 pruned. Trial was pruned at iteration 0.\n",
      "[I 2025-04-06 23:47:45,895] Trial 59 pruned. Trial was pruned at iteration 0.\n",
      "[I 2025-04-06 23:47:45,938] Trial 60 pruned. Trial was pruned at iteration 4.\n",
      "[I 2025-04-06 23:47:46,204] Trial 61 finished with value: 4.2111553318252275 and parameters: {'tree_method': 'hist', 'learning_rate': 0.36038358151723576, 'reg_lambda': 0.9346123824163433, 'max_depth': 9, 'min_child_weight': 11, 'gamma': 7.652841537483829, 'subsample': 0.7846656087494139, 'colsample_bynode': 0.9670481077635927, 'colsample_bytree': 0.9668669357245935, 'colsample_bylevel': 0.7491665348893227}. Best is trial 28 with value: 3.727841972349521.\n",
      "[I 2025-04-06 23:47:46,243] Trial 62 pruned. Trial was pruned at iteration 1.\n",
      "[I 2025-04-06 23:47:46,490] Trial 63 pruned. Trial was pruned at iteration 126.\n",
      "[I 2025-04-06 23:47:46,581] Trial 64 pruned. Trial was pruned at iteration 25.\n",
      "[I 2025-04-06 23:47:46,666] Trial 65 pruned. Trial was pruned at iteration 18.\n",
      "[I 2025-04-06 23:47:46,965] Trial 66 finished with value: 4.024309648824501 and parameters: {'tree_method': 'hist', 'learning_rate': 0.43652868593364835, 'reg_lambda': 5.9715102148497845, 'max_depth': 8, 'min_child_weight': 18, 'gamma': 5.1725119924564575, 'subsample': 0.8213701722785779, 'colsample_bynode': 0.9651886151054064, 'colsample_bytree': 0.8494036076912038, 'colsample_bylevel': 0.7591483790764165}. Best is trial 28 with value: 3.727841972349521.\n",
      "[I 2025-04-06 23:47:47,004] Trial 67 pruned. Trial was pruned at iteration 1.\n",
      "[I 2025-04-06 23:47:47,044] Trial 68 pruned. Trial was pruned at iteration 1.\n",
      "[I 2025-04-06 23:47:47,081] Trial 69 pruned. Trial was pruned at iteration 0.\n",
      "[I 2025-04-06 23:47:47,117] Trial 70 pruned. Trial was pruned at iteration 0.\n",
      "[I 2025-04-06 23:47:47,198] Trial 71 pruned. Trial was pruned at iteration 20.\n",
      "[I 2025-04-06 23:47:47,235] Trial 72 pruned. Trial was pruned at iteration 0.\n",
      "[I 2025-04-06 23:47:47,283] Trial 73 pruned. Trial was pruned at iteration 5.\n",
      "[I 2025-04-06 23:47:47,367] Trial 74 pruned. Trial was pruned at iteration 25.\n",
      "[I 2025-04-06 23:47:47,402] Trial 75 pruned. Trial was pruned at iteration 0.\n",
      "[I 2025-04-06 23:47:47,445] Trial 76 pruned. Trial was pruned at iteration 3.\n",
      "[I 2025-04-06 23:47:47,489] Trial 77 pruned. Trial was pruned at iteration 1.\n",
      "[I 2025-04-06 23:47:47,534] Trial 78 pruned. Trial was pruned at iteration 0.\n",
      "[I 2025-04-06 23:47:47,572] Trial 79 pruned. Trial was pruned at iteration 0.\n",
      "[I 2025-04-06 23:47:47,615] Trial 80 pruned. Trial was pruned at iteration 3.\n",
      "[I 2025-04-06 23:47:47,703] Trial 81 pruned. Trial was pruned at iteration 19.\n",
      "[I 2025-04-06 23:47:47,831] Trial 82 pruned. Trial was pruned at iteration 37.\n",
      "[I 2025-04-06 23:47:47,877] Trial 83 pruned. Trial was pruned at iteration 3.\n",
      "[I 2025-04-06 23:47:48,041] Trial 84 finished with value: 3.9459897349660387 and parameters: {'tree_method': 'hist', 'learning_rate': 0.41920448352704526, 'reg_lambda': 0.4259553769730974, 'max_depth': 7, 'min_child_weight': 19, 'gamma': 18.517291956111166, 'subsample': 0.843970261952553, 'colsample_bynode': 0.9978062817017045, 'colsample_bytree': 0.8812898266673538, 'colsample_bylevel': 0.8310976514870677}. Best is trial 28 with value: 3.727841972349521.\n",
      "[I 2025-04-06 23:47:48,088] Trial 85 pruned. Trial was pruned at iteration 4.\n",
      "[I 2025-04-06 23:47:48,148] Trial 86 pruned. Trial was pruned at iteration 8.\n",
      "[I 2025-04-06 23:47:48,210] Trial 87 pruned. Trial was pruned at iteration 5.\n",
      "[I 2025-04-06 23:47:48,250] Trial 88 pruned. Trial was pruned at iteration 1.\n",
      "[I 2025-04-06 23:47:48,287] Trial 89 pruned. Trial was pruned at iteration 0.\n",
      "[I 2025-04-06 23:47:48,562] Trial 90 finished with value: 4.032905266270929 and parameters: {'tree_method': 'approx', 'learning_rate': 0.363157495840051, 'reg_lambda': 0.17800056524624674, 'max_depth': 7, 'min_child_weight': 17, 'gamma': 4.763030003031112, 'subsample': 0.9102210217072276, 'colsample_bynode': 0.9679893475363903, 'colsample_bytree': 0.7956175886848518, 'colsample_bylevel': 0.6112534602344402}. Best is trial 28 with value: 3.727841972349521.\n",
      "[I 2025-04-06 23:47:48,793] Trial 91 finished with value: 3.892332876309715 and parameters: {'tree_method': 'approx', 'learning_rate': 0.368612892311473, 'reg_lambda': 0.1725506023413648, 'max_depth': 7, 'min_child_weight': 18, 'gamma': 5.163358863069173, 'subsample': 0.9623160026955838, 'colsample_bynode': 0.9722186407972805, 'colsample_bytree': 0.8307751187526112, 'colsample_bylevel': 0.6004656977339545}. Best is trial 28 with value: 3.727841972349521.\n",
      "[I 2025-04-06 23:47:48,932] Trial 92 finished with value: 4.010004000042406 and parameters: {'tree_method': 'approx', 'learning_rate': 0.36306202717740405, 'reg_lambda': 0.25084838341238125, 'max_depth': 7, 'min_child_weight': 4, 'gamma': 4.725475725699921, 'subsample': 0.9076425305054308, 'colsample_bynode': 0.9665140508738979, 'colsample_bytree': 0.7937748313922416, 'colsample_bylevel': 0.596374488278853}. Best is trial 28 with value: 3.727841972349521.\n",
      "[I 2025-04-06 23:47:48,979] Trial 93 pruned. Trial was pruned at iteration 3.\n",
      "[I 2025-04-06 23:47:49,021] Trial 94 pruned. Trial was pruned at iteration 1.\n",
      "[I 2025-04-06 23:47:49,090] Trial 95 pruned. Trial was pruned at iteration 12.\n",
      "[I 2025-04-06 23:47:49,158] Trial 96 pruned. Trial was pruned at iteration 12.\n",
      "[I 2025-04-06 23:47:49,202] Trial 97 pruned. Trial was pruned at iteration 2.\n",
      "[I 2025-04-06 23:47:49,244] Trial 98 pruned. Trial was pruned at iteration 1.\n",
      "[I 2025-04-06 23:47:49,285] Trial 99 pruned. Trial was pruned at iteration 1.\n",
      "[I 2025-04-06 23:47:49,326] Trial 100 pruned. Trial was pruned at iteration 1.\n",
      "[I 2025-04-06 23:47:49,366] Trial 101 pruned. Trial was pruned at iteration 1.\n",
      "[I 2025-04-06 23:47:49,409] Trial 102 pruned. Trial was pruned at iteration 2.\n",
      "[I 2025-04-06 23:47:49,451] Trial 103 pruned. Trial was pruned at iteration 1.\n",
      "[I 2025-04-06 23:47:49,527] Trial 104 pruned. Trial was pruned at iteration 11.\n",
      "[I 2025-04-06 23:47:49,567] Trial 105 pruned. Trial was pruned at iteration 0.\n",
      "[I 2025-04-06 23:47:49,606] Trial 106 pruned. Trial was pruned at iteration 0.\n",
      "[I 2025-04-06 23:47:49,648] Trial 107 pruned. Trial was pruned at iteration 1.\n",
      "[I 2025-04-06 23:47:49,692] Trial 108 pruned. Trial was pruned at iteration 2.\n",
      "[I 2025-04-06 23:47:49,730] Trial 109 pruned. Trial was pruned at iteration 0.\n",
      "[I 2025-04-06 23:47:49,771] Trial 110 pruned. Trial was pruned at iteration 1.\n",
      "[I 2025-04-06 23:47:49,809] Trial 111 pruned. Trial was pruned at iteration 0.\n",
      "[I 2025-04-06 23:47:49,851] Trial 112 pruned. Trial was pruned at iteration 2.\n",
      "[I 2025-04-06 23:47:49,890] Trial 113 pruned. Trial was pruned at iteration 0.\n",
      "[I 2025-04-06 23:47:49,929] Trial 114 pruned. Trial was pruned at iteration 0.\n",
      "[I 2025-04-06 23:47:49,976] Trial 115 pruned. Trial was pruned at iteration 3.\n",
      "[I 2025-04-06 23:47:50,608] Trial 116 finished with value: 3.7329065143955993 and parameters: {'tree_method': 'hist', 'learning_rate': 0.4058478491397914, 'reg_lambda': 0.4722236310902779, 'max_depth': 12, 'min_child_weight': 10, 'gamma': 0.08857841682199231, 'subsample': 0.816338028292536, 'colsample_bynode': 0.7413307969616422, 'colsample_bytree': 0.9884405345747656, 'colsample_bylevel': 0.6692286189933682}. Best is trial 28 with value: 3.727841972349521.\n",
      "[I 2025-04-06 23:47:50,649] Trial 117 pruned. Trial was pruned at iteration 0.\n",
      "[I 2025-04-06 23:47:51,259] Trial 118 finished with value: 3.5036244332154065 and parameters: {'tree_method': 'hist', 'learning_rate': 0.4049197695101031, 'reg_lambda': 0.12143936763295837, 'max_depth': 12, 'min_child_weight': 13, 'gamma': 0.04982894201988848, 'subsample': 0.8188750407479978, 'colsample_bynode': 0.772963131662625, 'colsample_bytree': 0.985256651326639, 'colsample_bylevel': 0.6765971530780813}. Best is trial 118 with value: 3.5036244332154065.\n",
      "[I 2025-04-06 23:47:51,368] Trial 119 pruned. Trial was pruned at iteration 12.\n",
      "[I 2025-04-06 23:47:51,409] Trial 120 pruned. Trial was pruned at iteration 0.\n",
      "[I 2025-04-06 23:47:51,451] Trial 121 pruned. Trial was pruned at iteration 1.\n",
      "[I 2025-04-06 23:47:51,557] Trial 122 pruned. Trial was pruned at iteration 20.\n",
      "[I 2025-04-06 23:47:51,605] Trial 123 pruned. Trial was pruned at iteration 1.\n",
      "[I 2025-04-06 23:47:51,662] Trial 124 pruned. Trial was pruned at iteration 0.\n",
      "[I 2025-04-06 23:47:51,748] Trial 125 pruned. Trial was pruned at iteration 12.\n",
      "[I 2025-04-06 23:47:51,788] Trial 126 pruned. Trial was pruned at iteration 0.\n",
      "[I 2025-04-06 23:47:51,877] Trial 127 pruned. Trial was pruned at iteration 15.\n",
      "[I 2025-04-06 23:47:51,922] Trial 128 pruned. Trial was pruned at iteration 2.\n",
      "[I 2025-04-06 23:47:51,961] Trial 129 pruned. Trial was pruned at iteration 0.\n",
      "[I 2025-04-06 23:47:52,003] Trial 130 pruned. Trial was pruned at iteration 0.\n",
      "[I 2025-04-06 23:47:52,044] Trial 131 pruned. Trial was pruned at iteration 0.\n",
      "[I 2025-04-06 23:47:52,083] Trial 132 pruned. Trial was pruned at iteration 0.\n",
      "[I 2025-04-06 23:47:52,123] Trial 133 pruned. Trial was pruned at iteration 0.\n",
      "[I 2025-04-06 23:47:52,163] Trial 134 pruned. Trial was pruned at iteration 0.\n",
      "[I 2025-04-06 23:47:52,204] Trial 135 pruned. Trial was pruned at iteration 0.\n",
      "[I 2025-04-06 23:47:52,249] Trial 136 pruned. Trial was pruned at iteration 0.\n",
      "[I 2025-04-06 23:47:52,296] Trial 137 pruned. Trial was pruned at iteration 2.\n",
      "[I 2025-04-06 23:47:52,366] Trial 138 pruned. Trial was pruned at iteration 11.\n",
      "[I 2025-04-06 23:47:52,406] Trial 139 pruned. Trial was pruned at iteration 0.\n",
      "[I 2025-04-06 23:47:52,446] Trial 140 pruned. Trial was pruned at iteration 0.\n",
      "[I 2025-04-06 23:47:52,489] Trial 141 pruned. Trial was pruned at iteration 1.\n",
      "[I 2025-04-06 23:47:52,540] Trial 142 pruned. Trial was pruned at iteration 0.\n",
      "[I 2025-04-06 23:47:52,827] Trial 143 finished with value: 4.128430735996444 and parameters: {'tree_method': 'hist', 'learning_rate': 0.3665286046323984, 'reg_lambda': 1.295076249523693, 'max_depth': 8, 'min_child_weight': 7, 'gamma': 7.725909068624771, 'subsample': 0.8401661468649452, 'colsample_bynode': 0.9743497016445948, 'colsample_bytree': 0.9800742295314634, 'colsample_bylevel': 0.7493264292939471}. Best is trial 118 with value: 3.5036244332154065.\n",
      "[I 2025-04-06 23:47:52,912] Trial 144 pruned. Trial was pruned at iteration 18.\n",
      "[I 2025-04-06 23:47:52,959] Trial 145 pruned. Trial was pruned at iteration 0.\n",
      "[I 2025-04-06 23:47:53,004] Trial 146 pruned. Trial was pruned at iteration 1.\n",
      "[I 2025-04-06 23:47:53,073] Trial 147 pruned. Trial was pruned at iteration 8.\n",
      "[I 2025-04-06 23:47:53,114] Trial 148 pruned. Trial was pruned at iteration 0.\n",
      "[I 2025-04-06 23:47:53,155] Trial 149 pruned. Trial was pruned at iteration 0.\n",
      "[I 2025-04-06 23:47:53,240] Trial 150 pruned. Trial was pruned at iteration 9.\n",
      "[I 2025-04-06 23:47:53,286] Trial 151 pruned. Trial was pruned at iteration 1.\n",
      "[I 2025-04-06 23:47:53,567] Trial 152 finished with value: 3.891364980003137 and parameters: {'tree_method': 'hist', 'learning_rate': 0.3562907636511811, 'reg_lambda': 1.5703939103110915, 'max_depth': 8, 'min_child_weight': 11, 'gamma': 11.155202900942845, 'subsample': 0.7716899931447451, 'colsample_bynode': 0.9506719844724654, 'colsample_bytree': 0.9652311672012578, 'colsample_bylevel': 0.8309551743330026}. Best is trial 118 with value: 3.5036244332154065.\n",
      "[I 2025-04-06 23:47:53,626] Trial 153 pruned. Trial was pruned at iteration 0.\n",
      "[I 2025-04-06 23:47:53,681] Trial 154 pruned. Trial was pruned at iteration 0.\n",
      "[I 2025-04-06 23:47:53,733] Trial 155 pruned. Trial was pruned at iteration 0.\n",
      "[I 2025-04-06 23:47:53,777] Trial 156 pruned. Trial was pruned at iteration 0.\n",
      "[I 2025-04-06 23:47:53,871] Trial 157 pruned. Trial was pruned at iteration 28.\n",
      "[I 2025-04-06 23:47:53,962] Trial 158 pruned. Trial was pruned at iteration 18.\n",
      "[I 2025-04-06 23:47:54,029] Trial 159 pruned. Trial was pruned at iteration 9.\n",
      "[I 2025-04-06 23:47:54,069] Trial 160 pruned. Trial was pruned at iteration 0.\n",
      "[I 2025-04-06 23:47:54,312] Trial 161 finished with value: 3.839181184321256 and parameters: {'tree_method': 'hist', 'learning_rate': 0.3573849696280731, 'reg_lambda': 0.9398352981812376, 'max_depth': 8, 'min_child_weight': 10, 'gamma': 6.175210419892068, 'subsample': 0.7716525528429412, 'colsample_bynode': 0.9701441861290722, 'colsample_bytree': 0.9998917724054602, 'colsample_bylevel': 0.7788949215725465}. Best is trial 118 with value: 3.5036244332154065.\n",
      "[I 2025-04-06 23:47:54,574] Trial 162 finished with value: 3.9753893050037807 and parameters: {'tree_method': 'hist', 'learning_rate': 0.36014479197796956, 'reg_lambda': 0.8043240374041527, 'max_depth': 8, 'min_child_weight': 9, 'gamma': 6.079691030963079, 'subsample': 0.7738589739479256, 'colsample_bynode': 0.971497374060578, 'colsample_bytree': 0.99816725163281, 'colsample_bylevel': 0.7857230333011825}. Best is trial 118 with value: 3.5036244332154065.\n",
      "[I 2025-04-06 23:47:54,661] Trial 163 pruned. Trial was pruned at iteration 18.\n",
      "[I 2025-04-06 23:47:54,704] Trial 164 pruned. Trial was pruned at iteration 0.\n",
      "[I 2025-04-06 23:47:54,760] Trial 165 pruned. Trial was pruned at iteration 6.\n",
      "[I 2025-04-06 23:47:54,807] Trial 166 pruned. Trial was pruned at iteration 1.\n",
      "[I 2025-04-06 23:47:54,853] Trial 167 pruned. Trial was pruned at iteration 1.\n",
      "[I 2025-04-06 23:47:54,906] Trial 168 pruned. Trial was pruned at iteration 3.\n",
      "[I 2025-04-06 23:47:54,991] Trial 169 pruned. Trial was pruned at iteration 16.\n",
      "[I 2025-04-06 23:47:55,040] Trial 170 pruned. Trial was pruned at iteration 0.\n",
      "[I 2025-04-06 23:47:55,082] Trial 171 pruned. Trial was pruned at iteration 0.\n",
      "[I 2025-04-06 23:47:55,126] Trial 172 pruned. Trial was pruned at iteration 0.\n",
      "[I 2025-04-06 23:47:55,169] Trial 173 pruned. Trial was pruned at iteration 0.\n",
      "[I 2025-04-06 23:47:55,212] Trial 174 pruned. Trial was pruned at iteration 0.\n",
      "[I 2025-04-06 23:47:55,721] Trial 175 finished with value: 3.451614986446496 and parameters: {'tree_method': 'hist', 'learning_rate': 0.36725508975924054, 'reg_lambda': 0.32254658418287513, 'max_depth': 10, 'min_child_weight': 22, 'gamma': 0.024776407080566634, 'subsample': 0.7717851809636164, 'colsample_bynode': 0.9487971307487205, 'colsample_bytree': 0.9766256641680159, 'colsample_bylevel': 0.969728517112634}. Best is trial 175 with value: 3.451614986446496.\n",
      "[I 2025-04-06 23:47:55,772] Trial 176 pruned. Trial was pruned at iteration 3.\n",
      "[I 2025-04-06 23:47:55,876] Trial 177 pruned. Trial was pruned at iteration 22.\n",
      "[I 2025-04-06 23:47:55,944] Trial 178 pruned. Trial was pruned at iteration 7.\n",
      "[I 2025-04-06 23:47:55,993] Trial 179 pruned. Trial was pruned at iteration 2.\n",
      "[I 2025-04-06 23:47:56,037] Trial 180 pruned. Trial was pruned at iteration 0.\n",
      "[I 2025-04-06 23:47:56,081] Trial 181 pruned. Trial was pruned at iteration 0.\n",
      "[I 2025-04-06 23:47:56,124] Trial 182 pruned. Trial was pruned at iteration 0.\n",
      "[I 2025-04-06 23:47:56,168] Trial 183 pruned. Trial was pruned at iteration 0.\n",
      "[I 2025-04-06 23:47:56,211] Trial 184 pruned. Trial was pruned at iteration 0.\n",
      "[I 2025-04-06 23:47:56,255] Trial 185 pruned. Trial was pruned at iteration 0.\n",
      "[I 2025-04-06 23:47:56,341] Trial 186 pruned. Trial was pruned at iteration 17.\n",
      "[I 2025-04-06 23:47:56,385] Trial 187 pruned. Trial was pruned at iteration 0.\n",
      "[I 2025-04-06 23:47:56,429] Trial 188 pruned. Trial was pruned at iteration 0.\n",
      "[I 2025-04-06 23:47:56,484] Trial 189 pruned. Trial was pruned at iteration 5.\n",
      "[I 2025-04-06 23:47:56,531] Trial 190 pruned. Trial was pruned at iteration 2.\n",
      "[I 2025-04-06 23:47:56,580] Trial 191 pruned. Trial was pruned at iteration 1.\n",
      "[I 2025-04-06 23:47:56,623] Trial 192 pruned. Trial was pruned at iteration 0.\n",
      "[I 2025-04-06 23:47:56,683] Trial 193 pruned. Trial was pruned at iteration 3.\n",
      "[I 2025-04-06 23:47:56,732] Trial 194 pruned. Trial was pruned at iteration 0.\n",
      "[I 2025-04-06 23:47:56,780] Trial 195 pruned. Trial was pruned at iteration 1.\n",
      "[I 2025-04-06 23:47:56,827] Trial 196 pruned. Trial was pruned at iteration 1.\n",
      "[I 2025-04-06 23:47:56,871] Trial 197 pruned. Trial was pruned at iteration 0.\n",
      "[I 2025-04-06 23:47:56,920] Trial 198 pruned. Trial was pruned at iteration 1.\n",
      "[I 2025-04-06 23:47:57,409] Trial 199 finished with value: 3.864163416904436 and parameters: {'tree_method': 'hist', 'learning_rate': 0.364472885177743, 'reg_lambda': 0.2897069230722446, 'max_depth': 12, 'min_child_weight': 13, 'gamma': 0.039730172306996034, 'subsample': 0.8719404989318255, 'colsample_bynode': 0.9803049231369985, 'colsample_bytree': 0.962261325395908, 'colsample_bylevel': 0.7257584549554433}. Best is trial 175 with value: 3.451614986446496.\n",
      "[I 2025-04-06 23:47:57,455] Trial 200 pruned. Trial was pruned at iteration 0.\n",
      "[I 2025-04-06 23:47:57,769] Trial 201 pruned. Trial was pruned at iteration 82.\n",
      "[I 2025-04-06 23:47:57,844] Trial 202 pruned. Trial was pruned at iteration 8.\n",
      "[I 2025-04-06 23:47:57,894] Trial 203 pruned. Trial was pruned at iteration 1.\n",
      "[I 2025-04-06 23:47:57,938] Trial 204 pruned. Trial was pruned at iteration 0.\n",
      "[I 2025-04-06 23:47:58,006] Trial 205 pruned. Trial was pruned at iteration 8.\n",
      "[I 2025-04-06 23:47:58,069] Trial 206 pruned. Trial was pruned at iteration 7.\n",
      "[I 2025-04-06 23:47:58,148] Trial 207 pruned. Trial was pruned at iteration 10.\n",
      "[I 2025-04-06 23:47:58,192] Trial 208 pruned. Trial was pruned at iteration 0.\n",
      "[I 2025-04-06 23:47:58,240] Trial 209 pruned. Trial was pruned at iteration 1.\n",
      "[I 2025-04-06 23:47:58,331] Trial 210 pruned. Trial was pruned at iteration 16.\n",
      "[I 2025-04-06 23:47:58,377] Trial 211 pruned. Trial was pruned at iteration 0.\n",
      "[I 2025-04-06 23:47:58,422] Trial 212 pruned. Trial was pruned at iteration 0.\n",
      "[I 2025-04-06 23:47:58,866] Trial 213 finished with value: 3.821448827795508 and parameters: {'tree_method': 'approx', 'learning_rate': 0.37977589138756324, 'reg_lambda': 0.8132826789201636, 'max_depth': 8, 'min_child_weight': 15, 'gamma': 31.366033917219944, 'subsample': 0.7740051405747247, 'colsample_bynode': 0.9699063219000933, 'colsample_bytree': 0.9919704936738215, 'colsample_bylevel': 0.6195513925683693}. Best is trial 175 with value: 3.451614986446496.\n",
      "[I 2025-04-06 23:47:58,922] Trial 214 pruned. Trial was pruned at iteration 3.\n",
      "[I 2025-04-06 23:47:58,968] Trial 215 pruned. Trial was pruned at iteration 0.\n",
      "[I 2025-04-06 23:47:59,052] Trial 216 pruned. Trial was pruned at iteration 12.\n",
      "[I 2025-04-06 23:47:59,099] Trial 217 pruned. Trial was pruned at iteration 0.\n",
      "[I 2025-04-06 23:47:59,157] Trial 218 pruned. Trial was pruned at iteration 0.\n",
      "[I 2025-04-06 23:47:59,209] Trial 219 pruned. Trial was pruned at iteration 2.\n",
      "[I 2025-04-06 23:47:59,255] Trial 220 pruned. Trial was pruned at iteration 0.\n",
      "[I 2025-04-06 23:47:59,302] Trial 221 pruned. Trial was pruned at iteration 0.\n",
      "[I 2025-04-06 23:47:59,353] Trial 222 pruned. Trial was pruned at iteration 1.\n",
      "[I 2025-04-06 23:47:59,400] Trial 223 pruned. Trial was pruned at iteration 0.\n",
      "[I 2025-04-06 23:47:59,455] Trial 224 pruned. Trial was pruned at iteration 3.\n",
      "[I 2025-04-06 23:47:59,501] Trial 225 pruned. Trial was pruned at iteration 0.\n",
      "[I 2025-04-06 23:47:59,569] Trial 226 pruned. Trial was pruned at iteration 10.\n",
      "[I 2025-04-06 23:47:59,617] Trial 227 pruned. Trial was pruned at iteration 0.\n",
      "[I 2025-04-06 23:47:59,664] Trial 228 pruned. Trial was pruned at iteration 0.\n",
      "[I 2025-04-06 23:47:59,711] Trial 229 pruned. Trial was pruned at iteration 0.\n",
      "[I 2025-04-06 23:47:59,757] Trial 230 pruned. Trial was pruned at iteration 0.\n",
      "[I 2025-04-06 23:47:59,826] Trial 231 pruned. Trial was pruned at iteration 6.\n",
      "[I 2025-04-06 23:47:59,873] Trial 232 pruned. Trial was pruned at iteration 0.\n",
      "[I 2025-04-06 23:47:59,923] Trial 233 pruned. Trial was pruned at iteration 0.\n",
      "[I 2025-04-06 23:47:59,975] Trial 234 pruned. Trial was pruned at iteration 1.\n",
      "[I 2025-04-06 23:48:00,022] Trial 235 pruned. Trial was pruned at iteration 0.\n",
      "[I 2025-04-06 23:48:00,070] Trial 236 pruned. Trial was pruned at iteration 0.\n",
      "[I 2025-04-06 23:48:00,116] Trial 237 pruned. Trial was pruned at iteration 0.\n",
      "[I 2025-04-06 23:48:00,324] Trial 238 finished with value: 3.9682305487724117 and parameters: {'tree_method': 'hist', 'learning_rate': 0.36976655339712833, 'reg_lambda': 0.29302164173133777, 'max_depth': 6, 'min_child_weight': 9, 'gamma': 5.57194707528396, 'subsample': 0.9686036395886068, 'colsample_bynode': 0.9848641586845667, 'colsample_bytree': 0.9513977745052978, 'colsample_bylevel': 0.681145002357957}. Best is trial 175 with value: 3.451614986446496.\n",
      "[I 2025-04-06 23:48:00,396] Trial 239 pruned. Trial was pruned at iteration 11.\n",
      "[I 2025-04-06 23:48:00,442] Trial 240 pruned. Trial was pruned at iteration 0.\n",
      "[I 2025-04-06 23:48:00,545] Trial 241 pruned. Trial was pruned at iteration 33.\n",
      "[I 2025-04-06 23:48:00,606] Trial 242 pruned. Trial was pruned at iteration 5.\n",
      "[I 2025-04-06 23:48:00,654] Trial 243 pruned. Trial was pruned at iteration 0.\n",
      "[I 2025-04-06 23:48:00,702] Trial 244 pruned. Trial was pruned at iteration 0.\n",
      "[I 2025-04-06 23:48:00,749] Trial 245 pruned. Trial was pruned at iteration 0.\n",
      "[I 2025-04-06 23:48:00,830] Trial 246 pruned. Trial was pruned at iteration 15.\n",
      "[I 2025-04-06 23:48:00,878] Trial 247 pruned. Trial was pruned at iteration 0.\n",
      "[I 2025-04-06 23:48:00,946] Trial 248 pruned. Trial was pruned at iteration 7.\n",
      "[I 2025-04-06 23:48:01,010] Trial 249 pruned. Trial was pruned at iteration 9.\n",
      "[I 2025-04-06 23:48:01,093] Trial 250 pruned. Trial was pruned at iteration 7.\n",
      "[I 2025-04-06 23:48:01,143] Trial 251 pruned. Trial was pruned at iteration 0.\n",
      "[I 2025-04-06 23:48:01,197] Trial 252 pruned. Trial was pruned at iteration 0.\n",
      "[I 2025-04-06 23:48:01,258] Trial 253 pruned. Trial was pruned at iteration 4.\n",
      "[I 2025-04-06 23:48:01,307] Trial 254 pruned. Trial was pruned at iteration 0.\n",
      "[I 2025-04-06 23:48:01,356] Trial 255 pruned. Trial was pruned at iteration 0.\n",
      "[I 2025-04-06 23:48:01,405] Trial 256 pruned. Trial was pruned at iteration 0.\n",
      "[I 2025-04-06 23:48:01,466] Trial 257 pruned. Trial was pruned at iteration 5.\n",
      "[I 2025-04-06 23:48:01,524] Trial 258 pruned. Trial was pruned at iteration 3.\n",
      "[I 2025-04-06 23:48:01,576] Trial 259 pruned. Trial was pruned at iteration 1.\n",
      "[I 2025-04-06 23:48:01,649] Trial 260 pruned. Trial was pruned at iteration 10.\n",
      "[I 2025-04-06 23:48:01,725] Trial 261 pruned. Trial was pruned at iteration 8.\n",
      "[I 2025-04-06 23:48:01,791] Trial 262 pruned. Trial was pruned at iteration 0.\n",
      "[I 2025-04-06 23:48:01,840] Trial 263 pruned. Trial was pruned at iteration 0.\n",
      "[I 2025-04-06 23:48:01,891] Trial 264 pruned. Trial was pruned at iteration 1.\n",
      "[I 2025-04-06 23:48:01,950] Trial 265 pruned. Trial was pruned at iteration 4.\n",
      "[I 2025-04-06 23:48:01,999] Trial 266 pruned. Trial was pruned at iteration 0.\n",
      "[I 2025-04-06 23:48:02,055] Trial 267 pruned. Trial was pruned at iteration 2.\n",
      "[I 2025-04-06 23:48:02,104] Trial 268 pruned. Trial was pruned at iteration 0.\n",
      "[I 2025-04-06 23:48:02,152] Trial 269 pruned. Trial was pruned at iteration 0.\n",
      "[I 2025-04-06 23:48:02,204] Trial 270 pruned. Trial was pruned at iteration 2.\n",
      "[I 2025-04-06 23:48:02,253] Trial 271 pruned. Trial was pruned at iteration 0.\n",
      "[I 2025-04-06 23:48:02,331] Trial 272 pruned. Trial was pruned at iteration 10.\n",
      "[I 2025-04-06 23:48:02,380] Trial 273 pruned. Trial was pruned at iteration 0.\n",
      "[I 2025-04-06 23:48:02,430] Trial 274 pruned. Trial was pruned at iteration 0.\n",
      "[I 2025-04-06 23:48:02,514] Trial 275 pruned. Trial was pruned at iteration 16.\n",
      "[I 2025-04-06 23:48:02,588] Trial 276 pruned. Trial was pruned at iteration 7.\n",
      "[I 2025-04-06 23:48:02,642] Trial 277 pruned. Trial was pruned at iteration 0.\n",
      "[I 2025-04-06 23:48:02,691] Trial 278 pruned. Trial was pruned at iteration 0.\n",
      "[I 2025-04-06 23:48:02,741] Trial 279 pruned. Trial was pruned at iteration 0.\n",
      "[I 2025-04-06 23:48:02,791] Trial 280 pruned. Trial was pruned at iteration 0.\n",
      "[I 2025-04-06 23:48:02,843] Trial 281 pruned. Trial was pruned at iteration 1.\n",
      "[I 2025-04-06 23:48:02,895] Trial 282 pruned. Trial was pruned at iteration 1.\n",
      "[I 2025-04-06 23:48:02,945] Trial 283 pruned. Trial was pruned at iteration 0.\n",
      "[I 2025-04-06 23:48:02,995] Trial 284 pruned. Trial was pruned at iteration 0.\n",
      "[I 2025-04-06 23:48:03,045] Trial 285 pruned. Trial was pruned at iteration 0.\n",
      "[I 2025-04-06 23:48:03,124] Trial 286 pruned. Trial was pruned at iteration 9.\n",
      "[I 2025-04-06 23:48:03,194] Trial 287 pruned. Trial was pruned at iteration 8.\n",
      "[I 2025-04-06 23:48:03,246] Trial 288 pruned. Trial was pruned at iteration 0.\n",
      "[I 2025-04-06 23:48:03,309] Trial 289 pruned. Trial was pruned at iteration 0.\n",
      "[I 2025-04-06 23:48:03,361] Trial 290 pruned. Trial was pruned at iteration 0.\n",
      "[I 2025-04-06 23:48:03,435] Trial 291 pruned. Trial was pruned at iteration 9.\n",
      "[I 2025-04-06 23:48:03,485] Trial 292 pruned. Trial was pruned at iteration 0.\n",
      "[I 2025-04-06 23:48:03,913] Trial 293 finished with value: 3.9770001863026905 and parameters: {'tree_method': 'approx', 'learning_rate': 0.3590422061368955, 'reg_lambda': 0.6485089989588185, 'max_depth': 7, 'min_child_weight': 5, 'gamma': 1.6225244079210746, 'subsample': 0.8805211061786926, 'colsample_bynode': 0.9852543122819919, 'colsample_bytree': 0.9385557437081481, 'colsample_bylevel': 0.6086968033518292}. Best is trial 175 with value: 3.451614986446496.\n",
      "[I 2025-04-06 23:48:03,967] Trial 294 pruned. Trial was pruned at iteration 0.\n",
      "[I 2025-04-06 23:48:04,021] Trial 295 pruned. Trial was pruned at iteration 0.\n",
      "[I 2025-04-06 23:48:04,105] Trial 296 pruned. Trial was pruned at iteration 10.\n",
      "[I 2025-04-06 23:48:04,162] Trial 297 pruned. Trial was pruned at iteration 0.\n",
      "[I 2025-04-06 23:48:04,215] Trial 298 pruned. Trial was pruned at iteration 0.\n",
      "[I 2025-04-06 23:48:04,273] Trial 299 pruned. Trial was pruned at iteration 3.\n",
      "[I 2025-04-06 23:48:04,332] Trial 300 pruned. Trial was pruned at iteration 0.\n",
      "[I 2025-04-06 23:48:04,416] Trial 301 pruned. Trial was pruned at iteration 2.\n",
      "[I 2025-04-06 23:48:04,473] Trial 302 pruned. Trial was pruned at iteration 3.\n",
      "[I 2025-04-06 23:48:04,530] Trial 303 pruned. Trial was pruned at iteration 0.\n",
      "[I 2025-04-06 23:48:04,582] Trial 304 pruned. Trial was pruned at iteration 0.\n",
      "[I 2025-04-06 23:48:04,638] Trial 305 pruned. Trial was pruned at iteration 1.\n",
      "[I 2025-04-06 23:48:04,689] Trial 306 pruned. Trial was pruned at iteration 0.\n",
      "[I 2025-04-06 23:48:05,116] Trial 307 finished with value: 3.8368361608150368 and parameters: {'tree_method': 'hist', 'learning_rate': 0.3730275932599488, 'reg_lambda': 0.8171590006346129, 'max_depth': 8, 'min_child_weight': 18, 'gamma': 0.46093076299513996, 'subsample': 0.9102923647594048, 'colsample_bynode': 0.9910509962282646, 'colsample_bytree': 0.9512025876536939, 'colsample_bylevel': 0.9680013466190727}. Best is trial 175 with value: 3.451614986446496.\n",
      "[I 2025-04-06 23:48:05,173] Trial 308 pruned. Trial was pruned at iteration 1.\n",
      "[I 2025-04-06 23:48:05,241] Trial 309 pruned. Trial was pruned at iteration 7.\n",
      "[I 2025-04-06 23:48:05,306] Trial 310 pruned. Trial was pruned at iteration 5.\n",
      "[I 2025-04-06 23:48:05,365] Trial 311 pruned. Trial was pruned at iteration 0.\n",
      "[I 2025-04-06 23:48:05,418] Trial 312 pruned. Trial was pruned at iteration 0.\n",
      "[I 2025-04-06 23:48:05,736] Trial 313 finished with value: 3.9478937827626153 and parameters: {'tree_method': 'hist', 'learning_rate': 0.3855418618813881, 'reg_lambda': 1.4549855203913125, 'max_depth': 8, 'min_child_weight': 10, 'gamma': 0.678436612541232, 'subsample': 0.9366876327730926, 'colsample_bynode': 0.9874168908174513, 'colsample_bytree': 0.9535682065450752, 'colsample_bylevel': 0.966390041763864}. Best is trial 175 with value: 3.451614986446496.\n",
      "[I 2025-04-06 23:48:05,792] Trial 314 pruned. Trial was pruned at iteration 1.\n",
      "[I 2025-04-06 23:48:05,854] Trial 315 pruned. Trial was pruned at iteration 5.\n",
      "[I 2025-04-06 23:48:05,905] Trial 316 pruned. Trial was pruned at iteration 0.\n",
      "[I 2025-04-06 23:48:05,957] Trial 317 pruned. Trial was pruned at iteration 0.\n",
      "[I 2025-04-06 23:48:06,013] Trial 318 pruned. Trial was pruned at iteration 1.\n",
      "[I 2025-04-06 23:48:06,458] Trial 319 finished with value: 3.984724983645488 and parameters: {'tree_method': 'hist', 'learning_rate': 0.38499842714480237, 'reg_lambda': 0.31472846925766185, 'max_depth': 9, 'min_child_weight': 11, 'gamma': 0.010557203064820404, 'subsample': 0.8568890487192387, 'colsample_bynode': 0.9656099254331594, 'colsample_bytree': 0.9520577931469886, 'colsample_bylevel': 0.9754244569457493}. Best is trial 175 with value: 3.451614986446496.\n",
      "[I 2025-04-06 23:48:06,761] Trial 320 finished with value: 4.024971202859318 and parameters: {'tree_method': 'hist', 'learning_rate': 0.38627127546574463, 'reg_lambda': 0.32491279630588177, 'max_depth': 10, 'min_child_weight': 11, 'gamma': 0.4493162583530448, 'subsample': 0.8562286232740466, 'colsample_bynode': 0.9638204213020648, 'colsample_bytree': 0.9513493911550333, 'colsample_bylevel': 0.9961307800306062}. Best is trial 175 with value: 3.451614986446496.\n",
      "[I 2025-04-06 23:48:06,855] Trial 321 pruned. Trial was pruned at iteration 8.\n",
      "[I 2025-04-06 23:48:06,946] Trial 322 pruned. Trial was pruned at iteration 10.\n",
      "[I 2025-04-06 23:48:07,015] Trial 323 pruned. Trial was pruned at iteration 6.\n",
      "[I 2025-04-06 23:48:07,136] Trial 324 pruned. Trial was pruned at iteration 22.\n",
      "[I 2025-04-06 23:48:07,190] Trial 325 pruned. Trial was pruned at iteration 0.\n",
      "[I 2025-04-06 23:48:07,258] Trial 326 pruned. Trial was pruned at iteration 5.\n",
      "[I 2025-04-06 23:48:07,323] Trial 327 pruned. Trial was pruned at iteration 3.\n",
      "[I 2025-04-06 23:48:07,634] Trial 328 finished with value: 3.8239155461658503 and parameters: {'tree_method': 'hist', 'learning_rate': 0.3690831483820634, 'reg_lambda': 0.1576968015206579, 'max_depth': 10, 'min_child_weight': 12, 'gamma': 0.9260173750264113, 'subsample': 0.9660106025669851, 'colsample_bynode': 0.9439906672843507, 'colsample_bytree': 0.9352044104932348, 'colsample_bylevel': 0.9669625736817004}. Best is trial 175 with value: 3.451614986446496.\n",
      "[I 2025-04-06 23:48:07,745] Trial 329 pruned. Trial was pruned at iteration 17.\n",
      "[I 2025-04-06 23:48:07,800] Trial 330 pruned. Trial was pruned at iteration 1.\n",
      "[I 2025-04-06 23:48:07,871] Trial 331 pruned. Trial was pruned at iteration 5.\n",
      "[I 2025-04-06 23:48:07,942] Trial 332 pruned. Trial was pruned at iteration 6.\n",
      "[I 2025-04-06 23:48:07,998] Trial 333 pruned. Trial was pruned at iteration 1.\n",
      "[I 2025-04-06 23:48:08,069] Trial 334 pruned. Trial was pruned at iteration 6.\n",
      "[I 2025-04-06 23:48:08,139] Trial 335 pruned. Trial was pruned at iteration 5.\n",
      "[I 2025-04-06 23:48:08,212] Trial 336 pruned. Trial was pruned at iteration 7.\n",
      "[I 2025-04-06 23:48:08,265] Trial 337 pruned. Trial was pruned at iteration 0.\n",
      "[I 2025-04-06 23:48:08,324] Trial 338 pruned. Trial was pruned at iteration 3.\n",
      "[I 2025-04-06 23:48:08,390] Trial 339 pruned. Trial was pruned at iteration 5.\n",
      "[I 2025-04-06 23:48:08,460] Trial 340 pruned. Trial was pruned at iteration 5.\n",
      "[I 2025-04-06 23:48:08,535] Trial 341 pruned. Trial was pruned at iteration 6.\n",
      "[I 2025-04-06 23:48:08,607] Trial 342 pruned. Trial was pruned at iteration 7.\n",
      "[I 2025-04-06 23:48:08,671] Trial 343 pruned. Trial was pruned at iteration 3.\n",
      "[I 2025-04-06 23:48:08,726] Trial 344 pruned. Trial was pruned at iteration 0.\n",
      "[I 2025-04-06 23:48:08,780] Trial 345 pruned. Trial was pruned at iteration 0.\n",
      "[I 2025-04-06 23:48:08,835] Trial 346 pruned. Trial was pruned at iteration 0.\n",
      "[I 2025-04-06 23:48:08,889] Trial 347 pruned. Trial was pruned at iteration 0.\n",
      "[I 2025-04-06 23:48:08,961] Trial 348 pruned. Trial was pruned at iteration 7.\n",
      "[I 2025-04-06 23:48:09,015] Trial 349 pruned. Trial was pruned at iteration 0.\n",
      "[I 2025-04-06 23:48:09,068] Trial 350 pruned. Trial was pruned at iteration 0.\n",
      "[I 2025-04-06 23:48:09,142] Trial 351 pruned. Trial was pruned at iteration 8.\n",
      "[I 2025-04-06 23:48:09,196] Trial 352 pruned. Trial was pruned at iteration 0.\n",
      "[I 2025-04-06 23:48:09,250] Trial 353 pruned. Trial was pruned at iteration 0.\n",
      "[I 2025-04-06 23:48:09,305] Trial 354 pruned. Trial was pruned at iteration 0.\n",
      "[I 2025-04-06 23:48:09,357] Trial 355 pruned. Trial was pruned at iteration 0.\n",
      "[I 2025-04-06 23:48:09,412] Trial 356 pruned. Trial was pruned at iteration 0.\n",
      "[I 2025-04-06 23:48:09,540] Trial 357 pruned. Trial was pruned at iteration 18.\n",
      "[I 2025-04-06 23:48:09,595] Trial 358 pruned. Trial was pruned at iteration 0.\n",
      "[I 2025-04-06 23:48:09,658] Trial 359 pruned. Trial was pruned at iteration 0.\n",
      "[I 2025-04-06 23:48:09,718] Trial 360 pruned. Trial was pruned at iteration 0.\n",
      "[I 2025-04-06 23:48:09,773] Trial 361 pruned. Trial was pruned at iteration 0.\n",
      "[I 2025-04-06 23:48:09,848] Trial 362 pruned. Trial was pruned at iteration 3.\n",
      "[I 2025-04-06 23:48:09,919] Trial 363 pruned. Trial was pruned at iteration 5.\n",
      "[I 2025-04-06 23:48:09,973] Trial 364 pruned. Trial was pruned at iteration 0.\n",
      "[I 2025-04-06 23:48:10,033] Trial 365 pruned. Trial was pruned at iteration 2.\n",
      "[I 2025-04-06 23:48:10,106] Trial 366 pruned. Trial was pruned at iteration 6.\n",
      "[I 2025-04-06 23:48:10,160] Trial 367 pruned. Trial was pruned at iteration 0.\n",
      "[I 2025-04-06 23:48:10,215] Trial 368 pruned. Trial was pruned at iteration 0.\n",
      "[I 2025-04-06 23:48:10,269] Trial 369 pruned. Trial was pruned at iteration 0.\n",
      "[I 2025-04-06 23:48:10,323] Trial 370 pruned. Trial was pruned at iteration 0.\n",
      "[I 2025-04-06 23:48:10,388] Trial 371 pruned. Trial was pruned at iteration 2.\n",
      "[I 2025-04-06 23:48:10,444] Trial 372 pruned. Trial was pruned at iteration 0.\n",
      "[I 2025-04-06 23:48:10,540] Trial 373 pruned. Trial was pruned at iteration 15.\n",
      "[I 2025-04-06 23:48:10,609] Trial 374 pruned. Trial was pruned at iteration 5.\n",
      "[I 2025-04-06 23:48:10,675] Trial 375 pruned. Trial was pruned at iteration 4.\n",
      "[I 2025-04-06 23:48:10,737] Trial 376 pruned. Trial was pruned at iteration 0.\n",
      "[I 2025-04-06 23:48:10,792] Trial 377 pruned. Trial was pruned at iteration 0.\n",
      "[I 2025-04-06 23:48:10,847] Trial 378 pruned. Trial was pruned at iteration 0.\n",
      "[I 2025-04-06 23:48:10,931] Trial 379 pruned. Trial was pruned at iteration 10.\n",
      "[I 2025-04-06 23:48:10,989] Trial 380 pruned. Trial was pruned at iteration 1.\n",
      "[I 2025-04-06 23:48:11,050] Trial 381 pruned. Trial was pruned at iteration 0.\n",
      "[I 2025-04-06 23:48:11,128] Trial 382 pruned. Trial was pruned at iteration 5.\n",
      "[I 2025-04-06 23:48:11,182] Trial 383 pruned. Trial was pruned at iteration 0.\n",
      "[I 2025-04-06 23:48:11,263] Trial 384 pruned. Trial was pruned at iteration 9.\n",
      "[I 2025-04-06 23:48:11,335] Trial 385 pruned. Trial was pruned at iteration 5.\n",
      "[I 2025-04-06 23:48:11,395] Trial 386 pruned. Trial was pruned at iteration 1.\n",
      "[I 2025-04-06 23:48:11,451] Trial 387 pruned. Trial was pruned at iteration 0.\n",
      "[I 2025-04-06 23:48:11,514] Trial 388 pruned. Trial was pruned at iteration 0.\n",
      "[I 2025-04-06 23:48:11,576] Trial 389 pruned. Trial was pruned at iteration 0.\n",
      "[I 2025-04-06 23:48:11,633] Trial 390 pruned. Trial was pruned at iteration 0.\n",
      "[I 2025-04-06 23:48:11,688] Trial 391 pruned. Trial was pruned at iteration 0.\n",
      "[I 2025-04-06 23:48:11,752] Trial 392 pruned. Trial was pruned at iteration 1.\n",
      "[I 2025-04-06 23:48:11,809] Trial 393 pruned. Trial was pruned at iteration 0.\n",
      "[I 2025-04-06 23:48:11,891] Trial 394 pruned. Trial was pruned at iteration 3.\n",
      "[I 2025-04-06 23:48:11,961] Trial 395 pruned. Trial was pruned at iteration 5.\n",
      "[I 2025-04-06 23:48:12,016] Trial 396 pruned. Trial was pruned at iteration 0.\n",
      "[I 2025-04-06 23:48:12,073] Trial 397 pruned. Trial was pruned at iteration 0.\n",
      "[I 2025-04-06 23:48:12,129] Trial 398 pruned. Trial was pruned at iteration 0.\n",
      "[I 2025-04-06 23:48:12,185] Trial 399 pruned. Trial was pruned at iteration 0.\n",
      "[I 2025-04-06 23:48:12,270] Trial 400 pruned. Trial was pruned at iteration 11.\n",
      "[I 2025-04-06 23:48:12,355] Trial 401 pruned. Trial was pruned at iteration 8.\n",
      "[I 2025-04-06 23:48:12,413] Trial 402 pruned. Trial was pruned at iteration 0.\n",
      "[I 2025-04-06 23:48:12,468] Trial 403 pruned. Trial was pruned at iteration 0.\n",
      "[I 2025-04-06 23:48:12,524] Trial 404 pruned. Trial was pruned at iteration 0.\n",
      "[I 2025-04-06 23:48:12,579] Trial 405 pruned. Trial was pruned at iteration 0.\n",
      "[I 2025-04-06 23:48:12,642] Trial 406 pruned. Trial was pruned at iteration 0.\n",
      "[I 2025-04-06 23:48:12,727] Trial 407 pruned. Trial was pruned at iteration 5.\n",
      "[I 2025-04-06 23:48:12,787] Trial 408 pruned. Trial was pruned at iteration 0.\n",
      "[I 2025-04-06 23:48:12,846] Trial 409 pruned. Trial was pruned at iteration 1.\n",
      "[I 2025-04-06 23:48:12,912] Trial 410 pruned. Trial was pruned at iteration 3.\n",
      "[I 2025-04-06 23:48:12,976] Trial 411 pruned. Trial was pruned at iteration 3.\n",
      "[I 2025-04-06 23:48:13,033] Trial 412 pruned. Trial was pruned at iteration 0.\n",
      "[I 2025-04-06 23:48:13,090] Trial 413 pruned. Trial was pruned at iteration 0.\n",
      "[I 2025-04-06 23:48:13,161] Trial 414 pruned. Trial was pruned at iteration 5.\n",
      "[I 2025-04-06 23:48:13,219] Trial 415 pruned. Trial was pruned at iteration 0.\n",
      "[I 2025-04-06 23:48:13,277] Trial 416 pruned. Trial was pruned at iteration 0.\n",
      "[I 2025-04-06 23:48:13,334] Trial 417 pruned. Trial was pruned at iteration 0.\n",
      "[I 2025-04-06 23:48:13,394] Trial 418 pruned. Trial was pruned at iteration 1.\n",
      "[I 2025-04-06 23:48:13,450] Trial 419 pruned. Trial was pruned at iteration 0.\n",
      "[I 2025-04-06 23:48:13,508] Trial 420 pruned. Trial was pruned at iteration 0.\n",
      "[I 2025-04-06 23:48:13,567] Trial 421 pruned. Trial was pruned at iteration 0.\n",
      "[I 2025-04-06 23:48:13,638] Trial 422 pruned. Trial was pruned at iteration 1.\n",
      "[I 2025-04-06 23:48:13,696] Trial 423 pruned. Trial was pruned at iteration 0.\n",
      "[I 2025-04-06 23:48:13,754] Trial 424 pruned. Trial was pruned at iteration 0.\n",
      "[I 2025-04-06 23:48:13,812] Trial 425 pruned. Trial was pruned at iteration 0.\n",
      "[I 2025-04-06 23:48:13,868] Trial 426 pruned. Trial was pruned at iteration 0.\n",
      "[I 2025-04-06 23:48:13,934] Trial 427 pruned. Trial was pruned at iteration 0.\n",
      "[I 2025-04-06 23:48:14,027] Trial 428 pruned. Trial was pruned at iteration 7.\n"
     ]
    },
    {
     "data": {
      "text/plain": [
       "{'tree_method': 'hist',\n",
       " 'learning_rate': 0.36725508975924054,\n",
       " 'reg_lambda': 0.32254658418287513,\n",
       " 'max_depth': 10,\n",
       " 'min_child_weight': 22,\n",
       " 'gamma': 0.024776407080566634,\n",
       " 'subsample': 0.7717851809636164,\n",
       " 'colsample_bynode': 0.9487971307487205,\n",
       " 'colsample_bytree': 0.9766256641680159,\n",
       " 'colsample_bylevel': 0.969728517112634}"
      ]
     },
     "execution_count": 49,
     "metadata": {},
     "output_type": "execute_result"
    }
   ],
   "source": [
    "model = XGBRegressor()\n",
    "train_time = 60*5 #15 minutes\n",
    "\n",
    "X_train_valid, X_test, y_train_valid, y_test = train_test_split(X, y, test_size=0.25, random_state=42)\n",
    "X_train, X_val, y_train, y_val = train_test_split(X_train_valid, y_train_valid, test_size=0.2, random_state=42)\n",
    "dtrain = xgb.DMatrix(data=X_train, label=y_train, \n",
    "                     enable_categorical=True)\n",
    "dvalid = xgb.DMatrix(data=X_val, label=y_val, \n",
    "                     enable_categorical=True)\n",
    "dtest = xgb.DMatrix(data=X_test, label=y_test, \n",
    "                    enable_categorical=True)\n",
    "dtrainvalid = xgb.DMatrix(data=X_train_valid, \n",
    "                          label=y_train_valid, \n",
    "                          enable_categorical=True)\n",
    "\n",
    "# Define the callback to stop the optimization when the trial keep being pruned. \n",
    "# The number of pruned trials is defined by the threshold.\n",
    "class StopWhenTrialKeepBeingPrunedCallback:\n",
    "    def __init__(self, threshold: int):\n",
    "        self.threshold = threshold\n",
    "        self._consequtive_pruned_count = 0\n",
    "\n",
    "    def __call__(self, study: optuna.study.Study, trial: optuna.trial.FrozenTrial) -> None:\n",
    "        if trial.state == optuna.trial.TrialState.PRUNED:\n",
    "            self._consequtive_pruned_count += 1\n",
    "        else:\n",
    "            self._consequtive_pruned_count = 0\n",
    "\n",
    "        if self._consequtive_pruned_count >= self.threshold:\n",
    "            study.stop()\n",
    "\n",
    "# Define the objective function to optimize the hyperparameters of the XGBoost model.\n",
    "def objective_GB(trial):\n",
    "    params = {\n",
    "        'objective': 'reg:squarederror',\n",
    "        'eval_metric': 'rmse', # root mean squared error\n",
    "        'tree_method': trial.suggest_categorical('tree_method', ['approx', 'hist']), \n",
    "        'learning_rate': trial.suggest_float('learning_rate', 0.2, 0.5), # Most important parameter.\n",
    "        'reg_lambda': trial.suggest_float('reg_lambda', 0.001, 50, log=True), # L2 regularization\n",
    "        'max_depth': trial.suggest_int('max_depth', 3, 12), # Tree depth\n",
    "        'min_child_weight': trial.suggest_int('min_child_weight', 1, 200), # Min weight of each child.\n",
    "        'gamma': trial.suggest_float('gamma', 0.001, 50, log=True), # Minimum loss reduction required to make a partition\n",
    "        'subsample': trial.suggest_float('subsample', 0.5, 1.0), \n",
    "        'colsample_bynode': trial.suggest_float('colsample_bynode', 0.5, 1.0),\n",
    "        'colsample_bytree': trial.suggest_float('colsample_bytree', 0.5, 1.0),\n",
    "        'colsample_bylevel': trial.suggest_float('colsample_bylevel', 0.5, 1.0),       \n",
    "    }\n",
    "    \n",
    "    # integrated pruning for stopping unpromising trials.\n",
    "    xgb_callback = XGBoostPruningCallback(trial, f'valid-rmse')\n",
    "\n",
    "    model = XGBRegressor(random_state= 1, **params)\n",
    "    \n",
    "    model = xgb.train(params=params, dtrain=dtrain, num_boost_round=1000,\n",
    "                      evals=[(dtrain, 'train'), (dvalid, 'valid')],\n",
    "                      early_stopping_rounds=50,\n",
    "                      verbose_eval=0,                      \n",
    "                      callbacks=[xgb_callback],\n",
    "                      )\n",
    "\n",
    "    return model.best_score\n",
    "\n",
    "# Create the study and optimize the objective function.\n",
    "# Threshold is 10.\n",
    "study_stop_cb = StopWhenTrialKeepBeingPrunedCallback(100)\n",
    "study_gb = create_study(direction=\"minimize\", sampler = TPESampler(seed = 42))\n",
    "study_gb.optimize(objective_GB, timeout = train_time, n_trials= 3000, callbacks = [study_stop_cb])\n",
    "study_gb.best_params"
   ]
  },
  {
   "cell_type": "code",
   "execution_count": 50,
   "metadata": {},
   "outputs": [
    {
     "name": "stdout",
     "output_type": "stream",
     "text": [
      "-3.3697877863079606\n",
      "0.8827297936592606\n"
     ]
    }
   ],
   "source": [
    "base_model = XGBRegressor(random_state=1)\n",
    "base_model.fit(X_train_valid, y_train_valid)\n",
    "print(cross_val_score(base_model, X_train_valid, y_train_valid, scoring='neg_mean_absolute_error', cv = 5).mean())\n",
    "print(r2_score(base_model.predict(X_test), y_test))"
   ]
  },
  {
   "cell_type": "code",
   "execution_count": 51,
   "metadata": {},
   "outputs": [
    {
     "data": {
      "application/vnd.plotly.v1+json": {
       "config": {
        "plotlyServerURL": "https://plot.ly"
       },
       "data": [
        {
         "cliponaxis": false,
         "hovertemplate": [
          "tree_method (CategoricalDistribution): 2.4928282890702992e-05<extra></extra>",
          "gamma (FloatDistribution): 0.0032799426476060583<extra></extra>",
          "colsample_bylevel (FloatDistribution): 0.0072357597196358505<extra></extra>",
          "colsample_bynode (FloatDistribution): 0.028647801707159512<extra></extra>",
          "reg_lambda (FloatDistribution): 0.03327746845399358<extra></extra>",
          "max_depth (IntDistribution): 0.046390653524836255<extra></extra>",
          "colsample_bytree (FloatDistribution): 0.10396472850500503<extra></extra>",
          "subsample (FloatDistribution): 0.11262138203202889<extra></extra>",
          "learning_rate (FloatDistribution): 0.17633688552399449<extra></extra>",
          "min_child_weight (IntDistribution): 0.48822044960284955<extra></extra>"
         ],
         "name": "Objective Value",
         "orientation": "h",
         "text": [
          "<0.01",
          "<0.01",
          "<0.01",
          "0.03",
          "0.03",
          "0.05",
          "0.10",
          "0.11",
          "0.18",
          "0.49"
         ],
         "textposition": "outside",
         "type": "bar",
         "x": [
          0.000024928282890702992,
          0.0032799426476060583,
          0.0072357597196358505,
          0.028647801707159512,
          0.03327746845399358,
          0.046390653524836255,
          0.10396472850500503,
          0.11262138203202889,
          0.17633688552399449,
          0.48822044960284955
         ],
         "y": [
          "tree_method",
          "gamma",
          "colsample_bylevel",
          "colsample_bynode",
          "reg_lambda",
          "max_depth",
          "colsample_bytree",
          "subsample",
          "learning_rate",
          "min_child_weight"
         ]
        }
       ],
       "layout": {
        "template": {
         "data": {
          "bar": [
           {
            "error_x": {
             "color": "#2a3f5f"
            },
            "error_y": {
             "color": "#2a3f5f"
            },
            "marker": {
             "line": {
              "color": "#E5ECF6",
              "width": 0.5
             },
             "pattern": {
              "fillmode": "overlay",
              "size": 10,
              "solidity": 0.2
             }
            },
            "type": "bar"
           }
          ],
          "barpolar": [
           {
            "marker": {
             "line": {
              "color": "#E5ECF6",
              "width": 0.5
             },
             "pattern": {
              "fillmode": "overlay",
              "size": 10,
              "solidity": 0.2
             }
            },
            "type": "barpolar"
           }
          ],
          "carpet": [
           {
            "aaxis": {
             "endlinecolor": "#2a3f5f",
             "gridcolor": "white",
             "linecolor": "white",
             "minorgridcolor": "white",
             "startlinecolor": "#2a3f5f"
            },
            "baxis": {
             "endlinecolor": "#2a3f5f",
             "gridcolor": "white",
             "linecolor": "white",
             "minorgridcolor": "white",
             "startlinecolor": "#2a3f5f"
            },
            "type": "carpet"
           }
          ],
          "choropleth": [
           {
            "colorbar": {
             "outlinewidth": 0,
             "ticks": ""
            },
            "type": "choropleth"
           }
          ],
          "contour": [
           {
            "colorbar": {
             "outlinewidth": 0,
             "ticks": ""
            },
            "colorscale": [
             [
              0,
              "#0d0887"
             ],
             [
              0.1111111111111111,
              "#46039f"
             ],
             [
              0.2222222222222222,
              "#7201a8"
             ],
             [
              0.3333333333333333,
              "#9c179e"
             ],
             [
              0.4444444444444444,
              "#bd3786"
             ],
             [
              0.5555555555555556,
              "#d8576b"
             ],
             [
              0.6666666666666666,
              "#ed7953"
             ],
             [
              0.7777777777777778,
              "#fb9f3a"
             ],
             [
              0.8888888888888888,
              "#fdca26"
             ],
             [
              1,
              "#f0f921"
             ]
            ],
            "type": "contour"
           }
          ],
          "contourcarpet": [
           {
            "colorbar": {
             "outlinewidth": 0,
             "ticks": ""
            },
            "type": "contourcarpet"
           }
          ],
          "heatmap": [
           {
            "colorbar": {
             "outlinewidth": 0,
             "ticks": ""
            },
            "colorscale": [
             [
              0,
              "#0d0887"
             ],
             [
              0.1111111111111111,
              "#46039f"
             ],
             [
              0.2222222222222222,
              "#7201a8"
             ],
             [
              0.3333333333333333,
              "#9c179e"
             ],
             [
              0.4444444444444444,
              "#bd3786"
             ],
             [
              0.5555555555555556,
              "#d8576b"
             ],
             [
              0.6666666666666666,
              "#ed7953"
             ],
             [
              0.7777777777777778,
              "#fb9f3a"
             ],
             [
              0.8888888888888888,
              "#fdca26"
             ],
             [
              1,
              "#f0f921"
             ]
            ],
            "type": "heatmap"
           }
          ],
          "heatmapgl": [
           {
            "colorbar": {
             "outlinewidth": 0,
             "ticks": ""
            },
            "colorscale": [
             [
              0,
              "#0d0887"
             ],
             [
              0.1111111111111111,
              "#46039f"
             ],
             [
              0.2222222222222222,
              "#7201a8"
             ],
             [
              0.3333333333333333,
              "#9c179e"
             ],
             [
              0.4444444444444444,
              "#bd3786"
             ],
             [
              0.5555555555555556,
              "#d8576b"
             ],
             [
              0.6666666666666666,
              "#ed7953"
             ],
             [
              0.7777777777777778,
              "#fb9f3a"
             ],
             [
              0.8888888888888888,
              "#fdca26"
             ],
             [
              1,
              "#f0f921"
             ]
            ],
            "type": "heatmapgl"
           }
          ],
          "histogram": [
           {
            "marker": {
             "pattern": {
              "fillmode": "overlay",
              "size": 10,
              "solidity": 0.2
             }
            },
            "type": "histogram"
           }
          ],
          "histogram2d": [
           {
            "colorbar": {
             "outlinewidth": 0,
             "ticks": ""
            },
            "colorscale": [
             [
              0,
              "#0d0887"
             ],
             [
              0.1111111111111111,
              "#46039f"
             ],
             [
              0.2222222222222222,
              "#7201a8"
             ],
             [
              0.3333333333333333,
              "#9c179e"
             ],
             [
              0.4444444444444444,
              "#bd3786"
             ],
             [
              0.5555555555555556,
              "#d8576b"
             ],
             [
              0.6666666666666666,
              "#ed7953"
             ],
             [
              0.7777777777777778,
              "#fb9f3a"
             ],
             [
              0.8888888888888888,
              "#fdca26"
             ],
             [
              1,
              "#f0f921"
             ]
            ],
            "type": "histogram2d"
           }
          ],
          "histogram2dcontour": [
           {
            "colorbar": {
             "outlinewidth": 0,
             "ticks": ""
            },
            "colorscale": [
             [
              0,
              "#0d0887"
             ],
             [
              0.1111111111111111,
              "#46039f"
             ],
             [
              0.2222222222222222,
              "#7201a8"
             ],
             [
              0.3333333333333333,
              "#9c179e"
             ],
             [
              0.4444444444444444,
              "#bd3786"
             ],
             [
              0.5555555555555556,
              "#d8576b"
             ],
             [
              0.6666666666666666,
              "#ed7953"
             ],
             [
              0.7777777777777778,
              "#fb9f3a"
             ],
             [
              0.8888888888888888,
              "#fdca26"
             ],
             [
              1,
              "#f0f921"
             ]
            ],
            "type": "histogram2dcontour"
           }
          ],
          "mesh3d": [
           {
            "colorbar": {
             "outlinewidth": 0,
             "ticks": ""
            },
            "type": "mesh3d"
           }
          ],
          "parcoords": [
           {
            "line": {
             "colorbar": {
              "outlinewidth": 0,
              "ticks": ""
             }
            },
            "type": "parcoords"
           }
          ],
          "pie": [
           {
            "automargin": true,
            "type": "pie"
           }
          ],
          "scatter": [
           {
            "fillpattern": {
             "fillmode": "overlay",
             "size": 10,
             "solidity": 0.2
            },
            "type": "scatter"
           }
          ],
          "scatter3d": [
           {
            "line": {
             "colorbar": {
              "outlinewidth": 0,
              "ticks": ""
             }
            },
            "marker": {
             "colorbar": {
              "outlinewidth": 0,
              "ticks": ""
             }
            },
            "type": "scatter3d"
           }
          ],
          "scattercarpet": [
           {
            "marker": {
             "colorbar": {
              "outlinewidth": 0,
              "ticks": ""
             }
            },
            "type": "scattercarpet"
           }
          ],
          "scattergeo": [
           {
            "marker": {
             "colorbar": {
              "outlinewidth": 0,
              "ticks": ""
             }
            },
            "type": "scattergeo"
           }
          ],
          "scattergl": [
           {
            "marker": {
             "colorbar": {
              "outlinewidth": 0,
              "ticks": ""
             }
            },
            "type": "scattergl"
           }
          ],
          "scattermapbox": [
           {
            "marker": {
             "colorbar": {
              "outlinewidth": 0,
              "ticks": ""
             }
            },
            "type": "scattermapbox"
           }
          ],
          "scatterpolar": [
           {
            "marker": {
             "colorbar": {
              "outlinewidth": 0,
              "ticks": ""
             }
            },
            "type": "scatterpolar"
           }
          ],
          "scatterpolargl": [
           {
            "marker": {
             "colorbar": {
              "outlinewidth": 0,
              "ticks": ""
             }
            },
            "type": "scatterpolargl"
           }
          ],
          "scatterternary": [
           {
            "marker": {
             "colorbar": {
              "outlinewidth": 0,
              "ticks": ""
             }
            },
            "type": "scatterternary"
           }
          ],
          "surface": [
           {
            "colorbar": {
             "outlinewidth": 0,
             "ticks": ""
            },
            "colorscale": [
             [
              0,
              "#0d0887"
             ],
             [
              0.1111111111111111,
              "#46039f"
             ],
             [
              0.2222222222222222,
              "#7201a8"
             ],
             [
              0.3333333333333333,
              "#9c179e"
             ],
             [
              0.4444444444444444,
              "#bd3786"
             ],
             [
              0.5555555555555556,
              "#d8576b"
             ],
             [
              0.6666666666666666,
              "#ed7953"
             ],
             [
              0.7777777777777778,
              "#fb9f3a"
             ],
             [
              0.8888888888888888,
              "#fdca26"
             ],
             [
              1,
              "#f0f921"
             ]
            ],
            "type": "surface"
           }
          ],
          "table": [
           {
            "cells": {
             "fill": {
              "color": "#EBF0F8"
             },
             "line": {
              "color": "white"
             }
            },
            "header": {
             "fill": {
              "color": "#C8D4E3"
             },
             "line": {
              "color": "white"
             }
            },
            "type": "table"
           }
          ]
         },
         "layout": {
          "annotationdefaults": {
           "arrowcolor": "#2a3f5f",
           "arrowhead": 0,
           "arrowwidth": 1
          },
          "autotypenumbers": "strict",
          "coloraxis": {
           "colorbar": {
            "outlinewidth": 0,
            "ticks": ""
           }
          },
          "colorscale": {
           "diverging": [
            [
             0,
             "#8e0152"
            ],
            [
             0.1,
             "#c51b7d"
            ],
            [
             0.2,
             "#de77ae"
            ],
            [
             0.3,
             "#f1b6da"
            ],
            [
             0.4,
             "#fde0ef"
            ],
            [
             0.5,
             "#f7f7f7"
            ],
            [
             0.6,
             "#e6f5d0"
            ],
            [
             0.7,
             "#b8e186"
            ],
            [
             0.8,
             "#7fbc41"
            ],
            [
             0.9,
             "#4d9221"
            ],
            [
             1,
             "#276419"
            ]
           ],
           "sequential": [
            [
             0,
             "#0d0887"
            ],
            [
             0.1111111111111111,
             "#46039f"
            ],
            [
             0.2222222222222222,
             "#7201a8"
            ],
            [
             0.3333333333333333,
             "#9c179e"
            ],
            [
             0.4444444444444444,
             "#bd3786"
            ],
            [
             0.5555555555555556,
             "#d8576b"
            ],
            [
             0.6666666666666666,
             "#ed7953"
            ],
            [
             0.7777777777777778,
             "#fb9f3a"
            ],
            [
             0.8888888888888888,
             "#fdca26"
            ],
            [
             1,
             "#f0f921"
            ]
           ],
           "sequentialminus": [
            [
             0,
             "#0d0887"
            ],
            [
             0.1111111111111111,
             "#46039f"
            ],
            [
             0.2222222222222222,
             "#7201a8"
            ],
            [
             0.3333333333333333,
             "#9c179e"
            ],
            [
             0.4444444444444444,
             "#bd3786"
            ],
            [
             0.5555555555555556,
             "#d8576b"
            ],
            [
             0.6666666666666666,
             "#ed7953"
            ],
            [
             0.7777777777777778,
             "#fb9f3a"
            ],
            [
             0.8888888888888888,
             "#fdca26"
            ],
            [
             1,
             "#f0f921"
            ]
           ]
          },
          "colorway": [
           "#636efa",
           "#EF553B",
           "#00cc96",
           "#ab63fa",
           "#FFA15A",
           "#19d3f3",
           "#FF6692",
           "#B6E880",
           "#FF97FF",
           "#FECB52"
          ],
          "font": {
           "color": "#2a3f5f"
          },
          "geo": {
           "bgcolor": "white",
           "lakecolor": "white",
           "landcolor": "#E5ECF6",
           "showlakes": true,
           "showland": true,
           "subunitcolor": "white"
          },
          "hoverlabel": {
           "align": "left"
          },
          "hovermode": "closest",
          "mapbox": {
           "style": "light"
          },
          "paper_bgcolor": "white",
          "plot_bgcolor": "#E5ECF6",
          "polar": {
           "angularaxis": {
            "gridcolor": "white",
            "linecolor": "white",
            "ticks": ""
           },
           "bgcolor": "#E5ECF6",
           "radialaxis": {
            "gridcolor": "white",
            "linecolor": "white",
            "ticks": ""
           }
          },
          "scene": {
           "xaxis": {
            "backgroundcolor": "#E5ECF6",
            "gridcolor": "white",
            "gridwidth": 2,
            "linecolor": "white",
            "showbackground": true,
            "ticks": "",
            "zerolinecolor": "white"
           },
           "yaxis": {
            "backgroundcolor": "#E5ECF6",
            "gridcolor": "white",
            "gridwidth": 2,
            "linecolor": "white",
            "showbackground": true,
            "ticks": "",
            "zerolinecolor": "white"
           },
           "zaxis": {
            "backgroundcolor": "#E5ECF6",
            "gridcolor": "white",
            "gridwidth": 2,
            "linecolor": "white",
            "showbackground": true,
            "ticks": "",
            "zerolinecolor": "white"
           }
          },
          "shapedefaults": {
           "line": {
            "color": "#2a3f5f"
           }
          },
          "ternary": {
           "aaxis": {
            "gridcolor": "white",
            "linecolor": "white",
            "ticks": ""
           },
           "baxis": {
            "gridcolor": "white",
            "linecolor": "white",
            "ticks": ""
           },
           "bgcolor": "#E5ECF6",
           "caxis": {
            "gridcolor": "white",
            "linecolor": "white",
            "ticks": ""
           }
          },
          "title": {
           "x": 0.05
          },
          "xaxis": {
           "automargin": true,
           "gridcolor": "white",
           "linecolor": "white",
           "ticks": "",
           "title": {
            "standoff": 15
           },
           "zerolinecolor": "white",
           "zerolinewidth": 2
          },
          "yaxis": {
           "automargin": true,
           "gridcolor": "white",
           "linecolor": "white",
           "ticks": "",
           "title": {
            "standoff": 15
           },
           "zerolinecolor": "white",
           "zerolinewidth": 2
          }
         }
        },
        "title": {
         "text": "Hyperparameter Importances"
        },
        "xaxis": {
         "title": {
          "text": "Hyperparameter Importance"
         }
        },
        "yaxis": {
         "title": {
          "text": "Hyperparameter"
         }
        }
       }
      },
      "text/html": [
       "<div>                            <div id=\"9bf9b89a-2a56-45ef-ae42-f179e0e4ebe4\" class=\"plotly-graph-div\" style=\"height:525px; width:100%;\"></div>            <script type=\"text/javascript\">                require([\"plotly\"], function(Plotly) {                    window.PLOTLYENV=window.PLOTLYENV || {};                                    if (document.getElementById(\"9bf9b89a-2a56-45ef-ae42-f179e0e4ebe4\")) {                    Plotly.newPlot(                        \"9bf9b89a-2a56-45ef-ae42-f179e0e4ebe4\",                        [{\"cliponaxis\":false,\"hovertemplate\":[\"tree_method (CategoricalDistribution): 2.4928282890702992e-05\\u003cextra\\u003e\\u003c\\u002fextra\\u003e\",\"gamma (FloatDistribution): 0.0032799426476060583\\u003cextra\\u003e\\u003c\\u002fextra\\u003e\",\"colsample_bylevel (FloatDistribution): 0.0072357597196358505\\u003cextra\\u003e\\u003c\\u002fextra\\u003e\",\"colsample_bynode (FloatDistribution): 0.028647801707159512\\u003cextra\\u003e\\u003c\\u002fextra\\u003e\",\"reg_lambda (FloatDistribution): 0.03327746845399358\\u003cextra\\u003e\\u003c\\u002fextra\\u003e\",\"max_depth (IntDistribution): 0.046390653524836255\\u003cextra\\u003e\\u003c\\u002fextra\\u003e\",\"colsample_bytree (FloatDistribution): 0.10396472850500503\\u003cextra\\u003e\\u003c\\u002fextra\\u003e\",\"subsample (FloatDistribution): 0.11262138203202889\\u003cextra\\u003e\\u003c\\u002fextra\\u003e\",\"learning_rate (FloatDistribution): 0.17633688552399449\\u003cextra\\u003e\\u003c\\u002fextra\\u003e\",\"min_child_weight (IntDistribution): 0.48822044960284955\\u003cextra\\u003e\\u003c\\u002fextra\\u003e\"],\"name\":\"Objective Value\",\"orientation\":\"h\",\"text\":[\"\\u003c0.01\",\"\\u003c0.01\",\"\\u003c0.01\",\"0.03\",\"0.03\",\"0.05\",\"0.10\",\"0.11\",\"0.18\",\"0.49\"],\"textposition\":\"outside\",\"x\":[2.4928282890702992e-05,0.0032799426476060583,0.0072357597196358505,0.028647801707159512,0.03327746845399358,0.046390653524836255,0.10396472850500503,0.11262138203202889,0.17633688552399449,0.48822044960284955],\"y\":[\"tree_method\",\"gamma\",\"colsample_bylevel\",\"colsample_bynode\",\"reg_lambda\",\"max_depth\",\"colsample_bytree\",\"subsample\",\"learning_rate\",\"min_child_weight\"],\"type\":\"bar\"}],                        {\"title\":{\"text\":\"Hyperparameter Importances\"},\"xaxis\":{\"title\":{\"text\":\"Hyperparameter Importance\"}},\"yaxis\":{\"title\":{\"text\":\"Hyperparameter\"}},\"template\":{\"data\":{\"histogram2dcontour\":[{\"type\":\"histogram2dcontour\",\"colorbar\":{\"outlinewidth\":0,\"ticks\":\"\"},\"colorscale\":[[0.0,\"#0d0887\"],[0.1111111111111111,\"#46039f\"],[0.2222222222222222,\"#7201a8\"],[0.3333333333333333,\"#9c179e\"],[0.4444444444444444,\"#bd3786\"],[0.5555555555555556,\"#d8576b\"],[0.6666666666666666,\"#ed7953\"],[0.7777777777777778,\"#fb9f3a\"],[0.8888888888888888,\"#fdca26\"],[1.0,\"#f0f921\"]]}],\"choropleth\":[{\"type\":\"choropleth\",\"colorbar\":{\"outlinewidth\":0,\"ticks\":\"\"}}],\"histogram2d\":[{\"type\":\"histogram2d\",\"colorbar\":{\"outlinewidth\":0,\"ticks\":\"\"},\"colorscale\":[[0.0,\"#0d0887\"],[0.1111111111111111,\"#46039f\"],[0.2222222222222222,\"#7201a8\"],[0.3333333333333333,\"#9c179e\"],[0.4444444444444444,\"#bd3786\"],[0.5555555555555556,\"#d8576b\"],[0.6666666666666666,\"#ed7953\"],[0.7777777777777778,\"#fb9f3a\"],[0.8888888888888888,\"#fdca26\"],[1.0,\"#f0f921\"]]}],\"heatmap\":[{\"type\":\"heatmap\",\"colorbar\":{\"outlinewidth\":0,\"ticks\":\"\"},\"colorscale\":[[0.0,\"#0d0887\"],[0.1111111111111111,\"#46039f\"],[0.2222222222222222,\"#7201a8\"],[0.3333333333333333,\"#9c179e\"],[0.4444444444444444,\"#bd3786\"],[0.5555555555555556,\"#d8576b\"],[0.6666666666666666,\"#ed7953\"],[0.7777777777777778,\"#fb9f3a\"],[0.8888888888888888,\"#fdca26\"],[1.0,\"#f0f921\"]]}],\"heatmapgl\":[{\"type\":\"heatmapgl\",\"colorbar\":{\"outlinewidth\":0,\"ticks\":\"\"},\"colorscale\":[[0.0,\"#0d0887\"],[0.1111111111111111,\"#46039f\"],[0.2222222222222222,\"#7201a8\"],[0.3333333333333333,\"#9c179e\"],[0.4444444444444444,\"#bd3786\"],[0.5555555555555556,\"#d8576b\"],[0.6666666666666666,\"#ed7953\"],[0.7777777777777778,\"#fb9f3a\"],[0.8888888888888888,\"#fdca26\"],[1.0,\"#f0f921\"]]}],\"contourcarpet\":[{\"type\":\"contourcarpet\",\"colorbar\":{\"outlinewidth\":0,\"ticks\":\"\"}}],\"contour\":[{\"type\":\"contour\",\"colorbar\":{\"outlinewidth\":0,\"ticks\":\"\"},\"colorscale\":[[0.0,\"#0d0887\"],[0.1111111111111111,\"#46039f\"],[0.2222222222222222,\"#7201a8\"],[0.3333333333333333,\"#9c179e\"],[0.4444444444444444,\"#bd3786\"],[0.5555555555555556,\"#d8576b\"],[0.6666666666666666,\"#ed7953\"],[0.7777777777777778,\"#fb9f3a\"],[0.8888888888888888,\"#fdca26\"],[1.0,\"#f0f921\"]]}],\"surface\":[{\"type\":\"surface\",\"colorbar\":{\"outlinewidth\":0,\"ticks\":\"\"},\"colorscale\":[[0.0,\"#0d0887\"],[0.1111111111111111,\"#46039f\"],[0.2222222222222222,\"#7201a8\"],[0.3333333333333333,\"#9c179e\"],[0.4444444444444444,\"#bd3786\"],[0.5555555555555556,\"#d8576b\"],[0.6666666666666666,\"#ed7953\"],[0.7777777777777778,\"#fb9f3a\"],[0.8888888888888888,\"#fdca26\"],[1.0,\"#f0f921\"]]}],\"mesh3d\":[{\"type\":\"mesh3d\",\"colorbar\":{\"outlinewidth\":0,\"ticks\":\"\"}}],\"scatter\":[{\"fillpattern\":{\"fillmode\":\"overlay\",\"size\":10,\"solidity\":0.2},\"type\":\"scatter\"}],\"parcoords\":[{\"type\":\"parcoords\",\"line\":{\"colorbar\":{\"outlinewidth\":0,\"ticks\":\"\"}}}],\"scatterpolargl\":[{\"type\":\"scatterpolargl\",\"marker\":{\"colorbar\":{\"outlinewidth\":0,\"ticks\":\"\"}}}],\"bar\":[{\"error_x\":{\"color\":\"#2a3f5f\"},\"error_y\":{\"color\":\"#2a3f5f\"},\"marker\":{\"line\":{\"color\":\"#E5ECF6\",\"width\":0.5},\"pattern\":{\"fillmode\":\"overlay\",\"size\":10,\"solidity\":0.2}},\"type\":\"bar\"}],\"scattergeo\":[{\"type\":\"scattergeo\",\"marker\":{\"colorbar\":{\"outlinewidth\":0,\"ticks\":\"\"}}}],\"scatterpolar\":[{\"type\":\"scatterpolar\",\"marker\":{\"colorbar\":{\"outlinewidth\":0,\"ticks\":\"\"}}}],\"histogram\":[{\"marker\":{\"pattern\":{\"fillmode\":\"overlay\",\"size\":10,\"solidity\":0.2}},\"type\":\"histogram\"}],\"scattergl\":[{\"type\":\"scattergl\",\"marker\":{\"colorbar\":{\"outlinewidth\":0,\"ticks\":\"\"}}}],\"scatter3d\":[{\"type\":\"scatter3d\",\"line\":{\"colorbar\":{\"outlinewidth\":0,\"ticks\":\"\"}},\"marker\":{\"colorbar\":{\"outlinewidth\":0,\"ticks\":\"\"}}}],\"scattermapbox\":[{\"type\":\"scattermapbox\",\"marker\":{\"colorbar\":{\"outlinewidth\":0,\"ticks\":\"\"}}}],\"scatterternary\":[{\"type\":\"scatterternary\",\"marker\":{\"colorbar\":{\"outlinewidth\":0,\"ticks\":\"\"}}}],\"scattercarpet\":[{\"type\":\"scattercarpet\",\"marker\":{\"colorbar\":{\"outlinewidth\":0,\"ticks\":\"\"}}}],\"carpet\":[{\"aaxis\":{\"endlinecolor\":\"#2a3f5f\",\"gridcolor\":\"white\",\"linecolor\":\"white\",\"minorgridcolor\":\"white\",\"startlinecolor\":\"#2a3f5f\"},\"baxis\":{\"endlinecolor\":\"#2a3f5f\",\"gridcolor\":\"white\",\"linecolor\":\"white\",\"minorgridcolor\":\"white\",\"startlinecolor\":\"#2a3f5f\"},\"type\":\"carpet\"}],\"table\":[{\"cells\":{\"fill\":{\"color\":\"#EBF0F8\"},\"line\":{\"color\":\"white\"}},\"header\":{\"fill\":{\"color\":\"#C8D4E3\"},\"line\":{\"color\":\"white\"}},\"type\":\"table\"}],\"barpolar\":[{\"marker\":{\"line\":{\"color\":\"#E5ECF6\",\"width\":0.5},\"pattern\":{\"fillmode\":\"overlay\",\"size\":10,\"solidity\":0.2}},\"type\":\"barpolar\"}],\"pie\":[{\"automargin\":true,\"type\":\"pie\"}]},\"layout\":{\"autotypenumbers\":\"strict\",\"colorway\":[\"#636efa\",\"#EF553B\",\"#00cc96\",\"#ab63fa\",\"#FFA15A\",\"#19d3f3\",\"#FF6692\",\"#B6E880\",\"#FF97FF\",\"#FECB52\"],\"font\":{\"color\":\"#2a3f5f\"},\"hovermode\":\"closest\",\"hoverlabel\":{\"align\":\"left\"},\"paper_bgcolor\":\"white\",\"plot_bgcolor\":\"#E5ECF6\",\"polar\":{\"bgcolor\":\"#E5ECF6\",\"angularaxis\":{\"gridcolor\":\"white\",\"linecolor\":\"white\",\"ticks\":\"\"},\"radialaxis\":{\"gridcolor\":\"white\",\"linecolor\":\"white\",\"ticks\":\"\"}},\"ternary\":{\"bgcolor\":\"#E5ECF6\",\"aaxis\":{\"gridcolor\":\"white\",\"linecolor\":\"white\",\"ticks\":\"\"},\"baxis\":{\"gridcolor\":\"white\",\"linecolor\":\"white\",\"ticks\":\"\"},\"caxis\":{\"gridcolor\":\"white\",\"linecolor\":\"white\",\"ticks\":\"\"}},\"coloraxis\":{\"colorbar\":{\"outlinewidth\":0,\"ticks\":\"\"}},\"colorscale\":{\"sequential\":[[0.0,\"#0d0887\"],[0.1111111111111111,\"#46039f\"],[0.2222222222222222,\"#7201a8\"],[0.3333333333333333,\"#9c179e\"],[0.4444444444444444,\"#bd3786\"],[0.5555555555555556,\"#d8576b\"],[0.6666666666666666,\"#ed7953\"],[0.7777777777777778,\"#fb9f3a\"],[0.8888888888888888,\"#fdca26\"],[1.0,\"#f0f921\"]],\"sequentialminus\":[[0.0,\"#0d0887\"],[0.1111111111111111,\"#46039f\"],[0.2222222222222222,\"#7201a8\"],[0.3333333333333333,\"#9c179e\"],[0.4444444444444444,\"#bd3786\"],[0.5555555555555556,\"#d8576b\"],[0.6666666666666666,\"#ed7953\"],[0.7777777777777778,\"#fb9f3a\"],[0.8888888888888888,\"#fdca26\"],[1.0,\"#f0f921\"]],\"diverging\":[[0,\"#8e0152\"],[0.1,\"#c51b7d\"],[0.2,\"#de77ae\"],[0.3,\"#f1b6da\"],[0.4,\"#fde0ef\"],[0.5,\"#f7f7f7\"],[0.6,\"#e6f5d0\"],[0.7,\"#b8e186\"],[0.8,\"#7fbc41\"],[0.9,\"#4d9221\"],[1,\"#276419\"]]},\"xaxis\":{\"gridcolor\":\"white\",\"linecolor\":\"white\",\"ticks\":\"\",\"title\":{\"standoff\":15},\"zerolinecolor\":\"white\",\"automargin\":true,\"zerolinewidth\":2},\"yaxis\":{\"gridcolor\":\"white\",\"linecolor\":\"white\",\"ticks\":\"\",\"title\":{\"standoff\":15},\"zerolinecolor\":\"white\",\"automargin\":true,\"zerolinewidth\":2},\"scene\":{\"xaxis\":{\"backgroundcolor\":\"#E5ECF6\",\"gridcolor\":\"white\",\"linecolor\":\"white\",\"showbackground\":true,\"ticks\":\"\",\"zerolinecolor\":\"white\",\"gridwidth\":2},\"yaxis\":{\"backgroundcolor\":\"#E5ECF6\",\"gridcolor\":\"white\",\"linecolor\":\"white\",\"showbackground\":true,\"ticks\":\"\",\"zerolinecolor\":\"white\",\"gridwidth\":2},\"zaxis\":{\"backgroundcolor\":\"#E5ECF6\",\"gridcolor\":\"white\",\"linecolor\":\"white\",\"showbackground\":true,\"ticks\":\"\",\"zerolinecolor\":\"white\",\"gridwidth\":2}},\"shapedefaults\":{\"line\":{\"color\":\"#2a3f5f\"}},\"annotationdefaults\":{\"arrowcolor\":\"#2a3f5f\",\"arrowhead\":0,\"arrowwidth\":1},\"geo\":{\"bgcolor\":\"white\",\"landcolor\":\"#E5ECF6\",\"subunitcolor\":\"white\",\"showland\":true,\"showlakes\":true,\"lakecolor\":\"white\"},\"title\":{\"x\":0.05},\"mapbox\":{\"style\":\"light\"}}}},                        {\"responsive\": true}                    ).then(function(){\n",
       "                            \n",
       "var gd = document.getElementById('9bf9b89a-2a56-45ef-ae42-f179e0e4ebe4');\n",
       "var x = new MutationObserver(function (mutations, observer) {{\n",
       "        var display = window.getComputedStyle(gd).display;\n",
       "        if (!display || display === 'none') {{\n",
       "            console.log([gd, 'removed!']);\n",
       "            Plotly.purge(gd);\n",
       "            observer.disconnect();\n",
       "        }}\n",
       "}});\n",
       "\n",
       "// Listen for the removal of the full notebook cells\n",
       "var notebookContainer = gd.closest('#notebook-container');\n",
       "if (notebookContainer) {{\n",
       "    x.observe(notebookContainer, {childList: true});\n",
       "}}\n",
       "\n",
       "// Listen for the clearing of the current output cell\n",
       "var outputEl = gd.closest('.output');\n",
       "if (outputEl) {{\n",
       "    x.observe(outputEl, {childList: true});\n",
       "}}\n",
       "\n",
       "                        })                };                });            </script>        </div>"
      ]
     },
     "metadata": {},
     "output_type": "display_data"
    }
   ],
   "source": [
    "plot_param_importances(study_gb)"
   ]
  },
  {
   "cell_type": "code",
   "execution_count": 52,
   "metadata": {},
   "outputs": [
    {
     "data": {
      "application/vnd.plotly.v1+json": {
       "config": {
        "plotlyServerURL": "https://plot.ly"
       },
       "data": [
        {
         "mode": "markers",
         "name": "Objective Value",
         "type": "scatter",
         "x": [
          0,
          1,
          2,
          3,
          4,
          10,
          12,
          13,
          17,
          28,
          38,
          45,
          61,
          66,
          84,
          90,
          91,
          92,
          116,
          118,
          143,
          152,
          161,
          162,
          175,
          199,
          213,
          238,
          293,
          307,
          313,
          319,
          320,
          328
         ],
         "y": [
          4.287804198386965,
          4.58183642648733,
          7.372522432400242,
          12.014669279505839,
          4.132874730454392,
          4.507156593113521,
          4.246275237595786,
          4.142046443053735,
          3.9433054396889213,
          3.727841972349521,
          4.503995238165252,
          4.418190075212189,
          4.2111553318252275,
          4.024309648824501,
          3.9459897349660387,
          4.032905266270929,
          3.892332876309715,
          4.010004000042406,
          3.7329065143955993,
          3.5036244332154065,
          4.128430735996444,
          3.891364980003137,
          3.839181184321256,
          3.9753893050037807,
          3.451614986446496,
          3.864163416904436,
          3.821448827795508,
          3.9682305487724117,
          3.9770001863026905,
          3.8368361608150368,
          3.9478937827626153,
          3.984724983645488,
          4.024971202859318,
          3.8239155461658503
         ]
        },
        {
         "mode": "lines",
         "name": "Best Value",
         "type": "scatter",
         "x": [
          0,
          1,
          2,
          3,
          4,
          5,
          6,
          7,
          8,
          9,
          10,
          11,
          12,
          13,
          14,
          15,
          16,
          17,
          18,
          19,
          20,
          21,
          22,
          23,
          24,
          25,
          26,
          27,
          28,
          29,
          30,
          31,
          32,
          33,
          34,
          35,
          36,
          37,
          38,
          39,
          40,
          41,
          42,
          43,
          44,
          45,
          46,
          47,
          48,
          49,
          50,
          51,
          52,
          53,
          54,
          55,
          56,
          57,
          58,
          59,
          60,
          61,
          62,
          63,
          64,
          65,
          66,
          67,
          68,
          69,
          70,
          71,
          72,
          73,
          74,
          75,
          76,
          77,
          78,
          79,
          80,
          81,
          82,
          83,
          84,
          85,
          86,
          87,
          88,
          89,
          90,
          91,
          92,
          93,
          94,
          95,
          96,
          97,
          98,
          99,
          100,
          101,
          102,
          103,
          104,
          105,
          106,
          107,
          108,
          109,
          110,
          111,
          112,
          113,
          114,
          115,
          116,
          117,
          118,
          119,
          120,
          121,
          122,
          123,
          124,
          125,
          126,
          127,
          128,
          129,
          130,
          131,
          132,
          133,
          134,
          135,
          136,
          137,
          138,
          139,
          140,
          141,
          142,
          143,
          144,
          145,
          146,
          147,
          148,
          149,
          150,
          151,
          152,
          153,
          154,
          155,
          156,
          157,
          158,
          159,
          160,
          161,
          162,
          163,
          164,
          165,
          166,
          167,
          168,
          169,
          170,
          171,
          172,
          173,
          174,
          175,
          176,
          177,
          178,
          179,
          180,
          181,
          182,
          183,
          184,
          185,
          186,
          187,
          188,
          189,
          190,
          191,
          192,
          193,
          194,
          195,
          196,
          197,
          198,
          199,
          200,
          201,
          202,
          203,
          204,
          205,
          206,
          207,
          208,
          209,
          210,
          211,
          212,
          213,
          214,
          215,
          216,
          217,
          218,
          219,
          220,
          221,
          222,
          223,
          224,
          225,
          226,
          227,
          228,
          229,
          230,
          231,
          232,
          233,
          234,
          235,
          236,
          237,
          238,
          239,
          240,
          241,
          242,
          243,
          244,
          245,
          246,
          247,
          248,
          249,
          250,
          251,
          252,
          253,
          254,
          255,
          256,
          257,
          258,
          259,
          260,
          261,
          262,
          263,
          264,
          265,
          266,
          267,
          268,
          269,
          270,
          271,
          272,
          273,
          274,
          275,
          276,
          277,
          278,
          279,
          280,
          281,
          282,
          283,
          284,
          285,
          286,
          287,
          288,
          289,
          290,
          291,
          292,
          293,
          294,
          295,
          296,
          297,
          298,
          299,
          300,
          301,
          302,
          303,
          304,
          305,
          306,
          307,
          308,
          309,
          310,
          311,
          312,
          313,
          314,
          315,
          316,
          317,
          318,
          319,
          320,
          321,
          322,
          323,
          324,
          325,
          326,
          327,
          328,
          329,
          330,
          331,
          332,
          333,
          334,
          335,
          336,
          337,
          338,
          339,
          340,
          341,
          342,
          343,
          344,
          345,
          346,
          347,
          348,
          349,
          350,
          351,
          352,
          353,
          354,
          355,
          356,
          357,
          358,
          359,
          360,
          361,
          362,
          363,
          364,
          365,
          366,
          367,
          368,
          369,
          370,
          371,
          372,
          373,
          374,
          375,
          376,
          377,
          378,
          379,
          380,
          381,
          382,
          383,
          384,
          385,
          386,
          387,
          388,
          389,
          390,
          391,
          392,
          393,
          394,
          395,
          396,
          397,
          398,
          399,
          400,
          401,
          402,
          403,
          404,
          405,
          406,
          407,
          408,
          409,
          410,
          411,
          412,
          413,
          414,
          415,
          416,
          417,
          418,
          419,
          420,
          421,
          422,
          423,
          424,
          425,
          426,
          427,
          428
         ],
         "y": [
          4.287804198386965,
          4.287804198386965,
          4.287804198386965,
          4.287804198386965,
          4.132874730454392,
          4.132874730454392,
          4.132874730454392,
          4.132874730454392,
          4.132874730454392,
          4.132874730454392,
          4.132874730454392,
          4.132874730454392,
          4.132874730454392,
          4.132874730454392,
          4.132874730454392,
          4.132874730454392,
          4.132874730454392,
          3.9433054396889213,
          3.9433054396889213,
          3.9433054396889213,
          3.9433054396889213,
          3.9433054396889213,
          3.9433054396889213,
          3.9433054396889213,
          3.9433054396889213,
          3.9433054396889213,
          3.9433054396889213,
          3.9433054396889213,
          3.727841972349521,
          3.727841972349521,
          3.727841972349521,
          3.727841972349521,
          3.727841972349521,
          3.727841972349521,
          3.727841972349521,
          3.727841972349521,
          3.727841972349521,
          3.727841972349521,
          3.727841972349521,
          3.727841972349521,
          3.727841972349521,
          3.727841972349521,
          3.727841972349521,
          3.727841972349521,
          3.727841972349521,
          3.727841972349521,
          3.727841972349521,
          3.727841972349521,
          3.727841972349521,
          3.727841972349521,
          3.727841972349521,
          3.727841972349521,
          3.727841972349521,
          3.727841972349521,
          3.727841972349521,
          3.727841972349521,
          3.727841972349521,
          3.727841972349521,
          3.727841972349521,
          3.727841972349521,
          3.727841972349521,
          3.727841972349521,
          3.727841972349521,
          3.727841972349521,
          3.727841972349521,
          3.727841972349521,
          3.727841972349521,
          3.727841972349521,
          3.727841972349521,
          3.727841972349521,
          3.727841972349521,
          3.727841972349521,
          3.727841972349521,
          3.727841972349521,
          3.727841972349521,
          3.727841972349521,
          3.727841972349521,
          3.727841972349521,
          3.727841972349521,
          3.727841972349521,
          3.727841972349521,
          3.727841972349521,
          3.727841972349521,
          3.727841972349521,
          3.727841972349521,
          3.727841972349521,
          3.727841972349521,
          3.727841972349521,
          3.727841972349521,
          3.727841972349521,
          3.727841972349521,
          3.727841972349521,
          3.727841972349521,
          3.727841972349521,
          3.727841972349521,
          3.727841972349521,
          3.727841972349521,
          3.727841972349521,
          3.727841972349521,
          3.727841972349521,
          3.727841972349521,
          3.727841972349521,
          3.727841972349521,
          3.727841972349521,
          3.727841972349521,
          3.727841972349521,
          3.727841972349521,
          3.727841972349521,
          3.727841972349521,
          3.727841972349521,
          3.727841972349521,
          3.727841972349521,
          3.727841972349521,
          3.727841972349521,
          3.727841972349521,
          3.727841972349521,
          3.727841972349521,
          3.727841972349521,
          3.5036244332154065,
          3.5036244332154065,
          3.5036244332154065,
          3.5036244332154065,
          3.5036244332154065,
          3.5036244332154065,
          3.5036244332154065,
          3.5036244332154065,
          3.5036244332154065,
          3.5036244332154065,
          3.5036244332154065,
          3.5036244332154065,
          3.5036244332154065,
          3.5036244332154065,
          3.5036244332154065,
          3.5036244332154065,
          3.5036244332154065,
          3.5036244332154065,
          3.5036244332154065,
          3.5036244332154065,
          3.5036244332154065,
          3.5036244332154065,
          3.5036244332154065,
          3.5036244332154065,
          3.5036244332154065,
          3.5036244332154065,
          3.5036244332154065,
          3.5036244332154065,
          3.5036244332154065,
          3.5036244332154065,
          3.5036244332154065,
          3.5036244332154065,
          3.5036244332154065,
          3.5036244332154065,
          3.5036244332154065,
          3.5036244332154065,
          3.5036244332154065,
          3.5036244332154065,
          3.5036244332154065,
          3.5036244332154065,
          3.5036244332154065,
          3.5036244332154065,
          3.5036244332154065,
          3.5036244332154065,
          3.5036244332154065,
          3.5036244332154065,
          3.5036244332154065,
          3.5036244332154065,
          3.5036244332154065,
          3.5036244332154065,
          3.5036244332154065,
          3.5036244332154065,
          3.5036244332154065,
          3.5036244332154065,
          3.5036244332154065,
          3.5036244332154065,
          3.5036244332154065,
          3.451614986446496,
          3.451614986446496,
          3.451614986446496,
          3.451614986446496,
          3.451614986446496,
          3.451614986446496,
          3.451614986446496,
          3.451614986446496,
          3.451614986446496,
          3.451614986446496,
          3.451614986446496,
          3.451614986446496,
          3.451614986446496,
          3.451614986446496,
          3.451614986446496,
          3.451614986446496,
          3.451614986446496,
          3.451614986446496,
          3.451614986446496,
          3.451614986446496,
          3.451614986446496,
          3.451614986446496,
          3.451614986446496,
          3.451614986446496,
          3.451614986446496,
          3.451614986446496,
          3.451614986446496,
          3.451614986446496,
          3.451614986446496,
          3.451614986446496,
          3.451614986446496,
          3.451614986446496,
          3.451614986446496,
          3.451614986446496,
          3.451614986446496,
          3.451614986446496,
          3.451614986446496,
          3.451614986446496,
          3.451614986446496,
          3.451614986446496,
          3.451614986446496,
          3.451614986446496,
          3.451614986446496,
          3.451614986446496,
          3.451614986446496,
          3.451614986446496,
          3.451614986446496,
          3.451614986446496,
          3.451614986446496,
          3.451614986446496,
          3.451614986446496,
          3.451614986446496,
          3.451614986446496,
          3.451614986446496,
          3.451614986446496,
          3.451614986446496,
          3.451614986446496,
          3.451614986446496,
          3.451614986446496,
          3.451614986446496,
          3.451614986446496,
          3.451614986446496,
          3.451614986446496,
          3.451614986446496,
          3.451614986446496,
          3.451614986446496,
          3.451614986446496,
          3.451614986446496,
          3.451614986446496,
          3.451614986446496,
          3.451614986446496,
          3.451614986446496,
          3.451614986446496,
          3.451614986446496,
          3.451614986446496,
          3.451614986446496,
          3.451614986446496,
          3.451614986446496,
          3.451614986446496,
          3.451614986446496,
          3.451614986446496,
          3.451614986446496,
          3.451614986446496,
          3.451614986446496,
          3.451614986446496,
          3.451614986446496,
          3.451614986446496,
          3.451614986446496,
          3.451614986446496,
          3.451614986446496,
          3.451614986446496,
          3.451614986446496,
          3.451614986446496,
          3.451614986446496,
          3.451614986446496,
          3.451614986446496,
          3.451614986446496,
          3.451614986446496,
          3.451614986446496,
          3.451614986446496,
          3.451614986446496,
          3.451614986446496,
          3.451614986446496,
          3.451614986446496,
          3.451614986446496,
          3.451614986446496,
          3.451614986446496,
          3.451614986446496,
          3.451614986446496,
          3.451614986446496,
          3.451614986446496,
          3.451614986446496,
          3.451614986446496,
          3.451614986446496,
          3.451614986446496,
          3.451614986446496,
          3.451614986446496,
          3.451614986446496,
          3.451614986446496,
          3.451614986446496,
          3.451614986446496,
          3.451614986446496,
          3.451614986446496,
          3.451614986446496,
          3.451614986446496,
          3.451614986446496,
          3.451614986446496,
          3.451614986446496,
          3.451614986446496,
          3.451614986446496,
          3.451614986446496,
          3.451614986446496,
          3.451614986446496,
          3.451614986446496,
          3.451614986446496,
          3.451614986446496,
          3.451614986446496,
          3.451614986446496,
          3.451614986446496,
          3.451614986446496,
          3.451614986446496,
          3.451614986446496,
          3.451614986446496,
          3.451614986446496,
          3.451614986446496,
          3.451614986446496,
          3.451614986446496,
          3.451614986446496,
          3.451614986446496,
          3.451614986446496,
          3.451614986446496,
          3.451614986446496,
          3.451614986446496,
          3.451614986446496,
          3.451614986446496,
          3.451614986446496,
          3.451614986446496,
          3.451614986446496,
          3.451614986446496,
          3.451614986446496,
          3.451614986446496,
          3.451614986446496,
          3.451614986446496,
          3.451614986446496,
          3.451614986446496,
          3.451614986446496,
          3.451614986446496,
          3.451614986446496,
          3.451614986446496,
          3.451614986446496,
          3.451614986446496,
          3.451614986446496,
          3.451614986446496,
          3.451614986446496,
          3.451614986446496,
          3.451614986446496,
          3.451614986446496,
          3.451614986446496,
          3.451614986446496,
          3.451614986446496,
          3.451614986446496,
          3.451614986446496,
          3.451614986446496,
          3.451614986446496,
          3.451614986446496,
          3.451614986446496,
          3.451614986446496,
          3.451614986446496,
          3.451614986446496,
          3.451614986446496,
          3.451614986446496,
          3.451614986446496,
          3.451614986446496,
          3.451614986446496,
          3.451614986446496,
          3.451614986446496,
          3.451614986446496,
          3.451614986446496,
          3.451614986446496,
          3.451614986446496,
          3.451614986446496,
          3.451614986446496,
          3.451614986446496,
          3.451614986446496,
          3.451614986446496,
          3.451614986446496,
          3.451614986446496,
          3.451614986446496,
          3.451614986446496,
          3.451614986446496,
          3.451614986446496,
          3.451614986446496,
          3.451614986446496,
          3.451614986446496,
          3.451614986446496,
          3.451614986446496,
          3.451614986446496,
          3.451614986446496,
          3.451614986446496,
          3.451614986446496,
          3.451614986446496,
          3.451614986446496,
          3.451614986446496,
          3.451614986446496,
          3.451614986446496,
          3.451614986446496,
          3.451614986446496,
          3.451614986446496,
          3.451614986446496,
          3.451614986446496,
          3.451614986446496,
          3.451614986446496,
          3.451614986446496,
          3.451614986446496,
          3.451614986446496,
          3.451614986446496,
          3.451614986446496,
          3.451614986446496,
          3.451614986446496,
          3.451614986446496,
          3.451614986446496,
          3.451614986446496,
          3.451614986446496,
          3.451614986446496,
          3.451614986446496,
          3.451614986446496,
          3.451614986446496,
          3.451614986446496,
          3.451614986446496,
          3.451614986446496,
          3.451614986446496,
          3.451614986446496,
          3.451614986446496,
          3.451614986446496
         ]
        },
        {
         "marker": {
          "color": "#cccccc"
         },
         "mode": "markers",
         "name": "Infeasible Trial",
         "showlegend": false,
         "type": "scatter",
         "x": [],
         "y": []
        }
       ],
       "layout": {
        "template": {
         "data": {
          "bar": [
           {
            "error_x": {
             "color": "#2a3f5f"
            },
            "error_y": {
             "color": "#2a3f5f"
            },
            "marker": {
             "line": {
              "color": "#E5ECF6",
              "width": 0.5
             },
             "pattern": {
              "fillmode": "overlay",
              "size": 10,
              "solidity": 0.2
             }
            },
            "type": "bar"
           }
          ],
          "barpolar": [
           {
            "marker": {
             "line": {
              "color": "#E5ECF6",
              "width": 0.5
             },
             "pattern": {
              "fillmode": "overlay",
              "size": 10,
              "solidity": 0.2
             }
            },
            "type": "barpolar"
           }
          ],
          "carpet": [
           {
            "aaxis": {
             "endlinecolor": "#2a3f5f",
             "gridcolor": "white",
             "linecolor": "white",
             "minorgridcolor": "white",
             "startlinecolor": "#2a3f5f"
            },
            "baxis": {
             "endlinecolor": "#2a3f5f",
             "gridcolor": "white",
             "linecolor": "white",
             "minorgridcolor": "white",
             "startlinecolor": "#2a3f5f"
            },
            "type": "carpet"
           }
          ],
          "choropleth": [
           {
            "colorbar": {
             "outlinewidth": 0,
             "ticks": ""
            },
            "type": "choropleth"
           }
          ],
          "contour": [
           {
            "colorbar": {
             "outlinewidth": 0,
             "ticks": ""
            },
            "colorscale": [
             [
              0,
              "#0d0887"
             ],
             [
              0.1111111111111111,
              "#46039f"
             ],
             [
              0.2222222222222222,
              "#7201a8"
             ],
             [
              0.3333333333333333,
              "#9c179e"
             ],
             [
              0.4444444444444444,
              "#bd3786"
             ],
             [
              0.5555555555555556,
              "#d8576b"
             ],
             [
              0.6666666666666666,
              "#ed7953"
             ],
             [
              0.7777777777777778,
              "#fb9f3a"
             ],
             [
              0.8888888888888888,
              "#fdca26"
             ],
             [
              1,
              "#f0f921"
             ]
            ],
            "type": "contour"
           }
          ],
          "contourcarpet": [
           {
            "colorbar": {
             "outlinewidth": 0,
             "ticks": ""
            },
            "type": "contourcarpet"
           }
          ],
          "heatmap": [
           {
            "colorbar": {
             "outlinewidth": 0,
             "ticks": ""
            },
            "colorscale": [
             [
              0,
              "#0d0887"
             ],
             [
              0.1111111111111111,
              "#46039f"
             ],
             [
              0.2222222222222222,
              "#7201a8"
             ],
             [
              0.3333333333333333,
              "#9c179e"
             ],
             [
              0.4444444444444444,
              "#bd3786"
             ],
             [
              0.5555555555555556,
              "#d8576b"
             ],
             [
              0.6666666666666666,
              "#ed7953"
             ],
             [
              0.7777777777777778,
              "#fb9f3a"
             ],
             [
              0.8888888888888888,
              "#fdca26"
             ],
             [
              1,
              "#f0f921"
             ]
            ],
            "type": "heatmap"
           }
          ],
          "heatmapgl": [
           {
            "colorbar": {
             "outlinewidth": 0,
             "ticks": ""
            },
            "colorscale": [
             [
              0,
              "#0d0887"
             ],
             [
              0.1111111111111111,
              "#46039f"
             ],
             [
              0.2222222222222222,
              "#7201a8"
             ],
             [
              0.3333333333333333,
              "#9c179e"
             ],
             [
              0.4444444444444444,
              "#bd3786"
             ],
             [
              0.5555555555555556,
              "#d8576b"
             ],
             [
              0.6666666666666666,
              "#ed7953"
             ],
             [
              0.7777777777777778,
              "#fb9f3a"
             ],
             [
              0.8888888888888888,
              "#fdca26"
             ],
             [
              1,
              "#f0f921"
             ]
            ],
            "type": "heatmapgl"
           }
          ],
          "histogram": [
           {
            "marker": {
             "pattern": {
              "fillmode": "overlay",
              "size": 10,
              "solidity": 0.2
             }
            },
            "type": "histogram"
           }
          ],
          "histogram2d": [
           {
            "colorbar": {
             "outlinewidth": 0,
             "ticks": ""
            },
            "colorscale": [
             [
              0,
              "#0d0887"
             ],
             [
              0.1111111111111111,
              "#46039f"
             ],
             [
              0.2222222222222222,
              "#7201a8"
             ],
             [
              0.3333333333333333,
              "#9c179e"
             ],
             [
              0.4444444444444444,
              "#bd3786"
             ],
             [
              0.5555555555555556,
              "#d8576b"
             ],
             [
              0.6666666666666666,
              "#ed7953"
             ],
             [
              0.7777777777777778,
              "#fb9f3a"
             ],
             [
              0.8888888888888888,
              "#fdca26"
             ],
             [
              1,
              "#f0f921"
             ]
            ],
            "type": "histogram2d"
           }
          ],
          "histogram2dcontour": [
           {
            "colorbar": {
             "outlinewidth": 0,
             "ticks": ""
            },
            "colorscale": [
             [
              0,
              "#0d0887"
             ],
             [
              0.1111111111111111,
              "#46039f"
             ],
             [
              0.2222222222222222,
              "#7201a8"
             ],
             [
              0.3333333333333333,
              "#9c179e"
             ],
             [
              0.4444444444444444,
              "#bd3786"
             ],
             [
              0.5555555555555556,
              "#d8576b"
             ],
             [
              0.6666666666666666,
              "#ed7953"
             ],
             [
              0.7777777777777778,
              "#fb9f3a"
             ],
             [
              0.8888888888888888,
              "#fdca26"
             ],
             [
              1,
              "#f0f921"
             ]
            ],
            "type": "histogram2dcontour"
           }
          ],
          "mesh3d": [
           {
            "colorbar": {
             "outlinewidth": 0,
             "ticks": ""
            },
            "type": "mesh3d"
           }
          ],
          "parcoords": [
           {
            "line": {
             "colorbar": {
              "outlinewidth": 0,
              "ticks": ""
             }
            },
            "type": "parcoords"
           }
          ],
          "pie": [
           {
            "automargin": true,
            "type": "pie"
           }
          ],
          "scatter": [
           {
            "fillpattern": {
             "fillmode": "overlay",
             "size": 10,
             "solidity": 0.2
            },
            "type": "scatter"
           }
          ],
          "scatter3d": [
           {
            "line": {
             "colorbar": {
              "outlinewidth": 0,
              "ticks": ""
             }
            },
            "marker": {
             "colorbar": {
              "outlinewidth": 0,
              "ticks": ""
             }
            },
            "type": "scatter3d"
           }
          ],
          "scattercarpet": [
           {
            "marker": {
             "colorbar": {
              "outlinewidth": 0,
              "ticks": ""
             }
            },
            "type": "scattercarpet"
           }
          ],
          "scattergeo": [
           {
            "marker": {
             "colorbar": {
              "outlinewidth": 0,
              "ticks": ""
             }
            },
            "type": "scattergeo"
           }
          ],
          "scattergl": [
           {
            "marker": {
             "colorbar": {
              "outlinewidth": 0,
              "ticks": ""
             }
            },
            "type": "scattergl"
           }
          ],
          "scattermapbox": [
           {
            "marker": {
             "colorbar": {
              "outlinewidth": 0,
              "ticks": ""
             }
            },
            "type": "scattermapbox"
           }
          ],
          "scatterpolar": [
           {
            "marker": {
             "colorbar": {
              "outlinewidth": 0,
              "ticks": ""
             }
            },
            "type": "scatterpolar"
           }
          ],
          "scatterpolargl": [
           {
            "marker": {
             "colorbar": {
              "outlinewidth": 0,
              "ticks": ""
             }
            },
            "type": "scatterpolargl"
           }
          ],
          "scatterternary": [
           {
            "marker": {
             "colorbar": {
              "outlinewidth": 0,
              "ticks": ""
             }
            },
            "type": "scatterternary"
           }
          ],
          "surface": [
           {
            "colorbar": {
             "outlinewidth": 0,
             "ticks": ""
            },
            "colorscale": [
             [
              0,
              "#0d0887"
             ],
             [
              0.1111111111111111,
              "#46039f"
             ],
             [
              0.2222222222222222,
              "#7201a8"
             ],
             [
              0.3333333333333333,
              "#9c179e"
             ],
             [
              0.4444444444444444,
              "#bd3786"
             ],
             [
              0.5555555555555556,
              "#d8576b"
             ],
             [
              0.6666666666666666,
              "#ed7953"
             ],
             [
              0.7777777777777778,
              "#fb9f3a"
             ],
             [
              0.8888888888888888,
              "#fdca26"
             ],
             [
              1,
              "#f0f921"
             ]
            ],
            "type": "surface"
           }
          ],
          "table": [
           {
            "cells": {
             "fill": {
              "color": "#EBF0F8"
             },
             "line": {
              "color": "white"
             }
            },
            "header": {
             "fill": {
              "color": "#C8D4E3"
             },
             "line": {
              "color": "white"
             }
            },
            "type": "table"
           }
          ]
         },
         "layout": {
          "annotationdefaults": {
           "arrowcolor": "#2a3f5f",
           "arrowhead": 0,
           "arrowwidth": 1
          },
          "autotypenumbers": "strict",
          "coloraxis": {
           "colorbar": {
            "outlinewidth": 0,
            "ticks": ""
           }
          },
          "colorscale": {
           "diverging": [
            [
             0,
             "#8e0152"
            ],
            [
             0.1,
             "#c51b7d"
            ],
            [
             0.2,
             "#de77ae"
            ],
            [
             0.3,
             "#f1b6da"
            ],
            [
             0.4,
             "#fde0ef"
            ],
            [
             0.5,
             "#f7f7f7"
            ],
            [
             0.6,
             "#e6f5d0"
            ],
            [
             0.7,
             "#b8e186"
            ],
            [
             0.8,
             "#7fbc41"
            ],
            [
             0.9,
             "#4d9221"
            ],
            [
             1,
             "#276419"
            ]
           ],
           "sequential": [
            [
             0,
             "#0d0887"
            ],
            [
             0.1111111111111111,
             "#46039f"
            ],
            [
             0.2222222222222222,
             "#7201a8"
            ],
            [
             0.3333333333333333,
             "#9c179e"
            ],
            [
             0.4444444444444444,
             "#bd3786"
            ],
            [
             0.5555555555555556,
             "#d8576b"
            ],
            [
             0.6666666666666666,
             "#ed7953"
            ],
            [
             0.7777777777777778,
             "#fb9f3a"
            ],
            [
             0.8888888888888888,
             "#fdca26"
            ],
            [
             1,
             "#f0f921"
            ]
           ],
           "sequentialminus": [
            [
             0,
             "#0d0887"
            ],
            [
             0.1111111111111111,
             "#46039f"
            ],
            [
             0.2222222222222222,
             "#7201a8"
            ],
            [
             0.3333333333333333,
             "#9c179e"
            ],
            [
             0.4444444444444444,
             "#bd3786"
            ],
            [
             0.5555555555555556,
             "#d8576b"
            ],
            [
             0.6666666666666666,
             "#ed7953"
            ],
            [
             0.7777777777777778,
             "#fb9f3a"
            ],
            [
             0.8888888888888888,
             "#fdca26"
            ],
            [
             1,
             "#f0f921"
            ]
           ]
          },
          "colorway": [
           "#636efa",
           "#EF553B",
           "#00cc96",
           "#ab63fa",
           "#FFA15A",
           "#19d3f3",
           "#FF6692",
           "#B6E880",
           "#FF97FF",
           "#FECB52"
          ],
          "font": {
           "color": "#2a3f5f"
          },
          "geo": {
           "bgcolor": "white",
           "lakecolor": "white",
           "landcolor": "#E5ECF6",
           "showlakes": true,
           "showland": true,
           "subunitcolor": "white"
          },
          "hoverlabel": {
           "align": "left"
          },
          "hovermode": "closest",
          "mapbox": {
           "style": "light"
          },
          "paper_bgcolor": "white",
          "plot_bgcolor": "#E5ECF6",
          "polar": {
           "angularaxis": {
            "gridcolor": "white",
            "linecolor": "white",
            "ticks": ""
           },
           "bgcolor": "#E5ECF6",
           "radialaxis": {
            "gridcolor": "white",
            "linecolor": "white",
            "ticks": ""
           }
          },
          "scene": {
           "xaxis": {
            "backgroundcolor": "#E5ECF6",
            "gridcolor": "white",
            "gridwidth": 2,
            "linecolor": "white",
            "showbackground": true,
            "ticks": "",
            "zerolinecolor": "white"
           },
           "yaxis": {
            "backgroundcolor": "#E5ECF6",
            "gridcolor": "white",
            "gridwidth": 2,
            "linecolor": "white",
            "showbackground": true,
            "ticks": "",
            "zerolinecolor": "white"
           },
           "zaxis": {
            "backgroundcolor": "#E5ECF6",
            "gridcolor": "white",
            "gridwidth": 2,
            "linecolor": "white",
            "showbackground": true,
            "ticks": "",
            "zerolinecolor": "white"
           }
          },
          "shapedefaults": {
           "line": {
            "color": "#2a3f5f"
           }
          },
          "ternary": {
           "aaxis": {
            "gridcolor": "white",
            "linecolor": "white",
            "ticks": ""
           },
           "baxis": {
            "gridcolor": "white",
            "linecolor": "white",
            "ticks": ""
           },
           "bgcolor": "#E5ECF6",
           "caxis": {
            "gridcolor": "white",
            "linecolor": "white",
            "ticks": ""
           }
          },
          "title": {
           "x": 0.05
          },
          "xaxis": {
           "automargin": true,
           "gridcolor": "white",
           "linecolor": "white",
           "ticks": "",
           "title": {
            "standoff": 15
           },
           "zerolinecolor": "white",
           "zerolinewidth": 2
          },
          "yaxis": {
           "automargin": true,
           "gridcolor": "white",
           "linecolor": "white",
           "ticks": "",
           "title": {
            "standoff": 15
           },
           "zerolinecolor": "white",
           "zerolinewidth": 2
          }
         }
        },
        "title": {
         "text": "Optimization History Plot"
        },
        "xaxis": {
         "title": {
          "text": "Trial"
         }
        },
        "yaxis": {
         "title": {
          "text": "Objective Value"
         }
        }
       }
      },
      "text/html": [
       "<div>                            <div id=\"23bbc26b-2269-4888-9ab0-178d819d6185\" class=\"plotly-graph-div\" style=\"height:525px; width:100%;\"></div>            <script type=\"text/javascript\">                require([\"plotly\"], function(Plotly) {                    window.PLOTLYENV=window.PLOTLYENV || {};                                    if (document.getElementById(\"23bbc26b-2269-4888-9ab0-178d819d6185\")) {                    Plotly.newPlot(                        \"23bbc26b-2269-4888-9ab0-178d819d6185\",                        [{\"mode\":\"markers\",\"name\":\"Objective Value\",\"x\":[0,1,2,3,4,10,12,13,17,28,38,45,61,66,84,90,91,92,116,118,143,152,161,162,175,199,213,238,293,307,313,319,320,328],\"y\":[4.287804198386965,4.58183642648733,7.372522432400242,12.014669279505839,4.132874730454392,4.507156593113521,4.246275237595786,4.142046443053735,3.9433054396889213,3.727841972349521,4.503995238165252,4.418190075212189,4.2111553318252275,4.024309648824501,3.9459897349660387,4.032905266270929,3.892332876309715,4.010004000042406,3.7329065143955993,3.5036244332154065,4.128430735996444,3.891364980003137,3.839181184321256,3.9753893050037807,3.451614986446496,3.864163416904436,3.821448827795508,3.9682305487724117,3.9770001863026905,3.8368361608150368,3.9478937827626153,3.984724983645488,4.024971202859318,3.8239155461658503],\"type\":\"scatter\"},{\"mode\":\"lines\",\"name\":\"Best Value\",\"x\":[0,1,2,3,4,5,6,7,8,9,10,11,12,13,14,15,16,17,18,19,20,21,22,23,24,25,26,27,28,29,30,31,32,33,34,35,36,37,38,39,40,41,42,43,44,45,46,47,48,49,50,51,52,53,54,55,56,57,58,59,60,61,62,63,64,65,66,67,68,69,70,71,72,73,74,75,76,77,78,79,80,81,82,83,84,85,86,87,88,89,90,91,92,93,94,95,96,97,98,99,100,101,102,103,104,105,106,107,108,109,110,111,112,113,114,115,116,117,118,119,120,121,122,123,124,125,126,127,128,129,130,131,132,133,134,135,136,137,138,139,140,141,142,143,144,145,146,147,148,149,150,151,152,153,154,155,156,157,158,159,160,161,162,163,164,165,166,167,168,169,170,171,172,173,174,175,176,177,178,179,180,181,182,183,184,185,186,187,188,189,190,191,192,193,194,195,196,197,198,199,200,201,202,203,204,205,206,207,208,209,210,211,212,213,214,215,216,217,218,219,220,221,222,223,224,225,226,227,228,229,230,231,232,233,234,235,236,237,238,239,240,241,242,243,244,245,246,247,248,249,250,251,252,253,254,255,256,257,258,259,260,261,262,263,264,265,266,267,268,269,270,271,272,273,274,275,276,277,278,279,280,281,282,283,284,285,286,287,288,289,290,291,292,293,294,295,296,297,298,299,300,301,302,303,304,305,306,307,308,309,310,311,312,313,314,315,316,317,318,319,320,321,322,323,324,325,326,327,328,329,330,331,332,333,334,335,336,337,338,339,340,341,342,343,344,345,346,347,348,349,350,351,352,353,354,355,356,357,358,359,360,361,362,363,364,365,366,367,368,369,370,371,372,373,374,375,376,377,378,379,380,381,382,383,384,385,386,387,388,389,390,391,392,393,394,395,396,397,398,399,400,401,402,403,404,405,406,407,408,409,410,411,412,413,414,415,416,417,418,419,420,421,422,423,424,425,426,427,428],\"y\":[4.287804198386965,4.287804198386965,4.287804198386965,4.287804198386965,4.132874730454392,4.132874730454392,4.132874730454392,4.132874730454392,4.132874730454392,4.132874730454392,4.132874730454392,4.132874730454392,4.132874730454392,4.132874730454392,4.132874730454392,4.132874730454392,4.132874730454392,3.9433054396889213,3.9433054396889213,3.9433054396889213,3.9433054396889213,3.9433054396889213,3.9433054396889213,3.9433054396889213,3.9433054396889213,3.9433054396889213,3.9433054396889213,3.9433054396889213,3.727841972349521,3.727841972349521,3.727841972349521,3.727841972349521,3.727841972349521,3.727841972349521,3.727841972349521,3.727841972349521,3.727841972349521,3.727841972349521,3.727841972349521,3.727841972349521,3.727841972349521,3.727841972349521,3.727841972349521,3.727841972349521,3.727841972349521,3.727841972349521,3.727841972349521,3.727841972349521,3.727841972349521,3.727841972349521,3.727841972349521,3.727841972349521,3.727841972349521,3.727841972349521,3.727841972349521,3.727841972349521,3.727841972349521,3.727841972349521,3.727841972349521,3.727841972349521,3.727841972349521,3.727841972349521,3.727841972349521,3.727841972349521,3.727841972349521,3.727841972349521,3.727841972349521,3.727841972349521,3.727841972349521,3.727841972349521,3.727841972349521,3.727841972349521,3.727841972349521,3.727841972349521,3.727841972349521,3.727841972349521,3.727841972349521,3.727841972349521,3.727841972349521,3.727841972349521,3.727841972349521,3.727841972349521,3.727841972349521,3.727841972349521,3.727841972349521,3.727841972349521,3.727841972349521,3.727841972349521,3.727841972349521,3.727841972349521,3.727841972349521,3.727841972349521,3.727841972349521,3.727841972349521,3.727841972349521,3.727841972349521,3.727841972349521,3.727841972349521,3.727841972349521,3.727841972349521,3.727841972349521,3.727841972349521,3.727841972349521,3.727841972349521,3.727841972349521,3.727841972349521,3.727841972349521,3.727841972349521,3.727841972349521,3.727841972349521,3.727841972349521,3.727841972349521,3.727841972349521,3.727841972349521,3.727841972349521,3.727841972349521,3.727841972349521,3.727841972349521,3.5036244332154065,3.5036244332154065,3.5036244332154065,3.5036244332154065,3.5036244332154065,3.5036244332154065,3.5036244332154065,3.5036244332154065,3.5036244332154065,3.5036244332154065,3.5036244332154065,3.5036244332154065,3.5036244332154065,3.5036244332154065,3.5036244332154065,3.5036244332154065,3.5036244332154065,3.5036244332154065,3.5036244332154065,3.5036244332154065,3.5036244332154065,3.5036244332154065,3.5036244332154065,3.5036244332154065,3.5036244332154065,3.5036244332154065,3.5036244332154065,3.5036244332154065,3.5036244332154065,3.5036244332154065,3.5036244332154065,3.5036244332154065,3.5036244332154065,3.5036244332154065,3.5036244332154065,3.5036244332154065,3.5036244332154065,3.5036244332154065,3.5036244332154065,3.5036244332154065,3.5036244332154065,3.5036244332154065,3.5036244332154065,3.5036244332154065,3.5036244332154065,3.5036244332154065,3.5036244332154065,3.5036244332154065,3.5036244332154065,3.5036244332154065,3.5036244332154065,3.5036244332154065,3.5036244332154065,3.5036244332154065,3.5036244332154065,3.5036244332154065,3.5036244332154065,3.451614986446496,3.451614986446496,3.451614986446496,3.451614986446496,3.451614986446496,3.451614986446496,3.451614986446496,3.451614986446496,3.451614986446496,3.451614986446496,3.451614986446496,3.451614986446496,3.451614986446496,3.451614986446496,3.451614986446496,3.451614986446496,3.451614986446496,3.451614986446496,3.451614986446496,3.451614986446496,3.451614986446496,3.451614986446496,3.451614986446496,3.451614986446496,3.451614986446496,3.451614986446496,3.451614986446496,3.451614986446496,3.451614986446496,3.451614986446496,3.451614986446496,3.451614986446496,3.451614986446496,3.451614986446496,3.451614986446496,3.451614986446496,3.451614986446496,3.451614986446496,3.451614986446496,3.451614986446496,3.451614986446496,3.451614986446496,3.451614986446496,3.451614986446496,3.451614986446496,3.451614986446496,3.451614986446496,3.451614986446496,3.451614986446496,3.451614986446496,3.451614986446496,3.451614986446496,3.451614986446496,3.451614986446496,3.451614986446496,3.451614986446496,3.451614986446496,3.451614986446496,3.451614986446496,3.451614986446496,3.451614986446496,3.451614986446496,3.451614986446496,3.451614986446496,3.451614986446496,3.451614986446496,3.451614986446496,3.451614986446496,3.451614986446496,3.451614986446496,3.451614986446496,3.451614986446496,3.451614986446496,3.451614986446496,3.451614986446496,3.451614986446496,3.451614986446496,3.451614986446496,3.451614986446496,3.451614986446496,3.451614986446496,3.451614986446496,3.451614986446496,3.451614986446496,3.451614986446496,3.451614986446496,3.451614986446496,3.451614986446496,3.451614986446496,3.451614986446496,3.451614986446496,3.451614986446496,3.451614986446496,3.451614986446496,3.451614986446496,3.451614986446496,3.451614986446496,3.451614986446496,3.451614986446496,3.451614986446496,3.451614986446496,3.451614986446496,3.451614986446496,3.451614986446496,3.451614986446496,3.451614986446496,3.451614986446496,3.451614986446496,3.451614986446496,3.451614986446496,3.451614986446496,3.451614986446496,3.451614986446496,3.451614986446496,3.451614986446496,3.451614986446496,3.451614986446496,3.451614986446496,3.451614986446496,3.451614986446496,3.451614986446496,3.451614986446496,3.451614986446496,3.451614986446496,3.451614986446496,3.451614986446496,3.451614986446496,3.451614986446496,3.451614986446496,3.451614986446496,3.451614986446496,3.451614986446496,3.451614986446496,3.451614986446496,3.451614986446496,3.451614986446496,3.451614986446496,3.451614986446496,3.451614986446496,3.451614986446496,3.451614986446496,3.451614986446496,3.451614986446496,3.451614986446496,3.451614986446496,3.451614986446496,3.451614986446496,3.451614986446496,3.451614986446496,3.451614986446496,3.451614986446496,3.451614986446496,3.451614986446496,3.451614986446496,3.451614986446496,3.451614986446496,3.451614986446496,3.451614986446496,3.451614986446496,3.451614986446496,3.451614986446496,3.451614986446496,3.451614986446496,3.451614986446496,3.451614986446496,3.451614986446496,3.451614986446496,3.451614986446496,3.451614986446496,3.451614986446496,3.451614986446496,3.451614986446496,3.451614986446496,3.451614986446496,3.451614986446496,3.451614986446496,3.451614986446496,3.451614986446496,3.451614986446496,3.451614986446496,3.451614986446496,3.451614986446496,3.451614986446496,3.451614986446496,3.451614986446496,3.451614986446496,3.451614986446496,3.451614986446496,3.451614986446496,3.451614986446496,3.451614986446496,3.451614986446496,3.451614986446496,3.451614986446496,3.451614986446496,3.451614986446496,3.451614986446496,3.451614986446496,3.451614986446496,3.451614986446496,3.451614986446496,3.451614986446496,3.451614986446496,3.451614986446496,3.451614986446496,3.451614986446496,3.451614986446496,3.451614986446496,3.451614986446496,3.451614986446496,3.451614986446496,3.451614986446496,3.451614986446496,3.451614986446496,3.451614986446496,3.451614986446496,3.451614986446496,3.451614986446496,3.451614986446496,3.451614986446496,3.451614986446496,3.451614986446496,3.451614986446496,3.451614986446496,3.451614986446496,3.451614986446496,3.451614986446496,3.451614986446496,3.451614986446496,3.451614986446496,3.451614986446496,3.451614986446496,3.451614986446496,3.451614986446496,3.451614986446496,3.451614986446496,3.451614986446496,3.451614986446496,3.451614986446496,3.451614986446496,3.451614986446496,3.451614986446496,3.451614986446496,3.451614986446496,3.451614986446496,3.451614986446496,3.451614986446496,3.451614986446496,3.451614986446496,3.451614986446496,3.451614986446496,3.451614986446496,3.451614986446496,3.451614986446496],\"type\":\"scatter\"},{\"marker\":{\"color\":\"#cccccc\"},\"mode\":\"markers\",\"name\":\"Infeasible Trial\",\"showlegend\":false,\"x\":[],\"y\":[],\"type\":\"scatter\"}],                        {\"title\":{\"text\":\"Optimization History Plot\"},\"xaxis\":{\"title\":{\"text\":\"Trial\"}},\"yaxis\":{\"title\":{\"text\":\"Objective Value\"}},\"template\":{\"data\":{\"histogram2dcontour\":[{\"type\":\"histogram2dcontour\",\"colorbar\":{\"outlinewidth\":0,\"ticks\":\"\"},\"colorscale\":[[0.0,\"#0d0887\"],[0.1111111111111111,\"#46039f\"],[0.2222222222222222,\"#7201a8\"],[0.3333333333333333,\"#9c179e\"],[0.4444444444444444,\"#bd3786\"],[0.5555555555555556,\"#d8576b\"],[0.6666666666666666,\"#ed7953\"],[0.7777777777777778,\"#fb9f3a\"],[0.8888888888888888,\"#fdca26\"],[1.0,\"#f0f921\"]]}],\"choropleth\":[{\"type\":\"choropleth\",\"colorbar\":{\"outlinewidth\":0,\"ticks\":\"\"}}],\"histogram2d\":[{\"type\":\"histogram2d\",\"colorbar\":{\"outlinewidth\":0,\"ticks\":\"\"},\"colorscale\":[[0.0,\"#0d0887\"],[0.1111111111111111,\"#46039f\"],[0.2222222222222222,\"#7201a8\"],[0.3333333333333333,\"#9c179e\"],[0.4444444444444444,\"#bd3786\"],[0.5555555555555556,\"#d8576b\"],[0.6666666666666666,\"#ed7953\"],[0.7777777777777778,\"#fb9f3a\"],[0.8888888888888888,\"#fdca26\"],[1.0,\"#f0f921\"]]}],\"heatmap\":[{\"type\":\"heatmap\",\"colorbar\":{\"outlinewidth\":0,\"ticks\":\"\"},\"colorscale\":[[0.0,\"#0d0887\"],[0.1111111111111111,\"#46039f\"],[0.2222222222222222,\"#7201a8\"],[0.3333333333333333,\"#9c179e\"],[0.4444444444444444,\"#bd3786\"],[0.5555555555555556,\"#d8576b\"],[0.6666666666666666,\"#ed7953\"],[0.7777777777777778,\"#fb9f3a\"],[0.8888888888888888,\"#fdca26\"],[1.0,\"#f0f921\"]]}],\"heatmapgl\":[{\"type\":\"heatmapgl\",\"colorbar\":{\"outlinewidth\":0,\"ticks\":\"\"},\"colorscale\":[[0.0,\"#0d0887\"],[0.1111111111111111,\"#46039f\"],[0.2222222222222222,\"#7201a8\"],[0.3333333333333333,\"#9c179e\"],[0.4444444444444444,\"#bd3786\"],[0.5555555555555556,\"#d8576b\"],[0.6666666666666666,\"#ed7953\"],[0.7777777777777778,\"#fb9f3a\"],[0.8888888888888888,\"#fdca26\"],[1.0,\"#f0f921\"]]}],\"contourcarpet\":[{\"type\":\"contourcarpet\",\"colorbar\":{\"outlinewidth\":0,\"ticks\":\"\"}}],\"contour\":[{\"type\":\"contour\",\"colorbar\":{\"outlinewidth\":0,\"ticks\":\"\"},\"colorscale\":[[0.0,\"#0d0887\"],[0.1111111111111111,\"#46039f\"],[0.2222222222222222,\"#7201a8\"],[0.3333333333333333,\"#9c179e\"],[0.4444444444444444,\"#bd3786\"],[0.5555555555555556,\"#d8576b\"],[0.6666666666666666,\"#ed7953\"],[0.7777777777777778,\"#fb9f3a\"],[0.8888888888888888,\"#fdca26\"],[1.0,\"#f0f921\"]]}],\"surface\":[{\"type\":\"surface\",\"colorbar\":{\"outlinewidth\":0,\"ticks\":\"\"},\"colorscale\":[[0.0,\"#0d0887\"],[0.1111111111111111,\"#46039f\"],[0.2222222222222222,\"#7201a8\"],[0.3333333333333333,\"#9c179e\"],[0.4444444444444444,\"#bd3786\"],[0.5555555555555556,\"#d8576b\"],[0.6666666666666666,\"#ed7953\"],[0.7777777777777778,\"#fb9f3a\"],[0.8888888888888888,\"#fdca26\"],[1.0,\"#f0f921\"]]}],\"mesh3d\":[{\"type\":\"mesh3d\",\"colorbar\":{\"outlinewidth\":0,\"ticks\":\"\"}}],\"scatter\":[{\"fillpattern\":{\"fillmode\":\"overlay\",\"size\":10,\"solidity\":0.2},\"type\":\"scatter\"}],\"parcoords\":[{\"type\":\"parcoords\",\"line\":{\"colorbar\":{\"outlinewidth\":0,\"ticks\":\"\"}}}],\"scatterpolargl\":[{\"type\":\"scatterpolargl\",\"marker\":{\"colorbar\":{\"outlinewidth\":0,\"ticks\":\"\"}}}],\"bar\":[{\"error_x\":{\"color\":\"#2a3f5f\"},\"error_y\":{\"color\":\"#2a3f5f\"},\"marker\":{\"line\":{\"color\":\"#E5ECF6\",\"width\":0.5},\"pattern\":{\"fillmode\":\"overlay\",\"size\":10,\"solidity\":0.2}},\"type\":\"bar\"}],\"scattergeo\":[{\"type\":\"scattergeo\",\"marker\":{\"colorbar\":{\"outlinewidth\":0,\"ticks\":\"\"}}}],\"scatterpolar\":[{\"type\":\"scatterpolar\",\"marker\":{\"colorbar\":{\"outlinewidth\":0,\"ticks\":\"\"}}}],\"histogram\":[{\"marker\":{\"pattern\":{\"fillmode\":\"overlay\",\"size\":10,\"solidity\":0.2}},\"type\":\"histogram\"}],\"scattergl\":[{\"type\":\"scattergl\",\"marker\":{\"colorbar\":{\"outlinewidth\":0,\"ticks\":\"\"}}}],\"scatter3d\":[{\"type\":\"scatter3d\",\"line\":{\"colorbar\":{\"outlinewidth\":0,\"ticks\":\"\"}},\"marker\":{\"colorbar\":{\"outlinewidth\":0,\"ticks\":\"\"}}}],\"scattermapbox\":[{\"type\":\"scattermapbox\",\"marker\":{\"colorbar\":{\"outlinewidth\":0,\"ticks\":\"\"}}}],\"scatterternary\":[{\"type\":\"scatterternary\",\"marker\":{\"colorbar\":{\"outlinewidth\":0,\"ticks\":\"\"}}}],\"scattercarpet\":[{\"type\":\"scattercarpet\",\"marker\":{\"colorbar\":{\"outlinewidth\":0,\"ticks\":\"\"}}}],\"carpet\":[{\"aaxis\":{\"endlinecolor\":\"#2a3f5f\",\"gridcolor\":\"white\",\"linecolor\":\"white\",\"minorgridcolor\":\"white\",\"startlinecolor\":\"#2a3f5f\"},\"baxis\":{\"endlinecolor\":\"#2a3f5f\",\"gridcolor\":\"white\",\"linecolor\":\"white\",\"minorgridcolor\":\"white\",\"startlinecolor\":\"#2a3f5f\"},\"type\":\"carpet\"}],\"table\":[{\"cells\":{\"fill\":{\"color\":\"#EBF0F8\"},\"line\":{\"color\":\"white\"}},\"header\":{\"fill\":{\"color\":\"#C8D4E3\"},\"line\":{\"color\":\"white\"}},\"type\":\"table\"}],\"barpolar\":[{\"marker\":{\"line\":{\"color\":\"#E5ECF6\",\"width\":0.5},\"pattern\":{\"fillmode\":\"overlay\",\"size\":10,\"solidity\":0.2}},\"type\":\"barpolar\"}],\"pie\":[{\"automargin\":true,\"type\":\"pie\"}]},\"layout\":{\"autotypenumbers\":\"strict\",\"colorway\":[\"#636efa\",\"#EF553B\",\"#00cc96\",\"#ab63fa\",\"#FFA15A\",\"#19d3f3\",\"#FF6692\",\"#B6E880\",\"#FF97FF\",\"#FECB52\"],\"font\":{\"color\":\"#2a3f5f\"},\"hovermode\":\"closest\",\"hoverlabel\":{\"align\":\"left\"},\"paper_bgcolor\":\"white\",\"plot_bgcolor\":\"#E5ECF6\",\"polar\":{\"bgcolor\":\"#E5ECF6\",\"angularaxis\":{\"gridcolor\":\"white\",\"linecolor\":\"white\",\"ticks\":\"\"},\"radialaxis\":{\"gridcolor\":\"white\",\"linecolor\":\"white\",\"ticks\":\"\"}},\"ternary\":{\"bgcolor\":\"#E5ECF6\",\"aaxis\":{\"gridcolor\":\"white\",\"linecolor\":\"white\",\"ticks\":\"\"},\"baxis\":{\"gridcolor\":\"white\",\"linecolor\":\"white\",\"ticks\":\"\"},\"caxis\":{\"gridcolor\":\"white\",\"linecolor\":\"white\",\"ticks\":\"\"}},\"coloraxis\":{\"colorbar\":{\"outlinewidth\":0,\"ticks\":\"\"}},\"colorscale\":{\"sequential\":[[0.0,\"#0d0887\"],[0.1111111111111111,\"#46039f\"],[0.2222222222222222,\"#7201a8\"],[0.3333333333333333,\"#9c179e\"],[0.4444444444444444,\"#bd3786\"],[0.5555555555555556,\"#d8576b\"],[0.6666666666666666,\"#ed7953\"],[0.7777777777777778,\"#fb9f3a\"],[0.8888888888888888,\"#fdca26\"],[1.0,\"#f0f921\"]],\"sequentialminus\":[[0.0,\"#0d0887\"],[0.1111111111111111,\"#46039f\"],[0.2222222222222222,\"#7201a8\"],[0.3333333333333333,\"#9c179e\"],[0.4444444444444444,\"#bd3786\"],[0.5555555555555556,\"#d8576b\"],[0.6666666666666666,\"#ed7953\"],[0.7777777777777778,\"#fb9f3a\"],[0.8888888888888888,\"#fdca26\"],[1.0,\"#f0f921\"]],\"diverging\":[[0,\"#8e0152\"],[0.1,\"#c51b7d\"],[0.2,\"#de77ae\"],[0.3,\"#f1b6da\"],[0.4,\"#fde0ef\"],[0.5,\"#f7f7f7\"],[0.6,\"#e6f5d0\"],[0.7,\"#b8e186\"],[0.8,\"#7fbc41\"],[0.9,\"#4d9221\"],[1,\"#276419\"]]},\"xaxis\":{\"gridcolor\":\"white\",\"linecolor\":\"white\",\"ticks\":\"\",\"title\":{\"standoff\":15},\"zerolinecolor\":\"white\",\"automargin\":true,\"zerolinewidth\":2},\"yaxis\":{\"gridcolor\":\"white\",\"linecolor\":\"white\",\"ticks\":\"\",\"title\":{\"standoff\":15},\"zerolinecolor\":\"white\",\"automargin\":true,\"zerolinewidth\":2},\"scene\":{\"xaxis\":{\"backgroundcolor\":\"#E5ECF6\",\"gridcolor\":\"white\",\"linecolor\":\"white\",\"showbackground\":true,\"ticks\":\"\",\"zerolinecolor\":\"white\",\"gridwidth\":2},\"yaxis\":{\"backgroundcolor\":\"#E5ECF6\",\"gridcolor\":\"white\",\"linecolor\":\"white\",\"showbackground\":true,\"ticks\":\"\",\"zerolinecolor\":\"white\",\"gridwidth\":2},\"zaxis\":{\"backgroundcolor\":\"#E5ECF6\",\"gridcolor\":\"white\",\"linecolor\":\"white\",\"showbackground\":true,\"ticks\":\"\",\"zerolinecolor\":\"white\",\"gridwidth\":2}},\"shapedefaults\":{\"line\":{\"color\":\"#2a3f5f\"}},\"annotationdefaults\":{\"arrowcolor\":\"#2a3f5f\",\"arrowhead\":0,\"arrowwidth\":1},\"geo\":{\"bgcolor\":\"white\",\"landcolor\":\"#E5ECF6\",\"subunitcolor\":\"white\",\"showland\":true,\"showlakes\":true,\"lakecolor\":\"white\"},\"title\":{\"x\":0.05},\"mapbox\":{\"style\":\"light\"}}}},                        {\"responsive\": true}                    ).then(function(){\n",
       "                            \n",
       "var gd = document.getElementById('23bbc26b-2269-4888-9ab0-178d819d6185');\n",
       "var x = new MutationObserver(function (mutations, observer) {{\n",
       "        var display = window.getComputedStyle(gd).display;\n",
       "        if (!display || display === 'none') {{\n",
       "            console.log([gd, 'removed!']);\n",
       "            Plotly.purge(gd);\n",
       "            observer.disconnect();\n",
       "        }}\n",
       "}});\n",
       "\n",
       "// Listen for the removal of the full notebook cells\n",
       "var notebookContainer = gd.closest('#notebook-container');\n",
       "if (notebookContainer) {{\n",
       "    x.observe(notebookContainer, {childList: true});\n",
       "}}\n",
       "\n",
       "// Listen for the clearing of the current output cell\n",
       "var outputEl = gd.closest('.output');\n",
       "if (outputEl) {{\n",
       "    x.observe(outputEl, {childList: true});\n",
       "}}\n",
       "\n",
       "                        })                };                });            </script>        </div>"
      ]
     },
     "metadata": {},
     "output_type": "display_data"
    }
   ],
   "source": [
    "plot_optimization_history(study_gb)"
   ]
  },
  {
   "cell_type": "code",
   "execution_count": 67,
   "metadata": {},
   "outputs": [],
   "source": [
    "low_learning_rate = 0.01\n",
    "params = study_gb.best_params\n",
    "params['learning_rate'] = low_learning_rate\n",
    "model_stage2 = xgb.train(params=params, dtrain=dtrain, \n",
    "                         num_boost_round=5000,\n",
    "                         evals=[(dtrain, 'train'), (dvalid, 'valid')],\n",
    "                         early_stopping_rounds=50,\n",
    "                         verbose_eval=0)"
   ]
  },
  {
   "cell_type": "markdown",
   "metadata": {},
   "source": [
    "Find the best number of boosting rounds."
   ]
  },
  {
   "cell_type": "code",
   "execution_count": 68,
   "metadata": {},
   "outputs": [
    {
     "name": "stdout",
     "output_type": "stream",
     "text": [
      "Stage 2\n",
      "best score = 2.921933889389038\n",
      "best boosting round: 1939\n"
     ]
    }
   ],
   "source": [
    "def score_model(model: xgb.core.Booster, dmat: xgb.core.DMatrix) -> float:\n",
    "    y_true = dmat.get_label() \n",
    "    y_pred = model.predict(dmat) \n",
    "    return mean_absolute_error(y_true, y_pred)\n",
    "\n",
    "print('Stage 2')\n",
    "print(f'best score = {score_model(model_stage2, dvalid)}')\n",
    "print(f'best boosting round: {model_stage2.best_iteration}')"
   ]
  },
  {
   "cell_type": "code",
   "execution_count": 69,
   "metadata": {},
   "outputs": [],
   "source": [
    "model_final = xgb.train(params=study_gb.best_params, dtrain=dtrainvalid, \n",
    "                        num_boost_round=model_stage2.best_iteration,\n",
    "                        verbose_eval=0)"
   ]
  },
  {
   "cell_type": "markdown",
   "metadata": {},
   "source": [
    "Evaluation of final model."
   ]
  },
  {
   "cell_type": "code",
   "execution_count": 70,
   "metadata": {},
   "outputs": [
    {
     "name": "stdout",
     "output_type": "stream",
     "text": [
      "Final Model\n",
      "test score = 3.158318519592285\n",
      "Parameters\n",
      "tree_method : hist\n",
      "learning_rate : 0.01\n",
      "reg_lambda : 0.32254658418287513\n",
      "max_depth : 10\n",
      "min_child_weight : 22\n",
      "gamma : 0.024776407080566634\n",
      "subsample : 0.7717851809636164\n",
      "colsample_bynode : 0.9487971307487205\n",
      "colsample_bytree : 0.9766256641680159\n",
      "colsample_bylevel : 0.969728517112634\n",
      "num_boost_round: 1939\n"
     ]
    }
   ],
   "source": [
    "print('Final Model')\n",
    "print(f'test score = {score_model(model_final, dtest)}')\n",
    "print('Parameters')\n",
    "for i, j in params.items():\n",
    "    print(i, ':', j)\n",
    "print(f'num_boost_round: {model_stage2.best_iteration}')"
   ]
  },
  {
   "cell_type": "markdown",
   "metadata": {},
   "source": [
    "Feature importance: By weight"
   ]
  },
  {
   "cell_type": "code",
   "execution_count": 71,
   "metadata": {},
   "outputs": [
    {
     "data": {
      "text/plain": [
       "{'cement': 2974.0,\n",
       " 'blast_furnace_slag': 1475.0,\n",
       " 'fly_ash': 1162.0,\n",
       " 'water': 2729.0,\n",
       " 'superplasticizer': 2355.0,\n",
       " 'coarse_aggregate': 2034.0,\n",
       " 'fine_aggregate': 2188.0,\n",
       " 'age': 2776.0,\n",
       " 'cement_to_water_ratio': 2848.0,\n",
       " 'fine_aggregate_to_water_ratio': 2651.0,\n",
       " 'coarse_aggregate_to_water_ratio': 2336.0}"
      ]
     },
     "execution_count": 71,
     "metadata": {},
     "output_type": "execute_result"
    }
   ],
   "source": [
    "model_final.get_score(importance_type='weight')"
   ]
  },
  {
   "cell_type": "code",
   "execution_count": 72,
   "metadata": {},
   "outputs": [
    {
     "data": {
      "image/png": "[encoded data removed]",
      "text/plain": [
       "<Figure size 1000x600 with 1 Axes>"
      ]
     },
     "metadata": {},
     "output_type": "display_data"
    }
   ],
   "source": [
    "# Fit the model with the best parameters from the study\n",
    "model = XGBRegressor(**study_gb.best_params, enable_categorical=True)\n",
    "model = xgb.train(params=study_gb.best_params, dtrain=dtrainvalid, \n",
    "                        num_boost_round=model_stage2.best_iteration,\n",
    "                        verbose_eval=0)\n",
    "\n",
    "# Make predictions on the test set\n",
    "y_pred = model.predict(dtest)\n",
    "\n",
    "# Plot the predictions vs actual values\n",
    "plt.figure(figsize=(10, 6))\n",
    "plt.scatter(y_test, y_pred, alpha=0.5)\n",
    "plt.plot([y_test.min(), y_test.max()], [y_test.min(), y_test.max()], 'k--', lw=2)\n",
    "plt.xlabel('Actual')\n",
    "plt.ylabel('Predicted')\n",
    "plt.title('Predictions vs Actual Values')\n",
    "plt.show()"
   ]
  },
  {
   "cell_type": "code",
   "execution_count": 73,
   "metadata": {},
   "outputs": [
    {
     "data": {
      "text/plain": [
       "0.9104281619831043"
      ]
     },
     "execution_count": 73,
     "metadata": {},
     "output_type": "execute_result"
    }
   ],
   "source": [
    "r2_score(y_test, y_pred)"
   ]
  },
  {
   "cell_type": "markdown",
   "metadata": {},
   "source": [
    "It can be seen that the model is fitting nicely. From the coefficient of determination, 91% of variance can be explained using the model. \\\n",
    "This is an improvement of 3% from using a base model without hyperparameter optimization. \\\n",
    "Extreme overestimation/underestimation is limted."
   ]
  },
  {
   "cell_type": "code",
   "execution_count": 74,
   "metadata": {},
   "outputs": [
    {
     "data": {
      "image/png": "[encoded data removed]",
      "text/plain": [
       "<Figure size 640x480 with 1 Axes>"
      ]
     },
     "metadata": {},
     "output_type": "display_data"
    }
   ],
   "source": [
    "xgb.plot_importance(model, importance_type='weight', max_num_features=10)\n",
    "plt.show()"
   ]
  },
  {
   "cell_type": "code",
   "execution_count": 75,
   "metadata": {},
   "outputs": [],
   "source": [
    "cv_results = xgb.cv(params = study_gb.best_params,\n",
    "        dtrain = dtest,\n",
    "        num_boost_round=model_stage2.best_iteration,\n",
    "        metrics = 'mape',\n",
    "        seed = 42)"
   ]
  },
  {
   "cell_type": "code",
   "execution_count": 76,
   "metadata": {},
   "outputs": [
    {
     "data": {
      "application/vnd.microsoft.datawrangler.viewer.v0+json": {
       "columns": [
        {
         "name": "index",
         "rawType": "int64",
         "type": "integer"
        },
        {
         "name": "train-mape-mean",
         "rawType": "float64",
         "type": "float"
        },
        {
         "name": "train-mape-std",
         "rawType": "float64",
         "type": "float"
        },
        {
         "name": "test-mape-mean",
         "rawType": "float64",
         "type": "float"
        },
        {
         "name": "test-mape-std",
         "rawType": "float64",
         "type": "float"
        }
       ],
       "conversionMethod": "pd.DataFrame",
       "ref": "7519827d-9c64-477d-adcc-2404f170d501",
       "rows": [
        [
         "0",
         "0.5011764286439017",
         "0.028612861140430094",
         "0.5102993106177657",
         "0.039415647439539195"
        ],
        [
         "1",
         "0.4029864040831346",
         "0.01940062097869361",
         "0.42352362874094723",
         "0.030185359320053753"
        ],
        [
         "2",
         "0.3554412433872964",
         "0.022013735877568733",
         "0.38533675636981796",
         "0.028906417273720505"
        ],
        [
         "3",
         "0.31106393522714526",
         "0.024547796052813698",
         "0.33774530715720275",
         "0.021276460900665272"
        ],
        [
         "4",
         "0.28122659902484576",
         "0.01851054561179474",
         "0.3068405629339906",
         "0.019241234810263325"
        ],
        [
         "5",
         "0.25701671729227865",
         "0.021644678530824926",
         "0.2859048340270263",
         "0.019616934400828418"
        ],
        [
         "6",
         "0.23289964293000395",
         "0.01953667176039817",
         "0.27134868116202093",
         "0.017273540867412528"
        ],
        [
         "7",
         "0.21671564357892126",
         "0.02012571410098462",
         "0.26007395864055866",
         "0.02096596661036712"
        ],
        [
         "8",
         "0.204344055968008",
         "0.016863173241562838",
         "0.2512147624133705",
         "0.019423515043077117"
        ],
        [
         "9",
         "0.19648563480992184",
         "0.016842720455984672",
         "0.2468618740426218",
         "0.022394292793698162"
        ],
        [
         "10",
         "0.1882666504070248",
         "0.013310977762872375",
         "0.24173695599012165",
         "0.017589553940145233"
        ],
        [
         "11",
         "0.1847137662634902",
         "0.01365120648630616",
         "0.23652205820663083",
         "0.01442200961738301"
        ],
        [
         "12",
         "0.17939194230228797",
         "0.0137316584512253",
         "0.22993918624326684",
         "0.017647389746542536"
        ],
        [
         "13",
         "0.17188959383899416",
         "0.013953061078584256",
         "0.22733749428627825",
         "0.017297753400683822"
        ],
        [
         "14",
         "0.16819958277703584",
         "0.015817022535776878",
         "0.22108874464157033",
         "0.021126744095009708"
        ],
        [
         "15",
         "0.16421333070809463",
         "0.01551139822278049",
         "0.22052835649121771",
         "0.020416994898767728"
        ],
        [
         "16",
         "0.1596132704919712",
         "0.016459482712852868",
         "0.21692126108216567",
         "0.021275787269798348"
        ],
        [
         "17",
         "0.1558996693014555",
         "0.012646025571607192",
         "0.21738146728349916",
         "0.02093365911865059"
        ],
        [
         "18",
         "0.15382656993423235",
         "0.00963826986909912",
         "0.21800147860809313",
         "0.0214579604690727"
        ],
        [
         "19",
         "0.1502780748938556",
         "0.009072284350958925",
         "0.21484209667557677",
         "0.02109786946328221"
        ],
        [
         "20",
         "0.14874335410506237",
         "0.010036842205512873",
         "0.2154245074056579",
         "0.018538502929830128"
        ],
        [
         "21",
         "0.1457337380971103",
         "0.008460659394840824",
         "0.21857113526229968",
         "0.018685031444766926"
        ],
        [
         "22",
         "0.14347969483650938",
         "0.006914695099858171",
         "0.21888742054786228",
         "0.01817423672972685"
        ],
        [
         "23",
         "0.14081769086251694",
         "0.0077211516241420634",
         "0.21466829013400743",
         "0.015471683150828367"
        ],
        [
         "24",
         "0.13952317402219333",
         "0.008273180865111612",
         "0.21423723648591167",
         "0.016677226519876555"
        ],
        [
         "25",
         "0.13728104770444235",
         "0.010262174194263814",
         "0.21405477719277974",
         "0.016334752932045137"
        ],
        [
         "26",
         "0.1336422890661962",
         "0.01005492254490071",
         "0.212428306227908",
         "0.016923845590073105"
        ],
        [
         "27",
         "0.12989774517229122",
         "0.008928242424541464",
         "0.20818283100800358",
         "0.01650269179529349"
        ],
        [
         "28",
         "0.12753946431282692",
         "0.007783669644064972",
         "0.20453013002437612",
         "0.014722943792799167"
        ],
        [
         "29",
         "0.1259215887687802",
         "0.007882560020583554",
         "0.20410131264050432",
         "0.015354152878085461"
        ],
        [
         "30",
         "0.12517821895421535",
         "0.0060287245662131225",
         "0.20274702522809732",
         "0.014064339744453877"
        ],
        [
         "31",
         "0.1261332535092625",
         "0.006980765844479005",
         "0.2053427569755647",
         "0.014132464604564719"
        ],
        [
         "32",
         "0.12519920596804587",
         "0.006004059955468824",
         "0.20486900668648278",
         "0.01628128578200383"
        ],
        [
         "33",
         "0.12426502066550532",
         "0.006835559151901474",
         "0.20515389975108622",
         "0.01818876010249541"
        ],
        [
         "34",
         "0.12093326015955204",
         "0.004686546306026676",
         "0.2028604271192805",
         "0.01380374208277328"
        ],
        [
         "35",
         "0.11879065988994307",
         "0.005781897154774103",
         "0.20040023449322275",
         "0.015870634878810266"
        ],
        [
         "36",
         "0.11976753544369916",
         "0.0065747757346673276",
         "0.20035061166339216",
         "0.017621712033298386"
        ],
        [
         "37",
         "0.11874317905137306",
         "0.005457960428252286",
         "0.20170468096485175",
         "0.016323975854697824"
        ],
        [
         "38",
         "0.1163653302864706",
         "0.0038813424392621742",
         "0.20194846225620422",
         "0.015725428249102055"
        ],
        [
         "39",
         "0.1145802958417642",
         "0.0035708518848533016",
         "0.20106717809813493",
         "0.016298389428013014"
        ],
        [
         "40",
         "0.11430554820357232",
         "0.0037611509681066985",
         "0.2017659375987122",
         "0.017138837098869594"
        ],
        [
         "41",
         "0.11386308946269792",
         "0.0034089523085931816",
         "0.20167503680388457",
         "0.018211678763660272"
        ],
        [
         "42",
         "0.11296363618699001",
         "0.0029827451901549397",
         "0.20168446342545995",
         "0.016747994902094963"
        ],
        [
         "43",
         "0.11237298702980253",
         "0.004293633417483696",
         "0.20106755150821773",
         "0.019924710481810173"
        ],
        [
         "44",
         "0.11132040834636898",
         "0.004257925166816686",
         "0.19927267657198713",
         "0.019946125486741517"
        ],
        [
         "45",
         "0.11032892758502703",
         "0.005354607956753634",
         "0.2016457604568204",
         "0.021818143219715428"
        ],
        [
         "46",
         "0.10898795519623279",
         "0.004459686775245984",
         "0.19993301574251077",
         "0.020490211724516625"
        ],
        [
         "47",
         "0.10763548161305685",
         "0.0040581514488135925",
         "0.20112884218927082",
         "0.02116220519125007"
        ],
        [
         "48",
         "0.1062636104099272",
         "0.0029294290874712385",
         "0.2029811144009136",
         "0.019791787296378604"
        ],
        [
         "49",
         "0.10428006419765028",
         "0.0031278589642515574",
         "0.2023258990323168",
         "0.017489613106752837"
        ]
       ],
       "shape": {
        "columns": 4,
        "rows": 1939
       }
      },
      "text/html": [
       "<div>\n",
       "<style scoped>\n",
       "    .dataframe tbody tr th:only-of-type {\n",
       "        vertical-align: middle;\n",
       "    }\n",
       "\n",
       "    .dataframe tbody tr th {\n",
       "        vertical-align: top;\n",
       "    }\n",
       "\n",
       "    .dataframe thead th {\n",
       "        text-align: right;\n",
       "    }\n",
       "</style>\n",
       "<table border=\"1\" class=\"dataframe\">\n",
       "  <thead>\n",
       "    <tr style=\"text-align: right;\">\n",
       "      <th></th>\n",
       "      <th>train-mape-mean</th>\n",
       "      <th>train-mape-std</th>\n",
       "      <th>test-mape-mean</th>\n",
       "      <th>test-mape-std</th>\n",
       "    </tr>\n",
       "  </thead>\n",
       "  <tbody>\n",
       "    <tr>\n",
       "      <th>0</th>\n",
       "      <td>0.501176</td>\n",
       "      <td>0.028613</td>\n",
       "      <td>0.510299</td>\n",
       "      <td>0.039416</td>\n",
       "    </tr>\n",
       "    <tr>\n",
       "      <th>1</th>\n",
       "      <td>0.402986</td>\n",
       "      <td>0.019401</td>\n",
       "      <td>0.423524</td>\n",
       "      <td>0.030185</td>\n",
       "    </tr>\n",
       "    <tr>\n",
       "      <th>2</th>\n",
       "      <td>0.355441</td>\n",
       "      <td>0.022014</td>\n",
       "      <td>0.385337</td>\n",
       "      <td>0.028906</td>\n",
       "    </tr>\n",
       "    <tr>\n",
       "      <th>3</th>\n",
       "      <td>0.311064</td>\n",
       "      <td>0.024548</td>\n",
       "      <td>0.337745</td>\n",
       "      <td>0.021276</td>\n",
       "    </tr>\n",
       "    <tr>\n",
       "      <th>4</th>\n",
       "      <td>0.281227</td>\n",
       "      <td>0.018511</td>\n",
       "      <td>0.306841</td>\n",
       "      <td>0.019241</td>\n",
       "    </tr>\n",
       "    <tr>\n",
       "      <th>...</th>\n",
       "      <td>...</td>\n",
       "      <td>...</td>\n",
       "      <td>...</td>\n",
       "      <td>...</td>\n",
       "    </tr>\n",
       "    <tr>\n",
       "      <th>1934</th>\n",
       "      <td>0.012004</td>\n",
       "      <td>0.002300</td>\n",
       "      <td>0.213615</td>\n",
       "      <td>0.015441</td>\n",
       "    </tr>\n",
       "    <tr>\n",
       "      <th>1935</th>\n",
       "      <td>0.011957</td>\n",
       "      <td>0.002302</td>\n",
       "      <td>0.213733</td>\n",
       "      <td>0.015531</td>\n",
       "    </tr>\n",
       "    <tr>\n",
       "      <th>1936</th>\n",
       "      <td>0.011935</td>\n",
       "      <td>0.002361</td>\n",
       "      <td>0.213589</td>\n",
       "      <td>0.015502</td>\n",
       "    </tr>\n",
       "    <tr>\n",
       "      <th>1937</th>\n",
       "      <td>0.012022</td>\n",
       "      <td>0.002908</td>\n",
       "      <td>0.213705</td>\n",
       "      <td>0.015496</td>\n",
       "    </tr>\n",
       "    <tr>\n",
       "      <th>1938</th>\n",
       "      <td>0.011890</td>\n",
       "      <td>0.002729</td>\n",
       "      <td>0.213889</td>\n",
       "      <td>0.015601</td>\n",
       "    </tr>\n",
       "  </tbody>\n",
       "</table>\n",
       "<p>1939 rows × 4 columns</p>\n",
       "</div>"
      ],
      "text/plain": [
       "      train-mape-mean  train-mape-std  test-mape-mean  test-mape-std\n",
       "0            0.501176        0.028613        0.510299       0.039416\n",
       "1            0.402986        0.019401        0.423524       0.030185\n",
       "2            0.355441        0.022014        0.385337       0.028906\n",
       "3            0.311064        0.024548        0.337745       0.021276\n",
       "4            0.281227        0.018511        0.306841       0.019241\n",
       "...               ...             ...             ...            ...\n",
       "1934         0.012004        0.002300        0.213615       0.015441\n",
       "1935         0.011957        0.002302        0.213733       0.015531\n",
       "1936         0.011935        0.002361        0.213589       0.015502\n",
       "1937         0.012022        0.002908        0.213705       0.015496\n",
       "1938         0.011890        0.002729        0.213889       0.015601\n",
       "\n",
       "[1939 rows x 4 columns]"
      ]
     },
     "execution_count": 76,
     "metadata": {},
     "output_type": "execute_result"
    }
   ],
   "source": [
    "cv_results"
   ]
  },
  {
   "cell_type": "markdown",
   "metadata": {},
   "source": [
    "Export the model to be used in production."
   ]
  },
  {
   "cell_type": "code",
   "execution_count": 79,
   "metadata": {},
   "outputs": [],
   "source": [
    "filepath = '/workspaces/2025SE-Mike.N-HSC-AT2/model/xgboost.sav'\n",
    "pickle.dump(model_final, open(filepath, 'wb'))"
   ]
  }
 ],
 "metadata": {
  "kernelspec": {
   "display_name": "Python 3",
   "language": "python",
   "name": "python3"
  },
  "language_info": {
   "codemirror_mode": {
    "name": "ipython",
    "version": 3
   },
   "file_extension": ".py",
   "mimetype": "text/x-python",
   "name": "python",
   "nbconvert_exporter": "python",
   "pygments_lexer": "ipython3",
   "version": "3.12.1"
  }
 },
 "nbformat": 4,
 "nbformat_minor": 2
}
