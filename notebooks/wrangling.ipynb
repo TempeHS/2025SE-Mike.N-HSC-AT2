{
 "cells": [
  {
   "cell_type": "code",
   "execution_count": 1,
   "metadata": {},
   "outputs": [],
   "source": [
    "#Dependencies\n",
    "import matplotlib.pyplot as plt\n",
    "from matplotlib.legend_handler import HandlerPathCollection\n",
    "from sklearn.preprocessing import RobustScaler, StandardScaler, MinMaxScaler\n",
    "from sklearn.model_selection import train_test_split\n",
    "from sklearn.decomposition import PCA\n",
    "from sklearn.neighbors import LocalOutlierFactor\n",
    "from sklearn.impute import SimpleImputer\n",
    "from sklearn.pipeline import Pipeline\n",
    "import pandas as pd\n",
    "import numpy as np"
   ]
  },
  {
   "cell_type": "code",
   "execution_count": 2,
   "metadata": {},
   "outputs": [],
   "source": [
    "X_full = pd.read_csv('/workspaces/2025SE-Mike.N-HSC-AT2/data/concrete_engineered.csv')"
   ]
  },
  {
   "cell_type": "code",
   "execution_count": 3,
   "metadata": {},
   "outputs": [
    {
     "data": {
      "text/plain": [
       "(1030, 12)"
      ]
     },
     "execution_count": 3,
     "metadata": {},
     "output_type": "execute_result"
    }
   ],
   "source": [
    "X_full.shape"
   ]
  },
  {
   "cell_type": "markdown",
   "metadata": {},
   "source": [
    "Choosing features. Categorical variables with high cardinality are discarded."
   ]
  },
  {
   "cell_type": "code",
   "execution_count": 4,
   "metadata": {},
   "outputs": [
    {
     "name": "stdout",
     "output_type": "stream",
     "text": [
      "[] ['cement', 'blast_furnace_slag', 'fly_ash', 'water', 'superplasticizer', 'coarse_aggregate', 'fine_aggregate', 'age', 'strength', 'cement_to_water_ratio', 'fine_aggregate_to_water_ratio', 'coarse_aggregate_to_water_ratio']\n"
     ]
    }
   ],
   "source": [
    "# Select categorical columns\n",
    "categorical_cols = [cname for cname in X_full.columns if\n",
    "                    X_full[cname].nunique() < 10 and \n",
    "                    X_full[cname].dtype == \"object\"]\n",
    "\n",
    "# Select numerical columns\n",
    "numerical_cols = [cname for cname in X_full.columns if \n",
    "                X_full[cname].dtype in ['int64', 'float64']]\n",
    "\n",
    "features = categorical_cols + numerical_cols\n",
    "print(categorical_cols, numerical_cols)\n"
   ]
  },
  {
   "cell_type": "markdown",
   "metadata": {},
   "source": [
    "No categorical features, so every feature gets treated in the same manner."
   ]
  },
  {
   "cell_type": "code",
   "execution_count": 5,
   "metadata": {},
   "outputs": [
    {
     "data": {
      "application/vnd.microsoft.datawrangler.viewer.v0+json": {
       "columns": [
        {
         "name": "index",
         "rawType": "object",
         "type": "string"
        },
        {
         "name": "cement",
         "rawType": "float64",
         "type": "float"
        },
        {
         "name": "blast_furnace_slag",
         "rawType": "float64",
         "type": "float"
        },
        {
         "name": "fly_ash",
         "rawType": "float64",
         "type": "float"
        },
        {
         "name": "water",
         "rawType": "float64",
         "type": "float"
        },
        {
         "name": "superplasticizer",
         "rawType": "float64",
         "type": "float"
        },
        {
         "name": "coarse_aggregate",
         "rawType": "float64",
         "type": "float"
        },
        {
         "name": "fine_aggregate",
         "rawType": "float64",
         "type": "float"
        },
        {
         "name": "age",
         "rawType": "float64",
         "type": "float"
        },
        {
         "name": "strength",
         "rawType": "float64",
         "type": "float"
        },
        {
         "name": "cement_to_water_ratio",
         "rawType": "float64",
         "type": "float"
        },
        {
         "name": "fine_aggregate_to_water_ratio",
         "rawType": "float64",
         "type": "float"
        },
        {
         "name": "coarse_aggregate_to_water_ratio",
         "rawType": "float64",
         "type": "float"
        }
       ],
       "conversionMethod": "pd.DataFrame",
       "ref": "43031aa5-0072-4334-936d-5516f01d8d21",
       "rows": [
        [
         "count",
         "1030.0",
         "1030.0",
         "1030.0",
         "1030.0",
         "1030.0",
         "1030.0",
         "1030.0",
         "1030.0",
         "1030.0",
         "1030.0",
         "1030.0",
         "1030.0"
        ],
        [
         "mean",
         "281.16563106796116",
         "73.89548543689321",
         "54.1871359223301",
         "181.56635922330096",
         "6.203111650485437",
         "972.9185922330097",
         "773.5788834951456",
         "45.662135922330094",
         "35.8178358261136",
         "1.5782748320286322",
         "4.344762785347415",
         "5.443180931531625"
        ],
        [
         "std",
         "104.5071416428718",
         "86.27910364316895",
         "63.99646938186508",
         "21.355567066911522",
         "5.973491650590111",
         "77.75381809178927",
         "80.1754273990239",
         "63.16991158103249",
         "16.705679174867946",
         "0.6481050736735129",
         "0.8249082282510165",
         "0.8429658196712854"
        ],
        [
         "min",
         "102.0",
         "0.0",
         "0.0",
         "121.75",
         "0.0",
         "801.0",
         "594.0",
         "1.0",
         "2.331807832",
         "0.53125",
         "2.6052631578947367",
         "3.4534412955465585"
        ],
        [
         "25%",
         "192.375",
         "0.0",
         "0.0",
         "164.9",
         "0.0",
         "932.0",
         "730.95",
         "7.0",
         "23.707115153",
         "1.069502379413665",
         "3.888349514563106",
         "4.830208333333333"
        ],
        [
         "50%",
         "272.9",
         "22.0",
         "0.0",
         "185.0",
         "6.35",
         "968.0",
         "779.51",
         "28.0",
         "34.44277358",
         "1.480717643012725",
         "4.299479166666667",
         "5.451803984921917"
        ],
        [
         "75%",
         "350.0",
         "142.95",
         "118.27",
         "192.0",
         "10.16",
         "1029.4",
         "824.0",
         "56.0",
         "46.13628654",
         "1.875",
         "4.791273184789526",
         "5.974522292993631"
        ],
        [
         "max",
         "540.0",
         "359.4",
         "200.1",
         "247.0",
         "32.2",
         "1145.0",
         "992.6",
         "365.0",
         "82.5992248",
         "3.746826516220028",
         "7.840442338072671",
         "8.695687885010267"
        ]
       ],
       "shape": {
        "columns": 12,
        "rows": 8
       }
      },
      "text/html": [
       "<div>\n",
       "<style scoped>\n",
       "    .dataframe tbody tr th:only-of-type {\n",
       "        vertical-align: middle;\n",
       "    }\n",
       "\n",
       "    .dataframe tbody tr th {\n",
       "        vertical-align: top;\n",
       "    }\n",
       "\n",
       "    .dataframe thead th {\n",
       "        text-align: right;\n",
       "    }\n",
       "</style>\n",
       "<table border=\"1\" class=\"dataframe\">\n",
       "  <thead>\n",
       "    <tr style=\"text-align: right;\">\n",
       "      <th></th>\n",
       "      <th>cement</th>\n",
       "      <th>blast_furnace_slag</th>\n",
       "      <th>fly_ash</th>\n",
       "      <th>water</th>\n",
       "      <th>superplasticizer</th>\n",
       "      <th>coarse_aggregate</th>\n",
       "      <th>fine_aggregate</th>\n",
       "      <th>age</th>\n",
       "      <th>strength</th>\n",
       "      <th>cement_to_water_ratio</th>\n",
       "      <th>fine_aggregate_to_water_ratio</th>\n",
       "      <th>coarse_aggregate_to_water_ratio</th>\n",
       "    </tr>\n",
       "  </thead>\n",
       "  <tbody>\n",
       "    <tr>\n",
       "      <th>count</th>\n",
       "      <td>1030.000000</td>\n",
       "      <td>1030.000000</td>\n",
       "      <td>1030.000000</td>\n",
       "      <td>1030.000000</td>\n",
       "      <td>1030.000000</td>\n",
       "      <td>1030.000000</td>\n",
       "      <td>1030.000000</td>\n",
       "      <td>1030.000000</td>\n",
       "      <td>1030.000000</td>\n",
       "      <td>1030.000000</td>\n",
       "      <td>1030.000000</td>\n",
       "      <td>1030.000000</td>\n",
       "    </tr>\n",
       "    <tr>\n",
       "      <th>mean</th>\n",
       "      <td>281.165631</td>\n",
       "      <td>73.895485</td>\n",
       "      <td>54.187136</td>\n",
       "      <td>181.566359</td>\n",
       "      <td>6.203112</td>\n",
       "      <td>972.918592</td>\n",
       "      <td>773.578883</td>\n",
       "      <td>45.662136</td>\n",
       "      <td>35.817836</td>\n",
       "      <td>1.578275</td>\n",
       "      <td>4.344763</td>\n",
       "      <td>5.443181</td>\n",
       "    </tr>\n",
       "    <tr>\n",
       "      <th>std</th>\n",
       "      <td>104.507142</td>\n",
       "      <td>86.279104</td>\n",
       "      <td>63.996469</td>\n",
       "      <td>21.355567</td>\n",
       "      <td>5.973492</td>\n",
       "      <td>77.753818</td>\n",
       "      <td>80.175427</td>\n",
       "      <td>63.169912</td>\n",
       "      <td>16.705679</td>\n",
       "      <td>0.648105</td>\n",
       "      <td>0.824908</td>\n",
       "      <td>0.842966</td>\n",
       "    </tr>\n",
       "    <tr>\n",
       "      <th>min</th>\n",
       "      <td>102.000000</td>\n",
       "      <td>0.000000</td>\n",
       "      <td>0.000000</td>\n",
       "      <td>121.750000</td>\n",
       "      <td>0.000000</td>\n",
       "      <td>801.000000</td>\n",
       "      <td>594.000000</td>\n",
       "      <td>1.000000</td>\n",
       "      <td>2.331808</td>\n",
       "      <td>0.531250</td>\n",
       "      <td>2.605263</td>\n",
       "      <td>3.453441</td>\n",
       "    </tr>\n",
       "    <tr>\n",
       "      <th>25%</th>\n",
       "      <td>192.375000</td>\n",
       "      <td>0.000000</td>\n",
       "      <td>0.000000</td>\n",
       "      <td>164.900000</td>\n",
       "      <td>0.000000</td>\n",
       "      <td>932.000000</td>\n",
       "      <td>730.950000</td>\n",
       "      <td>7.000000</td>\n",
       "      <td>23.707115</td>\n",
       "      <td>1.069502</td>\n",
       "      <td>3.888350</td>\n",
       "      <td>4.830208</td>\n",
       "    </tr>\n",
       "    <tr>\n",
       "      <th>50%</th>\n",
       "      <td>272.900000</td>\n",
       "      <td>22.000000</td>\n",
       "      <td>0.000000</td>\n",
       "      <td>185.000000</td>\n",
       "      <td>6.350000</td>\n",
       "      <td>968.000000</td>\n",
       "      <td>779.510000</td>\n",
       "      <td>28.000000</td>\n",
       "      <td>34.442774</td>\n",
       "      <td>1.480718</td>\n",
       "      <td>4.299479</td>\n",
       "      <td>5.451804</td>\n",
       "    </tr>\n",
       "    <tr>\n",
       "      <th>75%</th>\n",
       "      <td>350.000000</td>\n",
       "      <td>142.950000</td>\n",
       "      <td>118.270000</td>\n",
       "      <td>192.000000</td>\n",
       "      <td>10.160000</td>\n",
       "      <td>1029.400000</td>\n",
       "      <td>824.000000</td>\n",
       "      <td>56.000000</td>\n",
       "      <td>46.136287</td>\n",
       "      <td>1.875000</td>\n",
       "      <td>4.791273</td>\n",
       "      <td>5.974522</td>\n",
       "    </tr>\n",
       "    <tr>\n",
       "      <th>max</th>\n",
       "      <td>540.000000</td>\n",
       "      <td>359.400000</td>\n",
       "      <td>200.100000</td>\n",
       "      <td>247.000000</td>\n",
       "      <td>32.200000</td>\n",
       "      <td>1145.000000</td>\n",
       "      <td>992.600000</td>\n",
       "      <td>365.000000</td>\n",
       "      <td>82.599225</td>\n",
       "      <td>3.746827</td>\n",
       "      <td>7.840442</td>\n",
       "      <td>8.695688</td>\n",
       "    </tr>\n",
       "  </tbody>\n",
       "</table>\n",
       "</div>"
      ],
      "text/plain": [
       "            cement  blast_furnace_slag      fly_ash        water  \\\n",
       "count  1030.000000         1030.000000  1030.000000  1030.000000   \n",
       "mean    281.165631           73.895485    54.187136   181.566359   \n",
       "std     104.507142           86.279104    63.996469    21.355567   \n",
       "min     102.000000            0.000000     0.000000   121.750000   \n",
       "25%     192.375000            0.000000     0.000000   164.900000   \n",
       "50%     272.900000           22.000000     0.000000   185.000000   \n",
       "75%     350.000000          142.950000   118.270000   192.000000   \n",
       "max     540.000000          359.400000   200.100000   247.000000   \n",
       "\n",
       "       superplasticizer  coarse_aggregate  fine_aggregate          age  \\\n",
       "count       1030.000000       1030.000000     1030.000000  1030.000000   \n",
       "mean           6.203112        972.918592      773.578883    45.662136   \n",
       "std            5.973492         77.753818       80.175427    63.169912   \n",
       "min            0.000000        801.000000      594.000000     1.000000   \n",
       "25%            0.000000        932.000000      730.950000     7.000000   \n",
       "50%            6.350000        968.000000      779.510000    28.000000   \n",
       "75%           10.160000       1029.400000      824.000000    56.000000   \n",
       "max           32.200000       1145.000000      992.600000   365.000000   \n",
       "\n",
       "          strength  cement_to_water_ratio  fine_aggregate_to_water_ratio  \\\n",
       "count  1030.000000            1030.000000                    1030.000000   \n",
       "mean     35.817836               1.578275                       4.344763   \n",
       "std      16.705679               0.648105                       0.824908   \n",
       "min       2.331808               0.531250                       2.605263   \n",
       "25%      23.707115               1.069502                       3.888350   \n",
       "50%      34.442774               1.480718                       4.299479   \n",
       "75%      46.136287               1.875000                       4.791273   \n",
       "max      82.599225               3.746827                       7.840442   \n",
       "\n",
       "       coarse_aggregate_to_water_ratio  \n",
       "count                      1030.000000  \n",
       "mean                          5.443181  \n",
       "std                           0.842966  \n",
       "min                           3.453441  \n",
       "25%                           4.830208  \n",
       "50%                           5.451804  \n",
       "75%                           5.974522  \n",
       "max                           8.695688  "
      ]
     },
     "execution_count": 5,
     "metadata": {},
     "output_type": "execute_result"
    }
   ],
   "source": [
    "X_full.describe()"
   ]
  },
  {
   "cell_type": "markdown",
   "metadata": {},
   "source": [
    "Check for misisng values"
   ]
  },
  {
   "cell_type": "code",
   "execution_count": 6,
   "metadata": {},
   "outputs": [
    {
     "data": {
      "text/plain": [
       "cement                             0\n",
       "blast_furnace_slag                 0\n",
       "fly_ash                            0\n",
       "water                              0\n",
       "superplasticizer                   0\n",
       "coarse_aggregate                   0\n",
       "fine_aggregate                     0\n",
       "age                                0\n",
       "strength                           0\n",
       "cement_to_water_ratio              0\n",
       "fine_aggregate_to_water_ratio      0\n",
       "coarse_aggregate_to_water_ratio    0\n",
       "dtype: int64"
      ]
     },
     "execution_count": 6,
     "metadata": {},
     "output_type": "execute_result"
    }
   ],
   "source": [
    "#Check for missing values\n",
    "X_full.isnull().sum()"
   ]
  },
  {
   "cell_type": "markdown",
   "metadata": {},
   "source": [
    "Some missing values in the new ratios."
   ]
  },
  {
   "cell_type": "code",
   "execution_count": 7,
   "metadata": {},
   "outputs": [
    {
     "data": {
      "text/plain": [
       "25"
      ]
     },
     "execution_count": 7,
     "metadata": {},
     "output_type": "execute_result"
    }
   ],
   "source": [
    "# Check for duplicates\n",
    "X_full.duplicated().sum()"
   ]
  },
  {
   "cell_type": "code",
   "execution_count": 8,
   "metadata": {},
   "outputs": [
    {
     "data": {
      "text/plain": [
       "0       False\n",
       "1       False\n",
       "2       False\n",
       "3       False\n",
       "4       False\n",
       "        ...  \n",
       "1025    False\n",
       "1026    False\n",
       "1027    False\n",
       "1028    False\n",
       "1029    False\n",
       "Length: 1005, dtype: bool"
      ]
     },
     "execution_count": 8,
     "metadata": {},
     "output_type": "execute_result"
    }
   ],
   "source": [
    "# Remove duplicates\n",
    "X_full = X_full.drop_duplicates()\n",
    "X_full.duplicated()"
   ]
  },
  {
   "cell_type": "code",
   "execution_count": 9,
   "metadata": {},
   "outputs": [
    {
     "data": {
      "text/plain": [
       "(1005, 12)"
      ]
     },
     "execution_count": 9,
     "metadata": {},
     "output_type": "execute_result"
    }
   ],
   "source": [
    "X_full.shape"
   ]
  },
  {
   "cell_type": "code",
   "execution_count": 10,
   "metadata": {},
   "outputs": [
    {
     "data": {
      "application/vnd.microsoft.datawrangler.viewer.v0+json": {
       "columns": [
        {
         "name": "index",
         "rawType": "object",
         "type": "string"
        },
        {
         "name": "cement",
         "rawType": "float64",
         "type": "float"
        },
        {
         "name": "blast_furnace_slag",
         "rawType": "float64",
         "type": "float"
        },
        {
         "name": "fly_ash",
         "rawType": "float64",
         "type": "float"
        },
        {
         "name": "water",
         "rawType": "float64",
         "type": "float"
        },
        {
         "name": "superplasticizer",
         "rawType": "float64",
         "type": "float"
        },
        {
         "name": "coarse_aggregate",
         "rawType": "float64",
         "type": "float"
        },
        {
         "name": "fine_aggregate",
         "rawType": "float64",
         "type": "float"
        },
        {
         "name": "age",
         "rawType": "float64",
         "type": "float"
        },
        {
         "name": "strength",
         "rawType": "float64",
         "type": "float"
        },
        {
         "name": "cement_to_water_ratio",
         "rawType": "float64",
         "type": "float"
        },
        {
         "name": "fine_aggregate_to_water_ratio",
         "rawType": "float64",
         "type": "float"
        },
        {
         "name": "coarse_aggregate_to_water_ratio",
         "rawType": "float64",
         "type": "float"
        }
       ],
       "conversionMethod": "pd.DataFrame",
       "ref": "2b6ae5ce-5301-41f0-8147-c4299151ee0f",
       "rows": [
        [
         "count",
         "1005.0",
         "1005.0",
         "1005.0",
         "1005.0",
         "1005.0",
         "1005.0",
         "1005.0",
         "1005.0",
         "1005.0",
         "1005.0",
         "1005.0",
         "1005.0"
        ],
        [
         "mean",
         "278.62905472636817",
         "72.04313432835822",
         "55.53507462686567",
         "182.07437810945274",
         "6.031646766169154",
         "974.3764676616915",
         "772.686616915423",
         "45.85671641791045",
         "35.25027287623583",
         "1.5579989058701247",
         "4.327272563143495",
         "5.437566746975094"
        ],
        [
         "std",
         "104.34500276101967",
         "86.17055515848543",
         "64.20744844933418",
         "21.34073965588068",
         "5.91955899580221",
         "77.57953371703897",
         "80.33985105058504",
         "63.73469167941662",
         "16.2848076539508",
         "0.6407455249765565",
         "0.8220786334873506",
         "0.8524578302656841"
        ],
        [
         "min",
         "102.0",
         "0.0",
         "0.0",
         "121.75",
         "0.0",
         "801.0",
         "594.0",
         "1.0",
         "2.331807832",
         "0.53125",
         "2.6052631578947367",
         "3.4534412955465585"
        ],
        [
         "25%",
         "190.68",
         "0.0",
         "0.0",
         "166.61",
         "0.0",
         "932.0",
         "724.3",
         "7.0",
         "23.523542168",
         "1.066632981746984",
         "3.880851281526577",
         "4.803931203931204"
        ],
        [
         "50%",
         "265.0",
         "20.0",
         "0.0",
         "185.7",
         "6.1",
         "968.0",
         "780.0",
         "28.0",
         "33.79811352",
         "1.450261780104712",
         "4.276463963963964",
         "5.441176470588236"
        ],
        [
         "75%",
         "349.0",
         "142.5",
         "118.27",
         "192.94",
         "10.0",
         "1031.0",
         "822.2",
         "56.0",
         "44.868340176",
         "1.826602046311255",
         "4.780487804878049",
         "5.974522292993631"
        ],
        [
         "max",
         "540.0",
         "359.4",
         "200.1",
         "247.0",
         "32.2",
         "1145.0",
         "992.6",
         "365.0",
         "82.5992248",
         "3.746826516220028",
         "7.840442338072671",
         "8.695687885010267"
        ]
       ],
       "shape": {
        "columns": 12,
        "rows": 8
       }
      },
      "text/html": [
       "<div>\n",
       "<style scoped>\n",
       "    .dataframe tbody tr th:only-of-type {\n",
       "        vertical-align: middle;\n",
       "    }\n",
       "\n",
       "    .dataframe tbody tr th {\n",
       "        vertical-align: top;\n",
       "    }\n",
       "\n",
       "    .dataframe thead th {\n",
       "        text-align: right;\n",
       "    }\n",
       "</style>\n",
       "<table border=\"1\" class=\"dataframe\">\n",
       "  <thead>\n",
       "    <tr style=\"text-align: right;\">\n",
       "      <th></th>\n",
       "      <th>cement</th>\n",
       "      <th>blast_furnace_slag</th>\n",
       "      <th>fly_ash</th>\n",
       "      <th>water</th>\n",
       "      <th>superplasticizer</th>\n",
       "      <th>coarse_aggregate</th>\n",
       "      <th>fine_aggregate</th>\n",
       "      <th>age</th>\n",
       "      <th>strength</th>\n",
       "      <th>cement_to_water_ratio</th>\n",
       "      <th>fine_aggregate_to_water_ratio</th>\n",
       "      <th>coarse_aggregate_to_water_ratio</th>\n",
       "    </tr>\n",
       "  </thead>\n",
       "  <tbody>\n",
       "    <tr>\n",
       "      <th>count</th>\n",
       "      <td>1005.000000</td>\n",
       "      <td>1005.000000</td>\n",
       "      <td>1005.000000</td>\n",
       "      <td>1005.000000</td>\n",
       "      <td>1005.000000</td>\n",
       "      <td>1005.000000</td>\n",
       "      <td>1005.000000</td>\n",
       "      <td>1005.000000</td>\n",
       "      <td>1005.000000</td>\n",
       "      <td>1005.000000</td>\n",
       "      <td>1005.000000</td>\n",
       "      <td>1005.000000</td>\n",
       "    </tr>\n",
       "    <tr>\n",
       "      <th>mean</th>\n",
       "      <td>278.629055</td>\n",
       "      <td>72.043134</td>\n",
       "      <td>55.535075</td>\n",
       "      <td>182.074378</td>\n",
       "      <td>6.031647</td>\n",
       "      <td>974.376468</td>\n",
       "      <td>772.686617</td>\n",
       "      <td>45.856716</td>\n",
       "      <td>35.250273</td>\n",
       "      <td>1.557999</td>\n",
       "      <td>4.327273</td>\n",
       "      <td>5.437567</td>\n",
       "    </tr>\n",
       "    <tr>\n",
       "      <th>std</th>\n",
       "      <td>104.345003</td>\n",
       "      <td>86.170555</td>\n",
       "      <td>64.207448</td>\n",
       "      <td>21.340740</td>\n",
       "      <td>5.919559</td>\n",
       "      <td>77.579534</td>\n",
       "      <td>80.339851</td>\n",
       "      <td>63.734692</td>\n",
       "      <td>16.284808</td>\n",
       "      <td>0.640746</td>\n",
       "      <td>0.822079</td>\n",
       "      <td>0.852458</td>\n",
       "    </tr>\n",
       "    <tr>\n",
       "      <th>min</th>\n",
       "      <td>102.000000</td>\n",
       "      <td>0.000000</td>\n",
       "      <td>0.000000</td>\n",
       "      <td>121.750000</td>\n",
       "      <td>0.000000</td>\n",
       "      <td>801.000000</td>\n",
       "      <td>594.000000</td>\n",
       "      <td>1.000000</td>\n",
       "      <td>2.331808</td>\n",
       "      <td>0.531250</td>\n",
       "      <td>2.605263</td>\n",
       "      <td>3.453441</td>\n",
       "    </tr>\n",
       "    <tr>\n",
       "      <th>25%</th>\n",
       "      <td>190.680000</td>\n",
       "      <td>0.000000</td>\n",
       "      <td>0.000000</td>\n",
       "      <td>166.610000</td>\n",
       "      <td>0.000000</td>\n",
       "      <td>932.000000</td>\n",
       "      <td>724.300000</td>\n",
       "      <td>7.000000</td>\n",
       "      <td>23.523542</td>\n",
       "      <td>1.066633</td>\n",
       "      <td>3.880851</td>\n",
       "      <td>4.803931</td>\n",
       "    </tr>\n",
       "    <tr>\n",
       "      <th>50%</th>\n",
       "      <td>265.000000</td>\n",
       "      <td>20.000000</td>\n",
       "      <td>0.000000</td>\n",
       "      <td>185.700000</td>\n",
       "      <td>6.100000</td>\n",
       "      <td>968.000000</td>\n",
       "      <td>780.000000</td>\n",
       "      <td>28.000000</td>\n",
       "      <td>33.798114</td>\n",
       "      <td>1.450262</td>\n",
       "      <td>4.276464</td>\n",
       "      <td>5.441176</td>\n",
       "    </tr>\n",
       "    <tr>\n",
       "      <th>75%</th>\n",
       "      <td>349.000000</td>\n",
       "      <td>142.500000</td>\n",
       "      <td>118.270000</td>\n",
       "      <td>192.940000</td>\n",
       "      <td>10.000000</td>\n",
       "      <td>1031.000000</td>\n",
       "      <td>822.200000</td>\n",
       "      <td>56.000000</td>\n",
       "      <td>44.868340</td>\n",
       "      <td>1.826602</td>\n",
       "      <td>4.780488</td>\n",
       "      <td>5.974522</td>\n",
       "    </tr>\n",
       "    <tr>\n",
       "      <th>max</th>\n",
       "      <td>540.000000</td>\n",
       "      <td>359.400000</td>\n",
       "      <td>200.100000</td>\n",
       "      <td>247.000000</td>\n",
       "      <td>32.200000</td>\n",
       "      <td>1145.000000</td>\n",
       "      <td>992.600000</td>\n",
       "      <td>365.000000</td>\n",
       "      <td>82.599225</td>\n",
       "      <td>3.746827</td>\n",
       "      <td>7.840442</td>\n",
       "      <td>8.695688</td>\n",
       "    </tr>\n",
       "  </tbody>\n",
       "</table>\n",
       "</div>"
      ],
      "text/plain": [
       "            cement  blast_furnace_slag      fly_ash        water  \\\n",
       "count  1005.000000         1005.000000  1005.000000  1005.000000   \n",
       "mean    278.629055           72.043134    55.535075   182.074378   \n",
       "std     104.345003           86.170555    64.207448    21.340740   \n",
       "min     102.000000            0.000000     0.000000   121.750000   \n",
       "25%     190.680000            0.000000     0.000000   166.610000   \n",
       "50%     265.000000           20.000000     0.000000   185.700000   \n",
       "75%     349.000000          142.500000   118.270000   192.940000   \n",
       "max     540.000000          359.400000   200.100000   247.000000   \n",
       "\n",
       "       superplasticizer  coarse_aggregate  fine_aggregate          age  \\\n",
       "count       1005.000000       1005.000000     1005.000000  1005.000000   \n",
       "mean           6.031647        974.376468      772.686617    45.856716   \n",
       "std            5.919559         77.579534       80.339851    63.734692   \n",
       "min            0.000000        801.000000      594.000000     1.000000   \n",
       "25%            0.000000        932.000000      724.300000     7.000000   \n",
       "50%            6.100000        968.000000      780.000000    28.000000   \n",
       "75%           10.000000       1031.000000      822.200000    56.000000   \n",
       "max           32.200000       1145.000000      992.600000   365.000000   \n",
       "\n",
       "          strength  cement_to_water_ratio  fine_aggregate_to_water_ratio  \\\n",
       "count  1005.000000            1005.000000                    1005.000000   \n",
       "mean     35.250273               1.557999                       4.327273   \n",
       "std      16.284808               0.640746                       0.822079   \n",
       "min       2.331808               0.531250                       2.605263   \n",
       "25%      23.523542               1.066633                       3.880851   \n",
       "50%      33.798114               1.450262                       4.276464   \n",
       "75%      44.868340               1.826602                       4.780488   \n",
       "max      82.599225               3.746827                       7.840442   \n",
       "\n",
       "       coarse_aggregate_to_water_ratio  \n",
       "count                      1005.000000  \n",
       "mean                          5.437567  \n",
       "std                           0.852458  \n",
       "min                           3.453441  \n",
       "25%                           4.803931  \n",
       "50%                           5.441176  \n",
       "75%                           5.974522  \n",
       "max                           8.695688  "
      ]
     },
     "execution_count": 10,
     "metadata": {},
     "output_type": "execute_result"
    }
   ],
   "source": [
    "X_full.describe()"
   ]
  },
  {
   "cell_type": "code",
   "execution_count": 11,
   "metadata": {},
   "outputs": [
    {
     "name": "stdout",
     "output_type": "stream",
     "text": [
      "Outliers are a cement above 586.48 or below -46.79999999999998\n",
      "Number of outliers in cement is 0\n",
      "Outliers are a blast_furnace_slag above 356.25 or below -213.75\n",
      "Number of outliers in blast_furnace_slag is 2\n",
      "Outliers are a fly_ash above 295.675 or below -177.405\n",
      "Number of outliers in fly_ash is 0\n",
      "Outliers are a water above 232.43499999999997 or below 127.11500000000004\n",
      "Number of outliers in water is 15\n",
      "Outliers are a superplasticizer above 25.0 or below -15.0\n",
      "Number of outliers in superplasticizer is 10\n",
      "Outliers are a coarse_aggregate above 1179.5 or below 783.5\n",
      "Number of outliers in coarse_aggregate is 0\n",
      "Outliers are a fine_aggregate above 969.0500000000002 or below 577.4499999999998\n",
      "Number of outliers in fine_aggregate is 5\n",
      "Outliers are a age above 129.5 or below -66.5\n",
      "Number of outliers in age is 59\n",
      "Outliers are a strength above 76.885537188 or below -8.493654843999998\n",
      "Number of outliers in strength is 8\n",
      "Outliers are a cement_to_water_ratio above 2.966555643157661 or below -0.07332061509942234\n",
      "Number of outliers in cement_to_water_ratio is 29\n",
      "Outliers are a fine_aggregate_to_water_ratio above 6.129942589905256 or below 2.5313964964993696\n",
      "Number of outliers in fine_aggregate_to_water_ratio is 24\n",
      "Outliers are a coarse_aggregate_to_water_ratio above 7.730408926587271 or below 3.048044570337564\n",
      "Number of outliers in coarse_aggregate_to_water_ratio is 9\n"
     ]
    }
   ],
   "source": [
    "for col in X_full.columns:\n",
    "    Q1 = X_full[col].quantile(0.25)\n",
    "    Q3 = X_full[col].quantile(0.75)\n",
    "    IQR = Q3 - Q1\n",
    "    print(f'Outliers are a {col} above {Q3 + IQR * 1.5} or below {Q1 - IQR * 1.5}')\n",
    "    arr = []\n",
    "    for x in X_full[col].to_numpy():\n",
    "        if x < (Q1 - IQR * 1.5) or x > (Q3 + IQR * 1.5):\n",
    "            arr.append(x)\n",
    "    print(f\"Number of outliers in {col} is {len(arr)}\")"
   ]
  },
  {
   "cell_type": "code",
   "execution_count": 12,
   "metadata": {},
   "outputs": [],
   "source": [
    "outlier_detector = LocalOutlierFactor(n_neighbors=20, contamination=0.1)\n",
    "outliers = outlier_detector.fit_predict(X_full)\n",
    "X_scores = outlier_detector.negative_outlier_factor_\n",
    "X_full = X_full[outliers != -1]"
   ]
  },
  {
   "cell_type": "code",
   "execution_count": 13,
   "metadata": {},
   "outputs": [
    {
     "data": {
      "text/plain": [
       "array([-1.04390164, -1.00858709, -1.03851129, ..., -1.02230001,\n",
       "       -0.99008257, -1.0170046 ])"
      ]
     },
     "execution_count": 13,
     "metadata": {},
     "output_type": "execute_result"
    }
   ],
   "source": [
    "outlier_detector.negative_outlier_factor_"
   ]
  },
  {
   "cell_type": "code",
   "execution_count": 14,
   "metadata": {},
   "outputs": [
    {
     "data": {
      "text/plain": [
       "array([1, 1, 1, ..., 1, 1, 1])"
      ]
     },
     "execution_count": 14,
     "metadata": {},
     "output_type": "execute_result"
    }
   ],
   "source": [
    "outliers"
   ]
  },
  {
   "cell_type": "code",
   "execution_count": 15,
   "metadata": {},
   "outputs": [
    {
     "data": {
      "application/vnd.microsoft.datawrangler.viewer.v0+json": {
       "columns": [
        {
         "name": "index",
         "rawType": "object",
         "type": "string"
        },
        {
         "name": "cement",
         "rawType": "float64",
         "type": "float"
        },
        {
         "name": "blast_furnace_slag",
         "rawType": "float64",
         "type": "float"
        },
        {
         "name": "fly_ash",
         "rawType": "float64",
         "type": "float"
        },
        {
         "name": "water",
         "rawType": "float64",
         "type": "float"
        },
        {
         "name": "superplasticizer",
         "rawType": "float64",
         "type": "float"
        },
        {
         "name": "coarse_aggregate",
         "rawType": "float64",
         "type": "float"
        },
        {
         "name": "fine_aggregate",
         "rawType": "float64",
         "type": "float"
        },
        {
         "name": "age",
         "rawType": "float64",
         "type": "float"
        },
        {
         "name": "strength",
         "rawType": "float64",
         "type": "float"
        },
        {
         "name": "cement_to_water_ratio",
         "rawType": "float64",
         "type": "float"
        },
        {
         "name": "fine_aggregate_to_water_ratio",
         "rawType": "float64",
         "type": "float"
        },
        {
         "name": "coarse_aggregate_to_water_ratio",
         "rawType": "float64",
         "type": "float"
        }
       ],
       "conversionMethod": "pd.DataFrame",
       "ref": "d7a9924b-1226-4b7d-8853-b25a355c9173",
       "rows": [
        [
         "count",
         "904.0",
         "904.0",
         "904.0",
         "904.0",
         "904.0",
         "904.0",
         "904.0",
         "904.0",
         "904.0",
         "904.0",
         "904.0",
         "904.0"
        ],
        [
         "mean",
         "278.3021681415929",
         "74.59714601769912",
         "56.21026548672567",
         "181.52096238938054",
         "6.196211283185841",
         "972.005918141593",
         "773.8458628318584",
         "40.08517699115044",
         "35.2860294223523",
         "1.5599980022658877",
         "4.350710221663971",
         "5.440755693949897"
        ],
        [
         "std",
         "103.98641984633839",
         "86.02048296235738",
         "62.73279105782777",
         "21.451564325931837",
         "5.911781119147951",
         "75.92619655420052",
         "76.99344557631623",
         "53.12759085073585",
         "15.831514330327003",
         "0.6379166226997316",
         "0.832566217491211",
         "0.8435090367192513"
        ],
        [
         "min",
         "102.0",
         "0.0",
         "0.0",
         "121.75",
         "0.0",
         "801.0",
         "594.0",
         "1.0",
         "2.331807832",
         "0.53125",
         "2.6052631578947367",
         "3.4534412955465585"
        ],
        [
         "25%",
         "190.68",
         "0.0",
         "0.0",
         "164.9",
         "0.0",
         "932.0",
         "734.3",
         "7.0",
         "23.876726249",
         "1.069502379413665",
         "3.880851281526577",
         "4.8278801305970145"
        ],
        [
         "50%",
         "264.75",
         "24.0",
         "0.0",
         "185.0",
         "6.4350000000000005",
         "968.0",
         "779.32",
         "28.0",
         "33.780187143999996",
         "1.4517835658131115",
         "4.299479166666667",
         "5.444444444444445"
        ],
        [
         "75%",
         "342.0",
         "142.8",
         "118.27",
         "192.0",
         "10.0",
         "1028.4",
         "821.0",
         "28.0",
         "44.544975932",
         "1.826602046311255",
         "4.8158038477878256",
         "5.974522292993631"
        ],
        [
         "max",
         "540.0",
         "359.4",
         "195.0",
         "247.0",
         "32.2",
         "1125.0",
         "992.6",
         "365.0",
         "82.5992248",
         "3.746826516220028",
         "7.840442338072671",
         "8.695687885010267"
        ]
       ],
       "shape": {
        "columns": 12,
        "rows": 8
       }
      },
      "text/html": [
       "<div>\n",
       "<style scoped>\n",
       "    .dataframe tbody tr th:only-of-type {\n",
       "        vertical-align: middle;\n",
       "    }\n",
       "\n",
       "    .dataframe tbody tr th {\n",
       "        vertical-align: top;\n",
       "    }\n",
       "\n",
       "    .dataframe thead th {\n",
       "        text-align: right;\n",
       "    }\n",
       "</style>\n",
       "<table border=\"1\" class=\"dataframe\">\n",
       "  <thead>\n",
       "    <tr style=\"text-align: right;\">\n",
       "      <th></th>\n",
       "      <th>cement</th>\n",
       "      <th>blast_furnace_slag</th>\n",
       "      <th>fly_ash</th>\n",
       "      <th>water</th>\n",
       "      <th>superplasticizer</th>\n",
       "      <th>coarse_aggregate</th>\n",
       "      <th>fine_aggregate</th>\n",
       "      <th>age</th>\n",
       "      <th>strength</th>\n",
       "      <th>cement_to_water_ratio</th>\n",
       "      <th>fine_aggregate_to_water_ratio</th>\n",
       "      <th>coarse_aggregate_to_water_ratio</th>\n",
       "    </tr>\n",
       "  </thead>\n",
       "  <tbody>\n",
       "    <tr>\n",
       "      <th>count</th>\n",
       "      <td>904.000000</td>\n",
       "      <td>904.000000</td>\n",
       "      <td>904.000000</td>\n",
       "      <td>904.000000</td>\n",
       "      <td>904.000000</td>\n",
       "      <td>904.000000</td>\n",
       "      <td>904.000000</td>\n",
       "      <td>904.000000</td>\n",
       "      <td>904.000000</td>\n",
       "      <td>904.000000</td>\n",
       "      <td>904.000000</td>\n",
       "      <td>904.000000</td>\n",
       "    </tr>\n",
       "    <tr>\n",
       "      <th>mean</th>\n",
       "      <td>278.302168</td>\n",
       "      <td>74.597146</td>\n",
       "      <td>56.210265</td>\n",
       "      <td>181.520962</td>\n",
       "      <td>6.196211</td>\n",
       "      <td>972.005918</td>\n",
       "      <td>773.845863</td>\n",
       "      <td>40.085177</td>\n",
       "      <td>35.286029</td>\n",
       "      <td>1.559998</td>\n",
       "      <td>4.350710</td>\n",
       "      <td>5.440756</td>\n",
       "    </tr>\n",
       "    <tr>\n",
       "      <th>std</th>\n",
       "      <td>103.986420</td>\n",
       "      <td>86.020483</td>\n",
       "      <td>62.732791</td>\n",
       "      <td>21.451564</td>\n",
       "      <td>5.911781</td>\n",
       "      <td>75.926197</td>\n",
       "      <td>76.993446</td>\n",
       "      <td>53.127591</td>\n",
       "      <td>15.831514</td>\n",
       "      <td>0.637917</td>\n",
       "      <td>0.832566</td>\n",
       "      <td>0.843509</td>\n",
       "    </tr>\n",
       "    <tr>\n",
       "      <th>min</th>\n",
       "      <td>102.000000</td>\n",
       "      <td>0.000000</td>\n",
       "      <td>0.000000</td>\n",
       "      <td>121.750000</td>\n",
       "      <td>0.000000</td>\n",
       "      <td>801.000000</td>\n",
       "      <td>594.000000</td>\n",
       "      <td>1.000000</td>\n",
       "      <td>2.331808</td>\n",
       "      <td>0.531250</td>\n",
       "      <td>2.605263</td>\n",
       "      <td>3.453441</td>\n",
       "    </tr>\n",
       "    <tr>\n",
       "      <th>25%</th>\n",
       "      <td>190.680000</td>\n",
       "      <td>0.000000</td>\n",
       "      <td>0.000000</td>\n",
       "      <td>164.900000</td>\n",
       "      <td>0.000000</td>\n",
       "      <td>932.000000</td>\n",
       "      <td>734.300000</td>\n",
       "      <td>7.000000</td>\n",
       "      <td>23.876726</td>\n",
       "      <td>1.069502</td>\n",
       "      <td>3.880851</td>\n",
       "      <td>4.827880</td>\n",
       "    </tr>\n",
       "    <tr>\n",
       "      <th>50%</th>\n",
       "      <td>264.750000</td>\n",
       "      <td>24.000000</td>\n",
       "      <td>0.000000</td>\n",
       "      <td>185.000000</td>\n",
       "      <td>6.435000</td>\n",
       "      <td>968.000000</td>\n",
       "      <td>779.320000</td>\n",
       "      <td>28.000000</td>\n",
       "      <td>33.780187</td>\n",
       "      <td>1.451784</td>\n",
       "      <td>4.299479</td>\n",
       "      <td>5.444444</td>\n",
       "    </tr>\n",
       "    <tr>\n",
       "      <th>75%</th>\n",
       "      <td>342.000000</td>\n",
       "      <td>142.800000</td>\n",
       "      <td>118.270000</td>\n",
       "      <td>192.000000</td>\n",
       "      <td>10.000000</td>\n",
       "      <td>1028.400000</td>\n",
       "      <td>821.000000</td>\n",
       "      <td>28.000000</td>\n",
       "      <td>44.544976</td>\n",
       "      <td>1.826602</td>\n",
       "      <td>4.815804</td>\n",
       "      <td>5.974522</td>\n",
       "    </tr>\n",
       "    <tr>\n",
       "      <th>max</th>\n",
       "      <td>540.000000</td>\n",
       "      <td>359.400000</td>\n",
       "      <td>195.000000</td>\n",
       "      <td>247.000000</td>\n",
       "      <td>32.200000</td>\n",
       "      <td>1125.000000</td>\n",
       "      <td>992.600000</td>\n",
       "      <td>365.000000</td>\n",
       "      <td>82.599225</td>\n",
       "      <td>3.746827</td>\n",
       "      <td>7.840442</td>\n",
       "      <td>8.695688</td>\n",
       "    </tr>\n",
       "  </tbody>\n",
       "</table>\n",
       "</div>"
      ],
      "text/plain": [
       "           cement  blast_furnace_slag     fly_ash       water  \\\n",
       "count  904.000000          904.000000  904.000000  904.000000   \n",
       "mean   278.302168           74.597146   56.210265  181.520962   \n",
       "std    103.986420           86.020483   62.732791   21.451564   \n",
       "min    102.000000            0.000000    0.000000  121.750000   \n",
       "25%    190.680000            0.000000    0.000000  164.900000   \n",
       "50%    264.750000           24.000000    0.000000  185.000000   \n",
       "75%    342.000000          142.800000  118.270000  192.000000   \n",
       "max    540.000000          359.400000  195.000000  247.000000   \n",
       "\n",
       "       superplasticizer  coarse_aggregate  fine_aggregate         age  \\\n",
       "count        904.000000        904.000000      904.000000  904.000000   \n",
       "mean           6.196211        972.005918      773.845863   40.085177   \n",
       "std            5.911781         75.926197       76.993446   53.127591   \n",
       "min            0.000000        801.000000      594.000000    1.000000   \n",
       "25%            0.000000        932.000000      734.300000    7.000000   \n",
       "50%            6.435000        968.000000      779.320000   28.000000   \n",
       "75%           10.000000       1028.400000      821.000000   28.000000   \n",
       "max           32.200000       1125.000000      992.600000  365.000000   \n",
       "\n",
       "         strength  cement_to_water_ratio  fine_aggregate_to_water_ratio  \\\n",
       "count  904.000000             904.000000                     904.000000   \n",
       "mean    35.286029               1.559998                       4.350710   \n",
       "std     15.831514               0.637917                       0.832566   \n",
       "min      2.331808               0.531250                       2.605263   \n",
       "25%     23.876726               1.069502                       3.880851   \n",
       "50%     33.780187               1.451784                       4.299479   \n",
       "75%     44.544976               1.826602                       4.815804   \n",
       "max     82.599225               3.746827                       7.840442   \n",
       "\n",
       "       coarse_aggregate_to_water_ratio  \n",
       "count                       904.000000  \n",
       "mean                          5.440756  \n",
       "std                           0.843509  \n",
       "min                           3.453441  \n",
       "25%                           4.827880  \n",
       "50%                           5.444444  \n",
       "75%                           5.974522  \n",
       "max                           8.695688  "
      ]
     },
     "execution_count": 15,
     "metadata": {},
     "output_type": "execute_result"
    }
   ],
   "source": [
    "X_full.describe()"
   ]
  },
  {
   "cell_type": "code",
   "execution_count": 16,
   "metadata": {},
   "outputs": [],
   "source": [
    "y = X_full['strength'].copy()\n",
    "X_full = X_full.drop(['strength'], axis = 1)\n",
    "X_train_valid, X_test, y_train_valid, y_test = train_test_split(X_full, y, test_size=0.25, random_state=42)\n",
    "features.remove('strength')"
   ]
  },
  {
   "cell_type": "code",
   "execution_count": 17,
   "metadata": {},
   "outputs": [],
   "source": [
    "# Preprocessing for numerical data\n",
    "# Imputing NANs as a result of feature engineering\n",
    "# RobustScaler is used to scale the data, as it is less prone to outliers\n",
    "# Outlier Detection\n",
    "scaler = MinMaxScaler()\n",
    "X_train_valid = scaler.fit_transform(X_train_valid)\n",
    "X_test = scaler.transform(X_test)\n",
    "X_train_valid = pd.DataFrame(X_train_valid, columns = features)\n",
    "X_test = pd.DataFrame(X_test, columns = features)"
   ]
  },
  {
   "cell_type": "code",
   "execution_count": 24,
   "metadata": {},
   "outputs": [
    {
     "data": {
      "text/plain": [
       "(678,)"
      ]
     },
     "execution_count": 24,
     "metadata": {},
     "output_type": "execute_result"
    }
   ],
   "source": [
    "y_train_valid.shape"
   ]
  },
  {
   "cell_type": "code",
   "execution_count": 25,
   "metadata": {},
   "outputs": [
    {
     "data": {
      "text/plain": [
       "(226,)"
      ]
     },
     "execution_count": 25,
     "metadata": {},
     "output_type": "execute_result"
    }
   ],
   "source": [
    "y_test.shape"
   ]
  },
  {
   "cell_type": "code",
   "execution_count": 18,
   "metadata": {},
   "outputs": [
    {
     "data": {
      "text/plain": [
       "(678, 11)"
      ]
     },
     "execution_count": 18,
     "metadata": {},
     "output_type": "execute_result"
    }
   ],
   "source": [
    "X_train_valid.shape"
   ]
  },
  {
   "cell_type": "code",
   "execution_count": 19,
   "metadata": {},
   "outputs": [
    {
     "data": {
      "text/plain": [
       "(226, 11)"
      ]
     },
     "execution_count": 19,
     "metadata": {},
     "output_type": "execute_result"
    }
   ],
   "source": [
    "X_test.shape"
   ]
  },
  {
   "cell_type": "code",
   "execution_count": 20,
   "metadata": {},
   "outputs": [
    {
     "data": {
      "application/vnd.microsoft.datawrangler.viewer.v0+json": {
       "columns": [
        {
         "name": "index",
         "rawType": "object",
         "type": "string"
        },
        {
         "name": "cement",
         "rawType": "float64",
         "type": "float"
        },
        {
         "name": "blast_furnace_slag",
         "rawType": "float64",
         "type": "float"
        },
        {
         "name": "fly_ash",
         "rawType": "float64",
         "type": "float"
        },
        {
         "name": "water",
         "rawType": "float64",
         "type": "float"
        },
        {
         "name": "superplasticizer",
         "rawType": "float64",
         "type": "float"
        },
        {
         "name": "coarse_aggregate",
         "rawType": "float64",
         "type": "float"
        },
        {
         "name": "fine_aggregate",
         "rawType": "float64",
         "type": "float"
        },
        {
         "name": "age",
         "rawType": "float64",
         "type": "float"
        },
        {
         "name": "cement_to_water_ratio",
         "rawType": "float64",
         "type": "float"
        },
        {
         "name": "fine_aggregate_to_water_ratio",
         "rawType": "float64",
         "type": "float"
        },
        {
         "name": "coarse_aggregate_to_water_ratio",
         "rawType": "float64",
         "type": "float"
        }
       ],
       "conversionMethod": "pd.DataFrame",
       "ref": "053eb457-c6eb-4c1f-b89a-2fb5a7af281e",
       "rows": [
        [
         "count",
         "678.0",
         "678.0",
         "678.0",
         "678.0",
         "678.0",
         "678.0",
         "678.0",
         "678.0",
         "678.0",
         "678.0",
         "678.0"
        ],
        [
         "mean",
         "0.3973053636130979",
         "0.2113830737233311",
         "0.29263777323954315",
         "0.47759207249218366",
         "0.19115616812327085",
         "0.5259934811901382",
         "0.44961465423969144",
         "0.106972897211493",
         "0.3162889111427798",
         "0.3328575752291907",
         "0.3790071251767599"
        ],
        [
         "std",
         "0.23602830930086405",
         "0.2387295793114876",
         "0.32289508709657694",
         "0.1737679683819541",
         "0.18344723267965576",
         "0.2336779430798267",
         "0.19198033818150356",
         "0.1505029207560997",
         "0.19860718236112632",
         "0.15978761402775535",
         "0.1649328260427972"
        ],
        [
         "min",
         "0.0",
         "0.0",
         "0.0",
         "0.0",
         "0.0",
         "0.0",
         "0.0",
         "0.0",
         "0.0",
         "0.0",
         "0.0"
        ],
        [
         "25%",
         "0.20168949771689498",
         "0.0",
         "0.0",
         "0.35025948103792426",
         "0.0",
         "0.40432098765432123",
         "0.35198193677872536",
         "0.011049723756906077",
         "0.16738907524004162",
         "0.24732536447914236",
         "0.2567722921751439"
        ],
        [
         "50%",
         "0.3554794520547945",
         "0.07234279354479689",
         "0.0",
         "0.5049900199600799",
         "0.1979813664596273",
         "0.5123456790123457",
         "0.46492724535875585",
         "0.06906077348066297",
         "0.2770180582034647",
         "0.31914447457654044",
         "0.379787493609401"
        ],
        [
         "75%",
         "0.5463470319634702",
         "0.4034501947690596",
         "0.6066666666666667",
         "0.560878243512974",
         "0.3105590062111801",
         "0.7049382716049388",
         "0.5594581033617663",
         "0.1464088397790055",
         "0.40283664213158454",
         "0.4182793132853843",
         "0.4856032504270149"
        ],
        [
         "max",
         "1.0",
         "1.0",
         "1.0",
         "1.0",
         "1.0",
         "1.0",
         "1.0000000000000002",
         "1.0",
         "0.9999999999999999",
         "1.0000000000000002",
         "1.0"
        ]
       ],
       "shape": {
        "columns": 11,
        "rows": 8
       }
      },
      "text/html": [
       "<div>\n",
       "<style scoped>\n",
       "    .dataframe tbody tr th:only-of-type {\n",
       "        vertical-align: middle;\n",
       "    }\n",
       "\n",
       "    .dataframe tbody tr th {\n",
       "        vertical-align: top;\n",
       "    }\n",
       "\n",
       "    .dataframe thead th {\n",
       "        text-align: right;\n",
       "    }\n",
       "</style>\n",
       "<table border=\"1\" class=\"dataframe\">\n",
       "  <thead>\n",
       "    <tr style=\"text-align: right;\">\n",
       "      <th></th>\n",
       "      <th>cement</th>\n",
       "      <th>blast_furnace_slag</th>\n",
       "      <th>fly_ash</th>\n",
       "      <th>water</th>\n",
       "      <th>superplasticizer</th>\n",
       "      <th>coarse_aggregate</th>\n",
       "      <th>fine_aggregate</th>\n",
       "      <th>age</th>\n",
       "      <th>cement_to_water_ratio</th>\n",
       "      <th>fine_aggregate_to_water_ratio</th>\n",
       "      <th>coarse_aggregate_to_water_ratio</th>\n",
       "    </tr>\n",
       "  </thead>\n",
       "  <tbody>\n",
       "    <tr>\n",
       "      <th>count</th>\n",
       "      <td>678.000000</td>\n",
       "      <td>678.000000</td>\n",
       "      <td>678.000000</td>\n",
       "      <td>678.000000</td>\n",
       "      <td>678.000000</td>\n",
       "      <td>678.000000</td>\n",
       "      <td>678.000000</td>\n",
       "      <td>678.000000</td>\n",
       "      <td>678.000000</td>\n",
       "      <td>678.000000</td>\n",
       "      <td>678.000000</td>\n",
       "    </tr>\n",
       "    <tr>\n",
       "      <th>mean</th>\n",
       "      <td>0.397305</td>\n",
       "      <td>0.211383</td>\n",
       "      <td>0.292638</td>\n",
       "      <td>0.477592</td>\n",
       "      <td>0.191156</td>\n",
       "      <td>0.525993</td>\n",
       "      <td>0.449615</td>\n",
       "      <td>0.106973</td>\n",
       "      <td>0.316289</td>\n",
       "      <td>0.332858</td>\n",
       "      <td>0.379007</td>\n",
       "    </tr>\n",
       "    <tr>\n",
       "      <th>std</th>\n",
       "      <td>0.236028</td>\n",
       "      <td>0.238730</td>\n",
       "      <td>0.322895</td>\n",
       "      <td>0.173768</td>\n",
       "      <td>0.183447</td>\n",
       "      <td>0.233678</td>\n",
       "      <td>0.191980</td>\n",
       "      <td>0.150503</td>\n",
       "      <td>0.198607</td>\n",
       "      <td>0.159788</td>\n",
       "      <td>0.164933</td>\n",
       "    </tr>\n",
       "    <tr>\n",
       "      <th>min</th>\n",
       "      <td>0.000000</td>\n",
       "      <td>0.000000</td>\n",
       "      <td>0.000000</td>\n",
       "      <td>0.000000</td>\n",
       "      <td>0.000000</td>\n",
       "      <td>0.000000</td>\n",
       "      <td>0.000000</td>\n",
       "      <td>0.000000</td>\n",
       "      <td>0.000000</td>\n",
       "      <td>0.000000</td>\n",
       "      <td>0.000000</td>\n",
       "    </tr>\n",
       "    <tr>\n",
       "      <th>25%</th>\n",
       "      <td>0.201689</td>\n",
       "      <td>0.000000</td>\n",
       "      <td>0.000000</td>\n",
       "      <td>0.350259</td>\n",
       "      <td>0.000000</td>\n",
       "      <td>0.404321</td>\n",
       "      <td>0.351982</td>\n",
       "      <td>0.011050</td>\n",
       "      <td>0.167389</td>\n",
       "      <td>0.247325</td>\n",
       "      <td>0.256772</td>\n",
       "    </tr>\n",
       "    <tr>\n",
       "      <th>50%</th>\n",
       "      <td>0.355479</td>\n",
       "      <td>0.072343</td>\n",
       "      <td>0.000000</td>\n",
       "      <td>0.504990</td>\n",
       "      <td>0.197981</td>\n",
       "      <td>0.512346</td>\n",
       "      <td>0.464927</td>\n",
       "      <td>0.069061</td>\n",
       "      <td>0.277018</td>\n",
       "      <td>0.319144</td>\n",
       "      <td>0.379787</td>\n",
       "    </tr>\n",
       "    <tr>\n",
       "      <th>75%</th>\n",
       "      <td>0.546347</td>\n",
       "      <td>0.403450</td>\n",
       "      <td>0.606667</td>\n",
       "      <td>0.560878</td>\n",
       "      <td>0.310559</td>\n",
       "      <td>0.704938</td>\n",
       "      <td>0.559458</td>\n",
       "      <td>0.146409</td>\n",
       "      <td>0.402837</td>\n",
       "      <td>0.418279</td>\n",
       "      <td>0.485603</td>\n",
       "    </tr>\n",
       "    <tr>\n",
       "      <th>max</th>\n",
       "      <td>1.000000</td>\n",
       "      <td>1.000000</td>\n",
       "      <td>1.000000</td>\n",
       "      <td>1.000000</td>\n",
       "      <td>1.000000</td>\n",
       "      <td>1.000000</td>\n",
       "      <td>1.000000</td>\n",
       "      <td>1.000000</td>\n",
       "      <td>1.000000</td>\n",
       "      <td>1.000000</td>\n",
       "      <td>1.000000</td>\n",
       "    </tr>\n",
       "  </tbody>\n",
       "</table>\n",
       "</div>"
      ],
      "text/plain": [
       "           cement  blast_furnace_slag     fly_ash       water  \\\n",
       "count  678.000000          678.000000  678.000000  678.000000   \n",
       "mean     0.397305            0.211383    0.292638    0.477592   \n",
       "std      0.236028            0.238730    0.322895    0.173768   \n",
       "min      0.000000            0.000000    0.000000    0.000000   \n",
       "25%      0.201689            0.000000    0.000000    0.350259   \n",
       "50%      0.355479            0.072343    0.000000    0.504990   \n",
       "75%      0.546347            0.403450    0.606667    0.560878   \n",
       "max      1.000000            1.000000    1.000000    1.000000   \n",
       "\n",
       "       superplasticizer  coarse_aggregate  fine_aggregate         age  \\\n",
       "count        678.000000        678.000000      678.000000  678.000000   \n",
       "mean           0.191156          0.525993        0.449615    0.106973   \n",
       "std            0.183447          0.233678        0.191980    0.150503   \n",
       "min            0.000000          0.000000        0.000000    0.000000   \n",
       "25%            0.000000          0.404321        0.351982    0.011050   \n",
       "50%            0.197981          0.512346        0.464927    0.069061   \n",
       "75%            0.310559          0.704938        0.559458    0.146409   \n",
       "max            1.000000          1.000000        1.000000    1.000000   \n",
       "\n",
       "       cement_to_water_ratio  fine_aggregate_to_water_ratio  \\\n",
       "count             678.000000                     678.000000   \n",
       "mean                0.316289                       0.332858   \n",
       "std                 0.198607                       0.159788   \n",
       "min                 0.000000                       0.000000   \n",
       "25%                 0.167389                       0.247325   \n",
       "50%                 0.277018                       0.319144   \n",
       "75%                 0.402837                       0.418279   \n",
       "max                 1.000000                       1.000000   \n",
       "\n",
       "       coarse_aggregate_to_water_ratio  \n",
       "count                       678.000000  \n",
       "mean                          0.379007  \n",
       "std                           0.164933  \n",
       "min                           0.000000  \n",
       "25%                           0.256772  \n",
       "50%                           0.379787  \n",
       "75%                           0.485603  \n",
       "max                           1.000000  "
      ]
     },
     "execution_count": 20,
     "metadata": {},
     "output_type": "execute_result"
    }
   ],
   "source": [
    "X_train_valid.describe()"
   ]
  },
  {
   "cell_type": "code",
   "execution_count": 21,
   "metadata": {},
   "outputs": [],
   "source": [
    "X_full = pd.concat([X_train_valid, X_test], ignore_index=True, sort=False)\n",
    "y_full = pd.concat([y_train_valid, y_test], ignore_index=True, sort=False)"
   ]
  },
  {
   "cell_type": "code",
   "execution_count": 26,
   "metadata": {},
   "outputs": [
    {
     "data": {
      "application/vnd.microsoft.datawrangler.viewer.v0+json": {
       "columns": [
        {
         "name": "index",
         "rawType": "object",
         "type": "string"
        },
        {
         "name": "cement",
         "rawType": "float64",
         "type": "float"
        },
        {
         "name": "blast_furnace_slag",
         "rawType": "float64",
         "type": "float"
        },
        {
         "name": "fly_ash",
         "rawType": "float64",
         "type": "float"
        },
        {
         "name": "water",
         "rawType": "float64",
         "type": "float"
        },
        {
         "name": "superplasticizer",
         "rawType": "float64",
         "type": "float"
        },
        {
         "name": "coarse_aggregate",
         "rawType": "float64",
         "type": "float"
        },
        {
         "name": "fine_aggregate",
         "rawType": "float64",
         "type": "float"
        },
        {
         "name": "age",
         "rawType": "float64",
         "type": "float"
        },
        {
         "name": "cement_to_water_ratio",
         "rawType": "float64",
         "type": "float"
        },
        {
         "name": "fine_aggregate_to_water_ratio",
         "rawType": "float64",
         "type": "float"
        },
        {
         "name": "coarse_aggregate_to_water_ratio",
         "rawType": "float64",
         "type": "float"
        },
        {
         "name": "strength",
         "rawType": "float64",
         "type": "float"
        }
       ],
       "conversionMethod": "pd.DataFrame",
       "ref": "0e2bad38-a63e-45cb-9667-b7609e14b0f3",
       "rows": [
        [
         "count",
         "904.0",
         "904.0",
         "904.0",
         "904.0",
         "904.0",
         "904.0",
         "904.0",
         "904.0",
         "904.0",
         "904.0",
         "904.0",
         "904.0"
        ],
        [
         "mean",
         "0.4025163656200751",
         "0.20756022820728748",
         "0.28825777172679823",
         "0.47721327256990437",
         "0.19242892183806956",
         "0.5277960436468919",
         "0.45119383550390973",
         "0.10244524030704541",
         "0.3199264570681715",
         "0.33340732068504103",
         "0.3790959399730648",
         "35.28602942235229"
        ],
        [
         "std",
         "0.2374119174573936",
         "0.2393446938295976",
         "0.3217066208093732",
         "0.17126997465813842",
         "0.18359568693006054",
         "0.23434011282160652",
         "0.19315967279557508",
         "0.14676130069264046",
         "0.19838328196575303",
         "0.15903299368311472",
         "0.16090602041014324",
         "15.831514330327003"
        ],
        [
         "min",
         "0.0",
         "0.0",
         "0.0",
         "0.0",
         "0.0",
         "0.0",
         "0.0",
         "-0.0055248618784530384",
         "0.0",
         "0.0",
         "0.0",
         "2.331807832"
        ],
        [
         "25%",
         "0.20246575342465756",
         "0.0",
         "0.0",
         "0.3445109780439122",
         "0.0",
         "0.40432098765432123",
         "0.35198193677872536",
         "0.011049723756906077",
         "0.16738907524004162",
         "0.2436570133953821",
         "0.26218507878147407",
         "23.876726249"
        ],
        [
         "50%",
         "0.3715753424657534",
         "0.06677796327212021",
         "0.0",
         "0.5049900199600799",
         "0.1998447204968944",
         "0.5154320987654324",
         "0.46492724535875585",
         "0.06906077348066297",
         "0.28627325805178366",
         "0.3236213987071876",
         "0.3797995983057274",
         "33.780187143999996"
        ],
        [
         "75%",
         "0.547945205479452",
         "0.39732888146911527",
         "0.6065128205128205",
         "0.560878243512974",
         "0.3105590062111801",
         "0.7018518518518522",
         "0.5694932262920223",
         "0.06906077348066297",
         "0.40283664213158454",
         "0.42224737947134733",
         "0.4809161405177209",
         "44.544975932"
        ],
        [
         "max",
         "1.0",
         "1.0",
         "1.0",
         "1.0",
         "1.0",
         "1.0",
         "1.0000000000000002",
         "1.0",
         "0.9999999999999999",
         "1.0000000000000002",
         "1.0",
         "82.5992248"
        ]
       ],
       "shape": {
        "columns": 12,
        "rows": 8
       }
      },
      "text/html": [
       "<div>\n",
       "<style scoped>\n",
       "    .dataframe tbody tr th:only-of-type {\n",
       "        vertical-align: middle;\n",
       "    }\n",
       "\n",
       "    .dataframe tbody tr th {\n",
       "        vertical-align: top;\n",
       "    }\n",
       "\n",
       "    .dataframe thead th {\n",
       "        text-align: right;\n",
       "    }\n",
       "</style>\n",
       "<table border=\"1\" class=\"dataframe\">\n",
       "  <thead>\n",
       "    <tr style=\"text-align: right;\">\n",
       "      <th></th>\n",
       "      <th>cement</th>\n",
       "      <th>blast_furnace_slag</th>\n",
       "      <th>fly_ash</th>\n",
       "      <th>water</th>\n",
       "      <th>superplasticizer</th>\n",
       "      <th>coarse_aggregate</th>\n",
       "      <th>fine_aggregate</th>\n",
       "      <th>age</th>\n",
       "      <th>cement_to_water_ratio</th>\n",
       "      <th>fine_aggregate_to_water_ratio</th>\n",
       "      <th>coarse_aggregate_to_water_ratio</th>\n",
       "      <th>strength</th>\n",
       "    </tr>\n",
       "  </thead>\n",
       "  <tbody>\n",
       "    <tr>\n",
       "      <th>count</th>\n",
       "      <td>904.000000</td>\n",
       "      <td>904.000000</td>\n",
       "      <td>904.000000</td>\n",
       "      <td>904.000000</td>\n",
       "      <td>904.000000</td>\n",
       "      <td>904.000000</td>\n",
       "      <td>904.000000</td>\n",
       "      <td>904.000000</td>\n",
       "      <td>904.000000</td>\n",
       "      <td>904.000000</td>\n",
       "      <td>904.000000</td>\n",
       "      <td>904.000000</td>\n",
       "    </tr>\n",
       "    <tr>\n",
       "      <th>mean</th>\n",
       "      <td>0.402516</td>\n",
       "      <td>0.207560</td>\n",
       "      <td>0.288258</td>\n",
       "      <td>0.477213</td>\n",
       "      <td>0.192429</td>\n",
       "      <td>0.527796</td>\n",
       "      <td>0.451194</td>\n",
       "      <td>0.102445</td>\n",
       "      <td>0.319926</td>\n",
       "      <td>0.333407</td>\n",
       "      <td>0.379096</td>\n",
       "      <td>35.286029</td>\n",
       "    </tr>\n",
       "    <tr>\n",
       "      <th>std</th>\n",
       "      <td>0.237412</td>\n",
       "      <td>0.239345</td>\n",
       "      <td>0.321707</td>\n",
       "      <td>0.171270</td>\n",
       "      <td>0.183596</td>\n",
       "      <td>0.234340</td>\n",
       "      <td>0.193160</td>\n",
       "      <td>0.146761</td>\n",
       "      <td>0.198383</td>\n",
       "      <td>0.159033</td>\n",
       "      <td>0.160906</td>\n",
       "      <td>15.831514</td>\n",
       "    </tr>\n",
       "    <tr>\n",
       "      <th>min</th>\n",
       "      <td>0.000000</td>\n",
       "      <td>0.000000</td>\n",
       "      <td>0.000000</td>\n",
       "      <td>0.000000</td>\n",
       "      <td>0.000000</td>\n",
       "      <td>0.000000</td>\n",
       "      <td>0.000000</td>\n",
       "      <td>-0.005525</td>\n",
       "      <td>0.000000</td>\n",
       "      <td>0.000000</td>\n",
       "      <td>0.000000</td>\n",
       "      <td>2.331808</td>\n",
       "    </tr>\n",
       "    <tr>\n",
       "      <th>25%</th>\n",
       "      <td>0.202466</td>\n",
       "      <td>0.000000</td>\n",
       "      <td>0.000000</td>\n",
       "      <td>0.344511</td>\n",
       "      <td>0.000000</td>\n",
       "      <td>0.404321</td>\n",
       "      <td>0.351982</td>\n",
       "      <td>0.011050</td>\n",
       "      <td>0.167389</td>\n",
       "      <td>0.243657</td>\n",
       "      <td>0.262185</td>\n",
       "      <td>23.876726</td>\n",
       "    </tr>\n",
       "    <tr>\n",
       "      <th>50%</th>\n",
       "      <td>0.371575</td>\n",
       "      <td>0.066778</td>\n",
       "      <td>0.000000</td>\n",
       "      <td>0.504990</td>\n",
       "      <td>0.199845</td>\n",
       "      <td>0.515432</td>\n",
       "      <td>0.464927</td>\n",
       "      <td>0.069061</td>\n",
       "      <td>0.286273</td>\n",
       "      <td>0.323621</td>\n",
       "      <td>0.379800</td>\n",
       "      <td>33.780187</td>\n",
       "    </tr>\n",
       "    <tr>\n",
       "      <th>75%</th>\n",
       "      <td>0.547945</td>\n",
       "      <td>0.397329</td>\n",
       "      <td>0.606513</td>\n",
       "      <td>0.560878</td>\n",
       "      <td>0.310559</td>\n",
       "      <td>0.701852</td>\n",
       "      <td>0.569493</td>\n",
       "      <td>0.069061</td>\n",
       "      <td>0.402837</td>\n",
       "      <td>0.422247</td>\n",
       "      <td>0.480916</td>\n",
       "      <td>44.544976</td>\n",
       "    </tr>\n",
       "    <tr>\n",
       "      <th>max</th>\n",
       "      <td>1.000000</td>\n",
       "      <td>1.000000</td>\n",
       "      <td>1.000000</td>\n",
       "      <td>1.000000</td>\n",
       "      <td>1.000000</td>\n",
       "      <td>1.000000</td>\n",
       "      <td>1.000000</td>\n",
       "      <td>1.000000</td>\n",
       "      <td>1.000000</td>\n",
       "      <td>1.000000</td>\n",
       "      <td>1.000000</td>\n",
       "      <td>82.599225</td>\n",
       "    </tr>\n",
       "  </tbody>\n",
       "</table>\n",
       "</div>"
      ],
      "text/plain": [
       "           cement  blast_furnace_slag     fly_ash       water  \\\n",
       "count  904.000000          904.000000  904.000000  904.000000   \n",
       "mean     0.402516            0.207560    0.288258    0.477213   \n",
       "std      0.237412            0.239345    0.321707    0.171270   \n",
       "min      0.000000            0.000000    0.000000    0.000000   \n",
       "25%      0.202466            0.000000    0.000000    0.344511   \n",
       "50%      0.371575            0.066778    0.000000    0.504990   \n",
       "75%      0.547945            0.397329    0.606513    0.560878   \n",
       "max      1.000000            1.000000    1.000000    1.000000   \n",
       "\n",
       "       superplasticizer  coarse_aggregate  fine_aggregate         age  \\\n",
       "count        904.000000        904.000000      904.000000  904.000000   \n",
       "mean           0.192429          0.527796        0.451194    0.102445   \n",
       "std            0.183596          0.234340        0.193160    0.146761   \n",
       "min            0.000000          0.000000        0.000000   -0.005525   \n",
       "25%            0.000000          0.404321        0.351982    0.011050   \n",
       "50%            0.199845          0.515432        0.464927    0.069061   \n",
       "75%            0.310559          0.701852        0.569493    0.069061   \n",
       "max            1.000000          1.000000        1.000000    1.000000   \n",
       "\n",
       "       cement_to_water_ratio  fine_aggregate_to_water_ratio  \\\n",
       "count             904.000000                     904.000000   \n",
       "mean                0.319926                       0.333407   \n",
       "std                 0.198383                       0.159033   \n",
       "min                 0.000000                       0.000000   \n",
       "25%                 0.167389                       0.243657   \n",
       "50%                 0.286273                       0.323621   \n",
       "75%                 0.402837                       0.422247   \n",
       "max                 1.000000                       1.000000   \n",
       "\n",
       "       coarse_aggregate_to_water_ratio    strength  \n",
       "count                       904.000000  904.000000  \n",
       "mean                          0.379096   35.286029  \n",
       "std                           0.160906   15.831514  \n",
       "min                           0.000000    2.331808  \n",
       "25%                           0.262185   23.876726  \n",
       "50%                           0.379800   33.780187  \n",
       "75%                           0.480916   44.544976  \n",
       "max                           1.000000   82.599225  "
      ]
     },
     "execution_count": 26,
     "metadata": {},
     "output_type": "execute_result"
    }
   ],
   "source": [
    "#Add the target column back into the dataset\n",
    "X_full['strength'] = y_full\n",
    "\n",
    "X_full.describe()"
   ]
  },
  {
   "cell_type": "code",
   "execution_count": 27,
   "metadata": {},
   "outputs": [],
   "source": [
    "#Save the preprocessed data\n",
    "X_full.to_csv('/workspaces/2025SE-Mike.N-HSC-AT2/data/concrete_preprocessed.csv', index = False)"
   ]
  }
 ],
 "metadata": {
  "kernelspec": {
   "display_name": "Python 3",
   "language": "python",
   "name": "python3"
  },
  "language_info": {
   "codemirror_mode": {
    "name": "ipython",
    "version": 3
   },
   "file_extension": ".py",
   "mimetype": "text/x-python",
   "name": "python",
   "nbconvert_exporter": "python",
   "pygments_lexer": "ipython3",
   "version": "3.12.1"
  }
 },
 "nbformat": 4,
 "nbformat_minor": 2
}
