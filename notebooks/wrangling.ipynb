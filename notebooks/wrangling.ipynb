{
 "cells": [
  {
   "cell_type": "markdown",
   "metadata": {},
   "source": [
    "## Data Wrangling ##"
   ]
  },
  {
   "cell_type": "code",
   "execution_count": 25,
   "metadata": {},
   "outputs": [],
   "source": [
    "#Dependencies\n",
    "import pickle\n",
    "import matplotlib.pyplot as plt\n",
    "from matplotlib.legend_handler import HandlerPathCollection\n",
    "from sklearn.base import BaseEstimator, TransformerMixin\n",
    "from sklearn.preprocessing import RobustScaler, StandardScaler, MinMaxScaler\n",
    "from sklearn.model_selection import train_test_split\n",
    "from sklearn.decomposition import PCA\n",
    "from sklearn.neighbors import LocalOutlierFactor\n",
    "from sklearn.impute import SimpleImputer\n",
    "from sklearn.pipeline import Pipeline\n",
    "import pandas as pd\n",
    "import numpy as np"
   ]
  },
  {
   "cell_type": "code",
   "execution_count": 26,
   "metadata": {},
   "outputs": [],
   "source": [
    "X_full = pd.read_csv('../data/concrete_engineered.csv')"
   ]
  },
  {
   "cell_type": "code",
   "execution_count": 27,
   "metadata": {},
   "outputs": [
    {
     "data": {
      "text/plain": [
       "(1030, 9)"
      ]
     },
     "execution_count": 27,
     "metadata": {},
     "output_type": "execute_result"
    }
   ],
   "source": [
    "X_full.shape"
   ]
  },
  {
   "cell_type": "markdown",
   "metadata": {},
   "source": [
    "Choosing features. Categorical variables with high cardinality are discarded."
   ]
  },
  {
   "cell_type": "code",
   "execution_count": 28,
   "metadata": {},
   "outputs": [
    {
     "name": "stdout",
     "output_type": "stream",
     "text": [
      "[] ['cement', 'blast_furnace_slag', 'fly_ash', 'water', 'superplasticizer', 'coarse_aggregate', 'fine_aggregate', 'age', 'strength']\n"
     ]
    }
   ],
   "source": [
    "# Select categorical columns\n",
    "categorical_cols = [cname for cname in X_full.columns if\n",
    "                    X_full[cname].nunique() < 10 and \n",
    "                    X_full[cname].dtype == \"object\"]\n",
    "\n",
    "# Select numerical columns\n",
    "numerical_cols = [cname for cname in X_full.columns if \n",
    "                X_full[cname].dtype in ['int64', 'float64']]\n",
    "\n",
    "features = categorical_cols + numerical_cols\n",
    "print(categorical_cols, numerical_cols)\n"
   ]
  },
  {
   "cell_type": "markdown",
   "metadata": {},
   "source": [
    "No categorical features, so every feature gets treated in the same manner."
   ]
  },
  {
   "cell_type": "code",
   "execution_count": 29,
   "metadata": {},
   "outputs": [
    {
     "data": {
      "application/vnd.microsoft.datawrangler.viewer.v0+json": {
       "columns": [
        {
         "name": "index",
         "rawType": "object",
         "type": "string"
        },
        {
         "name": "cement",
         "rawType": "float64",
         "type": "float"
        },
        {
         "name": "blast_furnace_slag",
         "rawType": "float64",
         "type": "float"
        },
        {
         "name": "fly_ash",
         "rawType": "float64",
         "type": "float"
        },
        {
         "name": "water",
         "rawType": "float64",
         "type": "float"
        },
        {
         "name": "superplasticizer",
         "rawType": "float64",
         "type": "float"
        },
        {
         "name": "coarse_aggregate",
         "rawType": "float64",
         "type": "float"
        },
        {
         "name": "fine_aggregate",
         "rawType": "float64",
         "type": "float"
        },
        {
         "name": "age",
         "rawType": "float64",
         "type": "float"
        },
        {
         "name": "strength",
         "rawType": "float64",
         "type": "float"
        }
       ],
       "conversionMethod": "pd.DataFrame",
       "ref": "7a808ceb-f5e8-4305-a7eb-56482f8d7526",
       "rows": [
        [
         "count",
         "1030.0",
         "1030.0",
         "1030.0",
         "1030.0",
         "1030.0",
         "1030.0",
         "1030.0",
         "1030.0",
         "1030.0"
        ],
        [
         "mean",
         "281.16563106796116",
         "73.89548543689321",
         "54.1871359223301",
         "181.56635922330096",
         "6.203111650485437",
         "972.9185922330097",
         "773.5788834951456",
         "45.662135922330094",
         "35.8178358261136"
        ],
        [
         "std",
         "104.5071416428718",
         "86.27910364316895",
         "63.99646938186508",
         "21.355567066911522",
         "5.973491650590111",
         "77.75381809178927",
         "80.1754273990239",
         "63.16991158103249",
         "16.705679174867946"
        ],
        [
         "min",
         "102.0",
         "0.0",
         "0.0",
         "121.75",
         "0.0",
         "801.0",
         "594.0",
         "1.0",
         "2.331807832"
        ],
        [
         "25%",
         "192.375",
         "0.0",
         "0.0",
         "164.9",
         "0.0",
         "932.0",
         "730.95",
         "7.0",
         "23.707115153"
        ],
        [
         "50%",
         "272.9",
         "22.0",
         "0.0",
         "185.0",
         "6.35",
         "968.0",
         "779.51",
         "28.0",
         "34.44277358"
        ],
        [
         "75%",
         "350.0",
         "142.95",
         "118.27",
         "192.0",
         "10.16",
         "1029.4",
         "824.0",
         "56.0",
         "46.13628654"
        ],
        [
         "max",
         "540.0",
         "359.4",
         "200.1",
         "247.0",
         "32.2",
         "1145.0",
         "992.6",
         "365.0",
         "82.5992248"
        ]
       ],
       "shape": {
        "columns": 9,
        "rows": 8
       }
      },
      "text/html": [
       "<div>\n",
       "<style scoped>\n",
       "    .dataframe tbody tr th:only-of-type {\n",
       "        vertical-align: middle;\n",
       "    }\n",
       "\n",
       "    .dataframe tbody tr th {\n",
       "        vertical-align: top;\n",
       "    }\n",
       "\n",
       "    .dataframe thead th {\n",
       "        text-align: right;\n",
       "    }\n",
       "</style>\n",
       "<table border=\"1\" class=\"dataframe\">\n",
       "  <thead>\n",
       "    <tr style=\"text-align: right;\">\n",
       "      <th></th>\n",
       "      <th>cement</th>\n",
       "      <th>blast_furnace_slag</th>\n",
       "      <th>fly_ash</th>\n",
       "      <th>water</th>\n",
       "      <th>superplasticizer</th>\n",
       "      <th>coarse_aggregate</th>\n",
       "      <th>fine_aggregate</th>\n",
       "      <th>age</th>\n",
       "      <th>strength</th>\n",
       "    </tr>\n",
       "  </thead>\n",
       "  <tbody>\n",
       "    <tr>\n",
       "      <th>count</th>\n",
       "      <td>1030.000000</td>\n",
       "      <td>1030.000000</td>\n",
       "      <td>1030.000000</td>\n",
       "      <td>1030.000000</td>\n",
       "      <td>1030.000000</td>\n",
       "      <td>1030.000000</td>\n",
       "      <td>1030.000000</td>\n",
       "      <td>1030.000000</td>\n",
       "      <td>1030.000000</td>\n",
       "    </tr>\n",
       "    <tr>\n",
       "      <th>mean</th>\n",
       "      <td>281.165631</td>\n",
       "      <td>73.895485</td>\n",
       "      <td>54.187136</td>\n",
       "      <td>181.566359</td>\n",
       "      <td>6.203112</td>\n",
       "      <td>972.918592</td>\n",
       "      <td>773.578883</td>\n",
       "      <td>45.662136</td>\n",
       "      <td>35.817836</td>\n",
       "    </tr>\n",
       "    <tr>\n",
       "      <th>std</th>\n",
       "      <td>104.507142</td>\n",
       "      <td>86.279104</td>\n",
       "      <td>63.996469</td>\n",
       "      <td>21.355567</td>\n",
       "      <td>5.973492</td>\n",
       "      <td>77.753818</td>\n",
       "      <td>80.175427</td>\n",
       "      <td>63.169912</td>\n",
       "      <td>16.705679</td>\n",
       "    </tr>\n",
       "    <tr>\n",
       "      <th>min</th>\n",
       "      <td>102.000000</td>\n",
       "      <td>0.000000</td>\n",
       "      <td>0.000000</td>\n",
       "      <td>121.750000</td>\n",
       "      <td>0.000000</td>\n",
       "      <td>801.000000</td>\n",
       "      <td>594.000000</td>\n",
       "      <td>1.000000</td>\n",
       "      <td>2.331808</td>\n",
       "    </tr>\n",
       "    <tr>\n",
       "      <th>25%</th>\n",
       "      <td>192.375000</td>\n",
       "      <td>0.000000</td>\n",
       "      <td>0.000000</td>\n",
       "      <td>164.900000</td>\n",
       "      <td>0.000000</td>\n",
       "      <td>932.000000</td>\n",
       "      <td>730.950000</td>\n",
       "      <td>7.000000</td>\n",
       "      <td>23.707115</td>\n",
       "    </tr>\n",
       "    <tr>\n",
       "      <th>50%</th>\n",
       "      <td>272.900000</td>\n",
       "      <td>22.000000</td>\n",
       "      <td>0.000000</td>\n",
       "      <td>185.000000</td>\n",
       "      <td>6.350000</td>\n",
       "      <td>968.000000</td>\n",
       "      <td>779.510000</td>\n",
       "      <td>28.000000</td>\n",
       "      <td>34.442774</td>\n",
       "    </tr>\n",
       "    <tr>\n",
       "      <th>75%</th>\n",
       "      <td>350.000000</td>\n",
       "      <td>142.950000</td>\n",
       "      <td>118.270000</td>\n",
       "      <td>192.000000</td>\n",
       "      <td>10.160000</td>\n",
       "      <td>1029.400000</td>\n",
       "      <td>824.000000</td>\n",
       "      <td>56.000000</td>\n",
       "      <td>46.136287</td>\n",
       "    </tr>\n",
       "    <tr>\n",
       "      <th>max</th>\n",
       "      <td>540.000000</td>\n",
       "      <td>359.400000</td>\n",
       "      <td>200.100000</td>\n",
       "      <td>247.000000</td>\n",
       "      <td>32.200000</td>\n",
       "      <td>1145.000000</td>\n",
       "      <td>992.600000</td>\n",
       "      <td>365.000000</td>\n",
       "      <td>82.599225</td>\n",
       "    </tr>\n",
       "  </tbody>\n",
       "</table>\n",
       "</div>"
      ],
      "text/plain": [
       "            cement  blast_furnace_slag      fly_ash        water  \\\n",
       "count  1030.000000         1030.000000  1030.000000  1030.000000   \n",
       "mean    281.165631           73.895485    54.187136   181.566359   \n",
       "std     104.507142           86.279104    63.996469    21.355567   \n",
       "min     102.000000            0.000000     0.000000   121.750000   \n",
       "25%     192.375000            0.000000     0.000000   164.900000   \n",
       "50%     272.900000           22.000000     0.000000   185.000000   \n",
       "75%     350.000000          142.950000   118.270000   192.000000   \n",
       "max     540.000000          359.400000   200.100000   247.000000   \n",
       "\n",
       "       superplasticizer  coarse_aggregate  fine_aggregate          age  \\\n",
       "count       1030.000000       1030.000000     1030.000000  1030.000000   \n",
       "mean           6.203112        972.918592      773.578883    45.662136   \n",
       "std            5.973492         77.753818       80.175427    63.169912   \n",
       "min            0.000000        801.000000      594.000000     1.000000   \n",
       "25%            0.000000        932.000000      730.950000     7.000000   \n",
       "50%            6.350000        968.000000      779.510000    28.000000   \n",
       "75%           10.160000       1029.400000      824.000000    56.000000   \n",
       "max           32.200000       1145.000000      992.600000   365.000000   \n",
       "\n",
       "          strength  \n",
       "count  1030.000000  \n",
       "mean     35.817836  \n",
       "std      16.705679  \n",
       "min       2.331808  \n",
       "25%      23.707115  \n",
       "50%      34.442774  \n",
       "75%      46.136287  \n",
       "max      82.599225  "
      ]
     },
     "execution_count": 29,
     "metadata": {},
     "output_type": "execute_result"
    }
   ],
   "source": [
    "X_full.describe()"
   ]
  },
  {
   "cell_type": "markdown",
   "metadata": {},
   "source": [
    "Check for misisng values"
   ]
  },
  {
   "cell_type": "code",
   "execution_count": 30,
   "metadata": {},
   "outputs": [
    {
     "data": {
      "text/plain": [
       "cement                0\n",
       "blast_furnace_slag    0\n",
       "fly_ash               0\n",
       "water                 0\n",
       "superplasticizer      0\n",
       "coarse_aggregate      0\n",
       "fine_aggregate        0\n",
       "age                   0\n",
       "strength              0\n",
       "dtype: int64"
      ]
     },
     "execution_count": 30,
     "metadata": {},
     "output_type": "execute_result"
    }
   ],
   "source": [
    "#Check for missing values\n",
    "X_full.isnull().sum()"
   ]
  },
  {
   "cell_type": "markdown",
   "metadata": {},
   "source": [
    "Imputer for CI/CD. Ingredients in concrete formula are ratios so assumption of 0s for NaNs is best."
   ]
  },
  {
   "cell_type": "code",
   "execution_count": 31,
   "metadata": {},
   "outputs": [],
   "source": [
    "imputer = SimpleImputer(strategy='constant', fill_value=0)\n",
    "X_full[numerical_cols] = imputer.fit_transform(X_full[numerical_cols])"
   ]
  },
  {
   "cell_type": "code",
   "execution_count": 32,
   "metadata": {},
   "outputs": [
    {
     "data": {
      "text/plain": [
       "np.int64(25)"
      ]
     },
     "execution_count": 32,
     "metadata": {},
     "output_type": "execute_result"
    }
   ],
   "source": [
    "# Check for duplicates\n",
    "X_full.duplicated().sum()"
   ]
  },
  {
   "cell_type": "code",
   "execution_count": 33,
   "metadata": {},
   "outputs": [
    {
     "data": {
      "text/plain": [
       "0       False\n",
       "1       False\n",
       "2       False\n",
       "3       False\n",
       "4       False\n",
       "        ...  \n",
       "1025    False\n",
       "1026    False\n",
       "1027    False\n",
       "1028    False\n",
       "1029    False\n",
       "Length: 1005, dtype: bool"
      ]
     },
     "execution_count": 33,
     "metadata": {},
     "output_type": "execute_result"
    }
   ],
   "source": [
    "# Remove duplicates\n",
    "X_full = X_full.drop_duplicates()\n",
    "X_full.duplicated()"
   ]
  },
  {
   "cell_type": "code",
   "execution_count": 34,
   "metadata": {},
   "outputs": [
    {
     "data": {
      "text/plain": [
       "(1005, 9)"
      ]
     },
     "execution_count": 34,
     "metadata": {},
     "output_type": "execute_result"
    }
   ],
   "source": [
    "X_full.shape"
   ]
  },
  {
   "cell_type": "code",
   "execution_count": 35,
   "metadata": {},
   "outputs": [
    {
     "data": {
      "application/vnd.microsoft.datawrangler.viewer.v0+json": {
       "columns": [
        {
         "name": "index",
         "rawType": "object",
         "type": "string"
        },
        {
         "name": "cement",
         "rawType": "float64",
         "type": "float"
        },
        {
         "name": "blast_furnace_slag",
         "rawType": "float64",
         "type": "float"
        },
        {
         "name": "fly_ash",
         "rawType": "float64",
         "type": "float"
        },
        {
         "name": "water",
         "rawType": "float64",
         "type": "float"
        },
        {
         "name": "superplasticizer",
         "rawType": "float64",
         "type": "float"
        },
        {
         "name": "coarse_aggregate",
         "rawType": "float64",
         "type": "float"
        },
        {
         "name": "fine_aggregate",
         "rawType": "float64",
         "type": "float"
        },
        {
         "name": "age",
         "rawType": "float64",
         "type": "float"
        },
        {
         "name": "strength",
         "rawType": "float64",
         "type": "float"
        }
       ],
       "conversionMethod": "pd.DataFrame",
       "ref": "af344697-d827-4d69-8177-b35401391dfe",
       "rows": [
        [
         "count",
         "1005.0",
         "1005.0",
         "1005.0",
         "1005.0",
         "1005.0",
         "1005.0",
         "1005.0",
         "1005.0",
         "1005.0"
        ],
        [
         "mean",
         "278.62905472636817",
         "72.04313432835822",
         "55.53507462686567",
         "182.07437810945274",
         "6.031646766169154",
         "974.3764676616915",
         "772.686616915423",
         "45.85671641791045",
         "35.25027287623583"
        ],
        [
         "std",
         "104.34500276101967",
         "86.17055515848543",
         "64.20744844933418",
         "21.34073965588068",
         "5.91955899580221",
         "77.57953371703897",
         "80.33985105058504",
         "63.73469167941662",
         "16.2848076539508"
        ],
        [
         "min",
         "102.0",
         "0.0",
         "0.0",
         "121.75",
         "0.0",
         "801.0",
         "594.0",
         "1.0",
         "2.331807832"
        ],
        [
         "25%",
         "190.68",
         "0.0",
         "0.0",
         "166.61",
         "0.0",
         "932.0",
         "724.3",
         "7.0",
         "23.523542168"
        ],
        [
         "50%",
         "265.0",
         "20.0",
         "0.0",
         "185.7",
         "6.1",
         "968.0",
         "780.0",
         "28.0",
         "33.79811352"
        ],
        [
         "75%",
         "349.0",
         "142.5",
         "118.27",
         "192.94",
         "10.0",
         "1031.0",
         "822.2",
         "56.0",
         "44.868340176"
        ],
        [
         "max",
         "540.0",
         "359.4",
         "200.1",
         "247.0",
         "32.2",
         "1145.0",
         "992.6",
         "365.0",
         "82.5992248"
        ]
       ],
       "shape": {
        "columns": 9,
        "rows": 8
       }
      },
      "text/html": [
       "<div>\n",
       "<style scoped>\n",
       "    .dataframe tbody tr th:only-of-type {\n",
       "        vertical-align: middle;\n",
       "    }\n",
       "\n",
       "    .dataframe tbody tr th {\n",
       "        vertical-align: top;\n",
       "    }\n",
       "\n",
       "    .dataframe thead th {\n",
       "        text-align: right;\n",
       "    }\n",
       "</style>\n",
       "<table border=\"1\" class=\"dataframe\">\n",
       "  <thead>\n",
       "    <tr style=\"text-align: right;\">\n",
       "      <th></th>\n",
       "      <th>cement</th>\n",
       "      <th>blast_furnace_slag</th>\n",
       "      <th>fly_ash</th>\n",
       "      <th>water</th>\n",
       "      <th>superplasticizer</th>\n",
       "      <th>coarse_aggregate</th>\n",
       "      <th>fine_aggregate</th>\n",
       "      <th>age</th>\n",
       "      <th>strength</th>\n",
       "    </tr>\n",
       "  </thead>\n",
       "  <tbody>\n",
       "    <tr>\n",
       "      <th>count</th>\n",
       "      <td>1005.000000</td>\n",
       "      <td>1005.000000</td>\n",
       "      <td>1005.000000</td>\n",
       "      <td>1005.000000</td>\n",
       "      <td>1005.000000</td>\n",
       "      <td>1005.000000</td>\n",
       "      <td>1005.000000</td>\n",
       "      <td>1005.000000</td>\n",
       "      <td>1005.000000</td>\n",
       "    </tr>\n",
       "    <tr>\n",
       "      <th>mean</th>\n",
       "      <td>278.629055</td>\n",
       "      <td>72.043134</td>\n",
       "      <td>55.535075</td>\n",
       "      <td>182.074378</td>\n",
       "      <td>6.031647</td>\n",
       "      <td>974.376468</td>\n",
       "      <td>772.686617</td>\n",
       "      <td>45.856716</td>\n",
       "      <td>35.250273</td>\n",
       "    </tr>\n",
       "    <tr>\n",
       "      <th>std</th>\n",
       "      <td>104.345003</td>\n",
       "      <td>86.170555</td>\n",
       "      <td>64.207448</td>\n",
       "      <td>21.340740</td>\n",
       "      <td>5.919559</td>\n",
       "      <td>77.579534</td>\n",
       "      <td>80.339851</td>\n",
       "      <td>63.734692</td>\n",
       "      <td>16.284808</td>\n",
       "    </tr>\n",
       "    <tr>\n",
       "      <th>min</th>\n",
       "      <td>102.000000</td>\n",
       "      <td>0.000000</td>\n",
       "      <td>0.000000</td>\n",
       "      <td>121.750000</td>\n",
       "      <td>0.000000</td>\n",
       "      <td>801.000000</td>\n",
       "      <td>594.000000</td>\n",
       "      <td>1.000000</td>\n",
       "      <td>2.331808</td>\n",
       "    </tr>\n",
       "    <tr>\n",
       "      <th>25%</th>\n",
       "      <td>190.680000</td>\n",
       "      <td>0.000000</td>\n",
       "      <td>0.000000</td>\n",
       "      <td>166.610000</td>\n",
       "      <td>0.000000</td>\n",
       "      <td>932.000000</td>\n",
       "      <td>724.300000</td>\n",
       "      <td>7.000000</td>\n",
       "      <td>23.523542</td>\n",
       "    </tr>\n",
       "    <tr>\n",
       "      <th>50%</th>\n",
       "      <td>265.000000</td>\n",
       "      <td>20.000000</td>\n",
       "      <td>0.000000</td>\n",
       "      <td>185.700000</td>\n",
       "      <td>6.100000</td>\n",
       "      <td>968.000000</td>\n",
       "      <td>780.000000</td>\n",
       "      <td>28.000000</td>\n",
       "      <td>33.798114</td>\n",
       "    </tr>\n",
       "    <tr>\n",
       "      <th>75%</th>\n",
       "      <td>349.000000</td>\n",
       "      <td>142.500000</td>\n",
       "      <td>118.270000</td>\n",
       "      <td>192.940000</td>\n",
       "      <td>10.000000</td>\n",
       "      <td>1031.000000</td>\n",
       "      <td>822.200000</td>\n",
       "      <td>56.000000</td>\n",
       "      <td>44.868340</td>\n",
       "    </tr>\n",
       "    <tr>\n",
       "      <th>max</th>\n",
       "      <td>540.000000</td>\n",
       "      <td>359.400000</td>\n",
       "      <td>200.100000</td>\n",
       "      <td>247.000000</td>\n",
       "      <td>32.200000</td>\n",
       "      <td>1145.000000</td>\n",
       "      <td>992.600000</td>\n",
       "      <td>365.000000</td>\n",
       "      <td>82.599225</td>\n",
       "    </tr>\n",
       "  </tbody>\n",
       "</table>\n",
       "</div>"
      ],
      "text/plain": [
       "            cement  blast_furnace_slag      fly_ash        water  \\\n",
       "count  1005.000000         1005.000000  1005.000000  1005.000000   \n",
       "mean    278.629055           72.043134    55.535075   182.074378   \n",
       "std     104.345003           86.170555    64.207448    21.340740   \n",
       "min     102.000000            0.000000     0.000000   121.750000   \n",
       "25%     190.680000            0.000000     0.000000   166.610000   \n",
       "50%     265.000000           20.000000     0.000000   185.700000   \n",
       "75%     349.000000          142.500000   118.270000   192.940000   \n",
       "max     540.000000          359.400000   200.100000   247.000000   \n",
       "\n",
       "       superplasticizer  coarse_aggregate  fine_aggregate          age  \\\n",
       "count       1005.000000       1005.000000     1005.000000  1005.000000   \n",
       "mean           6.031647        974.376468      772.686617    45.856716   \n",
       "std            5.919559         77.579534       80.339851    63.734692   \n",
       "min            0.000000        801.000000      594.000000     1.000000   \n",
       "25%            0.000000        932.000000      724.300000     7.000000   \n",
       "50%            6.100000        968.000000      780.000000    28.000000   \n",
       "75%           10.000000       1031.000000      822.200000    56.000000   \n",
       "max           32.200000       1145.000000      992.600000   365.000000   \n",
       "\n",
       "          strength  \n",
       "count  1005.000000  \n",
       "mean     35.250273  \n",
       "std      16.284808  \n",
       "min       2.331808  \n",
       "25%      23.523542  \n",
       "50%      33.798114  \n",
       "75%      44.868340  \n",
       "max      82.599225  "
      ]
     },
     "execution_count": 35,
     "metadata": {},
     "output_type": "execute_result"
    }
   ],
   "source": [
    "X_full.describe()"
   ]
  },
  {
   "cell_type": "code",
   "execution_count": 36,
   "metadata": {},
   "outputs": [
    {
     "name": "stdout",
     "output_type": "stream",
     "text": [
      "Outliers are a cement above 586.48 or below -46.79999999999998\n",
      "Number of outliers in cement is 0\n",
      "Outliers are a blast_furnace_slag above 356.25 or below -213.75\n",
      "Number of outliers in blast_furnace_slag is 2\n",
      "Outliers are a fly_ash above 295.675 or below -177.405\n",
      "Number of outliers in fly_ash is 0\n",
      "Outliers are a water above 232.43499999999997 or below 127.11500000000004\n",
      "Number of outliers in water is 15\n",
      "Outliers are a superplasticizer above 25.0 or below -15.0\n",
      "Number of outliers in superplasticizer is 10\n",
      "Outliers are a coarse_aggregate above 1179.5 or below 783.5\n",
      "Number of outliers in coarse_aggregate is 0\n",
      "Outliers are a fine_aggregate above 969.0500000000002 or below 577.4499999999998\n",
      "Number of outliers in fine_aggregate is 5\n",
      "Outliers are a age above 129.5 or below -66.5\n",
      "Number of outliers in age is 59\n",
      "Outliers are a strength above 76.885537188 or below -8.493654843999998\n",
      "Number of outliers in strength is 8\n"
     ]
    }
   ],
   "source": [
    "for col in X_full.columns:\n",
    "    Q1 = X_full[col].quantile(0.25)\n",
    "    Q3 = X_full[col].quantile(0.75)\n",
    "    IQR = Q3 - Q1\n",
    "    print(f'Outliers are a {col} above {Q3 + IQR * 1.5} or below {Q1 - IQR * 1.5}')\n",
    "    arr = []\n",
    "    for x in X_full[col].to_numpy():\n",
    "        if x < (Q1 - IQR * 1.5) or x > (Q3 + IQR * 1.5):\n",
    "            arr.append(x)\n",
    "    print(f\"Number of outliers in {col} is {len(arr)}\")"
   ]
  },
  {
   "cell_type": "code",
   "execution_count": 37,
   "metadata": {},
   "outputs": [],
   "source": [
    "outlier_detector = LocalOutlierFactor(n_neighbors=20, contamination=0.005)\n",
    "outliers = outlier_detector.fit_predict(X_full)\n",
    "X_scores = outlier_detector.negative_outlier_factor_\n",
    "X_full = X_full[outliers != -1]"
   ]
  },
  {
   "cell_type": "code",
   "execution_count": 38,
   "metadata": {},
   "outputs": [
    {
     "data": {
      "application/vnd.microsoft.datawrangler.viewer.v0+json": {
       "columns": [
        {
         "name": "index",
         "rawType": "object",
         "type": "string"
        },
        {
         "name": "cement",
         "rawType": "float64",
         "type": "float"
        },
        {
         "name": "blast_furnace_slag",
         "rawType": "float64",
         "type": "float"
        },
        {
         "name": "fly_ash",
         "rawType": "float64",
         "type": "float"
        },
        {
         "name": "water",
         "rawType": "float64",
         "type": "float"
        },
        {
         "name": "superplasticizer",
         "rawType": "float64",
         "type": "float"
        },
        {
         "name": "coarse_aggregate",
         "rawType": "float64",
         "type": "float"
        },
        {
         "name": "fine_aggregate",
         "rawType": "float64",
         "type": "float"
        },
        {
         "name": "age",
         "rawType": "float64",
         "type": "float"
        },
        {
         "name": "strength",
         "rawType": "float64",
         "type": "float"
        }
       ],
       "conversionMethod": "pd.DataFrame",
       "ref": "95bb9d0d-f4a8-419c-9ea2-8927505921c6",
       "rows": [
        [
         "count",
         "999.0",
         "999.0",
         "999.0",
         "999.0",
         "999.0",
         "999.0",
         "999.0",
         "999.0",
         "999.0"
        ],
        [
         "mean",
         "278.63653653653654",
         "72.24869869869869",
         "55.33478478478478",
         "182.1532032032032",
         "6.018323323323323",
         "973.7906406406406",
         "773.0131631631632",
         "45.811811811811815",
         "35.21904635602104"
        ],
        [
         "std",
         "104.11345449667338",
         "86.18164338547712",
         "63.9752386635082",
         "21.35448261150243",
         "5.8999884970308845",
         "77.37043463300817",
         "80.32845243714269",
         "63.77227003542812",
         "16.247082329764762"
        ],
        [
         "min",
         "102.0",
         "0.0",
         "0.0",
         "121.75",
         "0.0",
         "801.0",
         "594.0",
         "1.0",
         "2.331807832"
        ],
        [
         "25%",
         "190.68",
         "0.0",
         "0.0",
         "166.61",
         "0.0",
         "932.0",
         "728.45",
         "7.0",
         "23.523886906"
        ],
        [
         "50%",
         "265.0",
         "20.0",
         "0.0",
         "185.7",
         "6.1",
         "968.0",
         "780.0",
         "28.0",
         "33.762260768"
        ],
        [
         "75%",
         "345.5",
         "142.5",
         "118.27",
         "192.94",
         "10.0",
         "1029.4",
         "824.0",
         "56.0",
         "44.781121462"
        ],
        [
         "max",
         "540.0",
         "359.4",
         "200.1",
         "247.0",
         "32.2",
         "1145.0",
         "992.6",
         "365.0",
         "82.5992248"
        ]
       ],
       "shape": {
        "columns": 9,
        "rows": 8
       }
      },
      "text/html": [
       "<div>\n",
       "<style scoped>\n",
       "    .dataframe tbody tr th:only-of-type {\n",
       "        vertical-align: middle;\n",
       "    }\n",
       "\n",
       "    .dataframe tbody tr th {\n",
       "        vertical-align: top;\n",
       "    }\n",
       "\n",
       "    .dataframe thead th {\n",
       "        text-align: right;\n",
       "    }\n",
       "</style>\n",
       "<table border=\"1\" class=\"dataframe\">\n",
       "  <thead>\n",
       "    <tr style=\"text-align: right;\">\n",
       "      <th></th>\n",
       "      <th>cement</th>\n",
       "      <th>blast_furnace_slag</th>\n",
       "      <th>fly_ash</th>\n",
       "      <th>water</th>\n",
       "      <th>superplasticizer</th>\n",
       "      <th>coarse_aggregate</th>\n",
       "      <th>fine_aggregate</th>\n",
       "      <th>age</th>\n",
       "      <th>strength</th>\n",
       "    </tr>\n",
       "  </thead>\n",
       "  <tbody>\n",
       "    <tr>\n",
       "      <th>count</th>\n",
       "      <td>999.000000</td>\n",
       "      <td>999.000000</td>\n",
       "      <td>999.000000</td>\n",
       "      <td>999.000000</td>\n",
       "      <td>999.000000</td>\n",
       "      <td>999.000000</td>\n",
       "      <td>999.000000</td>\n",
       "      <td>999.000000</td>\n",
       "      <td>999.000000</td>\n",
       "    </tr>\n",
       "    <tr>\n",
       "      <th>mean</th>\n",
       "      <td>278.636537</td>\n",
       "      <td>72.248699</td>\n",
       "      <td>55.334785</td>\n",
       "      <td>182.153203</td>\n",
       "      <td>6.018323</td>\n",
       "      <td>973.790641</td>\n",
       "      <td>773.013163</td>\n",
       "      <td>45.811812</td>\n",
       "      <td>35.219046</td>\n",
       "    </tr>\n",
       "    <tr>\n",
       "      <th>std</th>\n",
       "      <td>104.113454</td>\n",
       "      <td>86.181643</td>\n",
       "      <td>63.975239</td>\n",
       "      <td>21.354483</td>\n",
       "      <td>5.899988</td>\n",
       "      <td>77.370435</td>\n",
       "      <td>80.328452</td>\n",
       "      <td>63.772270</td>\n",
       "      <td>16.247082</td>\n",
       "    </tr>\n",
       "    <tr>\n",
       "      <th>min</th>\n",
       "      <td>102.000000</td>\n",
       "      <td>0.000000</td>\n",
       "      <td>0.000000</td>\n",
       "      <td>121.750000</td>\n",
       "      <td>0.000000</td>\n",
       "      <td>801.000000</td>\n",
       "      <td>594.000000</td>\n",
       "      <td>1.000000</td>\n",
       "      <td>2.331808</td>\n",
       "    </tr>\n",
       "    <tr>\n",
       "      <th>25%</th>\n",
       "      <td>190.680000</td>\n",
       "      <td>0.000000</td>\n",
       "      <td>0.000000</td>\n",
       "      <td>166.610000</td>\n",
       "      <td>0.000000</td>\n",
       "      <td>932.000000</td>\n",
       "      <td>728.450000</td>\n",
       "      <td>7.000000</td>\n",
       "      <td>23.523887</td>\n",
       "    </tr>\n",
       "    <tr>\n",
       "      <th>50%</th>\n",
       "      <td>265.000000</td>\n",
       "      <td>20.000000</td>\n",
       "      <td>0.000000</td>\n",
       "      <td>185.700000</td>\n",
       "      <td>6.100000</td>\n",
       "      <td>968.000000</td>\n",
       "      <td>780.000000</td>\n",
       "      <td>28.000000</td>\n",
       "      <td>33.762261</td>\n",
       "    </tr>\n",
       "    <tr>\n",
       "      <th>75%</th>\n",
       "      <td>345.500000</td>\n",
       "      <td>142.500000</td>\n",
       "      <td>118.270000</td>\n",
       "      <td>192.940000</td>\n",
       "      <td>10.000000</td>\n",
       "      <td>1029.400000</td>\n",
       "      <td>824.000000</td>\n",
       "      <td>56.000000</td>\n",
       "      <td>44.781121</td>\n",
       "    </tr>\n",
       "    <tr>\n",
       "      <th>max</th>\n",
       "      <td>540.000000</td>\n",
       "      <td>359.400000</td>\n",
       "      <td>200.100000</td>\n",
       "      <td>247.000000</td>\n",
       "      <td>32.200000</td>\n",
       "      <td>1145.000000</td>\n",
       "      <td>992.600000</td>\n",
       "      <td>365.000000</td>\n",
       "      <td>82.599225</td>\n",
       "    </tr>\n",
       "  </tbody>\n",
       "</table>\n",
       "</div>"
      ],
      "text/plain": [
       "           cement  blast_furnace_slag     fly_ash       water  \\\n",
       "count  999.000000          999.000000  999.000000  999.000000   \n",
       "mean   278.636537           72.248699   55.334785  182.153203   \n",
       "std    104.113454           86.181643   63.975239   21.354483   \n",
       "min    102.000000            0.000000    0.000000  121.750000   \n",
       "25%    190.680000            0.000000    0.000000  166.610000   \n",
       "50%    265.000000           20.000000    0.000000  185.700000   \n",
       "75%    345.500000          142.500000  118.270000  192.940000   \n",
       "max    540.000000          359.400000  200.100000  247.000000   \n",
       "\n",
       "       superplasticizer  coarse_aggregate  fine_aggregate         age  \\\n",
       "count        999.000000        999.000000      999.000000  999.000000   \n",
       "mean           6.018323        973.790641      773.013163   45.811812   \n",
       "std            5.899988         77.370435       80.328452   63.772270   \n",
       "min            0.000000        801.000000      594.000000    1.000000   \n",
       "25%            0.000000        932.000000      728.450000    7.000000   \n",
       "50%            6.100000        968.000000      780.000000   28.000000   \n",
       "75%           10.000000       1029.400000      824.000000   56.000000   \n",
       "max           32.200000       1145.000000      992.600000  365.000000   \n",
       "\n",
       "         strength  \n",
       "count  999.000000  \n",
       "mean    35.219046  \n",
       "std     16.247082  \n",
       "min      2.331808  \n",
       "25%     23.523887  \n",
       "50%     33.762261  \n",
       "75%     44.781121  \n",
       "max     82.599225  "
      ]
     },
     "execution_count": 38,
     "metadata": {},
     "output_type": "execute_result"
    }
   ],
   "source": [
    "X_full.describe()"
   ]
  },
  {
   "cell_type": "code",
   "execution_count": 39,
   "metadata": {},
   "outputs": [],
   "source": [
    "y = X_full['strength'].copy()\n",
    "X_full = X_full.drop(['strength'], axis = 1)\n",
    "X_train_valid, X_test, y_train_valid, y_test = train_test_split(X_full, y, test_size=0.25, random_state=42)\n",
    "features.remove('strength')"
   ]
  },
  {
   "cell_type": "code",
   "execution_count": 40,
   "metadata": {},
   "outputs": [],
   "source": [
    "# Preprocessing for numerical data\n",
    "# Imputing NANs as a result of feature engineering\n",
    "# RobustScaler is used to scale the data, as it is less prone to outliers\n",
    "# Outlier Detection\n",
    "scaler = MinMaxScaler()\n",
    "X_train_valid = scaler.fit_transform(X_train_valid)\n",
    "pickle.dump(scaler, open('../model/scaler.pkl', 'wb'))\n",
    "X_test = scaler.transform(X_test)\n",
    "X_train_valid = pd.DataFrame(X_train_valid, columns = features)\n",
    "X_test = pd.DataFrame(X_test, columns = features)"
   ]
  },
  {
   "cell_type": "code",
   "execution_count": 41,
   "metadata": {},
   "outputs": [
    {
     "data": {
      "text/plain": [
       "(749,)"
      ]
     },
     "execution_count": 41,
     "metadata": {},
     "output_type": "execute_result"
    }
   ],
   "source": [
    "y_train_valid.shape"
   ]
  },
  {
   "cell_type": "code",
   "execution_count": 42,
   "metadata": {},
   "outputs": [
    {
     "data": {
      "text/plain": [
       "(250,)"
      ]
     },
     "execution_count": 42,
     "metadata": {},
     "output_type": "execute_result"
    }
   ],
   "source": [
    "y_test.shape"
   ]
  },
  {
   "cell_type": "code",
   "execution_count": 43,
   "metadata": {},
   "outputs": [
    {
     "data": {
      "text/plain": [
       "(749, 8)"
      ]
     },
     "execution_count": 43,
     "metadata": {},
     "output_type": "execute_result"
    }
   ],
   "source": [
    "X_train_valid.shape"
   ]
  },
  {
   "cell_type": "code",
   "execution_count": 44,
   "metadata": {},
   "outputs": [
    {
     "data": {
      "text/plain": [
       "(250, 8)"
      ]
     },
     "execution_count": 44,
     "metadata": {},
     "output_type": "execute_result"
    }
   ],
   "source": [
    "X_test.shape"
   ]
  },
  {
   "cell_type": "code",
   "execution_count": 45,
   "metadata": {},
   "outputs": [
    {
     "data": {
      "application/vnd.microsoft.datawrangler.viewer.v0+json": {
       "columns": [
        {
         "name": "index",
         "rawType": "object",
         "type": "string"
        },
        {
         "name": "cement",
         "rawType": "float64",
         "type": "float"
        },
        {
         "name": "blast_furnace_slag",
         "rawType": "float64",
         "type": "float"
        },
        {
         "name": "fly_ash",
         "rawType": "float64",
         "type": "float"
        },
        {
         "name": "water",
         "rawType": "float64",
         "type": "float"
        },
        {
         "name": "superplasticizer",
         "rawType": "float64",
         "type": "float"
        },
        {
         "name": "coarse_aggregate",
         "rawType": "float64",
         "type": "float"
        },
        {
         "name": "fine_aggregate",
         "rawType": "float64",
         "type": "float"
        },
        {
         "name": "age",
         "rawType": "float64",
         "type": "float"
        }
       ],
       "conversionMethod": "pd.DataFrame",
       "ref": "ac7ab744-689b-430e-b5ae-5ba5e284132d",
       "rows": [
        [
         "count",
         "749.0",
         "749.0",
         "749.0",
         "749.0",
         "749.0",
         "749.0",
         "749.0",
         "749.0"
        ],
        [
         "mean",
         "0.40397973553779465",
         "0.20358686373149731",
         "0.28242326520831196",
         "0.48355166835887636",
         "0.18645473467729226",
         "0.5044642857142857",
         "0.44617325525855855",
         "0.118561011751933"
        ],
        [
         "std",
         "0.2401752704980858",
         "0.24270468367715992",
         "0.3264391010865845",
         "0.16837986208102806",
         "0.1843371460361235",
         "0.2241453429404951",
         "0.20305133636109537",
         "0.16044213400718121"
        ],
        [
         "min",
         "0.0",
         "0.0",
         "0.0",
         "0.0",
         "0.0",
         "0.0",
         "0.0",
         "0.0"
        ],
        [
         "25%",
         "0.20246575342465756",
         "0.0",
         "0.0",
         "0.3581636726546906",
         "0.0",
         "0.3808139534883721",
         "0.32237832413447065",
         "0.03571428571428572"
        ],
        [
         "50%",
         "0.36529680365296807",
         "0.05564830272676684",
         "0.0",
         "0.5105788423153692",
         "0.18633540372670804",
         "0.48546511627906996",
         "0.46663321625689913",
         "0.07417582417582418"
        ],
        [
         "75%",
         "0.5639269406392693",
         "0.4026154702281581",
         "0.6065128205128205",
         "0.568383233532934",
         "0.3105590062111801",
         "0.6639534883720932",
         "0.5725037631710992",
         "0.15109890109890112"
        ],
        [
         "max",
         "1.0",
         "1.0",
         "1.0",
         "1.0",
         "1.0",
         "1.0",
         "1.0000000000000002",
         "1.0"
        ]
       ],
       "shape": {
        "columns": 8,
        "rows": 8
       }
      },
      "text/html": [
       "<div>\n",
       "<style scoped>\n",
       "    .dataframe tbody tr th:only-of-type {\n",
       "        vertical-align: middle;\n",
       "    }\n",
       "\n",
       "    .dataframe tbody tr th {\n",
       "        vertical-align: top;\n",
       "    }\n",
       "\n",
       "    .dataframe thead th {\n",
       "        text-align: right;\n",
       "    }\n",
       "</style>\n",
       "<table border=\"1\" class=\"dataframe\">\n",
       "  <thead>\n",
       "    <tr style=\"text-align: right;\">\n",
       "      <th></th>\n",
       "      <th>cement</th>\n",
       "      <th>blast_furnace_slag</th>\n",
       "      <th>fly_ash</th>\n",
       "      <th>water</th>\n",
       "      <th>superplasticizer</th>\n",
       "      <th>coarse_aggregate</th>\n",
       "      <th>fine_aggregate</th>\n",
       "      <th>age</th>\n",
       "    </tr>\n",
       "  </thead>\n",
       "  <tbody>\n",
       "    <tr>\n",
       "      <th>count</th>\n",
       "      <td>749.000000</td>\n",
       "      <td>749.000000</td>\n",
       "      <td>749.000000</td>\n",
       "      <td>749.000000</td>\n",
       "      <td>749.000000</td>\n",
       "      <td>749.000000</td>\n",
       "      <td>749.000000</td>\n",
       "      <td>749.000000</td>\n",
       "    </tr>\n",
       "    <tr>\n",
       "      <th>mean</th>\n",
       "      <td>0.403980</td>\n",
       "      <td>0.203587</td>\n",
       "      <td>0.282423</td>\n",
       "      <td>0.483552</td>\n",
       "      <td>0.186455</td>\n",
       "      <td>0.504464</td>\n",
       "      <td>0.446173</td>\n",
       "      <td>0.118561</td>\n",
       "    </tr>\n",
       "    <tr>\n",
       "      <th>std</th>\n",
       "      <td>0.240175</td>\n",
       "      <td>0.242705</td>\n",
       "      <td>0.326439</td>\n",
       "      <td>0.168380</td>\n",
       "      <td>0.184337</td>\n",
       "      <td>0.224145</td>\n",
       "      <td>0.203051</td>\n",
       "      <td>0.160442</td>\n",
       "    </tr>\n",
       "    <tr>\n",
       "      <th>min</th>\n",
       "      <td>0.000000</td>\n",
       "      <td>0.000000</td>\n",
       "      <td>0.000000</td>\n",
       "      <td>0.000000</td>\n",
       "      <td>0.000000</td>\n",
       "      <td>0.000000</td>\n",
       "      <td>0.000000</td>\n",
       "      <td>0.000000</td>\n",
       "    </tr>\n",
       "    <tr>\n",
       "      <th>25%</th>\n",
       "      <td>0.202466</td>\n",
       "      <td>0.000000</td>\n",
       "      <td>0.000000</td>\n",
       "      <td>0.358164</td>\n",
       "      <td>0.000000</td>\n",
       "      <td>0.380814</td>\n",
       "      <td>0.322378</td>\n",
       "      <td>0.035714</td>\n",
       "    </tr>\n",
       "    <tr>\n",
       "      <th>50%</th>\n",
       "      <td>0.365297</td>\n",
       "      <td>0.055648</td>\n",
       "      <td>0.000000</td>\n",
       "      <td>0.510579</td>\n",
       "      <td>0.186335</td>\n",
       "      <td>0.485465</td>\n",
       "      <td>0.466633</td>\n",
       "      <td>0.074176</td>\n",
       "    </tr>\n",
       "    <tr>\n",
       "      <th>75%</th>\n",
       "      <td>0.563927</td>\n",
       "      <td>0.402615</td>\n",
       "      <td>0.606513</td>\n",
       "      <td>0.568383</td>\n",
       "      <td>0.310559</td>\n",
       "      <td>0.663953</td>\n",
       "      <td>0.572504</td>\n",
       "      <td>0.151099</td>\n",
       "    </tr>\n",
       "    <tr>\n",
       "      <th>max</th>\n",
       "      <td>1.000000</td>\n",
       "      <td>1.000000</td>\n",
       "      <td>1.000000</td>\n",
       "      <td>1.000000</td>\n",
       "      <td>1.000000</td>\n",
       "      <td>1.000000</td>\n",
       "      <td>1.000000</td>\n",
       "      <td>1.000000</td>\n",
       "    </tr>\n",
       "  </tbody>\n",
       "</table>\n",
       "</div>"
      ],
      "text/plain": [
       "           cement  blast_furnace_slag     fly_ash       water  \\\n",
       "count  749.000000          749.000000  749.000000  749.000000   \n",
       "mean     0.403980            0.203587    0.282423    0.483552   \n",
       "std      0.240175            0.242705    0.326439    0.168380   \n",
       "min      0.000000            0.000000    0.000000    0.000000   \n",
       "25%      0.202466            0.000000    0.000000    0.358164   \n",
       "50%      0.365297            0.055648    0.000000    0.510579   \n",
       "75%      0.563927            0.402615    0.606513    0.568383   \n",
       "max      1.000000            1.000000    1.000000    1.000000   \n",
       "\n",
       "       superplasticizer  coarse_aggregate  fine_aggregate         age  \n",
       "count        749.000000        749.000000      749.000000  749.000000  \n",
       "mean           0.186455          0.504464        0.446173    0.118561  \n",
       "std            0.184337          0.224145        0.203051    0.160442  \n",
       "min            0.000000          0.000000        0.000000    0.000000  \n",
       "25%            0.000000          0.380814        0.322378    0.035714  \n",
       "50%            0.186335          0.485465        0.466633    0.074176  \n",
       "75%            0.310559          0.663953        0.572504    0.151099  \n",
       "max            1.000000          1.000000        1.000000    1.000000  "
      ]
     },
     "execution_count": 45,
     "metadata": {},
     "output_type": "execute_result"
    }
   ],
   "source": [
    "X_train_valid.describe()"
   ]
  },
  {
   "cell_type": "code",
   "execution_count": 46,
   "metadata": {},
   "outputs": [],
   "source": [
    "X_full = pd.concat([X_train_valid, X_test], ignore_index=True, sort=False)\n",
    "y_full = pd.concat([y_train_valid, y_test], ignore_index=True, sort=False)"
   ]
  },
  {
   "cell_type": "code",
   "execution_count": 47,
   "metadata": {},
   "outputs": [
    {
     "data": {
      "application/vnd.microsoft.datawrangler.viewer.v0+json": {
       "columns": [
        {
         "name": "index",
         "rawType": "object",
         "type": "string"
        },
        {
         "name": "cement",
         "rawType": "float64",
         "type": "float"
        },
        {
         "name": "blast_furnace_slag",
         "rawType": "float64",
         "type": "float"
        },
        {
         "name": "fly_ash",
         "rawType": "float64",
         "type": "float"
        },
        {
         "name": "water",
         "rawType": "float64",
         "type": "float"
        },
        {
         "name": "superplasticizer",
         "rawType": "float64",
         "type": "float"
        },
        {
         "name": "coarse_aggregate",
         "rawType": "float64",
         "type": "float"
        },
        {
         "name": "fine_aggregate",
         "rawType": "float64",
         "type": "float"
        },
        {
         "name": "age",
         "rawType": "float64",
         "type": "float"
        },
        {
         "name": "strength",
         "rawType": "float64",
         "type": "float"
        }
       ],
       "conversionMethod": "pd.DataFrame",
       "ref": "4d7fe01b-558c-4b2f-b21f-4f32c313239b",
       "rows": [
        [
         "count",
         "999.0",
         "999.0",
         "999.0",
         "999.0",
         "999.0",
         "999.0",
         "999.0",
         "999.0",
         "999.0"
        ],
        [
         "mean",
         "0.4032797637820469",
         "0.2010258728400075",
         "0.28376812710146043",
         "0.4822611034187881",
         "0.1869044510348858",
         "0.5022983739553507",
         "0.4491047746190747",
         "0.12310937310937312",
         "35.21904635602103"
        ],
        [
         "std",
         "0.23770195090564697",
         "0.23979310903026468",
         "0.3280781469923497",
         "0.17049487114971998",
         "0.18322945642953056",
         "0.2249140541657214",
         "0.2015264737509852",
         "0.17519854405337398",
         "16.247082329764762"
        ],
        [
         "min",
         "0.0",
         "0.0",
         "0.0",
         "0.0",
         "0.0",
         "0.0",
         "0.0",
         "0.0",
         "2.331807832"
        ],
        [
         "25%",
         "0.20246575342465756",
         "0.0",
         "0.0",
         "0.3581636726546906",
         "0.0",
         "0.3808139534883721",
         "0.3373055694932263",
         "0.016483516483516484",
         "23.523886906"
        ],
        [
         "50%",
         "0.37214611872146114",
         "0.05564830272676684",
         "0.0",
         "0.5105788423153692",
         "0.18944099378881984",
         "0.48546511627906996",
         "0.46663321625689913",
         "0.07417582417582418",
         "33.762260768"
        ],
        [
         "75%",
         "0.5559360730593607",
         "0.3964941569282137",
         "0.6065128205128205",
         "0.568383233532934",
         "0.3105590062111801",
         "0.6639534883720932",
         "0.5770195684897141",
         "0.15109890109890112",
         "44.781121462"
        ],
        [
         "max",
         "1.0",
         "1.0",
         "1.0261538461538462",
         "1.0",
         "1.0",
         "1.0",
         "1.0000000000000002",
         "1.0",
         "82.5992248"
        ]
       ],
       "shape": {
        "columns": 9,
        "rows": 8
       }
      },
      "text/html": [
       "<div>\n",
       "<style scoped>\n",
       "    .dataframe tbody tr th:only-of-type {\n",
       "        vertical-align: middle;\n",
       "    }\n",
       "\n",
       "    .dataframe tbody tr th {\n",
       "        vertical-align: top;\n",
       "    }\n",
       "\n",
       "    .dataframe thead th {\n",
       "        text-align: right;\n",
       "    }\n",
       "</style>\n",
       "<table border=\"1\" class=\"dataframe\">\n",
       "  <thead>\n",
       "    <tr style=\"text-align: right;\">\n",
       "      <th></th>\n",
       "      <th>cement</th>\n",
       "      <th>blast_furnace_slag</th>\n",
       "      <th>fly_ash</th>\n",
       "      <th>water</th>\n",
       "      <th>superplasticizer</th>\n",
       "      <th>coarse_aggregate</th>\n",
       "      <th>fine_aggregate</th>\n",
       "      <th>age</th>\n",
       "      <th>strength</th>\n",
       "    </tr>\n",
       "  </thead>\n",
       "  <tbody>\n",
       "    <tr>\n",
       "      <th>count</th>\n",
       "      <td>999.000000</td>\n",
       "      <td>999.000000</td>\n",
       "      <td>999.000000</td>\n",
       "      <td>999.000000</td>\n",
       "      <td>999.000000</td>\n",
       "      <td>999.000000</td>\n",
       "      <td>999.000000</td>\n",
       "      <td>999.000000</td>\n",
       "      <td>999.000000</td>\n",
       "    </tr>\n",
       "    <tr>\n",
       "      <th>mean</th>\n",
       "      <td>0.403280</td>\n",
       "      <td>0.201026</td>\n",
       "      <td>0.283768</td>\n",
       "      <td>0.482261</td>\n",
       "      <td>0.186904</td>\n",
       "      <td>0.502298</td>\n",
       "      <td>0.449105</td>\n",
       "      <td>0.123109</td>\n",
       "      <td>35.219046</td>\n",
       "    </tr>\n",
       "    <tr>\n",
       "      <th>std</th>\n",
       "      <td>0.237702</td>\n",
       "      <td>0.239793</td>\n",
       "      <td>0.328078</td>\n",
       "      <td>0.170495</td>\n",
       "      <td>0.183229</td>\n",
       "      <td>0.224914</td>\n",
       "      <td>0.201526</td>\n",
       "      <td>0.175199</td>\n",
       "      <td>16.247082</td>\n",
       "    </tr>\n",
       "    <tr>\n",
       "      <th>min</th>\n",
       "      <td>0.000000</td>\n",
       "      <td>0.000000</td>\n",
       "      <td>0.000000</td>\n",
       "      <td>0.000000</td>\n",
       "      <td>0.000000</td>\n",
       "      <td>0.000000</td>\n",
       "      <td>0.000000</td>\n",
       "      <td>0.000000</td>\n",
       "      <td>2.331808</td>\n",
       "    </tr>\n",
       "    <tr>\n",
       "      <th>25%</th>\n",
       "      <td>0.202466</td>\n",
       "      <td>0.000000</td>\n",
       "      <td>0.000000</td>\n",
       "      <td>0.358164</td>\n",
       "      <td>0.000000</td>\n",
       "      <td>0.380814</td>\n",
       "      <td>0.337306</td>\n",
       "      <td>0.016484</td>\n",
       "      <td>23.523887</td>\n",
       "    </tr>\n",
       "    <tr>\n",
       "      <th>50%</th>\n",
       "      <td>0.372146</td>\n",
       "      <td>0.055648</td>\n",
       "      <td>0.000000</td>\n",
       "      <td>0.510579</td>\n",
       "      <td>0.189441</td>\n",
       "      <td>0.485465</td>\n",
       "      <td>0.466633</td>\n",
       "      <td>0.074176</td>\n",
       "      <td>33.762261</td>\n",
       "    </tr>\n",
       "    <tr>\n",
       "      <th>75%</th>\n",
       "      <td>0.555936</td>\n",
       "      <td>0.396494</td>\n",
       "      <td>0.606513</td>\n",
       "      <td>0.568383</td>\n",
       "      <td>0.310559</td>\n",
       "      <td>0.663953</td>\n",
       "      <td>0.577020</td>\n",
       "      <td>0.151099</td>\n",
       "      <td>44.781121</td>\n",
       "    </tr>\n",
       "    <tr>\n",
       "      <th>max</th>\n",
       "      <td>1.000000</td>\n",
       "      <td>1.000000</td>\n",
       "      <td>1.026154</td>\n",
       "      <td>1.000000</td>\n",
       "      <td>1.000000</td>\n",
       "      <td>1.000000</td>\n",
       "      <td>1.000000</td>\n",
       "      <td>1.000000</td>\n",
       "      <td>82.599225</td>\n",
       "    </tr>\n",
       "  </tbody>\n",
       "</table>\n",
       "</div>"
      ],
      "text/plain": [
       "           cement  blast_furnace_slag     fly_ash       water  \\\n",
       "count  999.000000          999.000000  999.000000  999.000000   \n",
       "mean     0.403280            0.201026    0.283768    0.482261   \n",
       "std      0.237702            0.239793    0.328078    0.170495   \n",
       "min      0.000000            0.000000    0.000000    0.000000   \n",
       "25%      0.202466            0.000000    0.000000    0.358164   \n",
       "50%      0.372146            0.055648    0.000000    0.510579   \n",
       "75%      0.555936            0.396494    0.606513    0.568383   \n",
       "max      1.000000            1.000000    1.026154    1.000000   \n",
       "\n",
       "       superplasticizer  coarse_aggregate  fine_aggregate         age  \\\n",
       "count        999.000000        999.000000      999.000000  999.000000   \n",
       "mean           0.186904          0.502298        0.449105    0.123109   \n",
       "std            0.183229          0.224914        0.201526    0.175199   \n",
       "min            0.000000          0.000000        0.000000    0.000000   \n",
       "25%            0.000000          0.380814        0.337306    0.016484   \n",
       "50%            0.189441          0.485465        0.466633    0.074176   \n",
       "75%            0.310559          0.663953        0.577020    0.151099   \n",
       "max            1.000000          1.000000        1.000000    1.000000   \n",
       "\n",
       "         strength  \n",
       "count  999.000000  \n",
       "mean    35.219046  \n",
       "std     16.247082  \n",
       "min      2.331808  \n",
       "25%     23.523887  \n",
       "50%     33.762261  \n",
       "75%     44.781121  \n",
       "max     82.599225  "
      ]
     },
     "execution_count": 47,
     "metadata": {},
     "output_type": "execute_result"
    }
   ],
   "source": [
    "#Add the target column back into the dataset\n",
    "X_full['strength'] = y_full\n",
    "\n",
    "X_full.describe()"
   ]
  },
  {
   "cell_type": "code",
   "execution_count": 48,
   "metadata": {},
   "outputs": [],
   "source": [
    "#Save the preprocessed data\n",
    "X_full.to_csv('../data/concrete_preprocessed.csv', index = False)"
   ]
  }
 ],
 "metadata": {
  "kernelspec": {
   "display_name": "Python 3",
   "language": "python",
   "name": "python3"
  },
  "language_info": {
   "codemirror_mode": {
    "name": "ipython",
    "version": 3
   },
   "file_extension": ".py",
   "mimetype": "text/x-python",
   "name": "python",
   "nbconvert_exporter": "python",
   "pygments_lexer": "ipython3",
   "version": "3.12.1"
  }
 },
 "nbformat": 4,
 "nbformat_minor": 2
}
