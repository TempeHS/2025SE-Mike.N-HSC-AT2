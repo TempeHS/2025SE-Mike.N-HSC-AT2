{
 "cells": [
  {
   "cell_type": "code",
   "execution_count": 62,
   "metadata": {},
   "outputs": [],
   "source": [
    "#Dependencies\n",
    "from sklearn.feature_selection import SelectFromModel\n",
    "from sklearn.model_selection import train_test_split, cross_val_score, GridSearchCV\n",
    "from sklearn.metrics import mean_squared_error, accuracy_score\n",
    "from sklearn.preprocessing import StandardScaler, RobustScaler, OneHotEncoder, OrdinalEncoder\n",
    "from sklearn.impute import SimpleImputer, KNNImputer\n",
    "from sklearn.ensemble import RandomForestRegressor, IsolationForest\n",
    "from sklearn.decomposition import PCA, TruncatedSVD\n",
    "from sklearn.pipeline import Pipeline, make_pipeline\n",
    "from sklearn.compose import ColumnTransformer\n",
    "from sklearn.neighbors import LocalOutlierFactor\n",
    "from sklearn.inspection import permutation_importance\n",
    "from xgboost import XGBRegressor\n",
    "import xgboost as xgb\n",
    "from optuna import create_study\n",
    "from optuna.visualization import plot_optimization_history, plot_param_importances\n",
    "from optuna.samplers import RandomSampler\n",
    "from optuna.integration import XGBoostPruningCallback\n",
    "from optuna.distributions import IntDistribution, FloatDistribution\n",
    "from optuna.pruners import MedianPruner\n",
    "import pandas as pd\n",
    "import matplotlib.pyplot as plt\n",
    "import seaborn as sns\n",
    "import numpy as np\n",
    "from scipy.io import arff"
   ]
  },
  {
   "cell_type": "code",
   "execution_count": 63,
   "metadata": {},
   "outputs": [],
   "source": [
    "arff_file = arff.loadarff('/workspaces/2025SE-Mike.N-HSC-AT2/data/cement.arff')\n",
    "X_full = pd.DataFrame(arff_file[0])\n",
    "y = X_full['strength']\n",
    "X_full = X_full.drop(['strength'], axis = 1)"
   ]
  },
  {
   "cell_type": "code",
   "execution_count": 64,
   "metadata": {},
   "outputs": [
    {
     "name": "stdout",
     "output_type": "stream",
     "text": [
      "[] ['cement', 'blast_furnace_slag', 'fly_ash', 'water', 'superplasticizer', 'coarse_aggregate', 'fine_aggregate', 'age']\n"
     ]
    }
   ],
   "source": [
    "# Select categorical columns\n",
    "categorical_cols = [cname for cname in X_full.columns if\n",
    "                    X_full[cname].nunique() < 10 and \n",
    "                    X_full[cname].dtype == \"object\"]\n",
    "\n",
    "# Select numerical columns\n",
    "numerical_cols = [cname for cname in X_full.columns if \n",
    "                X_full[cname].dtype in ['int64', 'float64']]\n",
    "\n",
    "features = categorical_cols + numerical_cols\n",
    "print(categorical_cols, numerical_cols)\n"
   ]
  },
  {
   "cell_type": "markdown",
   "metadata": {},
   "source": [
    "No categorical features, so every feature gets treated in the same manner."
   ]
  },
  {
   "cell_type": "code",
   "execution_count": 65,
   "metadata": {},
   "outputs": [
    {
     "data": {
      "application/vnd.microsoft.datawrangler.viewer.v0+json": {
       "columns": [
        {
         "name": "index",
         "rawType": "object",
         "type": "string"
        },
        {
         "name": "cement",
         "rawType": "float64",
         "type": "float"
        },
        {
         "name": "blast_furnace_slag",
         "rawType": "float64",
         "type": "float"
        },
        {
         "name": "fly_ash",
         "rawType": "float64",
         "type": "float"
        },
        {
         "name": "water",
         "rawType": "float64",
         "type": "float"
        },
        {
         "name": "superplasticizer",
         "rawType": "float64",
         "type": "float"
        },
        {
         "name": "coarse_aggregate",
         "rawType": "float64",
         "type": "float"
        },
        {
         "name": "fine_aggregate",
         "rawType": "float64",
         "type": "float"
        },
        {
         "name": "age",
         "rawType": "float64",
         "type": "float"
        }
       ],
       "conversionMethod": "pd.DataFrame",
       "ref": "152ecc49-24da-456f-b12a-85f2b6ae0f62",
       "rows": [
        [
         "count",
         "1030.0",
         "1030.0",
         "1030.0",
         "1030.0",
         "1030.0",
         "1030.0",
         "1030.0",
         "1030.0"
        ],
        [
         "mean",
         "281.16563106796116",
         "73.89548543689321",
         "54.1871359223301",
         "181.56635922330096",
         "6.203111650485437",
         "972.9185922330097",
         "773.5788834951456",
         "45.662135922330094"
        ],
        [
         "std",
         "104.5071416428718",
         "86.27910364316895",
         "63.99646938186508",
         "21.355567066911522",
         "5.973491650590111",
         "77.75381809178927",
         "80.1754273990239",
         "63.16991158103249"
        ],
        [
         "min",
         "102.0",
         "0.0",
         "0.0",
         "121.75",
         "0.0",
         "801.0",
         "594.0",
         "1.0"
        ],
        [
         "25%",
         "192.375",
         "0.0",
         "0.0",
         "164.9",
         "0.0",
         "932.0",
         "730.95",
         "7.0"
        ],
        [
         "50%",
         "272.9",
         "22.0",
         "0.0",
         "185.0",
         "6.35",
         "968.0",
         "779.51",
         "28.0"
        ],
        [
         "75%",
         "350.0",
         "142.95",
         "118.27",
         "192.0",
         "10.16",
         "1029.4",
         "824.0",
         "56.0"
        ],
        [
         "max",
         "540.0",
         "359.4",
         "200.1",
         "247.0",
         "32.2",
         "1145.0",
         "992.6",
         "365.0"
        ]
       ],
       "shape": {
        "columns": 8,
        "rows": 8
       }
      },
      "text/html": [
       "<div>\n",
       "<style scoped>\n",
       "    .dataframe tbody tr th:only-of-type {\n",
       "        vertical-align: middle;\n",
       "    }\n",
       "\n",
       "    .dataframe tbody tr th {\n",
       "        vertical-align: top;\n",
       "    }\n",
       "\n",
       "    .dataframe thead th {\n",
       "        text-align: right;\n",
       "    }\n",
       "</style>\n",
       "<table border=\"1\" class=\"dataframe\">\n",
       "  <thead>\n",
       "    <tr style=\"text-align: right;\">\n",
       "      <th></th>\n",
       "      <th>cement</th>\n",
       "      <th>blast_furnace_slag</th>\n",
       "      <th>fly_ash</th>\n",
       "      <th>water</th>\n",
       "      <th>superplasticizer</th>\n",
       "      <th>coarse_aggregate</th>\n",
       "      <th>fine_aggregate</th>\n",
       "      <th>age</th>\n",
       "    </tr>\n",
       "  </thead>\n",
       "  <tbody>\n",
       "    <tr>\n",
       "      <th>count</th>\n",
       "      <td>1030.000000</td>\n",
       "      <td>1030.000000</td>\n",
       "      <td>1030.000000</td>\n",
       "      <td>1030.000000</td>\n",
       "      <td>1030.000000</td>\n",
       "      <td>1030.000000</td>\n",
       "      <td>1030.000000</td>\n",
       "      <td>1030.000000</td>\n",
       "    </tr>\n",
       "    <tr>\n",
       "      <th>mean</th>\n",
       "      <td>281.165631</td>\n",
       "      <td>73.895485</td>\n",
       "      <td>54.187136</td>\n",
       "      <td>181.566359</td>\n",
       "      <td>6.203112</td>\n",
       "      <td>972.918592</td>\n",
       "      <td>773.578883</td>\n",
       "      <td>45.662136</td>\n",
       "    </tr>\n",
       "    <tr>\n",
       "      <th>std</th>\n",
       "      <td>104.507142</td>\n",
       "      <td>86.279104</td>\n",
       "      <td>63.996469</td>\n",
       "      <td>21.355567</td>\n",
       "      <td>5.973492</td>\n",
       "      <td>77.753818</td>\n",
       "      <td>80.175427</td>\n",
       "      <td>63.169912</td>\n",
       "    </tr>\n",
       "    <tr>\n",
       "      <th>min</th>\n",
       "      <td>102.000000</td>\n",
       "      <td>0.000000</td>\n",
       "      <td>0.000000</td>\n",
       "      <td>121.750000</td>\n",
       "      <td>0.000000</td>\n",
       "      <td>801.000000</td>\n",
       "      <td>594.000000</td>\n",
       "      <td>1.000000</td>\n",
       "    </tr>\n",
       "    <tr>\n",
       "      <th>25%</th>\n",
       "      <td>192.375000</td>\n",
       "      <td>0.000000</td>\n",
       "      <td>0.000000</td>\n",
       "      <td>164.900000</td>\n",
       "      <td>0.000000</td>\n",
       "      <td>932.000000</td>\n",
       "      <td>730.950000</td>\n",
       "      <td>7.000000</td>\n",
       "    </tr>\n",
       "    <tr>\n",
       "      <th>50%</th>\n",
       "      <td>272.900000</td>\n",
       "      <td>22.000000</td>\n",
       "      <td>0.000000</td>\n",
       "      <td>185.000000</td>\n",
       "      <td>6.350000</td>\n",
       "      <td>968.000000</td>\n",
       "      <td>779.510000</td>\n",
       "      <td>28.000000</td>\n",
       "    </tr>\n",
       "    <tr>\n",
       "      <th>75%</th>\n",
       "      <td>350.000000</td>\n",
       "      <td>142.950000</td>\n",
       "      <td>118.270000</td>\n",
       "      <td>192.000000</td>\n",
       "      <td>10.160000</td>\n",
       "      <td>1029.400000</td>\n",
       "      <td>824.000000</td>\n",
       "      <td>56.000000</td>\n",
       "    </tr>\n",
       "    <tr>\n",
       "      <th>max</th>\n",
       "      <td>540.000000</td>\n",
       "      <td>359.400000</td>\n",
       "      <td>200.100000</td>\n",
       "      <td>247.000000</td>\n",
       "      <td>32.200000</td>\n",
       "      <td>1145.000000</td>\n",
       "      <td>992.600000</td>\n",
       "      <td>365.000000</td>\n",
       "    </tr>\n",
       "  </tbody>\n",
       "</table>\n",
       "</div>"
      ],
      "text/plain": [
       "            cement  blast_furnace_slag      fly_ash        water  \\\n",
       "count  1030.000000         1030.000000  1030.000000  1030.000000   \n",
       "mean    281.165631           73.895485    54.187136   181.566359   \n",
       "std     104.507142           86.279104    63.996469    21.355567   \n",
       "min     102.000000            0.000000     0.000000   121.750000   \n",
       "25%     192.375000            0.000000     0.000000   164.900000   \n",
       "50%     272.900000           22.000000     0.000000   185.000000   \n",
       "75%     350.000000          142.950000   118.270000   192.000000   \n",
       "max     540.000000          359.400000   200.100000   247.000000   \n",
       "\n",
       "       superplasticizer  coarse_aggregate  fine_aggregate          age  \n",
       "count       1030.000000       1030.000000     1030.000000  1030.000000  \n",
       "mean           6.203112        972.918592      773.578883    45.662136  \n",
       "std            5.973492         77.753818       80.175427    63.169912  \n",
       "min            0.000000        801.000000      594.000000     1.000000  \n",
       "25%            0.000000        932.000000      730.950000     7.000000  \n",
       "50%            6.350000        968.000000      779.510000    28.000000  \n",
       "75%           10.160000       1029.400000      824.000000    56.000000  \n",
       "max           32.200000       1145.000000      992.600000   365.000000  "
      ]
     },
     "execution_count": 65,
     "metadata": {},
     "output_type": "execute_result"
    }
   ],
   "source": [
    "X_full.describe()"
   ]
  },
  {
   "cell_type": "code",
   "execution_count": 66,
   "metadata": {},
   "outputs": [
    {
     "data": {
      "text/plain": [
       "cement                0\n",
       "blast_furnace_slag    0\n",
       "fly_ash               0\n",
       "water                 0\n",
       "superplasticizer      0\n",
       "coarse_aggregate      0\n",
       "fine_aggregate        0\n",
       "age                   0\n",
       "dtype: int64"
      ]
     },
     "execution_count": 66,
     "metadata": {},
     "output_type": "execute_result"
    }
   ],
   "source": [
    "#Check for missing values\n",
    "X_full.isnull().sum()"
   ]
  },
  {
   "cell_type": "markdown",
   "metadata": {},
   "source": [
    "No missing values."
   ]
  },
  {
   "cell_type": "code",
   "execution_count": 67,
   "metadata": {},
   "outputs": [
    {
     "data": {
      "text/plain": [
       "34"
      ]
     },
     "execution_count": 67,
     "metadata": {},
     "output_type": "execute_result"
    }
   ],
   "source": [
    "# Check for duplicates\n",
    "X_full.duplicated().sum()"
   ]
  },
  {
   "cell_type": "code",
   "execution_count": 68,
   "metadata": {},
   "outputs": [
    {
     "data": {
      "text/plain": [
       "0"
      ]
     },
     "execution_count": 68,
     "metadata": {},
     "output_type": "execute_result"
    }
   ],
   "source": [
    "# Remove duplicates\n",
    "X_full = X_full.drop_duplicates()\n",
    "X_full.duplicated().sum()"
   ]
  },
  {
   "cell_type": "code",
   "execution_count": 69,
   "metadata": {},
   "outputs": [],
   "source": [
    "# Preprocessing for numerical data\n",
    "# RobustScaler is used to scale the data, as it is less prone to outliers\n",
    "scaler = RobustScaler()\n",
    "# Imputer is used to fill in missing values. We don't treat 0s as missing values.\n",
    "imputer = SimpleImputer(strategy='mean')\n",
    "preprocessing = Pipeline(steps = [('imputer', imputer), ('scaler', scaler)])\n",
    "X_full = preprocessing.fit_transform(X_full)\n",
    "X_full = pd.DataFrame(X_full, columns = features)"
   ]
  },
  {
   "cell_type": "code",
   "execution_count": 70,
   "metadata": {},
   "outputs": [
    {
     "data": {
      "application/vnd.microsoft.datawrangler.viewer.v0+json": {
       "columns": [
        {
         "name": "index",
         "rawType": "object",
         "type": "string"
        },
        {
         "name": "cement",
         "rawType": "float64",
         "type": "float"
        },
        {
         "name": "blast_furnace_slag",
         "rawType": "float64",
         "type": "float"
        },
        {
         "name": "fly_ash",
         "rawType": "float64",
         "type": "float"
        },
        {
         "name": "water",
         "rawType": "float64",
         "type": "float"
        },
        {
         "name": "superplasticizer",
         "rawType": "float64",
         "type": "float"
        },
        {
         "name": "coarse_aggregate",
         "rawType": "float64",
         "type": "float"
        },
        {
         "name": "fine_aggregate",
         "rawType": "float64",
         "type": "float"
        },
        {
         "name": "age",
         "rawType": "float64",
         "type": "float"
        }
       ],
       "conversionMethod": "pd.DataFrame",
       "ref": "cd8818d2-7fc2-4b70-a44e-74dbe5faba05",
       "rows": [
        [
         "count",
         "996.0",
         "996.0",
         "996.0",
         "996.0",
         "996.0",
         "996.0",
         "996.0",
         "996.0"
        ],
        [
         "mean",
         "0.1118170435269082",
         "0.367239836539139",
         "0.4663343489795828",
         "-0.1316503485027229",
         "-0.0016059236947790797",
         "0.061942581647344105",
         "-0.07457248348231636",
         "0.430364314400459"
        ],
        [
         "std",
         "0.7013105057242686",
         "0.6060374553829514",
         "0.5430511274622198",
         "0.8217835018465234",
         "0.5924742623377945",
         "0.7348608329025353",
         "0.8385920289728954",
         "1.5226397895046015"
        ],
        [
         "min",
         "-1.070694823347142",
         "-0.14035087719298245",
         "0.0",
         "-2.465304548959136",
         "-0.6",
         "-1.5754716981132075",
         "-1.9354838709677415",
         "-0.6428571428571429"
        ],
        [
         "25%",
         "-0.47391465427233825",
         "-0.14035087719298245",
         "0.0",
         "-0.7208943716268308",
         "-0.6",
         "-0.33962264150943394",
         "-0.5421436004162329",
         "-0.3333333333333333"
        ],
        [
         "50%",
         "0.0",
         "0.0",
         "0.0",
         "0.0",
         "0.0",
         "0.0",
         "0.0",
         "0.0"
        ],
        [
         "75%",
         "0.5260853457276615",
         "0.8596491228070176",
         "1.0",
         "0.2791056283731692",
         "0.4",
         "0.660377358490566",
         "0.4578563995837668",
         "0.6666666666666666"
        ],
        [
         "max",
         "1.879694183422586",
         "2.381754385964912",
         "1.6918914348524563",
         "2.3631457208943725",
         "2.62",
         "1.669811320754717",
         "2.212278876170655",
         "8.023809523809524"
        ]
       ],
       "shape": {
        "columns": 8,
        "rows": 8
       }
      },
      "text/html": [
       "<div>\n",
       "<style scoped>\n",
       "    .dataframe tbody tr th:only-of-type {\n",
       "        vertical-align: middle;\n",
       "    }\n",
       "\n",
       "    .dataframe tbody tr th {\n",
       "        vertical-align: top;\n",
       "    }\n",
       "\n",
       "    .dataframe thead th {\n",
       "        text-align: right;\n",
       "    }\n",
       "</style>\n",
       "<table border=\"1\" class=\"dataframe\">\n",
       "  <thead>\n",
       "    <tr style=\"text-align: right;\">\n",
       "      <th></th>\n",
       "      <th>cement</th>\n",
       "      <th>blast_furnace_slag</th>\n",
       "      <th>fly_ash</th>\n",
       "      <th>water</th>\n",
       "      <th>superplasticizer</th>\n",
       "      <th>coarse_aggregate</th>\n",
       "      <th>fine_aggregate</th>\n",
       "      <th>age</th>\n",
       "    </tr>\n",
       "  </thead>\n",
       "  <tbody>\n",
       "    <tr>\n",
       "      <th>count</th>\n",
       "      <td>996.000000</td>\n",
       "      <td>996.000000</td>\n",
       "      <td>996.000000</td>\n",
       "      <td>996.000000</td>\n",
       "      <td>996.000000</td>\n",
       "      <td>996.000000</td>\n",
       "      <td>996.000000</td>\n",
       "      <td>996.000000</td>\n",
       "    </tr>\n",
       "    <tr>\n",
       "      <th>mean</th>\n",
       "      <td>0.111817</td>\n",
       "      <td>0.367240</td>\n",
       "      <td>0.466334</td>\n",
       "      <td>-0.131650</td>\n",
       "      <td>-0.001606</td>\n",
       "      <td>0.061943</td>\n",
       "      <td>-0.074572</td>\n",
       "      <td>0.430364</td>\n",
       "    </tr>\n",
       "    <tr>\n",
       "      <th>std</th>\n",
       "      <td>0.701311</td>\n",
       "      <td>0.606037</td>\n",
       "      <td>0.543051</td>\n",
       "      <td>0.821784</td>\n",
       "      <td>0.592474</td>\n",
       "      <td>0.734861</td>\n",
       "      <td>0.838592</td>\n",
       "      <td>1.522640</td>\n",
       "    </tr>\n",
       "    <tr>\n",
       "      <th>min</th>\n",
       "      <td>-1.070695</td>\n",
       "      <td>-0.140351</td>\n",
       "      <td>0.000000</td>\n",
       "      <td>-2.465305</td>\n",
       "      <td>-0.600000</td>\n",
       "      <td>-1.575472</td>\n",
       "      <td>-1.935484</td>\n",
       "      <td>-0.642857</td>\n",
       "    </tr>\n",
       "    <tr>\n",
       "      <th>25%</th>\n",
       "      <td>-0.473915</td>\n",
       "      <td>-0.140351</td>\n",
       "      <td>0.000000</td>\n",
       "      <td>-0.720894</td>\n",
       "      <td>-0.600000</td>\n",
       "      <td>-0.339623</td>\n",
       "      <td>-0.542144</td>\n",
       "      <td>-0.333333</td>\n",
       "    </tr>\n",
       "    <tr>\n",
       "      <th>50%</th>\n",
       "      <td>0.000000</td>\n",
       "      <td>0.000000</td>\n",
       "      <td>0.000000</td>\n",
       "      <td>0.000000</td>\n",
       "      <td>0.000000</td>\n",
       "      <td>0.000000</td>\n",
       "      <td>0.000000</td>\n",
       "      <td>0.000000</td>\n",
       "    </tr>\n",
       "    <tr>\n",
       "      <th>75%</th>\n",
       "      <td>0.526085</td>\n",
       "      <td>0.859649</td>\n",
       "      <td>1.000000</td>\n",
       "      <td>0.279106</td>\n",
       "      <td>0.400000</td>\n",
       "      <td>0.660377</td>\n",
       "      <td>0.457856</td>\n",
       "      <td>0.666667</td>\n",
       "    </tr>\n",
       "    <tr>\n",
       "      <th>max</th>\n",
       "      <td>1.879694</td>\n",
       "      <td>2.381754</td>\n",
       "      <td>1.691891</td>\n",
       "      <td>2.363146</td>\n",
       "      <td>2.620000</td>\n",
       "      <td>1.669811</td>\n",
       "      <td>2.212279</td>\n",
       "      <td>8.023810</td>\n",
       "    </tr>\n",
       "  </tbody>\n",
       "</table>\n",
       "</div>"
      ],
      "text/plain": [
       "           cement  blast_furnace_slag     fly_ash       water  \\\n",
       "count  996.000000          996.000000  996.000000  996.000000   \n",
       "mean     0.111817            0.367240    0.466334   -0.131650   \n",
       "std      0.701311            0.606037    0.543051    0.821784   \n",
       "min     -1.070695           -0.140351    0.000000   -2.465305   \n",
       "25%     -0.473915           -0.140351    0.000000   -0.720894   \n",
       "50%      0.000000            0.000000    0.000000    0.000000   \n",
       "75%      0.526085            0.859649    1.000000    0.279106   \n",
       "max      1.879694            2.381754    1.691891    2.363146   \n",
       "\n",
       "       superplasticizer  coarse_aggregate  fine_aggregate         age  \n",
       "count        996.000000        996.000000      996.000000  996.000000  \n",
       "mean          -0.001606          0.061943       -0.074572    0.430364  \n",
       "std            0.592474          0.734861        0.838592    1.522640  \n",
       "min           -0.600000         -1.575472       -1.935484   -0.642857  \n",
       "25%           -0.600000         -0.339623       -0.542144   -0.333333  \n",
       "50%            0.000000          0.000000        0.000000    0.000000  \n",
       "75%            0.400000          0.660377        0.457856    0.666667  \n",
       "max            2.620000          1.669811        2.212279    8.023810  "
      ]
     },
     "execution_count": 70,
     "metadata": {},
     "output_type": "execute_result"
    }
   ],
   "source": [
    "X_full.describe()"
   ]
  },
  {
   "cell_type": "code",
   "execution_count": 71,
   "metadata": {},
   "outputs": [
    {
     "data": {
      "application/vnd.microsoft.datawrangler.viewer.v0+json": {
       "columns": [
        {
         "name": "index",
         "rawType": "object",
         "type": "string"
        },
        {
         "name": "cement",
         "rawType": "float64",
         "type": "float"
        },
        {
         "name": "blast_furnace_slag",
         "rawType": "float64",
         "type": "float"
        },
        {
         "name": "fly_ash",
         "rawType": "float64",
         "type": "float"
        },
        {
         "name": "water",
         "rawType": "float64",
         "type": "float"
        },
        {
         "name": "superplasticizer",
         "rawType": "float64",
         "type": "float"
        },
        {
         "name": "coarse_aggregate",
         "rawType": "float64",
         "type": "float"
        },
        {
         "name": "fine_aggregate",
         "rawType": "float64",
         "type": "float"
        },
        {
         "name": "age",
         "rawType": "float64",
         "type": "float"
        },
        {
         "name": "strength",
         "rawType": "float64",
         "type": "float"
        }
       ],
       "conversionMethod": "pd.DataFrame",
       "ref": "f0d76147-087b-45e3-bf96-e47564576a10",
       "rows": [
        [
         "count",
         "996.0",
         "996.0",
         "996.0",
         "996.0",
         "996.0",
         "996.0",
         "996.0",
         "996.0",
         "996.0"
        ],
        [
         "mean",
         "0.1118170435269082",
         "0.367239836539139",
         "0.4663343489795828",
         "-0.1316503485027229",
         "-0.0016059236947790797",
         "0.061942581647344105",
         "-0.07457248348231636",
         "0.430364314400459",
         "35.7215529846195"
        ],
        [
         "std",
         "0.7013105057242686",
         "0.6060374553829514",
         "0.5430511274622198",
         "0.8217835018465234",
         "0.5924742623377945",
         "0.7348608329025353",
         "0.8385920289728954",
         "1.5226397895046015",
         "16.843788717613478"
        ],
        [
         "min",
         "-1.070694823347142",
         "-0.14035087719298245",
         "0.0",
         "-2.465304548959136",
         "-0.6",
         "-1.5754716981132075",
         "-1.9354838709677415",
         "-0.6428571428571429",
         "2.331807832"
        ],
        [
         "25%",
         "-0.47391465427233825",
         "-0.14035087719298245",
         "0.0",
         "-0.7208943716268308",
         "-0.6",
         "-0.33962264150943394",
         "-0.5421436004162329",
         "-0.3333333333333333",
         "23.522163216"
        ],
        [
         "50%",
         "0.0",
         "0.0",
         "0.0",
         "0.0",
         "0.0",
         "0.0",
         "0.0",
         "0.0",
         "33.955658786"
        ],
        [
         "75%",
         "0.5260853457276615",
         "0.8596491228070176",
         "1.0",
         "0.2791056283731692",
         "0.4",
         "0.660377358490566",
         "0.4578563995837668",
         "0.6666666666666666",
         "46.230572382999995"
        ],
        [
         "max",
         "1.879694183422586",
         "2.381754385964912",
         "1.6918914348524563",
         "2.3631457208943725",
         "2.62",
         "1.669811320754717",
         "2.212278876170655",
         "8.023809523809524",
         "82.5992248"
        ]
       ],
       "shape": {
        "columns": 9,
        "rows": 8
       }
      },
      "text/html": [
       "<div>\n",
       "<style scoped>\n",
       "    .dataframe tbody tr th:only-of-type {\n",
       "        vertical-align: middle;\n",
       "    }\n",
       "\n",
       "    .dataframe tbody tr th {\n",
       "        vertical-align: top;\n",
       "    }\n",
       "\n",
       "    .dataframe thead th {\n",
       "        text-align: right;\n",
       "    }\n",
       "</style>\n",
       "<table border=\"1\" class=\"dataframe\">\n",
       "  <thead>\n",
       "    <tr style=\"text-align: right;\">\n",
       "      <th></th>\n",
       "      <th>cement</th>\n",
       "      <th>blast_furnace_slag</th>\n",
       "      <th>fly_ash</th>\n",
       "      <th>water</th>\n",
       "      <th>superplasticizer</th>\n",
       "      <th>coarse_aggregate</th>\n",
       "      <th>fine_aggregate</th>\n",
       "      <th>age</th>\n",
       "      <th>strength</th>\n",
       "    </tr>\n",
       "  </thead>\n",
       "  <tbody>\n",
       "    <tr>\n",
       "      <th>count</th>\n",
       "      <td>996.000000</td>\n",
       "      <td>996.000000</td>\n",
       "      <td>996.000000</td>\n",
       "      <td>996.000000</td>\n",
       "      <td>996.000000</td>\n",
       "      <td>996.000000</td>\n",
       "      <td>996.000000</td>\n",
       "      <td>996.000000</td>\n",
       "      <td>996.000000</td>\n",
       "    </tr>\n",
       "    <tr>\n",
       "      <th>mean</th>\n",
       "      <td>0.111817</td>\n",
       "      <td>0.367240</td>\n",
       "      <td>0.466334</td>\n",
       "      <td>-0.131650</td>\n",
       "      <td>-0.001606</td>\n",
       "      <td>0.061943</td>\n",
       "      <td>-0.074572</td>\n",
       "      <td>0.430364</td>\n",
       "      <td>35.721553</td>\n",
       "    </tr>\n",
       "    <tr>\n",
       "      <th>std</th>\n",
       "      <td>0.701311</td>\n",
       "      <td>0.606037</td>\n",
       "      <td>0.543051</td>\n",
       "      <td>0.821784</td>\n",
       "      <td>0.592474</td>\n",
       "      <td>0.734861</td>\n",
       "      <td>0.838592</td>\n",
       "      <td>1.522640</td>\n",
       "      <td>16.843789</td>\n",
       "    </tr>\n",
       "    <tr>\n",
       "      <th>min</th>\n",
       "      <td>-1.070695</td>\n",
       "      <td>-0.140351</td>\n",
       "      <td>0.000000</td>\n",
       "      <td>-2.465305</td>\n",
       "      <td>-0.600000</td>\n",
       "      <td>-1.575472</td>\n",
       "      <td>-1.935484</td>\n",
       "      <td>-0.642857</td>\n",
       "      <td>2.331808</td>\n",
       "    </tr>\n",
       "    <tr>\n",
       "      <th>25%</th>\n",
       "      <td>-0.473915</td>\n",
       "      <td>-0.140351</td>\n",
       "      <td>0.000000</td>\n",
       "      <td>-0.720894</td>\n",
       "      <td>-0.600000</td>\n",
       "      <td>-0.339623</td>\n",
       "      <td>-0.542144</td>\n",
       "      <td>-0.333333</td>\n",
       "      <td>23.522163</td>\n",
       "    </tr>\n",
       "    <tr>\n",
       "      <th>50%</th>\n",
       "      <td>0.000000</td>\n",
       "      <td>0.000000</td>\n",
       "      <td>0.000000</td>\n",
       "      <td>0.000000</td>\n",
       "      <td>0.000000</td>\n",
       "      <td>0.000000</td>\n",
       "      <td>0.000000</td>\n",
       "      <td>0.000000</td>\n",
       "      <td>33.955659</td>\n",
       "    </tr>\n",
       "    <tr>\n",
       "      <th>75%</th>\n",
       "      <td>0.526085</td>\n",
       "      <td>0.859649</td>\n",
       "      <td>1.000000</td>\n",
       "      <td>0.279106</td>\n",
       "      <td>0.400000</td>\n",
       "      <td>0.660377</td>\n",
       "      <td>0.457856</td>\n",
       "      <td>0.666667</td>\n",
       "      <td>46.230572</td>\n",
       "    </tr>\n",
       "    <tr>\n",
       "      <th>max</th>\n",
       "      <td>1.879694</td>\n",
       "      <td>2.381754</td>\n",
       "      <td>1.691891</td>\n",
       "      <td>2.363146</td>\n",
       "      <td>2.620000</td>\n",
       "      <td>1.669811</td>\n",
       "      <td>2.212279</td>\n",
       "      <td>8.023810</td>\n",
       "      <td>82.599225</td>\n",
       "    </tr>\n",
       "  </tbody>\n",
       "</table>\n",
       "</div>"
      ],
      "text/plain": [
       "           cement  blast_furnace_slag     fly_ash       water  \\\n",
       "count  996.000000          996.000000  996.000000  996.000000   \n",
       "mean     0.111817            0.367240    0.466334   -0.131650   \n",
       "std      0.701311            0.606037    0.543051    0.821784   \n",
       "min     -1.070695           -0.140351    0.000000   -2.465305   \n",
       "25%     -0.473915           -0.140351    0.000000   -0.720894   \n",
       "50%      0.000000            0.000000    0.000000    0.000000   \n",
       "75%      0.526085            0.859649    1.000000    0.279106   \n",
       "max      1.879694            2.381754    1.691891    2.363146   \n",
       "\n",
       "       superplasticizer  coarse_aggregate  fine_aggregate         age  \\\n",
       "count        996.000000        996.000000      996.000000  996.000000   \n",
       "mean          -0.001606          0.061943       -0.074572    0.430364   \n",
       "std            0.592474          0.734861        0.838592    1.522640   \n",
       "min           -0.600000         -1.575472       -1.935484   -0.642857   \n",
       "25%           -0.600000         -0.339623       -0.542144   -0.333333   \n",
       "50%            0.000000          0.000000        0.000000    0.000000   \n",
       "75%            0.400000          0.660377        0.457856    0.666667   \n",
       "max            2.620000          1.669811        2.212279    8.023810   \n",
       "\n",
       "         strength  \n",
       "count  996.000000  \n",
       "mean    35.721553  \n",
       "std     16.843789  \n",
       "min      2.331808  \n",
       "25%     23.522163  \n",
       "50%     33.955659  \n",
       "75%     46.230572  \n",
       "max     82.599225  "
      ]
     },
     "execution_count": 71,
     "metadata": {},
     "output_type": "execute_result"
    }
   ],
   "source": [
    "#Add the target column back into the dataset\n",
    "X_full['strength'] = y\n",
    "X_full.describe()"
   ]
  },
  {
   "cell_type": "code",
   "execution_count": 72,
   "metadata": {},
   "outputs": [],
   "source": [
    "#Save the preprocessed data\n",
    "X_full.to_csv('/workspaces/2025SE-Mike.N-HSC-AT2/data/cement_preprocessed.csv', index = False)"
   ]
  }
 ],
 "metadata": {
  "kernelspec": {
   "display_name": "Python 3",
   "language": "python",
   "name": "python3"
  },
  "language_info": {
   "codemirror_mode": {
    "name": "ipython",
    "version": 3
   },
   "file_extension": ".py",
   "mimetype": "text/x-python",
   "name": "python",
   "nbconvert_exporter": "python",
   "pygments_lexer": "ipython3",
   "version": "3.12.1"
  }
 },
 "nbformat": 4,
 "nbformat_minor": 2
}
