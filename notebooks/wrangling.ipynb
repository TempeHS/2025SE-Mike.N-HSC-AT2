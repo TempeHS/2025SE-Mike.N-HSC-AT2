{
 "cells": [
  {
   "cell_type": "code",
   "execution_count": 15,
   "metadata": {},
   "outputs": [],
   "source": [
    "#Dependencies\n",
    "import matplotlib.pyplot as plt\n",
    "from matplotlib.legend_handler import HandlerPathCollection\n",
    "from sklearn.preprocessing import RobustScaler, StandardScaler, MinMaxScaler\n",
    "from sklearn.decomposition import PCA\n",
    "from sklearn.neighbors import LocalOutlierFactor\n",
    "from sklearn.impute import SimpleImputer\n",
    "from sklearn.pipeline import Pipeline\n",
    "import pandas as pd\n",
    "import numpy as np\n",
    "from scipy.io import arff"
   ]
  },
  {
   "cell_type": "code",
   "execution_count": 16,
   "metadata": {},
   "outputs": [],
   "source": [
    "X_full = pd.read_csv('/workspaces/2025SE-Mike.N-HSC-AT2/data/concrete_engineered.csv')\n",
    "y = X_full['strength']\n",
    "X_full = X_full.drop(['strength'], axis = 1)"
   ]
  },
  {
   "cell_type": "markdown",
   "metadata": {},
   "source": [
    "Choosing features. Categorical variables with high cardinality are discarded."
   ]
  },
  {
   "cell_type": "code",
   "execution_count": 17,
   "metadata": {},
   "outputs": [
    {
     "name": "stdout",
     "output_type": "stream",
     "text": [
      "[] ['cement', 'blast_furnace_slag', 'fly_ash', 'water', 'superplasticizer', 'coarse_aggregate', 'fine_aggregate', 'age', 'cement_to_water_ratio', 'fine_aggregate_to_water_ratio', 'coarse_aggregate_to_water_ratio']\n"
     ]
    }
   ],
   "source": [
    "# Select categorical columns\n",
    "categorical_cols = [cname for cname in X_full.columns if\n",
    "                    X_full[cname].nunique() < 10 and \n",
    "                    X_full[cname].dtype == \"object\"]\n",
    "\n",
    "# Select numerical columns\n",
    "numerical_cols = [cname for cname in X_full.columns if \n",
    "                X_full[cname].dtype in ['int64', 'float64']]\n",
    "\n",
    "features = categorical_cols + numerical_cols\n",
    "print(categorical_cols, numerical_cols)\n"
   ]
  },
  {
   "cell_type": "markdown",
   "metadata": {},
   "source": [
    "No categorical features, so every feature gets treated in the same manner."
   ]
  },
  {
   "cell_type": "code",
   "execution_count": 18,
   "metadata": {},
   "outputs": [
    {
     "data": {
      "application/vnd.microsoft.datawrangler.viewer.v0+json": {
       "columns": [
        {
         "name": "index",
         "rawType": "object",
         "type": "string"
        },
        {
         "name": "cement",
         "rawType": "float64",
         "type": "float"
        },
        {
         "name": "blast_furnace_slag",
         "rawType": "float64",
         "type": "float"
        },
        {
         "name": "fly_ash",
         "rawType": "float64",
         "type": "float"
        },
        {
         "name": "water",
         "rawType": "float64",
         "type": "float"
        },
        {
         "name": "superplasticizer",
         "rawType": "float64",
         "type": "float"
        },
        {
         "name": "coarse_aggregate",
         "rawType": "float64",
         "type": "float"
        },
        {
         "name": "fine_aggregate",
         "rawType": "float64",
         "type": "float"
        },
        {
         "name": "age",
         "rawType": "float64",
         "type": "float"
        },
        {
         "name": "cement_to_water_ratio",
         "rawType": "float64",
         "type": "float"
        },
        {
         "name": "fine_aggregate_to_water_ratio",
         "rawType": "float64",
         "type": "float"
        },
        {
         "name": "coarse_aggregate_to_water_ratio",
         "rawType": "float64",
         "type": "float"
        }
       ],
       "conversionMethod": "pd.DataFrame",
       "ref": "9645ecd3-a2d4-451b-a6e4-b46163742c29",
       "rows": [
        [
         "count",
         "1030.0",
         "1030.0",
         "1030.0",
         "1030.0",
         "1030.0",
         "1030.0",
         "1030.0",
         "1030.0",
         "1030.0",
         "1030.0",
         "1030.0"
        ],
        [
         "mean",
         "281.16563106796116",
         "73.89548543689321",
         "54.1871359223301",
         "181.56635922330096",
         "6.203111650485437",
         "972.9185922330097",
         "773.5788834951456",
         "45.662135922330094",
         "1.5782748320286322",
         "4.344762785347415",
         "5.443180931531625"
        ],
        [
         "std",
         "104.5071416428718",
         "86.27910364316895",
         "63.99646938186508",
         "21.355567066911522",
         "5.973491650590111",
         "77.75381809178927",
         "80.1754273990239",
         "63.16991158103249",
         "0.6481050736735129",
         "0.8249082282510165",
         "0.8429658196712854"
        ],
        [
         "min",
         "102.0",
         "0.0",
         "0.0",
         "121.75",
         "0.0",
         "801.0",
         "594.0",
         "1.0",
         "0.53125",
         "2.6052631578947367",
         "3.4534412955465585"
        ],
        [
         "25%",
         "192.375",
         "0.0",
         "0.0",
         "164.9",
         "0.0",
         "932.0",
         "730.95",
         "7.0",
         "1.069502379413665",
         "3.888349514563106",
         "4.830208333333333"
        ],
        [
         "50%",
         "272.9",
         "22.0",
         "0.0",
         "185.0",
         "6.35",
         "968.0",
         "779.51",
         "28.0",
         "1.480717643012725",
         "4.299479166666667",
         "5.451803984921917"
        ],
        [
         "75%",
         "350.0",
         "142.95",
         "118.27",
         "192.0",
         "10.16",
         "1029.4",
         "824.0",
         "56.0",
         "1.875",
         "4.791273184789526",
         "5.974522292993631"
        ],
        [
         "max",
         "540.0",
         "359.4",
         "200.1",
         "247.0",
         "32.2",
         "1145.0",
         "992.6",
         "365.0",
         "3.746826516220028",
         "7.840442338072671",
         "8.695687885010267"
        ]
       ],
       "shape": {
        "columns": 11,
        "rows": 8
       }
      },
      "text/html": [
       "<div>\n",
       "<style scoped>\n",
       "    .dataframe tbody tr th:only-of-type {\n",
       "        vertical-align: middle;\n",
       "    }\n",
       "\n",
       "    .dataframe tbody tr th {\n",
       "        vertical-align: top;\n",
       "    }\n",
       "\n",
       "    .dataframe thead th {\n",
       "        text-align: right;\n",
       "    }\n",
       "</style>\n",
       "<table border=\"1\" class=\"dataframe\">\n",
       "  <thead>\n",
       "    <tr style=\"text-align: right;\">\n",
       "      <th></th>\n",
       "      <th>cement</th>\n",
       "      <th>blast_furnace_slag</th>\n",
       "      <th>fly_ash</th>\n",
       "      <th>water</th>\n",
       "      <th>superplasticizer</th>\n",
       "      <th>coarse_aggregate</th>\n",
       "      <th>fine_aggregate</th>\n",
       "      <th>age</th>\n",
       "      <th>cement_to_water_ratio</th>\n",
       "      <th>fine_aggregate_to_water_ratio</th>\n",
       "      <th>coarse_aggregate_to_water_ratio</th>\n",
       "    </tr>\n",
       "  </thead>\n",
       "  <tbody>\n",
       "    <tr>\n",
       "      <th>count</th>\n",
       "      <td>1030.000000</td>\n",
       "      <td>1030.000000</td>\n",
       "      <td>1030.000000</td>\n",
       "      <td>1030.000000</td>\n",
       "      <td>1030.000000</td>\n",
       "      <td>1030.000000</td>\n",
       "      <td>1030.000000</td>\n",
       "      <td>1030.000000</td>\n",
       "      <td>1030.000000</td>\n",
       "      <td>1030.000000</td>\n",
       "      <td>1030.000000</td>\n",
       "    </tr>\n",
       "    <tr>\n",
       "      <th>mean</th>\n",
       "      <td>281.165631</td>\n",
       "      <td>73.895485</td>\n",
       "      <td>54.187136</td>\n",
       "      <td>181.566359</td>\n",
       "      <td>6.203112</td>\n",
       "      <td>972.918592</td>\n",
       "      <td>773.578883</td>\n",
       "      <td>45.662136</td>\n",
       "      <td>1.578275</td>\n",
       "      <td>4.344763</td>\n",
       "      <td>5.443181</td>\n",
       "    </tr>\n",
       "    <tr>\n",
       "      <th>std</th>\n",
       "      <td>104.507142</td>\n",
       "      <td>86.279104</td>\n",
       "      <td>63.996469</td>\n",
       "      <td>21.355567</td>\n",
       "      <td>5.973492</td>\n",
       "      <td>77.753818</td>\n",
       "      <td>80.175427</td>\n",
       "      <td>63.169912</td>\n",
       "      <td>0.648105</td>\n",
       "      <td>0.824908</td>\n",
       "      <td>0.842966</td>\n",
       "    </tr>\n",
       "    <tr>\n",
       "      <th>min</th>\n",
       "      <td>102.000000</td>\n",
       "      <td>0.000000</td>\n",
       "      <td>0.000000</td>\n",
       "      <td>121.750000</td>\n",
       "      <td>0.000000</td>\n",
       "      <td>801.000000</td>\n",
       "      <td>594.000000</td>\n",
       "      <td>1.000000</td>\n",
       "      <td>0.531250</td>\n",
       "      <td>2.605263</td>\n",
       "      <td>3.453441</td>\n",
       "    </tr>\n",
       "    <tr>\n",
       "      <th>25%</th>\n",
       "      <td>192.375000</td>\n",
       "      <td>0.000000</td>\n",
       "      <td>0.000000</td>\n",
       "      <td>164.900000</td>\n",
       "      <td>0.000000</td>\n",
       "      <td>932.000000</td>\n",
       "      <td>730.950000</td>\n",
       "      <td>7.000000</td>\n",
       "      <td>1.069502</td>\n",
       "      <td>3.888350</td>\n",
       "      <td>4.830208</td>\n",
       "    </tr>\n",
       "    <tr>\n",
       "      <th>50%</th>\n",
       "      <td>272.900000</td>\n",
       "      <td>22.000000</td>\n",
       "      <td>0.000000</td>\n",
       "      <td>185.000000</td>\n",
       "      <td>6.350000</td>\n",
       "      <td>968.000000</td>\n",
       "      <td>779.510000</td>\n",
       "      <td>28.000000</td>\n",
       "      <td>1.480718</td>\n",
       "      <td>4.299479</td>\n",
       "      <td>5.451804</td>\n",
       "    </tr>\n",
       "    <tr>\n",
       "      <th>75%</th>\n",
       "      <td>350.000000</td>\n",
       "      <td>142.950000</td>\n",
       "      <td>118.270000</td>\n",
       "      <td>192.000000</td>\n",
       "      <td>10.160000</td>\n",
       "      <td>1029.400000</td>\n",
       "      <td>824.000000</td>\n",
       "      <td>56.000000</td>\n",
       "      <td>1.875000</td>\n",
       "      <td>4.791273</td>\n",
       "      <td>5.974522</td>\n",
       "    </tr>\n",
       "    <tr>\n",
       "      <th>max</th>\n",
       "      <td>540.000000</td>\n",
       "      <td>359.400000</td>\n",
       "      <td>200.100000</td>\n",
       "      <td>247.000000</td>\n",
       "      <td>32.200000</td>\n",
       "      <td>1145.000000</td>\n",
       "      <td>992.600000</td>\n",
       "      <td>365.000000</td>\n",
       "      <td>3.746827</td>\n",
       "      <td>7.840442</td>\n",
       "      <td>8.695688</td>\n",
       "    </tr>\n",
       "  </tbody>\n",
       "</table>\n",
       "</div>"
      ],
      "text/plain": [
       "            cement  blast_furnace_slag      fly_ash        water  \\\n",
       "count  1030.000000         1030.000000  1030.000000  1030.000000   \n",
       "mean    281.165631           73.895485    54.187136   181.566359   \n",
       "std     104.507142           86.279104    63.996469    21.355567   \n",
       "min     102.000000            0.000000     0.000000   121.750000   \n",
       "25%     192.375000            0.000000     0.000000   164.900000   \n",
       "50%     272.900000           22.000000     0.000000   185.000000   \n",
       "75%     350.000000          142.950000   118.270000   192.000000   \n",
       "max     540.000000          359.400000   200.100000   247.000000   \n",
       "\n",
       "       superplasticizer  coarse_aggregate  fine_aggregate          age  \\\n",
       "count       1030.000000       1030.000000     1030.000000  1030.000000   \n",
       "mean           6.203112        972.918592      773.578883    45.662136   \n",
       "std            5.973492         77.753818       80.175427    63.169912   \n",
       "min            0.000000        801.000000      594.000000     1.000000   \n",
       "25%            0.000000        932.000000      730.950000     7.000000   \n",
       "50%            6.350000        968.000000      779.510000    28.000000   \n",
       "75%           10.160000       1029.400000      824.000000    56.000000   \n",
       "max           32.200000       1145.000000      992.600000   365.000000   \n",
       "\n",
       "       cement_to_water_ratio  fine_aggregate_to_water_ratio  \\\n",
       "count            1030.000000                    1030.000000   \n",
       "mean                1.578275                       4.344763   \n",
       "std                 0.648105                       0.824908   \n",
       "min                 0.531250                       2.605263   \n",
       "25%                 1.069502                       3.888350   \n",
       "50%                 1.480718                       4.299479   \n",
       "75%                 1.875000                       4.791273   \n",
       "max                 3.746827                       7.840442   \n",
       "\n",
       "       coarse_aggregate_to_water_ratio  \n",
       "count                      1030.000000  \n",
       "mean                          5.443181  \n",
       "std                           0.842966  \n",
       "min                           3.453441  \n",
       "25%                           4.830208  \n",
       "50%                           5.451804  \n",
       "75%                           5.974522  \n",
       "max                           8.695688  "
      ]
     },
     "execution_count": 18,
     "metadata": {},
     "output_type": "execute_result"
    }
   ],
   "source": [
    "X_full.describe()"
   ]
  },
  {
   "cell_type": "markdown",
   "metadata": {},
   "source": [
    "Check for misisng values"
   ]
  },
  {
   "cell_type": "code",
   "execution_count": 19,
   "metadata": {},
   "outputs": [
    {
     "data": {
      "text/plain": [
       "cement                             0\n",
       "blast_furnace_slag                 0\n",
       "fly_ash                            0\n",
       "water                              0\n",
       "superplasticizer                   0\n",
       "coarse_aggregate                   0\n",
       "fine_aggregate                     0\n",
       "age                                0\n",
       "cement_to_water_ratio              0\n",
       "fine_aggregate_to_water_ratio      0\n",
       "coarse_aggregate_to_water_ratio    0\n",
       "dtype: int64"
      ]
     },
     "execution_count": 19,
     "metadata": {},
     "output_type": "execute_result"
    }
   ],
   "source": [
    "#Check for missing values\n",
    "X_full.isnull().sum()"
   ]
  },
  {
   "cell_type": "markdown",
   "metadata": {},
   "source": [
    "Some missing values in the new ratios."
   ]
  },
  {
   "cell_type": "code",
   "execution_count": 20,
   "metadata": {},
   "outputs": [
    {
     "data": {
      "text/plain": [
       "34"
      ]
     },
     "execution_count": 20,
     "metadata": {},
     "output_type": "execute_result"
    }
   ],
   "source": [
    "# Check for duplicates\n",
    "X_full.duplicated().sum()"
   ]
  },
  {
   "cell_type": "code",
   "execution_count": 21,
   "metadata": {},
   "outputs": [
    {
     "data": {
      "text/plain": [
       "0"
      ]
     },
     "execution_count": 21,
     "metadata": {},
     "output_type": "execute_result"
    }
   ],
   "source": [
    "# Remove duplicates\n",
    "X_full = X_full.drop_duplicates()\n",
    "X_full.duplicated().sum()"
   ]
  },
  {
   "cell_type": "code",
   "execution_count": 22,
   "metadata": {},
   "outputs": [
    {
     "data": {
      "text/plain": [
       "(996, 11)"
      ]
     },
     "execution_count": 22,
     "metadata": {},
     "output_type": "execute_result"
    }
   ],
   "source": [
    "X_full.shape"
   ]
  },
  {
   "cell_type": "code",
   "execution_count": 23,
   "metadata": {},
   "outputs": [
    {
     "data": {
      "application/vnd.microsoft.datawrangler.viewer.v0+json": {
       "columns": [
        {
         "name": "index",
         "rawType": "object",
         "type": "string"
        },
        {
         "name": "cement",
         "rawType": "float64",
         "type": "float"
        },
        {
         "name": "blast_furnace_slag",
         "rawType": "float64",
         "type": "float"
        },
        {
         "name": "fly_ash",
         "rawType": "float64",
         "type": "float"
        },
        {
         "name": "water",
         "rawType": "float64",
         "type": "float"
        },
        {
         "name": "superplasticizer",
         "rawType": "float64",
         "type": "float"
        },
        {
         "name": "coarse_aggregate",
         "rawType": "float64",
         "type": "float"
        },
        {
         "name": "fine_aggregate",
         "rawType": "float64",
         "type": "float"
        },
        {
         "name": "age",
         "rawType": "float64",
         "type": "float"
        },
        {
         "name": "cement_to_water_ratio",
         "rawType": "float64",
         "type": "float"
        },
        {
         "name": "fine_aggregate_to_water_ratio",
         "rawType": "float64",
         "type": "float"
        },
        {
         "name": "coarse_aggregate_to_water_ratio",
         "rawType": "float64",
         "type": "float"
        }
       ],
       "conversionMethod": "pd.DataFrame",
       "ref": "7762b763-d096-4e04-9848-03261012cc26",
       "rows": [
        [
         "count",
         "996.0",
         "996.0",
         "996.0",
         "996.0",
         "996.0",
         "996.0",
         "996.0",
         "996.0",
         "996.0",
         "996.0",
         "996.0"
        ],
        [
         "mean",
         "277.54979919678715",
         "72.33167670682731",
         "55.15336345381526",
         "182.28498995983935",
         "5.983940763052209",
         "974.5659136546185",
         "772.8335843373494",
         "46.075301204819276",
         "1.549450774062687",
         "4.323233032501432",
         "5.43241122330358"
        ],
        [
         "std",
         "104.1130511272963",
         "86.36033739207056",
         "64.22665684495675",
         "21.317064037898817",
         "5.924742623377946",
         "77.89524828766875",
         "80.58869398429526",
         "63.95087115919328",
         "0.6368968426204786",
         "0.8238655175012649",
         "0.8544906976111966"
        ],
        [
         "min",
         "102.0",
         "0.0",
         "0.0",
         "121.75",
         "0.0",
         "801.0",
         "594.0",
         "1.0",
         "0.53125",
         "2.6052631578947367",
         "3.4534412955465585"
        ],
        [
         "25%",
         "190.595",
         "0.0",
         "0.0",
         "167.0",
         "0.0",
         "932.0",
         "727.9",
         "14.0",
         "1.053225708563452",
         "3.8807048097116223",
         "4.803931203931204"
        ],
        [
         "50%",
         "260.95",
         "20.0",
         "0.0",
         "185.7",
         "6.0",
         "968.0",
         "780.0",
         "28.0",
         "1.450261780104712",
         "4.276041666666667",
         "5.422165854381072"
        ],
        [
         "75%",
         "339.05",
         "142.5",
         "118.27",
         "192.94",
         "10.0",
         "1038.0",
         "824.0",
         "56.0",
         "1.8177083333333333",
         "4.723214285714286",
         "5.974522292993631"
        ],
        [
         "max",
         "540.0",
         "359.4",
         "200.1",
         "247.0",
         "32.2",
         "1145.0",
         "992.6",
         "365.0",
         "3.746826516220028",
         "7.840442338072671",
         "8.695687885010267"
        ]
       ],
       "shape": {
        "columns": 11,
        "rows": 8
       }
      },
      "text/html": [
       "<div>\n",
       "<style scoped>\n",
       "    .dataframe tbody tr th:only-of-type {\n",
       "        vertical-align: middle;\n",
       "    }\n",
       "\n",
       "    .dataframe tbody tr th {\n",
       "        vertical-align: top;\n",
       "    }\n",
       "\n",
       "    .dataframe thead th {\n",
       "        text-align: right;\n",
       "    }\n",
       "</style>\n",
       "<table border=\"1\" class=\"dataframe\">\n",
       "  <thead>\n",
       "    <tr style=\"text-align: right;\">\n",
       "      <th></th>\n",
       "      <th>cement</th>\n",
       "      <th>blast_furnace_slag</th>\n",
       "      <th>fly_ash</th>\n",
       "      <th>water</th>\n",
       "      <th>superplasticizer</th>\n",
       "      <th>coarse_aggregate</th>\n",
       "      <th>fine_aggregate</th>\n",
       "      <th>age</th>\n",
       "      <th>cement_to_water_ratio</th>\n",
       "      <th>fine_aggregate_to_water_ratio</th>\n",
       "      <th>coarse_aggregate_to_water_ratio</th>\n",
       "    </tr>\n",
       "  </thead>\n",
       "  <tbody>\n",
       "    <tr>\n",
       "      <th>count</th>\n",
       "      <td>996.000000</td>\n",
       "      <td>996.000000</td>\n",
       "      <td>996.000000</td>\n",
       "      <td>996.000000</td>\n",
       "      <td>996.000000</td>\n",
       "      <td>996.000000</td>\n",
       "      <td>996.000000</td>\n",
       "      <td>996.000000</td>\n",
       "      <td>996.000000</td>\n",
       "      <td>996.000000</td>\n",
       "      <td>996.000000</td>\n",
       "    </tr>\n",
       "    <tr>\n",
       "      <th>mean</th>\n",
       "      <td>277.549799</td>\n",
       "      <td>72.331677</td>\n",
       "      <td>55.153363</td>\n",
       "      <td>182.284990</td>\n",
       "      <td>5.983941</td>\n",
       "      <td>974.565914</td>\n",
       "      <td>772.833584</td>\n",
       "      <td>46.075301</td>\n",
       "      <td>1.549451</td>\n",
       "      <td>4.323233</td>\n",
       "      <td>5.432411</td>\n",
       "    </tr>\n",
       "    <tr>\n",
       "      <th>std</th>\n",
       "      <td>104.113051</td>\n",
       "      <td>86.360337</td>\n",
       "      <td>64.226657</td>\n",
       "      <td>21.317064</td>\n",
       "      <td>5.924743</td>\n",
       "      <td>77.895248</td>\n",
       "      <td>80.588694</td>\n",
       "      <td>63.950871</td>\n",
       "      <td>0.636897</td>\n",
       "      <td>0.823866</td>\n",
       "      <td>0.854491</td>\n",
       "    </tr>\n",
       "    <tr>\n",
       "      <th>min</th>\n",
       "      <td>102.000000</td>\n",
       "      <td>0.000000</td>\n",
       "      <td>0.000000</td>\n",
       "      <td>121.750000</td>\n",
       "      <td>0.000000</td>\n",
       "      <td>801.000000</td>\n",
       "      <td>594.000000</td>\n",
       "      <td>1.000000</td>\n",
       "      <td>0.531250</td>\n",
       "      <td>2.605263</td>\n",
       "      <td>3.453441</td>\n",
       "    </tr>\n",
       "    <tr>\n",
       "      <th>25%</th>\n",
       "      <td>190.595000</td>\n",
       "      <td>0.000000</td>\n",
       "      <td>0.000000</td>\n",
       "      <td>167.000000</td>\n",
       "      <td>0.000000</td>\n",
       "      <td>932.000000</td>\n",
       "      <td>727.900000</td>\n",
       "      <td>14.000000</td>\n",
       "      <td>1.053226</td>\n",
       "      <td>3.880705</td>\n",
       "      <td>4.803931</td>\n",
       "    </tr>\n",
       "    <tr>\n",
       "      <th>50%</th>\n",
       "      <td>260.950000</td>\n",
       "      <td>20.000000</td>\n",
       "      <td>0.000000</td>\n",
       "      <td>185.700000</td>\n",
       "      <td>6.000000</td>\n",
       "      <td>968.000000</td>\n",
       "      <td>780.000000</td>\n",
       "      <td>28.000000</td>\n",
       "      <td>1.450262</td>\n",
       "      <td>4.276042</td>\n",
       "      <td>5.422166</td>\n",
       "    </tr>\n",
       "    <tr>\n",
       "      <th>75%</th>\n",
       "      <td>339.050000</td>\n",
       "      <td>142.500000</td>\n",
       "      <td>118.270000</td>\n",
       "      <td>192.940000</td>\n",
       "      <td>10.000000</td>\n",
       "      <td>1038.000000</td>\n",
       "      <td>824.000000</td>\n",
       "      <td>56.000000</td>\n",
       "      <td>1.817708</td>\n",
       "      <td>4.723214</td>\n",
       "      <td>5.974522</td>\n",
       "    </tr>\n",
       "    <tr>\n",
       "      <th>max</th>\n",
       "      <td>540.000000</td>\n",
       "      <td>359.400000</td>\n",
       "      <td>200.100000</td>\n",
       "      <td>247.000000</td>\n",
       "      <td>32.200000</td>\n",
       "      <td>1145.000000</td>\n",
       "      <td>992.600000</td>\n",
       "      <td>365.000000</td>\n",
       "      <td>3.746827</td>\n",
       "      <td>7.840442</td>\n",
       "      <td>8.695688</td>\n",
       "    </tr>\n",
       "  </tbody>\n",
       "</table>\n",
       "</div>"
      ],
      "text/plain": [
       "           cement  blast_furnace_slag     fly_ash       water  \\\n",
       "count  996.000000          996.000000  996.000000  996.000000   \n",
       "mean   277.549799           72.331677   55.153363  182.284990   \n",
       "std    104.113051           86.360337   64.226657   21.317064   \n",
       "min    102.000000            0.000000    0.000000  121.750000   \n",
       "25%    190.595000            0.000000    0.000000  167.000000   \n",
       "50%    260.950000           20.000000    0.000000  185.700000   \n",
       "75%    339.050000          142.500000  118.270000  192.940000   \n",
       "max    540.000000          359.400000  200.100000  247.000000   \n",
       "\n",
       "       superplasticizer  coarse_aggregate  fine_aggregate         age  \\\n",
       "count        996.000000        996.000000      996.000000  996.000000   \n",
       "mean           5.983941        974.565914      772.833584   46.075301   \n",
       "std            5.924743         77.895248       80.588694   63.950871   \n",
       "min            0.000000        801.000000      594.000000    1.000000   \n",
       "25%            0.000000        932.000000      727.900000   14.000000   \n",
       "50%            6.000000        968.000000      780.000000   28.000000   \n",
       "75%           10.000000       1038.000000      824.000000   56.000000   \n",
       "max           32.200000       1145.000000      992.600000  365.000000   \n",
       "\n",
       "       cement_to_water_ratio  fine_aggregate_to_water_ratio  \\\n",
       "count             996.000000                     996.000000   \n",
       "mean                1.549451                       4.323233   \n",
       "std                 0.636897                       0.823866   \n",
       "min                 0.531250                       2.605263   \n",
       "25%                 1.053226                       3.880705   \n",
       "50%                 1.450262                       4.276042   \n",
       "75%                 1.817708                       4.723214   \n",
       "max                 3.746827                       7.840442   \n",
       "\n",
       "       coarse_aggregate_to_water_ratio  \n",
       "count                       996.000000  \n",
       "mean                          5.432411  \n",
       "std                           0.854491  \n",
       "min                           3.453441  \n",
       "25%                           4.803931  \n",
       "50%                           5.422166  \n",
       "75%                           5.974522  \n",
       "max                           8.695688  "
      ]
     },
     "execution_count": 23,
     "metadata": {},
     "output_type": "execute_result"
    }
   ],
   "source": [
    "X_full.describe()"
   ]
  },
  {
   "cell_type": "code",
   "execution_count": 24,
   "metadata": {},
   "outputs": [],
   "source": [
    "# Preprocessing for numerical data\n",
    "# Imputing NANs as a result of feature engineering\n",
    "# RobustScaler is used to scale the data, as it is less prone to outliers\n",
    "X_standardized = (X_full - X_full.mean(axis=0)) / X_full.std(axis = 0)\n",
    "\n",
    "#Outlier Detection\n",
    "outlier_detector = LocalOutlierFactor(n_neighbors= 10)\n",
    "outliers = outlier_detector.fit_predict(X_standardized)\n",
    "X_standardized = X_standardized[outliers != -1]\n",
    "\n",
    "#Dimensionality Reduction\n",
    "pca = PCA(len(X_standardized.columns))\n",
    "X_pca = pca.fit_transform(X_standardized)\n",
    "\n",
    "#convert to dataframe\n",
    "component_names = [f\"PC{i+1}\" for i in range(X_pca.shape[1])]\n",
    "X_pca = pd.DataFrame(X_pca, columns=component_names)\n",
    "\n",
    "scaler = MinMaxScaler()\n",
    "X_scaled = scaler.fit_transform(X_pca)\n",
    "X_scaled = pd.DataFrame(X_scaled, columns = component_names)"
   ]
  },
  {
   "cell_type": "code",
   "execution_count": 25,
   "metadata": {},
   "outputs": [
    {
     "data": {
      "text/plain": [
       "(965, 11)"
      ]
     },
     "execution_count": 25,
     "metadata": {},
     "output_type": "execute_result"
    }
   ],
   "source": [
    "X_scaled.shape"
   ]
  },
  {
   "cell_type": "code",
   "execution_count": 26,
   "metadata": {},
   "outputs": [
    {
     "data": {
      "application/vnd.microsoft.datawrangler.viewer.v0+json": {
       "columns": [
        {
         "name": "index",
         "rawType": "object",
         "type": "string"
        },
        {
         "name": "PC1",
         "rawType": "float64",
         "type": "float"
        },
        {
         "name": "PC2",
         "rawType": "float64",
         "type": "float"
        },
        {
         "name": "PC3",
         "rawType": "float64",
         "type": "float"
        },
        {
         "name": "PC4",
         "rawType": "float64",
         "type": "float"
        },
        {
         "name": "PC5",
         "rawType": "float64",
         "type": "float"
        },
        {
         "name": "PC6",
         "rawType": "float64",
         "type": "float"
        },
        {
         "name": "PC7",
         "rawType": "float64",
         "type": "float"
        },
        {
         "name": "PC8",
         "rawType": "float64",
         "type": "float"
        },
        {
         "name": "PC9",
         "rawType": "float64",
         "type": "float"
        },
        {
         "name": "PC10",
         "rawType": "float64",
         "type": "float"
        },
        {
         "name": "PC11",
         "rawType": "float64",
         "type": "float"
        }
       ],
       "conversionMethod": "pd.DataFrame",
       "ref": "9eaa3dae-2c37-4b42-b4be-18a595636cf7",
       "rows": [
        [
         "count",
         "965.0",
         "965.0",
         "965.0",
         "965.0",
         "965.0",
         "965.0",
         "965.0",
         "965.0",
         "965.0",
         "965.0",
         "965.0"
        ],
        [
         "mean",
         "0.530776130246776",
         "0.36717924757157755",
         "0.5447736621683039",
         "0.4862915028546406",
         "0.4282173802625903",
         "0.24737751014197085",
         "0.568183655450374",
         "0.6081656225982558",
         "0.3375438860155484",
         "0.3423395286563571",
         "0.5029967334156356"
        ],
        [
         "std",
         "0.17355258225999198",
         "0.22413924719422149",
         "0.1949424015393842",
         "0.1603550297989113",
         "0.18381661275806288",
         "0.14999424673376013",
         "0.13568521695047553",
         "0.11176781585220219",
         "0.1322945450242666",
         "0.11446546020892821",
         "0.09012155469009556"
        ],
        [
         "min",
         "0.0",
         "0.0",
         "0.0",
         "0.0",
         "0.0",
         "0.0",
         "0.0",
         "0.0",
         "0.0",
         "0.0",
         "0.0"
        ],
        [
         "25%",
         "0.4115668722152255",
         "0.1907238757443885",
         "0.40949157922263435",
         "0.3727930062388187",
         "0.28888350866844037",
         "0.1490668441229508",
         "0.5030383090383168",
         "0.5501645297595539",
         "0.2615135465772563",
         "0.2834195503758236",
         "0.4520697681223333"
        ],
        [
         "50%",
         "0.5454035051415381",
         "0.3368897954264897",
         "0.5634987614715337",
         "0.4700845954469799",
         "0.4286205032837503",
         "0.2273791728533632",
         "0.5792955686817367",
         "0.5997175977786706",
         "0.3254540453505384",
         "0.33928290012337964",
         "0.4976311427545405"
        ],
        [
         "75%",
         "0.6357239900261433",
         "0.5168844447384904",
         "0.6792355748698309",
         "0.5910125524111821",
         "0.5588491477159182",
         "0.30724645755174107",
         "0.6382029722373991",
         "0.6826778299029529",
         "0.39374807674800216",
         "0.39824326339693844",
         "0.5461804479971567"
        ],
        [
         "max",
         "0.9999999999999998",
         "0.9999999999999998",
         "1.0",
         "0.9999999999999999",
         "1.0",
         "0.9999999999999999",
         "1.0",
         "0.9999999999999999",
         "0.9999999999999999",
         "0.9999999999999999",
         "1.0"
        ]
       ],
       "shape": {
        "columns": 11,
        "rows": 8
       }
      },
      "text/html": [
       "<div>\n",
       "<style scoped>\n",
       "    .dataframe tbody tr th:only-of-type {\n",
       "        vertical-align: middle;\n",
       "    }\n",
       "\n",
       "    .dataframe tbody tr th {\n",
       "        vertical-align: top;\n",
       "    }\n",
       "\n",
       "    .dataframe thead th {\n",
       "        text-align: right;\n",
       "    }\n",
       "</style>\n",
       "<table border=\"1\" class=\"dataframe\">\n",
       "  <thead>\n",
       "    <tr style=\"text-align: right;\">\n",
       "      <th></th>\n",
       "      <th>PC1</th>\n",
       "      <th>PC2</th>\n",
       "      <th>PC3</th>\n",
       "      <th>PC4</th>\n",
       "      <th>PC5</th>\n",
       "      <th>PC6</th>\n",
       "      <th>PC7</th>\n",
       "      <th>PC8</th>\n",
       "      <th>PC9</th>\n",
       "      <th>PC10</th>\n",
       "      <th>PC11</th>\n",
       "    </tr>\n",
       "  </thead>\n",
       "  <tbody>\n",
       "    <tr>\n",
       "      <th>count</th>\n",
       "      <td>965.000000</td>\n",
       "      <td>965.000000</td>\n",
       "      <td>965.000000</td>\n",
       "      <td>965.000000</td>\n",
       "      <td>965.000000</td>\n",
       "      <td>965.000000</td>\n",
       "      <td>965.000000</td>\n",
       "      <td>965.000000</td>\n",
       "      <td>965.000000</td>\n",
       "      <td>965.000000</td>\n",
       "      <td>965.000000</td>\n",
       "    </tr>\n",
       "    <tr>\n",
       "      <th>mean</th>\n",
       "      <td>0.530776</td>\n",
       "      <td>0.367179</td>\n",
       "      <td>0.544774</td>\n",
       "      <td>0.486292</td>\n",
       "      <td>0.428217</td>\n",
       "      <td>0.247378</td>\n",
       "      <td>0.568184</td>\n",
       "      <td>0.608166</td>\n",
       "      <td>0.337544</td>\n",
       "      <td>0.342340</td>\n",
       "      <td>0.502997</td>\n",
       "    </tr>\n",
       "    <tr>\n",
       "      <th>std</th>\n",
       "      <td>0.173553</td>\n",
       "      <td>0.224139</td>\n",
       "      <td>0.194942</td>\n",
       "      <td>0.160355</td>\n",
       "      <td>0.183817</td>\n",
       "      <td>0.149994</td>\n",
       "      <td>0.135685</td>\n",
       "      <td>0.111768</td>\n",
       "      <td>0.132295</td>\n",
       "      <td>0.114465</td>\n",
       "      <td>0.090122</td>\n",
       "    </tr>\n",
       "    <tr>\n",
       "      <th>min</th>\n",
       "      <td>0.000000</td>\n",
       "      <td>0.000000</td>\n",
       "      <td>0.000000</td>\n",
       "      <td>0.000000</td>\n",
       "      <td>0.000000</td>\n",
       "      <td>0.000000</td>\n",
       "      <td>0.000000</td>\n",
       "      <td>0.000000</td>\n",
       "      <td>0.000000</td>\n",
       "      <td>0.000000</td>\n",
       "      <td>0.000000</td>\n",
       "    </tr>\n",
       "    <tr>\n",
       "      <th>25%</th>\n",
       "      <td>0.411567</td>\n",
       "      <td>0.190724</td>\n",
       "      <td>0.409492</td>\n",
       "      <td>0.372793</td>\n",
       "      <td>0.288884</td>\n",
       "      <td>0.149067</td>\n",
       "      <td>0.503038</td>\n",
       "      <td>0.550165</td>\n",
       "      <td>0.261514</td>\n",
       "      <td>0.283420</td>\n",
       "      <td>0.452070</td>\n",
       "    </tr>\n",
       "    <tr>\n",
       "      <th>50%</th>\n",
       "      <td>0.545404</td>\n",
       "      <td>0.336890</td>\n",
       "      <td>0.563499</td>\n",
       "      <td>0.470085</td>\n",
       "      <td>0.428621</td>\n",
       "      <td>0.227379</td>\n",
       "      <td>0.579296</td>\n",
       "      <td>0.599718</td>\n",
       "      <td>0.325454</td>\n",
       "      <td>0.339283</td>\n",
       "      <td>0.497631</td>\n",
       "    </tr>\n",
       "    <tr>\n",
       "      <th>75%</th>\n",
       "      <td>0.635724</td>\n",
       "      <td>0.516884</td>\n",
       "      <td>0.679236</td>\n",
       "      <td>0.591013</td>\n",
       "      <td>0.558849</td>\n",
       "      <td>0.307246</td>\n",
       "      <td>0.638203</td>\n",
       "      <td>0.682678</td>\n",
       "      <td>0.393748</td>\n",
       "      <td>0.398243</td>\n",
       "      <td>0.546180</td>\n",
       "    </tr>\n",
       "    <tr>\n",
       "      <th>max</th>\n",
       "      <td>1.000000</td>\n",
       "      <td>1.000000</td>\n",
       "      <td>1.000000</td>\n",
       "      <td>1.000000</td>\n",
       "      <td>1.000000</td>\n",
       "      <td>1.000000</td>\n",
       "      <td>1.000000</td>\n",
       "      <td>1.000000</td>\n",
       "      <td>1.000000</td>\n",
       "      <td>1.000000</td>\n",
       "      <td>1.000000</td>\n",
       "    </tr>\n",
       "  </tbody>\n",
       "</table>\n",
       "</div>"
      ],
      "text/plain": [
       "              PC1         PC2         PC3         PC4         PC5         PC6  \\\n",
       "count  965.000000  965.000000  965.000000  965.000000  965.000000  965.000000   \n",
       "mean     0.530776    0.367179    0.544774    0.486292    0.428217    0.247378   \n",
       "std      0.173553    0.224139    0.194942    0.160355    0.183817    0.149994   \n",
       "min      0.000000    0.000000    0.000000    0.000000    0.000000    0.000000   \n",
       "25%      0.411567    0.190724    0.409492    0.372793    0.288884    0.149067   \n",
       "50%      0.545404    0.336890    0.563499    0.470085    0.428621    0.227379   \n",
       "75%      0.635724    0.516884    0.679236    0.591013    0.558849    0.307246   \n",
       "max      1.000000    1.000000    1.000000    1.000000    1.000000    1.000000   \n",
       "\n",
       "              PC7         PC8         PC9        PC10        PC11  \n",
       "count  965.000000  965.000000  965.000000  965.000000  965.000000  \n",
       "mean     0.568184    0.608166    0.337544    0.342340    0.502997  \n",
       "std      0.135685    0.111768    0.132295    0.114465    0.090122  \n",
       "min      0.000000    0.000000    0.000000    0.000000    0.000000  \n",
       "25%      0.503038    0.550165    0.261514    0.283420    0.452070  \n",
       "50%      0.579296    0.599718    0.325454    0.339283    0.497631  \n",
       "75%      0.638203    0.682678    0.393748    0.398243    0.546180  \n",
       "max      1.000000    1.000000    1.000000    1.000000    1.000000  "
      ]
     },
     "execution_count": 26,
     "metadata": {},
     "output_type": "execute_result"
    }
   ],
   "source": [
    "X_scaled.describe()"
   ]
  },
  {
   "cell_type": "code",
   "execution_count": 27,
   "metadata": {},
   "outputs": [
    {
     "data": {
      "application/vnd.microsoft.datawrangler.viewer.v0+json": {
       "columns": [
        {
         "name": "index",
         "rawType": "object",
         "type": "string"
        },
        {
         "name": "PC1",
         "rawType": "float64",
         "type": "float"
        },
        {
         "name": "PC2",
         "rawType": "float64",
         "type": "float"
        },
        {
         "name": "PC3",
         "rawType": "float64",
         "type": "float"
        },
        {
         "name": "PC4",
         "rawType": "float64",
         "type": "float"
        },
        {
         "name": "PC5",
         "rawType": "float64",
         "type": "float"
        },
        {
         "name": "PC6",
         "rawType": "float64",
         "type": "float"
        },
        {
         "name": "PC7",
         "rawType": "float64",
         "type": "float"
        },
        {
         "name": "PC8",
         "rawType": "float64",
         "type": "float"
        },
        {
         "name": "PC9",
         "rawType": "float64",
         "type": "float"
        },
        {
         "name": "PC10",
         "rawType": "float64",
         "type": "float"
        },
        {
         "name": "PC11",
         "rawType": "float64",
         "type": "float"
        },
        {
         "name": "strength",
         "rawType": "float64",
         "type": "float"
        }
       ],
       "conversionMethod": "pd.DataFrame",
       "ref": "c57356d2-e2d2-4e61-b39e-dda47361b774",
       "rows": [
        [
         "count",
         "965.0",
         "965.0",
         "965.0",
         "965.0",
         "965.0",
         "965.0",
         "965.0",
         "965.0",
         "965.0",
         "965.0",
         "965.0",
         "965.0"
        ],
        [
         "mean",
         "0.530776130246776",
         "0.36717924757157755",
         "0.5447736621683039",
         "0.4862915028546406",
         "0.4282173802625903",
         "0.24737751014197085",
         "0.568183655450374",
         "0.6081656225982558",
         "0.3375438860155484",
         "0.3423395286563571",
         "0.5029967334156356",
         "35.905109409132656"
        ],
        [
         "std",
         "0.17355258225999198",
         "0.22413924719422149",
         "0.1949424015393842",
         "0.1603550297989113",
         "0.18381661275806288",
         "0.14999424673376013",
         "0.13568521695047553",
         "0.11176781585220219",
         "0.1322945450242666",
         "0.11446546020892821",
         "0.09012155469009556",
         "16.947501093604444"
        ],
        [
         "min",
         "0.0",
         "0.0",
         "0.0",
         "0.0",
         "0.0",
         "0.0",
         "0.0",
         "0.0",
         "0.0",
         "0.0",
         "0.0",
         "2.331807832"
        ],
        [
         "25%",
         "0.4115668722152255",
         "0.1907238757443885",
         "0.40949157922263435",
         "0.3727930062388187",
         "0.28888350866844037",
         "0.1490668441229508",
         "0.5030383090383168",
         "0.5501645297595539",
         "0.2615135465772563",
         "0.2834195503758236",
         "0.4520697681223333",
         "23.523542168"
        ],
        [
         "50%",
         "0.5454035051415381",
         "0.3368897954264897",
         "0.5634987614715337",
         "0.4700845954469799",
         "0.4286205032837503",
         "0.2273791728533632",
         "0.5792955686817367",
         "0.5997175977786706",
         "0.3254540453505384",
         "0.33928290012337964",
         "0.4976311427545405",
         "34.29453624"
        ],
        [
         "75%",
         "0.6357239900261433",
         "0.5168844447384904",
         "0.6792355748698309",
         "0.5910125524111821",
         "0.5588491477159182",
         "0.30724645755174107",
         "0.6382029722373991",
         "0.6826778299029529",
         "0.39374807674800216",
         "0.39824326339693844",
         "0.5461804479971567",
         "46.68441996"
        ],
        [
         "max",
         "0.9999999999999998",
         "0.9999999999999998",
         "1.0",
         "0.9999999999999999",
         "1.0",
         "0.9999999999999999",
         "1.0",
         "0.9999999999999999",
         "0.9999999999999999",
         "0.9999999999999999",
         "1.0",
         "82.5992248"
        ]
       ],
       "shape": {
        "columns": 12,
        "rows": 8
       }
      },
      "text/html": [
       "<div>\n",
       "<style scoped>\n",
       "    .dataframe tbody tr th:only-of-type {\n",
       "        vertical-align: middle;\n",
       "    }\n",
       "\n",
       "    .dataframe tbody tr th {\n",
       "        vertical-align: top;\n",
       "    }\n",
       "\n",
       "    .dataframe thead th {\n",
       "        text-align: right;\n",
       "    }\n",
       "</style>\n",
       "<table border=\"1\" class=\"dataframe\">\n",
       "  <thead>\n",
       "    <tr style=\"text-align: right;\">\n",
       "      <th></th>\n",
       "      <th>PC1</th>\n",
       "      <th>PC2</th>\n",
       "      <th>PC3</th>\n",
       "      <th>PC4</th>\n",
       "      <th>PC5</th>\n",
       "      <th>PC6</th>\n",
       "      <th>PC7</th>\n",
       "      <th>PC8</th>\n",
       "      <th>PC9</th>\n",
       "      <th>PC10</th>\n",
       "      <th>PC11</th>\n",
       "      <th>strength</th>\n",
       "    </tr>\n",
       "  </thead>\n",
       "  <tbody>\n",
       "    <tr>\n",
       "      <th>count</th>\n",
       "      <td>965.000000</td>\n",
       "      <td>965.000000</td>\n",
       "      <td>965.000000</td>\n",
       "      <td>965.000000</td>\n",
       "      <td>965.000000</td>\n",
       "      <td>965.000000</td>\n",
       "      <td>965.000000</td>\n",
       "      <td>965.000000</td>\n",
       "      <td>965.000000</td>\n",
       "      <td>965.000000</td>\n",
       "      <td>965.000000</td>\n",
       "      <td>965.000000</td>\n",
       "    </tr>\n",
       "    <tr>\n",
       "      <th>mean</th>\n",
       "      <td>0.530776</td>\n",
       "      <td>0.367179</td>\n",
       "      <td>0.544774</td>\n",
       "      <td>0.486292</td>\n",
       "      <td>0.428217</td>\n",
       "      <td>0.247378</td>\n",
       "      <td>0.568184</td>\n",
       "      <td>0.608166</td>\n",
       "      <td>0.337544</td>\n",
       "      <td>0.342340</td>\n",
       "      <td>0.502997</td>\n",
       "      <td>35.905109</td>\n",
       "    </tr>\n",
       "    <tr>\n",
       "      <th>std</th>\n",
       "      <td>0.173553</td>\n",
       "      <td>0.224139</td>\n",
       "      <td>0.194942</td>\n",
       "      <td>0.160355</td>\n",
       "      <td>0.183817</td>\n",
       "      <td>0.149994</td>\n",
       "      <td>0.135685</td>\n",
       "      <td>0.111768</td>\n",
       "      <td>0.132295</td>\n",
       "      <td>0.114465</td>\n",
       "      <td>0.090122</td>\n",
       "      <td>16.947501</td>\n",
       "    </tr>\n",
       "    <tr>\n",
       "      <th>min</th>\n",
       "      <td>0.000000</td>\n",
       "      <td>0.000000</td>\n",
       "      <td>0.000000</td>\n",
       "      <td>0.000000</td>\n",
       "      <td>0.000000</td>\n",
       "      <td>0.000000</td>\n",
       "      <td>0.000000</td>\n",
       "      <td>0.000000</td>\n",
       "      <td>0.000000</td>\n",
       "      <td>0.000000</td>\n",
       "      <td>0.000000</td>\n",
       "      <td>2.331808</td>\n",
       "    </tr>\n",
       "    <tr>\n",
       "      <th>25%</th>\n",
       "      <td>0.411567</td>\n",
       "      <td>0.190724</td>\n",
       "      <td>0.409492</td>\n",
       "      <td>0.372793</td>\n",
       "      <td>0.288884</td>\n",
       "      <td>0.149067</td>\n",
       "      <td>0.503038</td>\n",
       "      <td>0.550165</td>\n",
       "      <td>0.261514</td>\n",
       "      <td>0.283420</td>\n",
       "      <td>0.452070</td>\n",
       "      <td>23.523542</td>\n",
       "    </tr>\n",
       "    <tr>\n",
       "      <th>50%</th>\n",
       "      <td>0.545404</td>\n",
       "      <td>0.336890</td>\n",
       "      <td>0.563499</td>\n",
       "      <td>0.470085</td>\n",
       "      <td>0.428621</td>\n",
       "      <td>0.227379</td>\n",
       "      <td>0.579296</td>\n",
       "      <td>0.599718</td>\n",
       "      <td>0.325454</td>\n",
       "      <td>0.339283</td>\n",
       "      <td>0.497631</td>\n",
       "      <td>34.294536</td>\n",
       "    </tr>\n",
       "    <tr>\n",
       "      <th>75%</th>\n",
       "      <td>0.635724</td>\n",
       "      <td>0.516884</td>\n",
       "      <td>0.679236</td>\n",
       "      <td>0.591013</td>\n",
       "      <td>0.558849</td>\n",
       "      <td>0.307246</td>\n",
       "      <td>0.638203</td>\n",
       "      <td>0.682678</td>\n",
       "      <td>0.393748</td>\n",
       "      <td>0.398243</td>\n",
       "      <td>0.546180</td>\n",
       "      <td>46.684420</td>\n",
       "    </tr>\n",
       "    <tr>\n",
       "      <th>max</th>\n",
       "      <td>1.000000</td>\n",
       "      <td>1.000000</td>\n",
       "      <td>1.000000</td>\n",
       "      <td>1.000000</td>\n",
       "      <td>1.000000</td>\n",
       "      <td>1.000000</td>\n",
       "      <td>1.000000</td>\n",
       "      <td>1.000000</td>\n",
       "      <td>1.000000</td>\n",
       "      <td>1.000000</td>\n",
       "      <td>1.000000</td>\n",
       "      <td>82.599225</td>\n",
       "    </tr>\n",
       "  </tbody>\n",
       "</table>\n",
       "</div>"
      ],
      "text/plain": [
       "              PC1         PC2         PC3         PC4         PC5         PC6  \\\n",
       "count  965.000000  965.000000  965.000000  965.000000  965.000000  965.000000   \n",
       "mean     0.530776    0.367179    0.544774    0.486292    0.428217    0.247378   \n",
       "std      0.173553    0.224139    0.194942    0.160355    0.183817    0.149994   \n",
       "min      0.000000    0.000000    0.000000    0.000000    0.000000    0.000000   \n",
       "25%      0.411567    0.190724    0.409492    0.372793    0.288884    0.149067   \n",
       "50%      0.545404    0.336890    0.563499    0.470085    0.428621    0.227379   \n",
       "75%      0.635724    0.516884    0.679236    0.591013    0.558849    0.307246   \n",
       "max      1.000000    1.000000    1.000000    1.000000    1.000000    1.000000   \n",
       "\n",
       "              PC7         PC8         PC9        PC10        PC11    strength  \n",
       "count  965.000000  965.000000  965.000000  965.000000  965.000000  965.000000  \n",
       "mean     0.568184    0.608166    0.337544    0.342340    0.502997   35.905109  \n",
       "std      0.135685    0.111768    0.132295    0.114465    0.090122   16.947501  \n",
       "min      0.000000    0.000000    0.000000    0.000000    0.000000    2.331808  \n",
       "25%      0.503038    0.550165    0.261514    0.283420    0.452070   23.523542  \n",
       "50%      0.579296    0.599718    0.325454    0.339283    0.497631   34.294536  \n",
       "75%      0.638203    0.682678    0.393748    0.398243    0.546180   46.684420  \n",
       "max      1.000000    1.000000    1.000000    1.000000    1.000000   82.599225  "
      ]
     },
     "execution_count": 27,
     "metadata": {},
     "output_type": "execute_result"
    }
   ],
   "source": [
    "#Add the target column back into the dataset\n",
    "X_scaled['strength'] = y\n",
    "X_scaled.describe()"
   ]
  },
  {
   "cell_type": "code",
   "execution_count": 28,
   "metadata": {},
   "outputs": [],
   "source": [
    "#Save the preprocessed data\n",
    "X_scaled.to_csv('/workspaces/2025SE-Mike.N-HSC-AT2/data/concrete_preprocessed.csv', index = False)"
   ]
  }
 ],
 "metadata": {
  "kernelspec": {
   "display_name": "Python 3",
   "language": "python",
   "name": "python3"
  },
  "language_info": {
   "codemirror_mode": {
    "name": "ipython",
    "version": 3
   },
   "file_extension": ".py",
   "mimetype": "text/x-python",
   "name": "python",
   "nbconvert_exporter": "python",
   "pygments_lexer": "ipython3",
   "version": "3.12.1"
  }
 },
 "nbformat": 4,
 "nbformat_minor": 2
}
