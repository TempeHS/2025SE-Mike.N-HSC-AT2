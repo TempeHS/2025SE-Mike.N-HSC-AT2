{
 "cells": [
  {
   "cell_type": "markdown",
   "id": "3c8d714c",
   "metadata": {},
   "source": [
    "## Data Augmentation using CTGAN for testing/improving the dataset ##"
   ]
  },
  {
   "cell_type": "code",
   "execution_count": 11,
   "id": "49a29b52",
   "metadata": {},
   "outputs": [],
   "source": [
    "from ctgan import CTGAN\n",
    "import pandas as pd\n",
    "import numpy as np\n",
    "import arff\n",
    "from scipy.io import arff\n",
    "from pathlib import Path"
   ]
  },
  {
   "cell_type": "code",
   "execution_count": null,
   "id": "629babb6",
   "metadata": {},
   "outputs": [],
   "source": [
    "arff_data = arff.loadarff('C:/Users/admin/Documents/Github/2025SE-Mike.N-HSC-AT2/data/cement.arff')\n",
    "real_data = pd.DataFrame(arff_data[0])\n",
    "\n",
    "# Names of the columns that are discrete\n",
    "discrete_columns = ['cement', 'blast_furnace_slag', 'fly_ash', 'water', 'superplasticizer', 'coarse_aggregate', 'fine_aggregate', 'age']\n",
    "\n",
    "ctgan = CTGAN(epochs=10)\n",
    "ctgan.fit(real_data, discrete_columns)\n",
    "\n",
    "# Create synthetic data\n",
    "synthetic_data = ctgan.sample(500)"
   ]
  },
  {
   "cell_type": "code",
   "execution_count": null,
   "id": "0efd5546",
   "metadata": {},
   "outputs": [],
   "source": [
    "synthetic_data.to_csv('../data/synthetic_concrete.csv', index=False)"
   ]
  }
 ],
 "metadata": {
  "kernelspec": {
   "display_name": "base",
   "language": "python",
   "name": "python3"
  },
  "language_info": {
   "codemirror_mode": {
    "name": "ipython",
    "version": 3
   },
   "file_extension": ".py",
   "mimetype": "text/x-python",
   "name": "python",
   "nbconvert_exporter": "python",
   "pygments_lexer": "ipython3",
   "version": "3.12.7"
  }
 },
 "nbformat": 4,
 "nbformat_minor": 5
}
