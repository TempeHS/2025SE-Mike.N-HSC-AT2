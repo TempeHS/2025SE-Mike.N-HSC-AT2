{
 "cells": [
  {
   "cell_type": "code",
   "execution_count": 24,
   "metadata": {},
   "outputs": [
    {
     "name": "stdout",
     "output_type": "stream",
     "text": [
      "Requirement already satisfied: pytorch_tabnet in /usr/local/python/3.12.1/lib/python3.12/site-packages (4.1.0)\n",
      "Requirement already satisfied: numpy>=1.17 in /usr/local/python/3.12.1/lib/python3.12/site-packages (from pytorch_tabnet) (1.26.4)\n",
      "Requirement already satisfied: scikit_learn>0.21 in /home/codespace/.local/lib/python3.12/site-packages (from pytorch_tabnet) (1.6.0)\n",
      "Requirement already satisfied: scipy>1.4 in /home/codespace/.local/lib/python3.12/site-packages (from pytorch_tabnet) (1.14.1)\n",
      "Requirement already satisfied: torch>=1.3 in /home/codespace/.local/lib/python3.12/site-packages (from pytorch_tabnet) (2.5.1+cpu)\n",
      "Requirement already satisfied: tqdm>=4.36 in /usr/local/python/3.12.1/lib/python3.12/site-packages (from pytorch_tabnet) (4.67.1)\n",
      "Requirement already satisfied: joblib>=1.2.0 in /home/codespace/.local/lib/python3.12/site-packages (from scikit_learn>0.21->pytorch_tabnet) (1.4.2)\n",
      "Requirement already satisfied: threadpoolctl>=3.1.0 in /home/codespace/.local/lib/python3.12/site-packages (from scikit_learn>0.21->pytorch_tabnet) (3.5.0)\n",
      "Requirement already satisfied: filelock in /home/codespace/.local/lib/python3.12/site-packages (from torch>=1.3->pytorch_tabnet) (3.13.1)\n",
      "Requirement already satisfied: typing-extensions>=4.8.0 in /home/codespace/.local/lib/python3.12/site-packages (from torch>=1.3->pytorch_tabnet) (4.12.2)\n",
      "Requirement already satisfied: networkx in /home/codespace/.local/lib/python3.12/site-packages (from torch>=1.3->pytorch_tabnet) (3.2.1)\n",
      "Requirement already satisfied: jinja2 in /home/codespace/.local/lib/python3.12/site-packages (from torch>=1.3->pytorch_tabnet) (3.1.4)\n",
      "Requirement already satisfied: fsspec in /home/codespace/.local/lib/python3.12/site-packages (from torch>=1.3->pytorch_tabnet) (2024.2.0)\n",
      "Requirement already satisfied: setuptools in /home/codespace/.local/lib/python3.12/site-packages (from torch>=1.3->pytorch_tabnet) (75.6.0)\n",
      "Requirement already satisfied: sympy==1.13.1 in /home/codespace/.local/lib/python3.12/site-packages (from torch>=1.3->pytorch_tabnet) (1.13.1)\n",
      "Requirement already satisfied: mpmath<1.4,>=1.1.0 in /home/codespace/.local/lib/python3.12/site-packages (from sympy==1.13.1->torch>=1.3->pytorch_tabnet) (1.3.0)\n",
      "Requirement already satisfied: MarkupSafe>=2.0 in /home/codespace/.local/lib/python3.12/site-packages (from jinja2->torch>=1.3->pytorch_tabnet) (3.0.2)\n",
      "\n",
      "\u001b[1m[\u001b[0m\u001b[34;49mnotice\u001b[0m\u001b[1;39;49m]\u001b[0m\u001b[39;49m A new release of pip is available: \u001b[0m\u001b[31;49m24.3.1\u001b[0m\u001b[39;49m -> \u001b[0m\u001b[32;49m25.0.1\u001b[0m\n",
      "\u001b[1m[\u001b[0m\u001b[34;49mnotice\u001b[0m\u001b[1;39;49m]\u001b[0m\u001b[39;49m To update, run: \u001b[0m\u001b[32;49mpython3 -m pip install --upgrade pip\u001b[0m\n"
     ]
    }
   ],
   "source": [
    "!pip install pytorch_tabnet\n",
    "from sklearn.metrics import mean_absolute_error\n",
    "from sklearn.model_selection import train_test_split\n",
    "from pytorch_tabnet.tab_model import TabNetRegressor\n",
    "from sklearn.model_selection import KFold\n",
    "from sklearn.metrics import root_mean_squared_error\n",
    "import pandas as pd\n",
    "import matplotlib.pyplot as plt\n",
    "import seaborn as sns\n",
    "import numpy as np"
   ]
  },
  {
   "cell_type": "code",
   "execution_count": 25,
   "metadata": {},
   "outputs": [],
   "source": [
    "X_full = pd.read_csv('/workspaces/2025SE-Mike.N-HSC-AT2/data/concrete_preprocessed.csv')\n",
    "y = np.log1p(X_full['strength'])\n",
    "X = X_full.drop(['strength'], axis=1)"
   ]
  },
  {
   "cell_type": "code",
   "execution_count": 26,
   "metadata": {},
   "outputs": [
    {
     "name": "stdout",
     "output_type": "stream",
     "text": [
      "<class 'pandas.core.frame.DataFrame'>\n",
      "RangeIndex: 965 entries, 0 to 964\n",
      "Data columns (total 11 columns):\n",
      " #   Column  Non-Null Count  Dtype  \n",
      "---  ------  --------------  -----  \n",
      " 0   PC1     965 non-null    float64\n",
      " 1   PC2     965 non-null    float64\n",
      " 2   PC3     965 non-null    float64\n",
      " 3   PC4     965 non-null    float64\n",
      " 4   PC5     965 non-null    float64\n",
      " 5   PC6     965 non-null    float64\n",
      " 6   PC7     965 non-null    float64\n",
      " 7   PC8     965 non-null    float64\n",
      " 8   PC9     965 non-null    float64\n",
      " 9   PC10    965 non-null    float64\n",
      " 10  PC11    965 non-null    float64\n",
      "dtypes: float64(11)\n",
      "memory usage: 83.1 KB\n"
     ]
    }
   ],
   "source": [
    "X.info()"
   ]
  },
  {
   "cell_type": "code",
   "execution_count": 27,
   "metadata": {},
   "outputs": [],
   "source": [
    "X_train_valid, X_test, y_train_valid, y_test = train_test_split(X, y, test_size=0.25, random_state=42)\n",
    "X_train, X_val, y_train, y_val = train_test_split(X_train_valid, y_train_valid, test_size=0.2, random_state=42)"
   ]
  },
  {
   "cell_type": "code",
   "execution_count": 28,
   "metadata": {},
   "outputs": [],
   "source": [
    "X_train_valid      = X_train_valid.to_numpy()\n",
    "y_train_valid      = y_train_valid.to_numpy().reshape(-1, 1)\n",
    "X_test = X_test.to_numpy()"
   ]
  },
  {
   "cell_type": "code",
   "execution_count": null,
   "metadata": {},
   "outputs": [
    {
     "name": "stdout",
     "output_type": "stream",
     "text": [
      "\n",
      "Early stopping occurred at epoch 500 with best_epoch = 0 and best_val_0_rmse = 3.87935\n"
     ]
    },
    {
     "name": "stderr",
     "output_type": "stream",
     "text": [
      "/usr/local/python/3.12.1/lib/python3.12/site-packages/pytorch_tabnet/callbacks.py:172: UserWarning: Best weights from best epoch are automatically used!\n",
      "  warnings.warn(wrn_msg)\n"
     ]
    },
    {
     "name": "stdout",
     "output_type": "stream",
     "text": [
      "\n",
      "Early stopping occurred at epoch 500 with best_epoch = 0 and best_val_0_rmse = 3.95946\n"
     ]
    },
    {
     "name": "stderr",
     "output_type": "stream",
     "text": [
      "/usr/local/python/3.12.1/lib/python3.12/site-packages/pytorch_tabnet/callbacks.py:172: UserWarning: Best weights from best epoch are automatically used!\n",
      "  warnings.warn(wrn_msg)\n"
     ]
    },
    {
     "name": "stdout",
     "output_type": "stream",
     "text": [
      "\n",
      "Early stopping occurred at epoch 500 with best_epoch = 0 and best_val_0_rmse = 3.79565\n"
     ]
    },
    {
     "name": "stderr",
     "output_type": "stream",
     "text": [
      "/usr/local/python/3.12.1/lib/python3.12/site-packages/pytorch_tabnet/callbacks.py:172: UserWarning: Best weights from best epoch are automatically used!\n",
      "  warnings.warn(wrn_msg)\n"
     ]
    }
   ],
   "source": [
    "kf = KFold(n_splits=5, random_state=42, shuffle=True)\n",
    "predictions_array =[]\n",
    "CV_score_array    =[]\n",
    "for train_index, test_index in kf.split(X_train_valid):\n",
    "    X_train, X_valid = X_train_valid[train_index], X_train_valid[test_index]\n",
    "    y_train, y_valid = y_train_valid[train_index], y_train_valid[test_index]\n",
    "    regressor = TabNetRegressor(verbose=0,seed=42)\n",
    "    regressor.fit(X_train=X_train, y_train=y_train,\n",
    "              eval_set=[(X_valid, y_valid)],\n",
    "              patience=500, max_epochs=2500,\n",
    "              eval_metric=['rmse'])\n",
    "    CV_score_array.append(regressor.best_cost)\n",
    "    predictions_array.append(np.expm1(regressor.predict(X_test)))\n",
    "\n",
    "predictions = np.mean(predictions_array,axis=0)"
   ]
  },
  {
   "cell_type": "code",
   "execution_count": null,
   "metadata": {},
   "outputs": [
    {
     "name": "stdout",
     "output_type": "stream",
     "text": [
      "The CV score is 3.87703\n"
     ]
    }
   ],
   "source": [
    "print(\"The CV score is %.5f\" % np.mean(CV_score_array,axis=0))"
   ]
  },
  {
   "cell_type": "code",
   "execution_count": null,
   "metadata": {},
   "outputs": [
    {
     "name": "stdout",
     "output_type": "stream",
     "text": [
      "The LB score is 1.89970\n"
     ]
    }
   ],
   "source": [
    "RMSLE = np.sqrt(root_mean_squared_error(y_test, predictions))\n",
    "print(\"The LB score is %.5f\" % RMSLE )"
   ]
  }
 ],
 "metadata": {
  "kernelspec": {
   "display_name": "Python 3",
   "language": "python",
   "name": "python3"
  },
  "language_info": {
   "codemirror_mode": {
    "name": "ipython",
    "version": 3
   },
   "file_extension": ".py",
   "mimetype": "text/x-python",
   "name": "python",
   "nbconvert_exporter": "python",
   "pygments_lexer": "ipython3",
   "version": "3.12.1"
  }
 },
 "nbformat": 4,
 "nbformat_minor": 2
}
